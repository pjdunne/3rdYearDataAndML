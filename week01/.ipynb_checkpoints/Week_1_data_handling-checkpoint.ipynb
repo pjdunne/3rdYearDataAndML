{
 "cells": [
  {
   "cell_type": "markdown",
   "metadata": {},
   "source": [
    "# Week 1 - Data structure, handling and visualisation\n"
   ]
  },
  {
   "cell_type": "markdown",
   "metadata": {},
   "source": [
    "<hr style=\"border:2px solid gray\">\n",
    "\n",
    "# Outline <a id='outline'></a>\n",
    "1. [Section One: Course Preliminaries](#)\n",
    "1. [Section Two: Introduction to Jupyter Notebooks](#)\n",
    "1. [Section Three: ](#)\n",
    "1. [Section Four: ](#)\n",
    "1. [Section Five: ](#)\n"
   ]
  },
  {
   "cell_type": "markdown",
   "metadata": {},
   "source": [
    "<hr style=\"border:2px solid gray\"> \n",
    "\n",
    "# Section One: Course Preliminaries [^](#outline)"
   ]
  },
  {
   "cell_type": "markdown",
   "metadata": {},
   "source": [
    "### Insert general information here\n",
    "(TSE) I suggest that we place all course information that is not directly related to the python notebooks e.g.locations,  timings, use of Blackboard, recommended books etc, outside the python notebooks. We would then reserve this section of the first python notebook for notebook specific issues, such as the format conventions below. "
   ]
  },
  {
   "cell_type": "markdown",
   "metadata": {},
   "source": [
    "## Formatting\n",
    "\n",
    "Throughout the notebooks you will use in this course, a colour-coding scheme has been adopted to make it clear what content is non-examinable, optional, or exercises/examples you should work through. These are denoted as follows\n",
    "\n"
   ]
  },
  {
   "cell_type": "markdown",
   "metadata": {},
   "source": [
    "### Core Examinable Material\n",
    "\n",
    "This call is in standard uncoloured markdown (text) and code boxes. This is also the style you should use for answering questions.\n"
   ]
  },
  {
   "cell_type": "markdown",
   "metadata": {},
   "source": [
    "<div style=\"background-color: #FFF8C6\">\n",
    "\n",
    "### Optional, non-examinable\n",
    "\n",
    "This colour denotes content that is optional and non-examinable. Often useful for general awareness of machine learning more broadly, but not critical for the purposes of this course."
   ]
  },
  {
   "cell_type": "markdown",
   "metadata": {},
   "source": [
    "<div style=\"background-color:#FFCCCB\">\n",
    "\n",
    "\n",
    "### Non-examinable mathematics\n",
    "\n",
    "This colour denotes mathematics that is non-examinable, but important; you will not be expected to reproduce this mathematics in an exam, but it is in general important for your understanding of the content presented."
   ]
  },
  {
   "cell_type": "markdown",
   "metadata": {},
   "source": [
    "<div style=\"background-color:#C2F5DD\">\n",
    "\n",
    "\n",
    "### Examples and exercises\n",
    "\n",
    "This colour denotes examples and exercises that you should work through. "
   ]
  },
  {
   "cell_type": "markdown",
   "metadata": {},
   "source": [
    "<div style=\"background-color:#efdff2\">\n",
    "\n",
    "### Appendices\n",
    "\n",
    "This colour denotes appendices; these contain longer pieces of non-examinable explanation or mathematics for your own interest and are not required to understand the material."
   ]
  },
  {
   "cell_type": "markdown",
   "metadata": {},
   "source": [
    "Keywords are denoted in **bold**. Each notebook contains a glossary at the end with a review of the definitions of key terms for easy reference."
   ]
  },
  {
   "cell_type": "markdown",
   "metadata": {},
   "source": [
    "<hr style=\"border:2px solid gray\"> \n",
    "\n",
    "# Section Two: Introduction to Jupyter Notebooks [^](#outline)"
   ]
  },
  {
   "cell_type": "markdown",
   "metadata": {},
   "source": [
    "Throughout your degree so far, the majority of you will have worked with a development environment such as Spyder or Visual Studio Code. In this course, each week you will have a **Jupyter Notebook** such as this one. These allow you to include text cells, images and so on alongside blocks of code, to write explanations of your code or include relevant theory. \n",
    "\n",
    "All the commands needed to manipulate these notebooks are available through a menu item. Some common actions will also have their own button. Under the `help` menu you will also find a large number of [keyboard shortcuts](https://towardsdatascience.com/jypyter-notebook-shortcuts-bf0101a98330). You don't need to learn any of these keyboard shortcuts but a dozen or so might prove useful. \n",
    "\n",
    "Broadly speaking, a Jupyter notebook is divided into **code** cells and **markdown** cells. You can insert a cell or change the type of cell you have by using the menu or by using some [keyboard shortcuts](https://towardsdatascience.com/jypyter-notebook-shortcuts-bf0101a98330)."
   ]
  },
  {
   "cell_type": "markdown",
   "metadata": {},
   "source": [
    "## Code Cells\n",
    "\n",
    "A **Code cell** is where you write Python code. For example, this is a markdown (text) cell but the next cell is a code cell with some python code which generates some random data and plots it.\n",
    "\n",
    "The code is only executed when you press `shift-return`, that is you hold down the `shift` key and press the `return` (enter) key. If you press `return` by itself, you will start new line *within* the cell, allowing you to write another line of code or a new paragraph within that one cell. "
   ]
  },
  {
   "cell_type": "code",
   "execution_count": 2,
   "metadata": {
    "slideshow": {
     "slide_type": "subslide"
    }
   },
   "outputs": [
    {
     "name": "stdout",
     "output_type": "stream",
     "text": [
      "Hello world\n"
     ]
    }
   ],
   "source": [
    "print('Hello world')"
   ]
  },
  {
   "cell_type": "markdown",
   "metadata": {},
   "source": [
    "Note that the output from the code cell above is kept within that same code cell while this text is in a separate Markdown cell which was inserted after the code cell.\n"
   ]
  },
  {
   "cell_type": "markdown",
   "metadata": {},
   "source": [
    "Before you run the code in the code cell, this cell has an `In []` label beside it. The first time you run the cell, the label will change to `In [1]`. Should you try to run it again it will become `In [2]` and so forth.  \n",
    "\n",
    "**Warning** You can run any code cell in any order and each cell can be run as many times as you like. You can run a code cell, edit it, then run it again in which case the original version of that cell is hidden. You do not need to run the code cells in the order in which you read them, from top to bottom. These features are the biggest weaknesses of notebooks. The only clue that code cells have been run in a non-standard order or mulitple times is if the numbers in the  `In [2]` labels are not in sequence. The best advice is only ever run the cells in a Jupyter notebook once and in the normal order, from top to bottom. If you do not, you can get very confused about the current values of variables and how they reached that value. If you ever get confused, use the `kernel` menu option to restart the kernel, that is wipe all the values stored internally and start again as if this was the first time you opened your notebook.  "
   ]
  },
  {
   "cell_type": "markdown",
   "metadata": {},
   "source": [
    "To run the scripts in code cells, Jupyter notebooks accesses a Python environment on your local machine. The code has access to all the packages installed there. For example instance we can plot a noisy sine function. \n",
    "\n",
    "First we read in the packages we need and define the coordinates (X,y) of our data points. Don't worry about the commands we use here if you don't know them."
   ]
  },
  {
   "cell_type": "code",
   "execution_count": null,
   "metadata": {},
   "outputs": [],
   "source": [
    "import numpy as np\n",
    "\n",
    "X = np.random.uniform(-3,3,50)\n",
    "y = np.sin(X) + np.random.normal(loc = 0, scale = 0.3, size = 50)"
   ]
  },
  {
   "cell_type": "markdown",
   "metadata": {},
   "source": [
    "Variables defined in one cell carry over into other cells and throughout the whole notebook. That way, you don't need to re-run all of your code to try something new. So we can now add a second code cell, with a single plot command, to do the plotting using the variables X and y defined in our previous code cell."
   ]
  },
  {
   "cell_type": "code",
   "execution_count": null,
   "metadata": {
    "scrolled": false
   },
   "outputs": [],
   "source": [
    "import matplotlib.pyplot as plt\n",
    "\n",
    "plt.plot(X,y,'b.')\n",
    "plt.xlabel('X') # and don't forget to label your axes if you use a plot for an assessment\n",
    "plt.ylabel('y')"
   ]
  },
  {
   "cell_type": "markdown",
   "metadata": {},
   "source": []
  },
  {
   "cell_type": "markdown",
   "metadata": {},
   "source": [
    "## Markdown Cells\n",
    "\n",
    "As well as code cells, **Markdown cells** let us add text. Markdown is a simple language used to write text with basic formatting in these cells. You only need the very basic commands for this course.\n",
    "\n",
    "You can change a cell type to Markdown using the ```Cell``` menu, using a toolbar option, or by using a keyboard shortcut (the default is ```m``` which means on a Windows machine press `esc` key followed by the `m` key).\n"
   ]
  },
  {
   "cell_type": "markdown",
   "metadata": {},
   "source": [
    "You can write in *italics* by enclosing the relevant words in single \"*\" on either side, `*word*`.\n",
    "\n",
    "You can write in **bold** by using two \"*\" on either side of the text in question, `**word**`."
   ]
  },
  {
   "cell_type": "markdown",
   "metadata": {},
   "source": [
    "You can also embed code for illustration or description.\n",
    "\n",
    "For short snippets inline, you enclose the text in single reverse quotes \"\\'\" so that \"\\`example\\`\" appears as `example`.\n",
    "\n",
    "For longer code as a separate block, you wrapping your text in \"\\`\\`\\`\" (triple single reverse quotes) on either side which then produces:\n",
    "```\n",
    "print('Hello World!')\n",
    "return True\n",
    "```"
   ]
  },
  {
   "cell_type": "markdown",
   "metadata": {},
   "source": [
    "You can include hyperlinks via `[Text for link](link address)` so that this links to the [Jupyter website](https://jupyter.org/).\n",
    "\n"
   ]
  },
  {
   "cell_type": "markdown",
   "metadata": {},
   "source": [
    "You can make horizontal lines using three underscores \"___\" separated on either side by blank lines\n",
    "\n",
    "___\n",
    "\n",
    "\n",
    "So this text is below the horizontal line but still in the same Markdown cell.\n"
   ]
  },
  {
   "cell_type": "markdown",
   "metadata": {},
   "source": [
    "You can make headings by starting a line with a #, followed by a space; more # means a smaller heading\n",
    "\n",
    "# Big heading\n",
    "\n",
    "uses `# Big heading`.\n",
    "\n",
    "## Smaller heading\n",
    "\n",
    "uses `## Smaller heading`.\n",
    "\n",
    "### Smaller heading again\n",
    "\n",
    "uses `### Smaller heading`.\n",
    "\n",
    "#### Smaller again\n",
    "\n",
    "You get the idea."
   ]
  },
  {
   "cell_type": "markdown",
   "metadata": {},
   "source": [
    "You can write bullet points by starting a line with \"- \" or \"* \", and indent them for multiple layers:\n",
    "```\n",
    "* Bullet 1\n",
    "* Bullet 2\n",
    "    * Bullet 2a\n",
    "* Bullet 3\n",
    "```\n",
    "gives\n",
    "* Bullet 1\n",
    "* Bullet 2\n",
    "    * Bullet 2a\n",
    "* Bullet 3\n"
   ]
  },
  {
   "cell_type": "markdown",
   "metadata": {},
   "source": [
    "You can also write enumerated lists by starting a line with \"1. \"; the specific number does not matter as numbering (and numbering of sublists) is determined automatically:\n",
    "\n",
    "```\n",
    "1. Thing One\n",
    "    1. Other Thing One\n",
    "1. Thing Two\n",
    "    1. Thing Two A\n",
    "    1. Thing Two B\n",
    "    1. Thing Two C\n",
    "1. Thing Three\n",
    "```\n",
    "\n",
    "gives\n",
    "\n",
    "1. Thing One\n",
    "    1. Other Thing One\n",
    "1. Thing Two\n",
    "    1. Thing Two A\n",
    "    1. Thing Two B\n",
    "    1. Thing Two C\n",
    "1. Thing Three"
   ]
  },
  {
   "cell_type": "markdown",
   "metadata": {},
   "source": [
    "Finally, you can also include images. We will save the plot we made earlier using a code cell, then manually add it into a cell. Note that the object `plt` has not been forgotten so there is no need to repeat code already entered above."
   ]
  },
  {
   "cell_type": "code",
   "execution_count": null,
   "metadata": {},
   "outputs": [],
   "source": [
    "#plt.plot(X, y, 'b.') \n",
    "plt.savefig('test_plot.png')"
   ]
  },
  {
   "cell_type": "markdown",
   "metadata": {},
   "source": [
    "You include images using HTML style tags: e.g. ```<img src='test_plot.png' align='center' height=600>```"
   ]
  },
  {
   "cell_type": "markdown",
   "metadata": {},
   "source": [
    "<img src='test_plot.png' align='center' height=600>"
   ]
  },
  {
   "cell_type": "markdown",
   "metadata": {},
   "source": [
    "You can also write LaTeX in Markdown cells. *Inline* equations (i.e. in the middle of the text) are written as \n",
    "```$e^{i\\pi} + 1 = 0$``` which gives $e^{i\\pi} + 1  = 0$ in the middle of this sentence.\n",
    "\n",
    "If you want you equation as a separate centred block then you write\n",
    "```\n",
    "\\begin{equation}\n",
    "e^x \\approx \\sum_{i = 0}^\\infty \\frac{x^n}{n!}\n",
    "\\end{equation}\n",
    "```\n",
    "which gives\n",
    "\\begin{equation}\n",
    "e^x \\approx \\sum_{i = 0}^\\infty \\frac{x^n}{n!}\n",
    "\\end{equation}\n",
    "and so on.\n"
   ]
  },
  {
   "cell_type": "markdown",
   "metadata": {},
   "source": [
    "You can find more information about Markdown for Jupyter Notebooks [here](https://jupyter-notebook.readthedocs.io/en/stable/examples/Notebook/Working%20With%20Markdown%20Cells.html)."
   ]
  },
  {
   "cell_type": "markdown",
   "metadata": {},
   "source": [
    "<div style=\"background-color: #FFF8C6\">\n",
    "\n",
    "### The Markdown language\n",
    "\n",
    "Jupyter notebooks use **[Markdown](https://en.wikipedia.org/wiki/Markdown)** for cells containing text. Markdown is a simple langauge (formally a \"markup language\") that can be written in a simple text editor. The Markdown scripts represents text with basic formatting. Started in 2004, the basic Markdown is similar to the original HTML language used to write the firstL web pages. \n",
    "    \n",
    "In fact, there is no one standard Markdown. There are sometimes alternatives for some basic commands and somtimes one can often use the full range of HTML commands e.g. as used here for inserting an image in a Markdown cell of a Jupyter Notebook. So on this course, stick with the basics and use information specifically on [Markdown for Jupyter Notebooks](https://jupyter-notebook.readthedocs.io/en/stable/examples/Notebook/Working%20With%20Markdown%20Cells.html)."
   ]
  },
  {
   "cell_type": "markdown",
   "metadata": {},
   "source": [
    "## Summary\n",
    "\n",
    "In this section, you have been introduced to Jupyter Notebooks. This has included:\n",
    "\n",
    "* Differences between Markdown and code cells\n",
    "* Some of the Markdown you can use to format your cells\n",
    "\n",
    "The next section will cover data handling using the Python library `pandas`."
   ]
  },
  {
   "cell_type": "markdown",
   "metadata": {},
   "source": [
    "<hr style=\"border:2px solid gray\"> \n",
    "\n",
    "# Section Three: Data Handling using Pandas [^](#outline)"
   ]
  },
  {
   "cell_type": "markdown",
   "metadata": {},
   "source": [
    "**Pandas** is a Python library for data manipulation, analysis and display. It is very commonly used for data science. There are two main ways of formatting data using Pandas: **Series** and **DataFrame**. In general, Series are smaller than DataFrames and less commonly used, so we will focus on DataFrames.\n",
    "\n",
    "DataFrames are a tabular data structure similar to Excel spreadsheets: data is organised into rows and columns, and can have labels in either dimension. You can read and write spreadsheets to and from Pandas DataFrames. "
   ]
  },
  {
   "cell_type": "markdown",
   "metadata": {},
   "source": [
    "## Creating a DataFrame\n",
    "\n",
    "\n",
    "\n",
    "A DataFrame is a 2D data structure that is composed of the following components:\n",
    "- The data\n",
    "- The index - This is the row number of the DataFrame\n",
    "- The columns - These are labelled with headers\n",
    "\n",
    "The information at the 'top' of the DataFrame contains are known as **headers**. These allow you to access your data without needing to use indices. The cell below shows two equivalent ways to create a DataFrame.\n"
   ]
  },
  {
   "cell_type": "code",
   "execution_count": null,
   "metadata": {},
   "outputs": [],
   "source": [
    "import pandas as pd\n",
    "\n",
    "# Method 1: Set data as dictionary structure. Data formatted in columns\n",
    "\n",
    "data={'Name':[\"Rex\",\"Bruno\",\"Biffa\",\"Queeny\", \"Bob\"],\n",
    "     'Breed':[\"bulldog\",\"labrador\",\"doberman\",\"poodle\", \"pug\"],\n",
    "     'Age':[2,4,12,0.5, 7]}\n",
    "\n",
    "dogs=pd.DataFrame(data)\n",
    "\n",
    "display(dogs)\n",
    "\n",
    "# Method 2: Splitting Headers and data. Data formatted in rows\n",
    "\n",
    "d=[[\"Rex\",\"bulldog\",2],\n",
    "    [\"Bruno\",\"labrador\",4],\n",
    "    [\"Biffa\", \"doberman\", 12],\n",
    "    [\"Queeny\",\"poodle\", 0.5],\n",
    "    [\"Bob\", \"pug\", 7]]\n",
    "\n",
    "Headers=['Name', 'Breed', 'Age']\n",
    "\n",
    "dogs2=pd.DataFrame(data=d,columns=Headers)\n",
    "\n",
    "display(dogs2)\n"
   ]
  },
  {
   "cell_type": "markdown",
   "metadata": {},
   "source": [
    "\n",
    "The first column is the **index**, and you can be used to specify which rows of data you want to display. \n",
    "\n",
    "Using ```display``` rather than ```print``` results in nicer formatting.\n"
   ]
  },
  {
   "cell_type": "code",
   "execution_count": null,
   "metadata": {},
   "outputs": [],
   "source": [
    "display(dogs[2:4])\n",
    "print(dogs[2:4])\n",
    "print ()\n",
    "print(type(dogs[2:4]))\n"
   ]
  },
  {
   "cell_type": "markdown",
   "metadata": {},
   "source": [
    "An alternative way to access a row of data is through the `df.loc` method (loc stands for location), where `df` is replaced by the DataFrame of interest. Note that in the first example, the printed data is stored in a pandas Series.\n"
   ]
  },
  {
   "cell_type": "code",
   "execution_count": null,
   "metadata": {},
   "outputs": [],
   "source": [
    "display(dogs.loc[0]) \n",
    "print()\n",
    "print(type(dogs.loc[0]))\n",
    "print()\n",
    "display(dogs.loc[[0,1]]) \n",
    "print()\n",
    "print(type(dogs.loc[[0,1]]))\n"
   ]
  },
  {
   "cell_type": "markdown",
   "metadata": {},
   "source": [
    "We can use the names of the headers to display particular columns. If the name is a simple string, we can use the `df.header` method (where you replace header with the name of the desired column), else we can use square brackets. You can also use square brackets to look at multiple headers at once:\n"
   ]
  },
  {
   "cell_type": "code",
   "execution_count": null,
   "metadata": {},
   "outputs": [],
   "source": [
    "display(dogs.Name)\n",
    "display(dogs['Name'])\n",
    "display(dogs[['Name', 'Breed']])\n"
   ]
  },
  {
   "cell_type": "markdown",
   "metadata": {},
   "source": [
    "It is possible to change the index to something more relevant, although our example DataFrame does not lend itself well to this.\n",
    "\n",
    "\n",
    "We can also use `loc` to access a particular row based on the index. If we want to access a row based on its position (such as how the data was indexed before), we can use the `iloc` method. This stands for **integer location**.\n",
    "\n",
    "Note: indexing by value rather than positional index in inclusive of the end of the slice; e.g. indexing `df[2:4]` would give you rows 2 and 3, but indexing `df['b':'d']` will give you rows b, c and d.\n",
    "\n",
    "Both `loc` and `iloc` can be also used to index specific rows and columns, either by name in the case of `loc` or by positional index in the case of `iloc`.\n"
   ]
  },
  {
   "cell_type": "code",
   "execution_count": null,
   "metadata": {},
   "outputs": [],
   "source": [
    "dogs=pd.DataFrame(data,index=[\"a\",\"b\",\"c\",\"d\", \"e\"])\n",
    "\n",
    "display(dogs[\"b\":\"d\"]) \n",
    "display(dogs.loc[\"b\":\"d\"]) # Equivalent to the previous line\n",
    "display(dogs.iloc[2:4]) # Indexing using positional indices\n",
    "\n",
    "display(dogs.loc['b':'d','Name']) # Can index both rows and columns by name\n",
    "display(dogs.loc['b':'d',['Name','Breed']])\n",
    "\n",
    "display(dogs.iloc[2:4,0]) # Get rows 2 & 3, and column 0\n"
   ]
  },
  {
   "cell_type": "markdown",
   "metadata": {},
   "source": [
    "You can add a new column frame by indexing by the desired column name, and setting it equal to a list of values equal to the number of rows in the DataFrame."
   ]
  },
  {
   "cell_type": "code",
   "execution_count": null,
   "metadata": {},
   "outputs": [],
   "source": [
    "dogs[\"Length\"]=[50,100,105,85, 40]\n",
    "display(dogs)\n"
   ]
  },
  {
   "cell_type": "markdown",
   "metadata": {},
   "source": [
    "You can also create columns that are combinations of other columns: "
   ]
  },
  {
   "cell_type": "code",
   "execution_count": null,
   "metadata": {},
   "outputs": [],
   "source": [
    "dogs[\"combination\"]=dogs.Age*dogs.Length\n",
    "display(dogs)"
   ]
  },
  {
   "cell_type": "markdown",
   "metadata": {},
   "source": [
    "## Manipulation of DataFrames\n",
    "\n",
    "There are many ways you can sort and filter DataFrames to find the information you want. You can do simple indexing like you might with numpy arrays:\n",
    "\n"
   ]
  },
  {
   "cell_type": "code",
   "execution_count": null,
   "metadata": {},
   "outputs": [],
   "source": [
    "display(dogs[dogs.Age > 6])"
   ]
  },
  {
   "cell_type": "markdown",
   "metadata": {},
   "source": [
    "<div style=\"background-color: #FFF8C6\">\n",
    "\n",
    "\n",
    "There is also a built-in function called `query` for exactly this purpose, which is good for complex conditions:"
   ]
  },
  {
   "cell_type": "code",
   "execution_count": null,
   "metadata": {},
   "outputs": [],
   "source": [
    "# Also not examinable\n",
    "\n",
    "display(dogs.query('Age>6'))"
   ]
  },
  {
   "cell_type": "markdown",
   "metadata": {},
   "source": [
    "<div style=\"background-color: #FFF8C6\">\n",
    "\n",
    "\n",
    "Note the specific syntax: you put the boolean condition you are interested in in quote marks. The specific quote marks don't matter; you can use either ' or \". For more information on `query`, see the [Pandas documentation](https://pandas.pydata.org/docs/reference/api/pandas.DataFrame.query.html)."
   ]
  },
  {
   "cell_type": "markdown",
   "metadata": {},
   "source": [
    "Pandas is very good for running statistical operations on individual columns quickly, e.g. mean or standard deviation. You can also calculate more complex metrics, such as correlation or covariance matrices. "
   ]
  },
  {
   "cell_type": "code",
   "execution_count": null,
   "metadata": {},
   "outputs": [],
   "source": [
    "display(dogs['Age'].mean())\n",
    "display(dogs['Age'].std())\n",
    "\n",
    "display(dogs.corr(numeric_only = True))\n",
    "display(dogs.cov(numeric_only=True))"
   ]
  },
  {
   "cell_type": "markdown",
   "metadata": {},
   "source": [
    "### Summary\n",
    "\n",
    "In this section, we have covered some basics of `pandas`, a very useful data library in Python. This has included:\n",
    "\n",
    "* Defining a DataFrame\n",
    "* Printing the contents of a DataFrame in a nice way\n",
    "* Finding slices of a DataFrame\n",
    "* Adding new columns to a DataFrame\n",
    "\n",
    "The following section will review plotting using `matplotlib` and show you some ways you can make more professional looking plots."
   ]
  },
  {
   "cell_type": "markdown",
   "metadata": {},
   "source": [
    "<hr style=\"border:2px solid gray\"> \n",
    "\n",
    "# Section Four: Data Visualisation [^](#outline)\n",
    "\n",
    "In data science, it is not enough just to display your DataFrames; instead, you need to visualise your data. To really understand your data, a good clear plot is key. In this section we recap some of the options available to you in `matplotlib`. In particular, we will emphasise producing **professional** looking plots, to make sure your results are as clear as they can be."
   ]
  },
  {
   "cell_type": "markdown",
   "metadata": {},
   "source": [
    "### Displaying Data [^](#index) <a id='display'></a>\n",
    "\n",
    "The ability to display data is often an important first step in understanding the information. Producing clear and understandable (appropriately labelled, legible etc) plots is an important part of communicating your results to others. The purpose of this section is to make sure that you are familiar with the display options in matplotlib and can make professional looking plots. In the assignments you perform at the end of the two weeks, this is one aspect that you will be judged upon. \n",
    "\n",
    "Consider and run the following (very simple) example.\n"
   ]
  },
  {
   "cell_type": "code",
   "execution_count": null,
   "metadata": {},
   "outputs": [],
   "source": [
    "import numpy as np\n",
    "import pylab as pl # one of the several ways of importing matplotlib\n",
    "\n",
    "x= np.arange(-10,10,0.01)\n",
    "y=x*x\n",
    "\n",
    "pl.plot(x,y)\n",
    "pl.grid()\n",
    "pl.title(\"Simple plot\")\n",
    "pl.show()\n"
   ]
  },
  {
   "cell_type": "markdown",
   "metadata": {},
   "source": [
    "<div style=\"background-color:#C2F5DD\">\n",
    "\n",
    "### Exercise\n",
    "\n",
    "Create a graph of a $y=\\sin^2(x)$ going from $-2\\pi$ to $+2\\pi$ (and no further). Make sure that the axes are labelled as $x$ and $y$ and that the equation is written as legend on this graph. Change the $x-axis$ tick marks to be multiples of $\\frac{\\pi}{4}$ and labelled appropriately. Add a grid to this plot, and finally add a graph of $y=\\cos^{100}(x)$ as a dotted red line with appropriate legend. Make sure that your plot is a decent size to be easily readable and save the complete plot to a file.\n",
    "\n",
    "\n",
    "\n"
   ]
  },
  {
   "cell_type": "markdown",
   "metadata": {},
   "source": [
    "### Displaying Multiple Plots [^](#index) <a id='subplots'></a>\n",
    "\n",
    "It is often useful to display multiple plots side by side, or one above another. This can be done relatively simply in matplotlib using  the <span style=\"color:blue\">plt.subplot()</span> function. This function presents the plots in a grid structure that contains $n \\times m$ plots, where $n$ is the number of rows and $m$ is the number of columns. You call the <span style=\"color:blue\">plt.subplot()</span> function like this:\n",
    "\n",
    "```python\n",
    "plt.subplot(n,m,k)\n",
    "```\n",
    "\n",
    "where n is the number of rows you want, m is the number of columns and k is the number of the plot you are creating at this moment in time.\n",
    "\n",
    "Consider the example below:\n"
   ]
  },
  {
   "cell_type": "code",
   "execution_count": null,
   "metadata": {},
   "outputs": [],
   "source": [
    "\n",
    "import numpy as np\n",
    "import pylab as pl\n",
    "\n",
    "pl.rcParams['figure.figsize'] = [10, 5] # setting a nice big figure size\n",
    "\n",
    "x=np.arange(-10,10,0.01)\n",
    "y1=x*x\n",
    "y2=x*x*np.sin(x)\n",
    "y3=x*x*x*np.sin(x)\n",
    "y4=np.sin(x)/x\n",
    "\n",
    "pl.subplot(2,2,1) #2 rows, 2 columns and the 1st plot\n",
    "pl.plot(x,y1)\n",
    "\n",
    "pl.subplot(2,2,2)\n",
    "pl.plot(x,y2)\n",
    "\n",
    "pl.subplot(2,2,3)\n",
    "pl.plot(x,y3)\n",
    "\n",
    "pl.subplot(2,2,4)\n",
    "pl.plot(x,y4)\n",
    "\n",
    "pl.show()\n"
   ]
  },
  {
   "cell_type": "markdown",
   "metadata": {},
   "source": [
    "While these defaults are useful, they are not always ideal. Consider the example below, where we have tried to put axes labels on the second plot. The $y$ label has overwritten the first plot (the font was made to be large to demonstrate this) and the $x$ is completely lost under the 4th plot.\n",
    "\n",
    "(If you want to check that it is actually there, comment out the commands that draw the 4th plot)\n"
   ]
  },
  {
   "cell_type": "code",
   "execution_count": null,
   "metadata": {},
   "outputs": [],
   "source": [
    "import numpy as np\n",
    "import pylab as pl\n",
    "\n",
    "x=np.arange(-10,10,0.01)\n",
    "y1=x*x\n",
    "y2=x*x*np.sin(x)\n",
    "y3=x*x*x*np.sin(x)\n",
    "y4=np.sin(x)/x\n",
    "\n",
    "pl.subplot(2,2,1)\n",
    "pl.plot(x,y1)\n",
    "\n",
    "pl.subplot(2,2,2)\n",
    "pl.plot(x,y2)\n",
    "pl.xlabel(\"$x$\",fontsize=12)\n",
    "pl.ylabel(\"$y$\",fontsize=32)\n",
    "\n",
    "pl.subplot(2,2,3)\n",
    "pl.plot(x,y3)\n",
    "\n",
    "pl.subplot(2,2,4)\n",
    "pl.plot(x,y4)\n",
    "\n",
    "pl.show()\n"
   ]
  },
  {
   "cell_type": "markdown",
   "metadata": {},
   "source": [
    "This particular problem is quite easy to fix and can be useful to understand how matplotlib works. The basis on which matplotlib draws is the **figure** -- this is the canvas on which you can draw. When you have multiple plots on the same figure, it must be divided up into \"axes\".  Once you have a figure, you can put an axis on it wherever you want. For example:\n"
   ]
  },
  {
   "cell_type": "code",
   "execution_count": null,
   "metadata": {},
   "outputs": [],
   "source": [
    "import numpy as np\n",
    "import pylab as pl\n",
    "pl.rcParams['figure.figsize'] = [10, 5] \n",
    "\n",
    "x=np.arange(-10,10,0.01)\n",
    "y1=x*x\n",
    "y2=x*x*np.sin(x)\n",
    "y3=x*x*x*np.sin(x)\n",
    "y4=np.sin(x)/x\n",
    "\n",
    "fig=pl.figure(\"New Figure\")\n",
    "\n",
    "ax0=fig.add_axes([0.1, 0.1, 0.5, 0.5]) # [x0,y0,width,height]\n",
    "ax0.plot(x,y1)\n",
    "pl.xticks(fontsize=12)\n",
    "pl.yticks(fontsize=12)\n",
    "pl.grid()\n",
    "\n",
    "\n",
    "ax1=fig.add_axes([.6, .6, .4, 0.4]) # [x0,y0,width,height]\n",
    "ax1.plot(x,y2)\n",
    "pl.xticks(fontsize=12)\n",
    "pl.yticks(fontsize=12)\n",
    "pl.grid()\n",
    "\n",
    "pl.savefig(\"axes_plots.png\")\n",
    "\n",
    "pl.show()\n"
   ]
  },
  {
   "cell_type": "markdown",
   "metadata": {},
   "source": [
    "You will notice that the $x$ and $y$ tick labels lie outside of the axis area. If you look at axes_plots.png, you will also notice that the very right hand edge of the second plot is missing.\n",
    "\n",
    "This approach gives you complete flexibility as to where to place plots on your figures and can be very useful. For example, it easily allows you to have graph insets. Below is an example of this:\n"
   ]
  },
  {
   "cell_type": "code",
   "execution_count": null,
   "metadata": {},
   "outputs": [],
   "source": [
    "import numpy as np\n",
    "import pylab as pl\n",
    "pl.rcParams['figure.figsize'] = [10, 5] \n",
    "\n",
    "x=np.arange(-500,500,0.001)\n",
    "\n",
    "y4=np.sin(x)**6/x\n",
    "\n",
    "fig=pl.figure(\"New Figure\")\n",
    "\n",
    "ax=fig.add_axes([0.05, 0.1, 0.8, 0.8]) # [x0,y0,width,height]\n",
    "ax.plot(x,y4)\n",
    "pl.xlabel(\"$x$\",fontsize=15)\n",
    "pl.ylabel(\"$y$\",fontsize=15)\n",
    "pl.xticks(fontsize=12)\n",
    "pl.yticks(fontsize=12)\n",
    "pl.text(220,0.45,\"(A)\", fontsize=15)\n",
    "pl.grid()\n",
    "\n",
    "\n",
    "ax1=fig.add_axes([.1, .55, .3, 0.3]) # [x0,y0,width,height]\n",
    "ax1.plot(x[480000:520000],y4[480000:520000]) # clearly there are more elegant ways of doing this\n",
    "pl.xticks(np.arange(-20,20,5),fontsize=10)\n",
    "pl.yticks(fontsize=10)\n",
    "pl.text(13,0.4,\"(B)\", fontsize=15)\n",
    "pl.grid()\n",
    "\n",
    "\n",
    "pl.savefig(\"inset_plots.png\")\n",
    "\n",
    "pl.show()\n"
   ]
  },
  {
   "cell_type": "markdown",
   "metadata": {},
   "source": [
    "Using this method, there is an alternate way to draw the four plots we had earlier with the following code:\n"
   ]
  },
  {
   "cell_type": "code",
   "execution_count": null,
   "metadata": {},
   "outputs": [],
   "source": [
    "import numpy as np\n",
    "import pylab as pl\n",
    "\n",
    "x=np.arange(-10,10,0.01)\n",
    "y1=x*x\n",
    "y2=x*x*np.sin(x)\n",
    "y3=x*x*x*np.sin(x)\n",
    "y4=np.sin(x)/x\n",
    "\n",
    "#define the subplots\n",
    "fig, axes = pl.subplots(nrows=2, ncols=2)\n",
    "\n",
    "#now plot\n",
    "axes[0,0].plot(x,y1)\n",
    "axes[0,1].plot(x,y2)\n",
    "axes[1,0].plot(x,y3)\n",
    "axes[1,1].plot(x,y4)\n",
    "\n",
    "pl.subplot(2,2,2)\n",
    "pl.ylabel(\"$y$\", fontsize=32)\n",
    "pl.xlabel(\"$x$\",fontsize=\"12\")\n",
    "\n",
    "# But now can change the padding between the plots as we have the figure defined\n",
    "\n",
    "fig.tight_layout(pad=2.0)\n",
    "\n",
    "pl.show()\n",
    "\n"
   ]
  },
  {
   "cell_type": "markdown",
   "metadata": {},
   "source": [
    "Having the figure defined gives us more flexibilty. For example:\n"
   ]
  },
  {
   "cell_type": "code",
   "execution_count": null,
   "metadata": {},
   "outputs": [],
   "source": [
    "import numpy as np\n",
    "import pylab as pl\n",
    "\n",
    "x=np.arange(-10,10,0.01)\n",
    "y1=x*x\n",
    "y2=x*x*np.sin(x)\n",
    "y3=x*x*x*np.sin(x)\n",
    "y4=np.sin(x)/x\n",
    "\n",
    "fig=pl.figure()\n",
    "\n",
    "pl.subplot(2,2,1)\n",
    "pl.plot(x,y1)\n",
    "pl.xlabel(\"x\")\n",
    "pl.subplot(2,2,3)\n",
    "pl.plot(x,y2)\n",
    "pl.subplot(1,2,2)\n",
    "pl.plot(x,y4)\n",
    "\n",
    "ax=fig.add_axes([0.6,0.7,0.12,0.15])\n",
    "ax.plot(x,x*x-x+4)\n",
    "\n",
    "\n",
    "\n",
    "fig.tight_layout(pad=2.0) \n",
    "# this will generate a warning as the inset plot is not compatible with tight_layout but it will work \n",
    "#for the subplots.\n",
    "\n",
    "pl.show()\n",
    "\n",
    "\n"
   ]
  },
  {
   "cell_type": "markdown",
   "metadata": {},
   "source": [
    "<div style=\"background-color:#C2F5DD\">\n",
    "\n",
    "### Exercise\n",
    "\n",
    "Pick 6 different functions of x (the actual functions don't matter for this exercise), and plot them in different configurations, orientations etc. A good example could be drawing some graphs so that they have a shared $x$-axis and $y$-axis. This exercise may seem trivial after reading through the examples above, but do try to do a good and detailed job of it. Practise now will reduce the time spent looking it up later.\n",
    "\n"
   ]
  },
  {
   "cell_type": "markdown",
   "metadata": {},
   "source": [
    "\n",
    "### Histograms [^](#index) <a id='histograms'></a>\n",
    "\n",
    "When carrying out data science, you will often need to histogram data. This can be done easily with matplotlib using the following:\n"
   ]
  },
  {
   "cell_type": "code",
   "execution_count": null,
   "metadata": {},
   "outputs": [],
   "source": [
    "import numpy as np\n",
    "import numpy.random as npr\n",
    "import pylab as pl\n",
    "\n",
    "x_data=npr.normal(loc=2,scale=1.5,size=10000)\n",
    "# this will generate a Gaussian distribution - we will look more at these later.\n",
    "\n",
    "pl.hist(x_data) # this will draw a histogram with 10 bins covering the range of the data\n",
    "\n",
    "pl.show()\n",
    "pl.hist(x_data,bins=100) # changes it to have 100 bins\n",
    "pl.show()\n",
    "x,bins,patches=pl.hist(x_data,bins=20) # you can extract the values and bin boundaries\n",
    "print(\"Entries \",x)\n",
    "print(\"Bins\",bins,len(bins)) # note that there are 21 entries because this is a \"fence post\" problem\n",
    "bins=[-5,-4,0,4,6,8]\n",
    "x,bins,patches=pl.hist(x_data,bins=bins) # you can have any binning that you want\n",
    "print(\"Entries \",x)\n"
   ]
  },
  {
   "cell_type": "markdown",
   "metadata": {},
   "source": [
    "You can plot two histograms on top of each other and then change the transparency by changing \"alpha\"\n"
   ]
  },
  {
   "cell_type": "code",
   "execution_count": null,
   "metadata": {},
   "outputs": [],
   "source": [
    "x_data2=npr.normal(loc=0.5,scale=1.5,size=10000)\n",
    "pl.hist(x_data,bins=100,alpha=0.5,label=\"Data\")\n",
    "pl.hist(x_data2,bins=100,alpha=0.5,label=\"Data 2\")\n",
    "pl.xlabel(\"Two histograms on top of each other\")\n",
    "pl.legend(loc=\"best\")\n",
    "pl.show()\n"
   ]
  },
  {
   "cell_type": "markdown",
   "metadata": {},
   "source": [
    "Numpy also has a histogramming method, however these only produce the numbers and then have to added to matplotlib to be displayed\n"
   ]
  },
  {
   "cell_type": "code",
   "execution_count": null,
   "metadata": {},
   "outputs": [],
   "source": [
    "import numpy as np\n",
    "import matplotlib.pyplot as pl\n",
    "\n",
    "n,bins=np.histogram(x_data,bins=20,range=[-3,7])\n",
    "x= 0.5 * (bins[1:] + bins[:-1])\n",
    "y_err=n**0.5 # Assume Poison distribution\n",
    "pl.errorbar(x,n,y_err,fmt=\"ok\");\n"
   ]
  },
  {
   "cell_type": "markdown",
   "metadata": {},
   "source": [
    "___\n",
    "\n",
    "<a name=\"section-5\"></a>\n",
    "\n",
    "# Section 5: Exercises [^](#outline)\n",
    "\n",
    "These exercises are here for you to get more experience using Jupyter notebooks, `pandas` and `matplotlib`. In each section, code cells have been given to help prompt you on each step to work through, but feel free to make your own steps if you want - just make sure you work through each of the tasks."
   ]
  },
  {
   "cell_type": "code",
   "execution_count": null,
   "metadata": {},
   "outputs": [],
   "source": []
  }
 ],
 "metadata": {
  "kernelspec": {
   "display_name": "Python 3 (ipykernel)",
   "language": "python",
   "name": "python3"
  },
  "language_info": {
   "codemirror_mode": {
    "name": "ipython",
    "version": 3
   },
   "file_extension": ".py",
   "mimetype": "text/x-python",
   "name": "python",
   "nbconvert_exporter": "python",
   "pygments_lexer": "ipython3",
   "version": "3.10.4"
  }
 },
 "nbformat": 4,
 "nbformat_minor": 2
}
