{
 "cells": [
  {
   "cell_type": "markdown",
   "metadata": {},
   "source": [
    "# Week 1 - Data structure, handling and visualisation\n",
    "\n",
    "Version with **answers** to exercises"
   ]
  },
  {
   "cell_type": "markdown",
   "metadata": {},
   "source": [
    "<hr style=\"border:2px solid gray\">\n",
    "<a id='outline'></a>"
   ]
  },
  {
   "cell_type": "markdown",
   "metadata": {},
   "source": [
    "# Outline \n",
    "1. [Course Preliminaries](#section1)\n",
    "1. [Introduction to Jupyter Notebooks](#section2)\n",
    "1. [Data Handling using Pandas](#section3)\n",
    "1. [Pandas with Datasets on File](#section4)\n",
    "1. [Data Visualisation](#section5)\n",
    "1. [Further Exercises](#exercises)"
   ]
  },
  {
   "cell_type": "markdown",
   "metadata": {},
   "source": [
    "### Acknowledgements\n",
    "\n",
    "Numerous people have contributed to the development of the Jupyter notebooks for this undergraduate course. These include (in reverse alphabetical order): N.Wardle, F.Schaap, N.Reed, K.Joseph, C.Jing, A.Hussain, T.S.Evans, P.J.Dunne, D.J.Colling. The notebooks are derived from those used in the Masters  (MRes) course, [Machine Learning and Big Data in the Physical Sciences ](https://www.imperial.ac.uk/study/courses/postgraduate-taught/machine-learning-physical-sciences/), run here in the Physics department and we would like to thank those who created these MRes notebooks. Various other lecturers also provided us with access to their teaching material and we thank them for that.\n",
    "\n",
    "The course lecturers take responsibility for the form of the notebooks used in the course. We are always looking to improve the course and these notebooks in particular. Please let the course lecturers know of any problems and they would also welcome any constructive comments or suggestions. Comments can be provided through the discussion board on the Blackboard course site or direct to the course lecturers.    "
   ]
  },
  {
   "cell_type": "markdown",
   "metadata": {},
   "source": [
    "<hr style=\"border:2px solid gray\"> \n",
    "<a id='section1'></a>"
   ]
  },
  {
   "cell_type": "markdown",
   "metadata": {},
   "source": [
    "# Section One: Course Preliminaries [^](#outline)"
   ]
  },
  {
   "cell_type": "markdown",
   "metadata": {
    "slideshow": {
     "slide_type": "fragment"
    }
   },
   "source": [
    "## General Course Information\n",
    "\n",
    "Full and up to date information on how the course is run and assessed is given on the Blackboard site for this course. Announcements such as any last minute changes e.g. due to illness, will be on Blackboard. "
   ]
  },
  {
   "cell_type": "markdown",
   "metadata": {},
   "source": [
    "## Course Notebook Style\n",
    "\n",
    "Throughout the notebooks you will use in this course, a colour-coding scheme has been adopted to make it clear what content is non-examinable, optional, or exercises/examples you should work through. These are denoted as follows:-\n",
    "\n"
   ]
  },
  {
   "cell_type": "markdown",
   "metadata": {},
   "source": [
    "### Core Examinable Material\n",
    "\n",
    "This call is in standard uncoloured markdown (text) and code boxes. This is also the style you should use for answering questions.\n"
   ]
  },
  {
   "cell_type": "markdown",
   "metadata": {},
   "source": [
    "<div style=\"background-color: #FFF8C6\">\n",
    "\n",
    "### Optional, non-examinable\n",
    "\n",
    "This colour denotes content that is optional and non-examinable. Often useful for general awareness of machine learning more broadly, but not critical for the purposes of this course."
   ]
  },
  {
   "cell_type": "markdown",
   "metadata": {},
   "source": [
    "<div style=\"background-color:#FFCCCB\">\n",
    "\n",
    "\n",
    "### Non-examinable mathematics\n",
    "\n",
    "This colour denotes mathematics that is non-examinable, but important; you will not be expected to reproduce this mathematics in an exam, but it is in general important for your understanding of the content presented."
   ]
  },
  {
   "cell_type": "markdown",
   "metadata": {},
   "source": [
    "<div style=\"background-color:#C2F5DD\">\n",
    "\n",
    "### Examples and exercises\n",
    "\n",
    "This colour denotes examples and exercises that you should work through. "
   ]
  },
  {
   "cell_type": "markdown",
   "metadata": {},
   "source": [
    "<div style=\"background-color: #C2D5BD\"> \n",
    "\n",
    "#### Some exercises are opional and will be clearly labelled as such. In terms of assessment, these optional parts are not We will not assume students have seen this material \n"
   ]
  },
  {
   "cell_type": "markdown",
   "metadata": {},
   "source": [
    "<div style=\"background-color:#efdff2\">\n",
    "\n",
    "### Appendices\n",
    "\n",
    "This colour denotes appendices; these contain longer pieces of non-examinable explanation or mathematics for your own interest and are not required to understand the material."
   ]
  },
  {
   "cell_type": "markdown",
   "metadata": {},
   "source": [
    "Keywords are denoted in **bold**. Each notebook contains a glossary at the end with a review of the definitions of key terms for easy reference."
   ]
  },
  {
   "cell_type": "markdown",
   "metadata": {},
   "source": [
    "<hr style=\"border:2px solid gray\"> \n",
    "<a id='section2'></a>"
   ]
  },
  {
   "cell_type": "markdown",
   "metadata": {},
   "source": [
    "# Section Two: Introduction to Jupyter Notebooks [^](#outline)"
   ]
  },
  {
   "cell_type": "markdown",
   "metadata": {},
   "source": [
    "Throughout your degree so far, the majority of you will have worked with a development environment such as Spyder or Visual Studio Code. In this course, each week you will have a **Jupyter Notebook** such as this one. These allow you to include text cells, images and so on alongside blocks of code, to write explanations of your code or include relevant theory. \n",
    "\n",
    "All the commands needed to manipulate these notebooks are available through a menu item. Some common actions will also have their own button. Under the `help` menu you will also find a large number of [keyboard shortcuts](https://towardsdatascience.com/jypyter-notebook-shortcuts-bf0101a98330). You don't need to learn any of these keyboard shortcuts but a dozen or so might prove useful. \n",
    "\n",
    "Broadly speaking, a Jupyter notebook is divided into **code** cells and **markdown** cells. You can insert a cell or change the type of cell you have by using the menu or by using some [keyboard shortcuts](https://towardsdatascience.com/jypyter-notebook-shortcuts-bf0101a98330)."
   ]
  },
  {
   "cell_type": "markdown",
   "metadata": {},
   "source": [
    "## Code Cells\n",
    "\n",
    "A **code cell** is where you write Python code. For example, this is a markdown (text) cell but the next cell is a code cell with some trivial python code - surely the first programme you ever write in any language?\n",
    "\n",
    "The code is only executed when you press `shift-return`, that is you hold down the `shift` key and press the `return` (enter) key. If you press `return` by itself, you will start new line *within* the cell, allowing you to write another line of code or a new paragraph within that one cell. "
   ]
  },
  {
   "cell_type": "code",
   "execution_count": 1,
   "metadata": {
    "slideshow": {
     "slide_type": "subslide"
    }
   },
   "outputs": [
    {
     "name": "stdout",
     "output_type": "stream",
     "text": [
      "Hello world\n"
     ]
    }
   ],
   "source": [
    "print('Hello world')"
   ]
  },
  {
   "cell_type": "markdown",
   "metadata": {},
   "source": [
    "Note that the output from the code cell above is kept within that same code cell while this text is in a separate Markdown cell which was inserted after the code cell.\n"
   ]
  },
  {
   "cell_type": "markdown",
   "metadata": {},
   "source": [
    "Before you run the code in the code cell, a cell has an `In []` label beside it with no number. The first time you run the cell, the label will change to `In [1]`. Should you try to run it again it will become `In [2]` and so forth.  "
   ]
  },
  {
   "cell_type": "markdown",
   "metadata": {},
   "source": [
    "<div style=\"background-color:#C2F5DD\">\n",
    "\n",
    "Try rerunning the code cell above a couple of times. Perhaps change the string to something else. Note how the `In []` label changes."
   ]
  },
  {
   "cell_type": "markdown",
   "metadata": {},
   "source": [
    "#### Running Cells in Order\n",
    "**Warning** You can run any code cell in any order and each cell can be run as many times as you like. You can run a code cell, edit it, then run it again in which case the original version of that cell is no longer visible. You do not need to run the code cells in the order in which you read them, from top to bottom. These features are the biggest weaknesses of notebooks. For instance, you can't always tell from a quick look exactly what state your system is in e.g. which variables are defined and to what values. The only clue that code cells have been run in a non-standard order or multiple times is if the numbers in the  `In [2]` labels are not in sequence. \n",
    "\n",
    "My advice is to only ever run the cells in a Jupyter notebook once and in the normal order, from top to bottom. This is exactly what we will attempt to do with these notebooks in the presentations. \n",
    "\n",
    "Sometimes you do want to run a cell more than once.  You maybe something is not correct in the code in that cell and you need to take a few attempts to try different things before you find the correct code. The best option is just to work on one cell at a time and only move on once it is working as you want. \n",
    "\n",
    "If you ever get very very confused, use the `kernel` menu option to restart the kernel. This last resort will wipe all the values stored internally and start again as if this was the first time you opened your notebook.  However, this will wipe all your output so be very very sure there is nothing you want to keep before you do this. You will have to work through your notebook again executing each cell again. You can select groups of cells and run them all (in order), see under the `cell` menu item. "
   ]
  },
  {
   "cell_type": "markdown",
   "metadata": {},
   "source": [
    "#### Example of Code Cells\n",
    "To run the scripts in code cells, Jupyter notebooks accesses a Python environment on your local machine. The code has access to all the packages installed there. For example instance we can plot a noisy sine function. \n",
    "\n",
    "First we read in the packages we need and define the coordinates (X,y) of our data points. Don't worry about the commands we use here if you don't know them."
   ]
  },
  {
   "cell_type": "code",
   "execution_count": 2,
   "metadata": {},
   "outputs": [],
   "source": [
    "import numpy as np\n",
    "# Using a capital letter X for an input/independent variable (set by the researcher) \n",
    "# and a lower case letter y for output/dependent variables\n",
    "# is a common machine learning convention we will be using in this course. \n",
    "X = np.random.uniform(-3,3,50)    \n",
    "y = np.sin(X) + np.random.normal(loc = 0, scale = 0.3, size = 50)"
   ]
  },
  {
   "cell_type": "markdown",
   "metadata": {},
   "source": [
    "Variables defined in one cell carry over into other cells and throughout the whole notebook. That way, you don't need to re-run all of your code to try something new. So we can now add a second code cell, with a single plot command, to do the plotting using the variables X and y defined in our previous code cell."
   ]
  },
  {
   "cell_type": "code",
   "execution_count": 3,
   "metadata": {},
   "outputs": [
    {
     "data": {
      "text/plain": [
       "Text(0, 0.5, 'y')"
      ]
     },
     "execution_count": 3,
     "metadata": {},
     "output_type": "execute_result"
    },
    {
     "data": {
      "image/png": "[encoded data removed]",
      "text/plain": [
       "<Figure size 432x288 with 1 Axes>"
      ]
     },
     "metadata": {
      "needs_background": "light"
     },
     "output_type": "display_data"
    }
   ],
   "source": [
    "import matplotlib.pyplot as plt\n",
    "\n",
    "plt.plot(X,y,'b.')\n",
    "plt.xlabel('X') # and don't forget to label your axes if you use a plot for an assessment\n",
    "plt.ylabel('y') # but labels are good practice anyway, they help you avoid mistakes which another reason why we demand labels"
   ]
  },
  {
   "cell_type": "markdown",
   "metadata": {},
   "source": [
    "<div style=\"background-color: #FFF8C6\">\n",
    "\n",
    "### Variable name conventions\n",
    "A common convention in machine learning texts, one which we will often use in this course, is \n",
    "* a capital letter $X$ for an input variable, that is an \"independent variable\" which is something set by the researcher.\n",
    "* a lower case letter $y$ for output variables, that is a \"dependent variable\" which is produced by the algorithm or equation.\n",
    "\n",
    "I recommend using long human readable names for variables in longer code, e.g. `Position` not `X` or `output` not `y`. It helps avoid using the same variable name twice by mistake and helps the programmer remember what they are doing. \n",
    "    \n",
    "There are several common naming conventions used in computer science such as `my_height` style with underscores or `myHeight` using capital letters at the start of each word. Whatever you decide to do, find an convention that works for you and stick with it."
   ]
  },
  {
   "cell_type": "markdown",
   "metadata": {},
   "source": [
    "## Markdown Cells\n",
    "\n",
    "As well as code cells, **Markdown cells** let us add text. Markdown is a simple language used to write text with basic formatting in these cells. You only need the very basic commands for this course.\n",
    "\n",
    "**You will need to be familiar with the basic features as in the exam you will write your answers in Markdown in a Jupyter notebook.** \n",
    "\n",
    "It might help you to have a summary of basic commands. A search for `markdown cheat sheet pdf` will find several but be warned there is no standard and there are many extensions of Markdown. Stick to the basics (a one summary no more) as that is all you will need. For instance I found the first page of [Broberg's guide](https://opensource.com/sites/default/files/gated-content/markdown_cheat_sheet_opensource.com_.pdf) useful or the [Basic Section](https://www.markdownguide.org/cheat-sheet/) of an online guide is fine."
   ]
  },
  {
   "cell_type": "markdown",
   "metadata": {},
   "source": [
    "You can change a cell type to Markdown using the ```Cell``` menu, using a toolbar option, or by using a keyboard shortcut (the default is ```m``` which means on a Windows machine press `esc` key followed by the `m` key).\n",
    "\n",
    "You can see a Markdown cell written in the markdown language by double clicking on a Markdown cell like this. Then you can edit it as you would in any text editor. To see how the Markdown cell will be displayed, you have to \"run\" the cell, i.e. press `shift-enter`."
   ]
  },
  {
   "cell_type": "markdown",
   "metadata": {},
   "source": [
    "You can write in *italics* by enclosing the relevant words in single \"*\" on either side, `*word*`.\n",
    "\n",
    "You can write in **bold** by using two \"*\" on either side of the text in question, `**word**`."
   ]
  },
  {
   "cell_type": "markdown",
   "metadata": {},
   "source": [
    "You can also `embed code` for illustration or description in a Markdown cell but such code is treated like other text and will *not* run. You need to put code in a code cell if you want to execute it.\n",
    "\n",
    "For short snippets of code inline, you enclose the text in single reverse quotes \"\\'\" so here I write \"\\`example\\`\" which appears as `example`.\n",
    "\n",
    "For longer code as a separate block, you wrapping your text in \"\\`\\`\\`\" (triple single reverse quotes) on either side which then produces:\n",
    "```\n",
    "print('Hello World!')\n",
    "return True\n",
    "```"
   ]
  },
  {
   "cell_type": "markdown",
   "metadata": {},
   "source": [
    "You can include [hyperlinks](https://en.wikipedia.org/wiki/Hyperlink) via `[Text for link](link address)` so that this links to the [Jupyter website](https://jupyter.org/).\n",
    "\n"
   ]
  },
  {
   "cell_type": "markdown",
   "metadata": {},
   "source": [
    "You can make **horizontal lines** using three underscores \"___\" separated on either side by blank lines\n",
    "\n",
    "___\n",
    "\n",
    "\n",
    "So this text is below the horizontal line but still in the same Markdown cell.\n"
   ]
  },
  {
   "cell_type": "markdown",
   "metadata": {},
   "source": [
    "You can make **headings** by starting a line with a number of \"#\" characters followed by a space; more # means a smaller heading\n",
    "\n",
    "# Big heading\n",
    "\n",
    "uses `# Big heading`.\n",
    "\n",
    "## Smaller heading\n",
    "\n",
    "uses `## Smaller heading`.\n",
    "\n",
    "### Smaller heading again\n",
    "\n",
    "uses `### Smaller heading`.\n",
    "\n",
    "#### Smaller again\n",
    "\n",
    "You get the idea."
   ]
  },
  {
   "cell_type": "markdown",
   "metadata": {},
   "source": [
    "You can write **bullet points** by starting a line with \"- \" or \"* \", and indent them for multiple layers. So if you write \n",
    "```\n",
    "* Bullet 1\n",
    "* Bullet 2\n",
    "    * Bullet 2a\n",
    "* Bullet 3\n",
    "```\n",
    "this will be displayed as\n",
    "* Bullet 1\n",
    "* Bullet 2\n",
    "    * Bullet 2a\n",
    "* Bullet 3\n"
   ]
  },
  {
   "cell_type": "markdown",
   "metadata": {},
   "source": [
    "You can also write **enumerated lists** by starting a line with \"1. \"; the specific number does not matter as numbering (and numbering of sublists) is determined automatically. So if you have\n",
    "\n",
    "```\n",
    "1. Thing One\n",
    "    1. Other Thing One\n",
    "1. Thing Two\n",
    "    1. Thing Two A\n",
    "    1. Thing Two B\n",
    "    1. Thing Two C\n",
    "1. Thing Three\n",
    "```\n",
    "it will be diplayed as\n",
    "1. Thing One\n",
    "    1. Other Thing One\n",
    "1. Thing Two\n",
    "    1. Thing Two A\n",
    "    1. Thing Two B\n",
    "    1. Thing Two C\n",
    "1. Thing Three"
   ]
  },
  {
   "cell_type": "markdown",
   "metadata": {
    "slideshow": {
     "slide_type": "slide"
    }
   },
   "source": [
    "Finally, you can also **include images** in text cells. We will save the plot we made earlier using a code cell, then manually add it into a text cell. \n",
    "\n",
    "Note that the objects `X`, `y`, and `plt` has not been forgotten so there is no need to repeat code already entered above."
   ]
  },
  {
   "cell_type": "code",
   "execution_count": 4,
   "metadata": {},
   "outputs": [
    {
     "data": {
      "image/png": "[encoded data removed]",
      "text/plain": [
       "<Figure size 432x288 with 1 Axes>"
      ]
     },
     "metadata": {
      "needs_background": "light"
     },
     "output_type": "display_data"
    }
   ],
   "source": [
    "# Note this assumes that variables X and y were defined above\n",
    "# and we are also assuming that plt is the shorthand for the matplotlib library that has already been imported.\n",
    "# A quick check at cells above will confirm this provided those code cells have already been run before this code cell.\n",
    "plt.plot(X, y, 'r.')  # I changed the colour for no good reason\n",
    "plt.savefig('test_plot.png') # File will be saved in same location as this python notebook, try and find it."
   ]
  },
  {
   "cell_type": "markdown",
   "metadata": {},
   "source": [
    "You include images using HTML style tags: e.g. ```<img src='test_plot.png' align='center' height=600>```"
   ]
  },
  {
   "cell_type": "markdown",
   "metadata": {},
   "source": [
    "<img src='test_plot.png' align='center' height=600>"
   ]
  },
  {
   "cell_type": "markdown",
   "metadata": {},
   "source": [
    "You can also write **LaTeX** in Markdown cells to get equations in your cells.\n",
    "\n",
    "*Inline* equations (i.e. in the middle of the text) are written as \n",
    "```$e^{i\\pi} + 1 = 0$``` which gives $e^{i\\pi} + 1  = 0$ in the middle of this sentence.\n",
    "\n",
    "If you want you equation as a separate centred block then you write\n",
    "```\n",
    "$$\n",
    "e^x \\approx \\sum_{i = 0}^\\infty \\frac{x^n}{n!}\n",
    "$$\n",
    "```\n",
    "which gives\n",
    "$$\n",
    "e^x \\approx \\sum_{i = 0}^\\infty \\frac{x^n}{n!}\n",
    "$$\n",
    "and so on.\n"
   ]
  },
  {
   "cell_type": "markdown",
   "metadata": {},
   "source": [
    "You can find **more information on Markdown** for Jupyter Notebooks [here](https://jupyter-notebook.readthedocs.io/en/stable/examples/Notebook/Working%20With%20Markdown%20Cells.html)."
   ]
  },
  {
   "cell_type": "markdown",
   "metadata": {},
   "source": [
    "<div style=\"background-color: #FFF8C6\">\n",
    "\n",
    "### The Markdown language\n",
    "\n",
    "Jupyter notebooks use **[Markdown](https://en.wikipedia.org/wiki/Markdown)** for cells containing text. Markdown is a simple langauge (formally a \"markup language\") that can be written in a simple text editor. The Markdown scripts represents text with basic formatting. Started in 2004, the basic Markdown is similar to the original HTML language used to write the firstL web pages. \n",
    "    \n",
    "In fact, there is no one standard Markdown. There are sometimes alternatives for some basic commands and somtimes one can often use the full range of HTML commands e.g. as used here for inserting an image in a Markdown cell of a Jupyter Notebook. So on this course, stick with the basics and use information specifically on [Markdown for Jupyter Notebooks](https://jupyter-notebook.readthedocs.io/en/stable/examples/Notebook/Working%20With%20Markdown%20Cells.html)."
   ]
  },
  {
   "cell_type": "markdown",
   "metadata": {},
   "source": [
    "## Summary\n",
    "\n",
    "In this section, you have been introduced to Jupyter Notebooks. This has included:\n",
    "\n",
    "* Differences between Markdown and code cells\n",
    "* Some of the Markdown you can use to format your cells\n",
    "\n",
    "The next section will discuss the importance of data structures and plotting in data science."
   ]
  },
  {
   "cell_type": "markdown",
   "metadata": {},
   "source": [
    "<!--\n",
    "<hr style=\"border:2px solid gray\"> <a id='section3'></a>\n",
    "# Section Three: Consistent Data Structures and Clear Visualisation [^](#outline)\n",
    "In data science, you organise your data in some kind of **data structure**. This might be like a table, a dictionary, a list, etc. The specific choice of structure for your data depends on your proble, but it is also a very important choice. The ring type of structure for your data can cause issues, and inconsistency in your data structure can cause problems that you might not realise.\n",
    "\n",
    "* In 2020, the UK government subcontracted analysis of COVID tests to third-party organisations, who provided their results in CSV (comma separated value) files. Problems arose when Public Health England (PHE) used an automated process to put data into Excel templates, using .xls spreadsheets (as opposed to the newer .xlsx file format). However, XLS files have a maximum row limit of 65,000 rows. Any data after that is reached was just lost. As a result, in a week more than 20% of data was lost (~15,000 unreported cases vs ~50,000 reported cases). The old data file format used caused a significant issue (read more about this [here](https://www.bbc.co.uk/news/technology-54423988)).\n",
    "-->\n",
    "\n",
    "<hr style=\"border:2px solid gray\"> \n",
    "<a id='section3'></a>"
   ]
  },
  {
   "cell_type": "markdown",
   "metadata": {},
   "source": [
    "# Section Three: Data Handling using Pandas [^](#outline)"
   ]
  },
  {
   "cell_type": "markdown",
   "metadata": {},
   "source": [
    "[**Pandas**](https://pandas.pydata.org/) is a well known and popular Python library for data manipulation, analysis and display. You will find a lot of help for pandas on the web. \n",
    "\n",
    "Pandas has a particular way of working that is distinct from traditional computer languages such as python but which echoes that used in other systems used for data manipulation and statistics, such as the [`R` language](https://en.wikipedia.org/wiki/R_(programming_language)). In particular, in pandas, we deal with objects known as \"Series\" and \"**DataFrames**\". \n",
    "\n",
    "* A Series is a labelled collection of data, similar to a dictionary. Each element can have a different data type. \n",
    "* A DataFrame is a 2D labelled data structure, where each column can have a different data type. Each row of a DataFrame can be thought of as a Series (and indeed, if you select a single row of a DataFrame it is returned as a Series). \n",
    "\n",
    "DataFrames are more useful and more commonly used, so we will focus our discussion just on DataFrames. "
   ]
  },
  {
   "cell_type": "markdown",
   "metadata": {},
   "source": [
    "## Creating a DataFrame\n",
    "\n",
    "A DataFrame is a tabular data structure, similar to an Excel spreadsheet. The data is organised by rows and columns. These are labelled:\n",
    "* Rows are labelled by an **index**\n",
    "* Columns are labelled by **headers**\n",
    "\n",
    "Data can be accessed according to the headers or the index. Instead of just being numerical indices, like you have with e.g. numpy arrays, these can be descriptive strings. As a result, you can access data in a descriptive way. \n",
    "\n",
    "The cell below shows a couple examples of how you can construct DataFrames."
   ]
  },
  {
   "cell_type": "code",
   "execution_count": 5,
   "metadata": {},
   "outputs": [
    {
     "data": {
      "text/html": [
       "<div>\n",
       "<style scoped>\n",
       "    .dataframe tbody tr th:only-of-type {\n",
       "        vertical-align: middle;\n",
       "    }\n",
       "\n",
       "    .dataframe tbody tr th {\n",
       "        vertical-align: top;\n",
       "    }\n",
       "\n",
       "    .dataframe thead th {\n",
       "        text-align: right;\n",
       "    }\n",
       "</style>\n",
       "<table border=\"1\" class=\"dataframe\">\n",
       "  <thead>\n",
       "    <tr style=\"text-align: right;\">\n",
       "      <th></th>\n",
       "      <th>Name</th>\n",
       "      <th>Breed</th>\n",
       "      <th>Age</th>\n",
       "    </tr>\n",
       "  </thead>\n",
       "  <tbody>\n",
       "    <tr>\n",
       "      <th>0</th>\n",
       "      <td>Rex</td>\n",
       "      <td>bulldog</td>\n",
       "      <td>2.0</td>\n",
       "    </tr>\n",
       "    <tr>\n",
       "      <th>1</th>\n",
       "      <td>Bruno</td>\n",
       "      <td>labrador</td>\n",
       "      <td>4.0</td>\n",
       "    </tr>\n",
       "    <tr>\n",
       "      <th>2</th>\n",
       "      <td>Biffa</td>\n",
       "      <td>doberman</td>\n",
       "      <td>12.0</td>\n",
       "    </tr>\n",
       "    <tr>\n",
       "      <th>3</th>\n",
       "      <td>Queeny</td>\n",
       "      <td>poodle</td>\n",
       "      <td>0.5</td>\n",
       "    </tr>\n",
       "    <tr>\n",
       "      <th>4</th>\n",
       "      <td>Bob</td>\n",
       "      <td>pug</td>\n",
       "      <td>7.0</td>\n",
       "    </tr>\n",
       "    <tr>\n",
       "      <th>5</th>\n",
       "      <td>Sheiba</td>\n",
       "      <td>labrador</td>\n",
       "      <td>10.0</td>\n",
       "    </tr>\n",
       "    <tr>\n",
       "      <th>6</th>\n",
       "      <td>Crusoe</td>\n",
       "      <td>scotty</td>\n",
       "      <td>7.0</td>\n",
       "    </tr>\n",
       "  </tbody>\n",
       "</table>\n",
       "</div>"
      ],
      "text/plain": [
       "     Name     Breed   Age\n",
       "0     Rex   bulldog   2.0\n",
       "1   Bruno  labrador   4.0\n",
       "2   Biffa  doberman  12.0\n",
       "3  Queeny    poodle   0.5\n",
       "4     Bob       pug   7.0\n",
       "5  Sheiba  labrador  10.0\n",
       "6  Crusoe    scotty   7.0"
      ]
     },
     "metadata": {},
     "output_type": "display_data"
    },
    {
     "data": {
      "text/html": [
       "<div>\n",
       "<style scoped>\n",
       "    .dataframe tbody tr th:only-of-type {\n",
       "        vertical-align: middle;\n",
       "    }\n",
       "\n",
       "    .dataframe tbody tr th {\n",
       "        vertical-align: top;\n",
       "    }\n",
       "\n",
       "    .dataframe thead th {\n",
       "        text-align: right;\n",
       "    }\n",
       "</style>\n",
       "<table border=\"1\" class=\"dataframe\">\n",
       "  <thead>\n",
       "    <tr style=\"text-align: right;\">\n",
       "      <th></th>\n",
       "      <th>Name</th>\n",
       "      <th>Breed</th>\n",
       "      <th>Age</th>\n",
       "    </tr>\n",
       "  </thead>\n",
       "  <tbody>\n",
       "    <tr>\n",
       "      <th>0</th>\n",
       "      <td>Rex</td>\n",
       "      <td>bulldog</td>\n",
       "      <td>2.0</td>\n",
       "    </tr>\n",
       "    <tr>\n",
       "      <th>1</th>\n",
       "      <td>Bruno</td>\n",
       "      <td>labrador</td>\n",
       "      <td>4.0</td>\n",
       "    </tr>\n",
       "    <tr>\n",
       "      <th>2</th>\n",
       "      <td>Biffa</td>\n",
       "      <td>doberman</td>\n",
       "      <td>12.0</td>\n",
       "    </tr>\n",
       "    <tr>\n",
       "      <th>3</th>\n",
       "      <td>Queeny</td>\n",
       "      <td>poodle</td>\n",
       "      <td>0.5</td>\n",
       "    </tr>\n",
       "    <tr>\n",
       "      <th>4</th>\n",
       "      <td>Bob</td>\n",
       "      <td>pug</td>\n",
       "      <td>7.0</td>\n",
       "    </tr>\n",
       "    <tr>\n",
       "      <th>5</th>\n",
       "      <td>Sheiba</td>\n",
       "      <td>labrador</td>\n",
       "      <td>10.0</td>\n",
       "    </tr>\n",
       "    <tr>\n",
       "      <th>6</th>\n",
       "      <td>Crusoe</td>\n",
       "      <td>scotty</td>\n",
       "      <td>7.0</td>\n",
       "    </tr>\n",
       "  </tbody>\n",
       "</table>\n",
       "</div>"
      ],
      "text/plain": [
       "     Name     Breed   Age\n",
       "0     Rex   bulldog   2.0\n",
       "1   Bruno  labrador   4.0\n",
       "2   Biffa  doberman  12.0\n",
       "3  Queeny    poodle   0.5\n",
       "4     Bob       pug   7.0\n",
       "5  Sheiba  labrador  10.0\n",
       "6  Crusoe    scotty   7.0"
      ]
     },
     "metadata": {},
     "output_type": "display_data"
    }
   ],
   "source": [
    "import pandas as pd\n",
    "\n",
    "# Method 1: Set data as dictionary structure. Data formatted in columns\n",
    "\n",
    "data={'Name':[\"Rex\",\"Bruno\",\"Biffa\",\"Queeny\", \"Bob\", \"Sheiba\", \"Crusoe\"],\n",
    "     'Breed':[\"bulldog\",\"labrador\",\"doberman\",\"poodle\", \"pug\", \"labrador\", \"scotty\"],\n",
    "     'Age':[2,4,12,0.5, 7, 10, 7]}\n",
    "\n",
    "dogs=pd.DataFrame(data)\n",
    "\n",
    "display(dogs)\n",
    "\n",
    "# Method 2: Splitting Headers and data. Data formatted in rows\n",
    "\n",
    "d=[[\"Rex\",\"bulldog\",2],\n",
    "    [\"Bruno\",\"labrador\",4],\n",
    "    [\"Biffa\", \"doberman\", 12],\n",
    "    [\"Queeny\",\"poodle\", 0.5],\n",
    "    [\"Bob\", \"pug\", 7],\n",
    "    [\"Sheiba\", \"labrador\", 10],\n",
    "    [\"Crusoe\",\"scotty\",7]]\n",
    "\n",
    "Headers=['Name', 'Breed', 'Age']\n",
    "\n",
    "dogs2=pd.DataFrame(data=d,columns=Headers)\n",
    "\n",
    "display(dogs2)\n"
   ]
  },
  {
   "cell_type": "markdown",
   "metadata": {},
   "source": [
    "The first column is the index. We can select data based on the header (`display` gives nicer formatting than `print`):"
   ]
  },
  {
   "cell_type": "code",
   "execution_count": 6,
   "metadata": {},
   "outputs": [
    {
     "data": {
      "text/plain": [
       "0       Rex\n",
       "1     Bruno\n",
       "2     Biffa\n",
       "3    Queeny\n",
       "4       Bob\n",
       "5    Sheiba\n",
       "6    Crusoe\n",
       "Name: Name, dtype: object"
      ]
     },
     "execution_count": 6,
     "metadata": {},
     "output_type": "execute_result"
    }
   ],
   "source": [
    "dogs.Name"
   ]
  },
  {
   "cell_type": "markdown",
   "metadata": {},
   "source": [
    "\n",
    "More generally you can use `[]` to select data, a bit like you do for slicing numpy arrays. \n",
    "\n",
    "* Passing a single label in `[]` to a DataFrame selects a column; `df['A']` is equivalent to `df.A`.\n",
    "* Passing a slice in `[]` selects matching rows, e.g. `df[2:4]` gives you the rows matching the slice 2:4. \n"
   ]
  },
  {
   "cell_type": "code",
   "execution_count": 7,
   "metadata": {},
   "outputs": [
    {
     "data": {
      "text/plain": [
       "0     bulldog\n",
       "1    labrador\n",
       "2    doberman\n",
       "3      poodle\n",
       "4         pug\n",
       "5    labrador\n",
       "6      scotty\n",
       "Name: Breed, dtype: object"
      ]
     },
     "metadata": {},
     "output_type": "display_data"
    },
    {
     "data": {
      "text/html": [
       "<div>\n",
       "<style scoped>\n",
       "    .dataframe tbody tr th:only-of-type {\n",
       "        vertical-align: middle;\n",
       "    }\n",
       "\n",
       "    .dataframe tbody tr th {\n",
       "        vertical-align: top;\n",
       "    }\n",
       "\n",
       "    .dataframe thead th {\n",
       "        text-align: right;\n",
       "    }\n",
       "</style>\n",
       "<table border=\"1\" class=\"dataframe\">\n",
       "  <thead>\n",
       "    <tr style=\"text-align: right;\">\n",
       "      <th></th>\n",
       "      <th>Name</th>\n",
       "      <th>Breed</th>\n",
       "      <th>Age</th>\n",
       "    </tr>\n",
       "  </thead>\n",
       "  <tbody>\n",
       "    <tr>\n",
       "      <th>2</th>\n",
       "      <td>Biffa</td>\n",
       "      <td>doberman</td>\n",
       "      <td>12.0</td>\n",
       "    </tr>\n",
       "    <tr>\n",
       "      <th>3</th>\n",
       "      <td>Queeny</td>\n",
       "      <td>poodle</td>\n",
       "      <td>0.5</td>\n",
       "    </tr>\n",
       "  </tbody>\n",
       "</table>\n",
       "</div>"
      ],
      "text/plain": [
       "     Name     Breed   Age\n",
       "2   Biffa  doberman  12.0\n",
       "3  Queeny    poodle   0.5"
      ]
     },
     "metadata": {},
     "output_type": "display_data"
    }
   ],
   "source": [
    "display(dogs['Breed'])\n",
    "\n",
    "display(dogs[2:4])\n"
   ]
  },
  {
   "cell_type": "markdown",
   "metadata": {},
   "source": [
    "An alternative way to access data is through the `loc` and `iloc` methods, standing for location and integer location respectively. \n",
    "\n",
    "* `loc` takes headers or indices **as seen in the DataFrame**, e.g. if we had a non-numeric index we could use the labels in the index\n",
    "* `iloc` takes numeric indices, like numpy arrays\n",
    "\n",
    "For both methods, the syntax is the same:\n",
    "\n",
    "* First argument specifies the desired row(s)\n",
    "* Second argument specifices the desired column(s)"
   ]
  },
  {
   "cell_type": "code",
   "execution_count": 8,
   "metadata": {},
   "outputs": [
    {
     "data": {
      "text/plain": [
       "Name         Rex\n",
       "Breed    bulldog\n",
       "Age          2.0\n",
       "Name: 0, dtype: object"
      ]
     },
     "metadata": {},
     "output_type": "display_data"
    },
    {
     "data": {
      "text/plain": [
       "0     bulldog\n",
       "1    labrador\n",
       "2    doberman\n",
       "3      poodle\n",
       "4         pug\n",
       "5    labrador\n",
       "6      scotty\n",
       "Name: Breed, dtype: object"
      ]
     },
     "metadata": {},
     "output_type": "display_data"
    },
    {
     "data": {
      "text/html": [
       "<div>\n",
       "<style scoped>\n",
       "    .dataframe tbody tr th:only-of-type {\n",
       "        vertical-align: middle;\n",
       "    }\n",
       "\n",
       "    .dataframe tbody tr th {\n",
       "        vertical-align: top;\n",
       "    }\n",
       "\n",
       "    .dataframe thead th {\n",
       "        text-align: right;\n",
       "    }\n",
       "</style>\n",
       "<table border=\"1\" class=\"dataframe\">\n",
       "  <thead>\n",
       "    <tr style=\"text-align: right;\">\n",
       "      <th></th>\n",
       "      <th>Name</th>\n",
       "      <th>Breed</th>\n",
       "      <th>Age</th>\n",
       "    </tr>\n",
       "  </thead>\n",
       "  <tbody>\n",
       "    <tr>\n",
       "      <th>2</th>\n",
       "      <td>Biffa</td>\n",
       "      <td>doberman</td>\n",
       "      <td>12.0</td>\n",
       "    </tr>\n",
       "    <tr>\n",
       "      <th>3</th>\n",
       "      <td>Queeny</td>\n",
       "      <td>poodle</td>\n",
       "      <td>0.5</td>\n",
       "    </tr>\n",
       "    <tr>\n",
       "      <th>4</th>\n",
       "      <td>Bob</td>\n",
       "      <td>pug</td>\n",
       "      <td>7.0</td>\n",
       "    </tr>\n",
       "  </tbody>\n",
       "</table>\n",
       "</div>"
      ],
      "text/plain": [
       "     Name     Breed   Age\n",
       "2   Biffa  doberman  12.0\n",
       "3  Queeny    poodle   0.5\n",
       "4     Bob       pug   7.0"
      ]
     },
     "metadata": {},
     "output_type": "display_data"
    },
    {
     "data": {
      "text/html": [
       "<div>\n",
       "<style scoped>\n",
       "    .dataframe tbody tr th:only-of-type {\n",
       "        vertical-align: middle;\n",
       "    }\n",
       "\n",
       "    .dataframe tbody tr th {\n",
       "        vertical-align: top;\n",
       "    }\n",
       "\n",
       "    .dataframe thead th {\n",
       "        text-align: right;\n",
       "    }\n",
       "</style>\n",
       "<table border=\"1\" class=\"dataframe\">\n",
       "  <thead>\n",
       "    <tr style=\"text-align: right;\">\n",
       "      <th></th>\n",
       "      <th>Breed</th>\n",
       "      <th>Age</th>\n",
       "    </tr>\n",
       "  </thead>\n",
       "  <tbody>\n",
       "    <tr>\n",
       "      <th>0</th>\n",
       "      <td>bulldog</td>\n",
       "      <td>2.0</td>\n",
       "    </tr>\n",
       "    <tr>\n",
       "      <th>1</th>\n",
       "      <td>labrador</td>\n",
       "      <td>4.0</td>\n",
       "    </tr>\n",
       "    <tr>\n",
       "      <th>2</th>\n",
       "      <td>doberman</td>\n",
       "      <td>12.0</td>\n",
       "    </tr>\n",
       "    <tr>\n",
       "      <th>3</th>\n",
       "      <td>poodle</td>\n",
       "      <td>0.5</td>\n",
       "    </tr>\n",
       "    <tr>\n",
       "      <th>4</th>\n",
       "      <td>pug</td>\n",
       "      <td>7.0</td>\n",
       "    </tr>\n",
       "    <tr>\n",
       "      <th>5</th>\n",
       "      <td>labrador</td>\n",
       "      <td>10.0</td>\n",
       "    </tr>\n",
       "    <tr>\n",
       "      <th>6</th>\n",
       "      <td>scotty</td>\n",
       "      <td>7.0</td>\n",
       "    </tr>\n",
       "  </tbody>\n",
       "</table>\n",
       "</div>"
      ],
      "text/plain": [
       "      Breed   Age\n",
       "0   bulldog   2.0\n",
       "1  labrador   4.0\n",
       "2  doberman  12.0\n",
       "3    poodle   0.5\n",
       "4       pug   7.0\n",
       "5  labrador  10.0\n",
       "6    scotty   7.0"
      ]
     },
     "metadata": {},
     "output_type": "display_data"
    }
   ],
   "source": [
    "display(dogs.loc[0,:]) \n",
    "\n",
    "display(dogs.loc[:,'Breed'])\n",
    "\n",
    "display(dogs.loc[2:4,:])\n",
    "\n",
    "display(dogs.loc[:,['Breed','Age']])\n",
    "\n"
   ]
  },
  {
   "cell_type": "markdown",
   "metadata": {},
   "source": [
    "You can add a new column or row to a DataFrame by indexing by the desired column name or row index, and setting it equal to a list of values equal to the number of rows/columns in the DataFrame."
   ]
  },
  {
   "cell_type": "code",
   "execution_count": 9,
   "metadata": {},
   "outputs": [
    {
     "data": {
      "text/html": [
       "<div>\n",
       "<style scoped>\n",
       "    .dataframe tbody tr th:only-of-type {\n",
       "        vertical-align: middle;\n",
       "    }\n",
       "\n",
       "    .dataframe tbody tr th {\n",
       "        vertical-align: top;\n",
       "    }\n",
       "\n",
       "    .dataframe thead th {\n",
       "        text-align: right;\n",
       "    }\n",
       "</style>\n",
       "<table border=\"1\" class=\"dataframe\">\n",
       "  <thead>\n",
       "    <tr style=\"text-align: right;\">\n",
       "      <th></th>\n",
       "      <th>Name</th>\n",
       "      <th>Breed</th>\n",
       "      <th>Age</th>\n",
       "      <th>Length</th>\n",
       "    </tr>\n",
       "  </thead>\n",
       "  <tbody>\n",
       "    <tr>\n",
       "      <th>0</th>\n",
       "      <td>Rex</td>\n",
       "      <td>bulldog</td>\n",
       "      <td>2.0</td>\n",
       "      <td>50</td>\n",
       "    </tr>\n",
       "    <tr>\n",
       "      <th>1</th>\n",
       "      <td>Bruno</td>\n",
       "      <td>labrador</td>\n",
       "      <td>4.0</td>\n",
       "      <td>100</td>\n",
       "    </tr>\n",
       "    <tr>\n",
       "      <th>2</th>\n",
       "      <td>Biffa</td>\n",
       "      <td>doberman</td>\n",
       "      <td>12.0</td>\n",
       "      <td>105</td>\n",
       "    </tr>\n",
       "    <tr>\n",
       "      <th>3</th>\n",
       "      <td>Queeny</td>\n",
       "      <td>poodle</td>\n",
       "      <td>0.5</td>\n",
       "      <td>85</td>\n",
       "    </tr>\n",
       "    <tr>\n",
       "      <th>4</th>\n",
       "      <td>Bob</td>\n",
       "      <td>pug</td>\n",
       "      <td>7.0</td>\n",
       "      <td>40</td>\n",
       "    </tr>\n",
       "    <tr>\n",
       "      <th>5</th>\n",
       "      <td>Sheiba</td>\n",
       "      <td>labrador</td>\n",
       "      <td>10.0</td>\n",
       "      <td>100</td>\n",
       "    </tr>\n",
       "    <tr>\n",
       "      <th>6</th>\n",
       "      <td>Crusoe</td>\n",
       "      <td>scotty</td>\n",
       "      <td>7.0</td>\n",
       "      <td>80</td>\n",
       "    </tr>\n",
       "    <tr>\n",
       "      <th>7</th>\n",
       "      <td>Daisy</td>\n",
       "      <td>papillon</td>\n",
       "      <td>3.5</td>\n",
       "      <td>35</td>\n",
       "    </tr>\n",
       "  </tbody>\n",
       "</table>\n",
       "</div>"
      ],
      "text/plain": [
       "     Name     Breed   Age  Length\n",
       "0     Rex   bulldog   2.0      50\n",
       "1   Bruno  labrador   4.0     100\n",
       "2   Biffa  doberman  12.0     105\n",
       "3  Queeny    poodle   0.5      85\n",
       "4     Bob       pug   7.0      40\n",
       "5  Sheiba  labrador  10.0     100\n",
       "6  Crusoe    scotty   7.0      80\n",
       "7   Daisy  papillon   3.5      35"
      ]
     },
     "metadata": {},
     "output_type": "display_data"
    }
   ],
   "source": [
    "dogs.loc[:,\"Length\"]=[50,100,105,85, 40,100,80]\n",
    "dogs.loc[len(dogs)] = ['Daisy','papillon',3.5, 35]\n",
    "display(dogs)\n"
   ]
  },
  {
   "cell_type": "markdown",
   "metadata": {},
   "source": [
    "You can add new rows to a DataFrame, combining pandas objects using `concat`:"
   ]
  },
  {
   "cell_type": "code",
   "execution_count": 10,
   "metadata": {},
   "outputs": [
    {
     "data": {
      "text/html": [
       "<div>\n",
       "<style scoped>\n",
       "    .dataframe tbody tr th:only-of-type {\n",
       "        vertical-align: middle;\n",
       "    }\n",
       "\n",
       "    .dataframe tbody tr th {\n",
       "        vertical-align: top;\n",
       "    }\n",
       "\n",
       "    .dataframe thead th {\n",
       "        text-align: right;\n",
       "    }\n",
       "</style>\n",
       "<table border=\"1\" class=\"dataframe\">\n",
       "  <thead>\n",
       "    <tr style=\"text-align: right;\">\n",
       "      <th></th>\n",
       "      <th>Name</th>\n",
       "      <th>Breed</th>\n",
       "      <th>Age</th>\n",
       "      <th>Length</th>\n",
       "    </tr>\n",
       "  </thead>\n",
       "  <tbody>\n",
       "    <tr>\n",
       "      <th>0</th>\n",
       "      <td>Rex</td>\n",
       "      <td>bulldog</td>\n",
       "      <td>2.0</td>\n",
       "      <td>50</td>\n",
       "    </tr>\n",
       "    <tr>\n",
       "      <th>1</th>\n",
       "      <td>Bruno</td>\n",
       "      <td>labrador</td>\n",
       "      <td>4.0</td>\n",
       "      <td>100</td>\n",
       "    </tr>\n",
       "    <tr>\n",
       "      <th>2</th>\n",
       "      <td>Biffa</td>\n",
       "      <td>doberman</td>\n",
       "      <td>12.0</td>\n",
       "      <td>105</td>\n",
       "    </tr>\n",
       "    <tr>\n",
       "      <th>3</th>\n",
       "      <td>Queeny</td>\n",
       "      <td>poodle</td>\n",
       "      <td>0.5</td>\n",
       "      <td>85</td>\n",
       "    </tr>\n",
       "    <tr>\n",
       "      <th>4</th>\n",
       "      <td>Bob</td>\n",
       "      <td>pug</td>\n",
       "      <td>7.0</td>\n",
       "      <td>40</td>\n",
       "    </tr>\n",
       "    <tr>\n",
       "      <th>5</th>\n",
       "      <td>Sheiba</td>\n",
       "      <td>labrador</td>\n",
       "      <td>10.0</td>\n",
       "      <td>100</td>\n",
       "    </tr>\n",
       "    <tr>\n",
       "      <th>6</th>\n",
       "      <td>Crusoe</td>\n",
       "      <td>scotty</td>\n",
       "      <td>7.0</td>\n",
       "      <td>80</td>\n",
       "    </tr>\n",
       "    <tr>\n",
       "      <th>7</th>\n",
       "      <td>Daisy</td>\n",
       "      <td>papillon</td>\n",
       "      <td>3.5</td>\n",
       "      <td>35</td>\n",
       "    </tr>\n",
       "    <tr>\n",
       "      <th>8</th>\n",
       "      <td>Ham</td>\n",
       "      <td>shiba inu</td>\n",
       "      <td>10.0</td>\n",
       "      <td>40</td>\n",
       "    </tr>\n",
       "  </tbody>\n",
       "</table>\n",
       "</div>"
      ],
      "text/plain": [
       "     Name      Breed   Age  Length\n",
       "0     Rex    bulldog   2.0      50\n",
       "1   Bruno   labrador   4.0     100\n",
       "2   Biffa   doberman  12.0     105\n",
       "3  Queeny     poodle   0.5      85\n",
       "4     Bob        pug   7.0      40\n",
       "5  Sheiba   labrador  10.0     100\n",
       "6  Crusoe     scotty   7.0      80\n",
       "7   Daisy   papillon   3.5      35\n",
       "8     Ham  shiba inu  10.0      40"
      ]
     },
     "metadata": {},
     "output_type": "display_data"
    }
   ],
   "source": [
    "new_row = pd.DataFrame({'Name':'Ham','Breed':'shiba inu','Age':10,'Length':40},index = [len(dogs)])\n",
    "\n",
    "dogs = pd.concat([dogs, new_row])\n",
    "display(dogs)"
   ]
  },
  {
   "cell_type": "markdown",
   "metadata": {},
   "source": [
    "Our default index here is just a numerical index; we can change it to something more useful, like the Name column. This way, someone can access all the data about a given dog by querying that index."
   ]
  },
  {
   "cell_type": "code",
   "execution_count": 11,
   "metadata": {},
   "outputs": [
    {
     "data": {
      "text/html": [
       "<div>\n",
       "<style scoped>\n",
       "    .dataframe tbody tr th:only-of-type {\n",
       "        vertical-align: middle;\n",
       "    }\n",
       "\n",
       "    .dataframe tbody tr th {\n",
       "        vertical-align: top;\n",
       "    }\n",
       "\n",
       "    .dataframe thead th {\n",
       "        text-align: right;\n",
       "    }\n",
       "</style>\n",
       "<table border=\"1\" class=\"dataframe\">\n",
       "  <thead>\n",
       "    <tr style=\"text-align: right;\">\n",
       "      <th></th>\n",
       "      <th>Breed</th>\n",
       "      <th>Age</th>\n",
       "      <th>Length</th>\n",
       "    </tr>\n",
       "    <tr>\n",
       "      <th>Name</th>\n",
       "      <th></th>\n",
       "      <th></th>\n",
       "      <th></th>\n",
       "    </tr>\n",
       "  </thead>\n",
       "  <tbody>\n",
       "    <tr>\n",
       "      <th>Rex</th>\n",
       "      <td>bulldog</td>\n",
       "      <td>2.0</td>\n",
       "      <td>50</td>\n",
       "    </tr>\n",
       "    <tr>\n",
       "      <th>Bruno</th>\n",
       "      <td>labrador</td>\n",
       "      <td>4.0</td>\n",
       "      <td>100</td>\n",
       "    </tr>\n",
       "    <tr>\n",
       "      <th>Biffa</th>\n",
       "      <td>doberman</td>\n",
       "      <td>12.0</td>\n",
       "      <td>105</td>\n",
       "    </tr>\n",
       "    <tr>\n",
       "      <th>Queeny</th>\n",
       "      <td>poodle</td>\n",
       "      <td>0.5</td>\n",
       "      <td>85</td>\n",
       "    </tr>\n",
       "    <tr>\n",
       "      <th>Bob</th>\n",
       "      <td>pug</td>\n",
       "      <td>7.0</td>\n",
       "      <td>40</td>\n",
       "    </tr>\n",
       "    <tr>\n",
       "      <th>Sheiba</th>\n",
       "      <td>labrador</td>\n",
       "      <td>10.0</td>\n",
       "      <td>100</td>\n",
       "    </tr>\n",
       "    <tr>\n",
       "      <th>Crusoe</th>\n",
       "      <td>scotty</td>\n",
       "      <td>7.0</td>\n",
       "      <td>80</td>\n",
       "    </tr>\n",
       "    <tr>\n",
       "      <th>Daisy</th>\n",
       "      <td>papillon</td>\n",
       "      <td>3.5</td>\n",
       "      <td>35</td>\n",
       "    </tr>\n",
       "    <tr>\n",
       "      <th>Ham</th>\n",
       "      <td>shiba inu</td>\n",
       "      <td>10.0</td>\n",
       "      <td>40</td>\n",
       "    </tr>\n",
       "  </tbody>\n",
       "</table>\n",
       "</div>"
      ],
      "text/plain": [
       "            Breed   Age  Length\n",
       "Name                           \n",
       "Rex       bulldog   2.0      50\n",
       "Bruno    labrador   4.0     100\n",
       "Biffa    doberman  12.0     105\n",
       "Queeny     poodle   0.5      85\n",
       "Bob           pug   7.0      40\n",
       "Sheiba   labrador  10.0     100\n",
       "Crusoe     scotty   7.0      80\n",
       "Daisy    papillon   3.5      35\n",
       "Ham     shiba inu  10.0      40"
      ]
     },
     "metadata": {},
     "output_type": "display_data"
    },
    {
     "data": {
      "text/plain": [
       "Breed     doberman\n",
       "Age           12.0\n",
       "Length         105\n",
       "Name: Biffa, dtype: object"
      ]
     },
     "metadata": {},
     "output_type": "display_data"
    },
    {
     "name": "stdout",
     "output_type": "stream",
     "text": [
      "--- Bob has length 40\n"
     ]
    }
   ],
   "source": [
    "dogs = dogs.set_index('Name')\n",
    "\n",
    "display(dogs)\n",
    "\n",
    "display(dogs.loc['Biffa'])\n",
    "\n",
    "print(\"--- Bob has length \"+str(dogs.loc['Bob']['Length']) )"
   ]
  },
  {
   "cell_type": "markdown",
   "metadata": {},
   "source": [
    "You can also create columns that are combinations of other columns: "
   ]
  },
  {
   "cell_type": "code",
   "execution_count": 12,
   "metadata": {},
   "outputs": [
    {
     "data": {
      "text/html": [
       "<div>\n",
       "<style scoped>\n",
       "    .dataframe tbody tr th:only-of-type {\n",
       "        vertical-align: middle;\n",
       "    }\n",
       "\n",
       "    .dataframe tbody tr th {\n",
       "        vertical-align: top;\n",
       "    }\n",
       "\n",
       "    .dataframe thead th {\n",
       "        text-align: right;\n",
       "    }\n",
       "</style>\n",
       "<table border=\"1\" class=\"dataframe\">\n",
       "  <thead>\n",
       "    <tr style=\"text-align: right;\">\n",
       "      <th></th>\n",
       "      <th>Breed</th>\n",
       "      <th>Age</th>\n",
       "      <th>Length</th>\n",
       "      <th>combination</th>\n",
       "    </tr>\n",
       "    <tr>\n",
       "      <th>Name</th>\n",
       "      <th></th>\n",
       "      <th></th>\n",
       "      <th></th>\n",
       "      <th></th>\n",
       "    </tr>\n",
       "  </thead>\n",
       "  <tbody>\n",
       "    <tr>\n",
       "      <th>Rex</th>\n",
       "      <td>bulldog</td>\n",
       "      <td>2.0</td>\n",
       "      <td>50</td>\n",
       "      <td>100.0</td>\n",
       "    </tr>\n",
       "    <tr>\n",
       "      <th>Bruno</th>\n",
       "      <td>labrador</td>\n",
       "      <td>4.0</td>\n",
       "      <td>100</td>\n",
       "      <td>400.0</td>\n",
       "    </tr>\n",
       "    <tr>\n",
       "      <th>Biffa</th>\n",
       "      <td>doberman</td>\n",
       "      <td>12.0</td>\n",
       "      <td>105</td>\n",
       "      <td>1260.0</td>\n",
       "    </tr>\n",
       "    <tr>\n",
       "      <th>Queeny</th>\n",
       "      <td>poodle</td>\n",
       "      <td>0.5</td>\n",
       "      <td>85</td>\n",
       "      <td>42.5</td>\n",
       "    </tr>\n",
       "    <tr>\n",
       "      <th>Bob</th>\n",
       "      <td>pug</td>\n",
       "      <td>7.0</td>\n",
       "      <td>40</td>\n",
       "      <td>280.0</td>\n",
       "    </tr>\n",
       "    <tr>\n",
       "      <th>Sheiba</th>\n",
       "      <td>labrador</td>\n",
       "      <td>10.0</td>\n",
       "      <td>100</td>\n",
       "      <td>1000.0</td>\n",
       "    </tr>\n",
       "    <tr>\n",
       "      <th>Crusoe</th>\n",
       "      <td>scotty</td>\n",
       "      <td>7.0</td>\n",
       "      <td>80</td>\n",
       "      <td>560.0</td>\n",
       "    </tr>\n",
       "    <tr>\n",
       "      <th>Daisy</th>\n",
       "      <td>papillon</td>\n",
       "      <td>3.5</td>\n",
       "      <td>35</td>\n",
       "      <td>122.5</td>\n",
       "    </tr>\n",
       "    <tr>\n",
       "      <th>Ham</th>\n",
       "      <td>shiba inu</td>\n",
       "      <td>10.0</td>\n",
       "      <td>40</td>\n",
       "      <td>400.0</td>\n",
       "    </tr>\n",
       "  </tbody>\n",
       "</table>\n",
       "</div>"
      ],
      "text/plain": [
       "            Breed   Age  Length  combination\n",
       "Name                                        \n",
       "Rex       bulldog   2.0      50        100.0\n",
       "Bruno    labrador   4.0     100        400.0\n",
       "Biffa    doberman  12.0     105       1260.0\n",
       "Queeny     poodle   0.5      85         42.5\n",
       "Bob           pug   7.0      40        280.0\n",
       "Sheiba   labrador  10.0     100       1000.0\n",
       "Crusoe     scotty   7.0      80        560.0\n",
       "Daisy    papillon   3.5      35        122.5\n",
       "Ham     shiba inu  10.0      40        400.0"
      ]
     },
     "metadata": {},
     "output_type": "display_data"
    }
   ],
   "source": [
    "dogs[\"combination\"]=dogs.Age*dogs.Length\n",
    "display(dogs)"
   ]
  },
  {
   "cell_type": "markdown",
   "metadata": {},
   "source": [
    "## Manipulation of DataFrames\n",
    "\n",
    "There are many ways you can sort and filter DataFrames to find the information you want. You can do simple indexing like you might with numpy arrays:\n",
    "\n"
   ]
  },
  {
   "cell_type": "code",
   "execution_count": 13,
   "metadata": {},
   "outputs": [
    {
     "data": {
      "text/html": [
       "<div>\n",
       "<style scoped>\n",
       "    .dataframe tbody tr th:only-of-type {\n",
       "        vertical-align: middle;\n",
       "    }\n",
       "\n",
       "    .dataframe tbody tr th {\n",
       "        vertical-align: top;\n",
       "    }\n",
       "\n",
       "    .dataframe thead th {\n",
       "        text-align: right;\n",
       "    }\n",
       "</style>\n",
       "<table border=\"1\" class=\"dataframe\">\n",
       "  <thead>\n",
       "    <tr style=\"text-align: right;\">\n",
       "      <th></th>\n",
       "      <th>Breed</th>\n",
       "      <th>Age</th>\n",
       "      <th>Length</th>\n",
       "      <th>combination</th>\n",
       "    </tr>\n",
       "    <tr>\n",
       "      <th>Name</th>\n",
       "      <th></th>\n",
       "      <th></th>\n",
       "      <th></th>\n",
       "      <th></th>\n",
       "    </tr>\n",
       "  </thead>\n",
       "  <tbody>\n",
       "    <tr>\n",
       "      <th>Biffa</th>\n",
       "      <td>doberman</td>\n",
       "      <td>12.0</td>\n",
       "      <td>105</td>\n",
       "      <td>1260.0</td>\n",
       "    </tr>\n",
       "    <tr>\n",
       "      <th>Bob</th>\n",
       "      <td>pug</td>\n",
       "      <td>7.0</td>\n",
       "      <td>40</td>\n",
       "      <td>280.0</td>\n",
       "    </tr>\n",
       "    <tr>\n",
       "      <th>Sheiba</th>\n",
       "      <td>labrador</td>\n",
       "      <td>10.0</td>\n",
       "      <td>100</td>\n",
       "      <td>1000.0</td>\n",
       "    </tr>\n",
       "    <tr>\n",
       "      <th>Crusoe</th>\n",
       "      <td>scotty</td>\n",
       "      <td>7.0</td>\n",
       "      <td>80</td>\n",
       "      <td>560.0</td>\n",
       "    </tr>\n",
       "    <tr>\n",
       "      <th>Ham</th>\n",
       "      <td>shiba inu</td>\n",
       "      <td>10.0</td>\n",
       "      <td>40</td>\n",
       "      <td>400.0</td>\n",
       "    </tr>\n",
       "  </tbody>\n",
       "</table>\n",
       "</div>"
      ],
      "text/plain": [
       "            Breed   Age  Length  combination\n",
       "Name                                        \n",
       "Biffa    doberman  12.0     105       1260.0\n",
       "Bob           pug   7.0      40        280.0\n",
       "Sheiba   labrador  10.0     100       1000.0\n",
       "Crusoe     scotty   7.0      80        560.0\n",
       "Ham     shiba inu  10.0      40        400.0"
      ]
     },
     "metadata": {},
     "output_type": "display_data"
    }
   ],
   "source": [
    "display(dogs[dogs.Age > 6])"
   ]
  },
  {
   "cell_type": "markdown",
   "metadata": {},
   "source": [
    "You can find a lot of information about how you can slice and query for data, as well as adding new data to your DataFrames, in the pandas [User Guide](https://pandas.pydata.org/docs/user_guide/index.html). A good place to get started is the [10 minutes to pandas](https://pandas.pydata.org/docs/user_guide/10min.html) guide."
   ]
  },
  {
   "cell_type": "markdown",
   "metadata": {},
   "source": [
    "<div style=\"background-color:#C2F5DD\">\n",
    "\n",
    "### Exercise 1\n",
    "\n",
    "Using the dogs DataFrame we defined in Section Three, try the following operations:\n",
    "\n",
    "* Define a new column for with the header \"Weight\"; make up some data of your own to put in this column\n",
    "* Make up some data for another dog, and add it to the DataFrame. Remember: we have set the index of the DataFrame to be the name, so the DataFrame you define for the new dog must have its name as its index.\n",
    "* Define a column that is the weight per unit length\n",
    "* Calculate the mean and standard deviation of each of the numeric quantities"
   ]
  },
  {
   "cell_type": "code",
   "execution_count": 14,
   "metadata": {},
   "outputs": [
    {
     "data": {
      "text/html": [
       "<div>\n",
       "<style scoped>\n",
       "    .dataframe tbody tr th:only-of-type {\n",
       "        vertical-align: middle;\n",
       "    }\n",
       "\n",
       "    .dataframe tbody tr th {\n",
       "        vertical-align: top;\n",
       "    }\n",
       "\n",
       "    .dataframe thead th {\n",
       "        text-align: right;\n",
       "    }\n",
       "</style>\n",
       "<table border=\"1\" class=\"dataframe\">\n",
       "  <thead>\n",
       "    <tr style=\"text-align: right;\">\n",
       "      <th></th>\n",
       "      <th>Breed</th>\n",
       "      <th>Age</th>\n",
       "      <th>Length</th>\n",
       "      <th>combination</th>\n",
       "      <th>weight</th>\n",
       "    </tr>\n",
       "    <tr>\n",
       "      <th>Name</th>\n",
       "      <th></th>\n",
       "      <th></th>\n",
       "      <th></th>\n",
       "      <th></th>\n",
       "      <th></th>\n",
       "    </tr>\n",
       "  </thead>\n",
       "  <tbody>\n",
       "    <tr>\n",
       "      <th>Rex</th>\n",
       "      <td>bulldog</td>\n",
       "      <td>2.0</td>\n",
       "      <td>50</td>\n",
       "      <td>100.0</td>\n",
       "      <td>4.319188</td>\n",
       "    </tr>\n",
       "    <tr>\n",
       "      <th>Bruno</th>\n",
       "      <td>labrador</td>\n",
       "      <td>4.0</td>\n",
       "      <td>100</td>\n",
       "      <td>400.0</td>\n",
       "      <td>34.553504</td>\n",
       "    </tr>\n",
       "    <tr>\n",
       "      <th>Biffa</th>\n",
       "      <td>doberman</td>\n",
       "      <td>12.0</td>\n",
       "      <td>105</td>\n",
       "      <td>1260.0</td>\n",
       "      <td>40.000000</td>\n",
       "    </tr>\n",
       "    <tr>\n",
       "      <th>Queeny</th>\n",
       "      <td>poodle</td>\n",
       "      <td>0.5</td>\n",
       "      <td>85</td>\n",
       "      <td>42.5</td>\n",
       "      <td>21.220171</td>\n",
       "    </tr>\n",
       "    <tr>\n",
       "      <th>Bob</th>\n",
       "      <td>pug</td>\n",
       "      <td>7.0</td>\n",
       "      <td>40</td>\n",
       "      <td>280.0</td>\n",
       "      <td>2.211424</td>\n",
       "    </tr>\n",
       "    <tr>\n",
       "      <th>Sheiba</th>\n",
       "      <td>labrador</td>\n",
       "      <td>10.0</td>\n",
       "      <td>100</td>\n",
       "      <td>1000.0</td>\n",
       "      <td>34.553504</td>\n",
       "    </tr>\n",
       "    <tr>\n",
       "      <th>Crusoe</th>\n",
       "      <td>scotty</td>\n",
       "      <td>7.0</td>\n",
       "      <td>80</td>\n",
       "      <td>560.0</td>\n",
       "      <td>17.691394</td>\n",
       "    </tr>\n",
       "    <tr>\n",
       "      <th>Daisy</th>\n",
       "      <td>papillon</td>\n",
       "      <td>3.5</td>\n",
       "      <td>35</td>\n",
       "      <td>122.5</td>\n",
       "      <td>1.481481</td>\n",
       "    </tr>\n",
       "    <tr>\n",
       "      <th>Ham</th>\n",
       "      <td>shiba inu</td>\n",
       "      <td>10.0</td>\n",
       "      <td>40</td>\n",
       "      <td>400.0</td>\n",
       "      <td>2.211424</td>\n",
       "    </tr>\n",
       "  </tbody>\n",
       "</table>\n",
       "</div>"
      ],
      "text/plain": [
       "            Breed   Age  Length  combination     weight\n",
       "Name                                                   \n",
       "Rex       bulldog   2.0      50        100.0   4.319188\n",
       "Bruno    labrador   4.0     100        400.0  34.553504\n",
       "Biffa    doberman  12.0     105       1260.0  40.000000\n",
       "Queeny     poodle   0.5      85         42.5  21.220171\n",
       "Bob           pug   7.0      40        280.0   2.211424\n",
       "Sheiba   labrador  10.0     100       1000.0  34.553504\n",
       "Crusoe     scotty   7.0      80        560.0  17.691394\n",
       "Daisy    papillon   3.5      35        122.5   1.481481\n",
       "Ham     shiba inu  10.0      40        400.0   2.211424"
      ]
     },
     "metadata": {},
     "output_type": "display_data"
    }
   ],
   "source": [
    "# Add a column for Weight, \n",
    "\n",
    "# Surely weight is proportional to volume which is roughly proportional to (length)^3? \n",
    "# Typical male doberman weight is 40kg\n",
    "# This is over complicated! Any numbers will do for this example\n",
    "dogs[\"weight\"] = 40.0 * (dogs.Length/dogs.loc['Biffa','Length'])**3\n",
    "display(dogs)\n"
   ]
  },
  {
   "cell_type": "code",
   "execution_count": 15,
   "metadata": {},
   "outputs": [
    {
     "data": {
      "text/html": [
       "<div>\n",
       "<style scoped>\n",
       "    .dataframe tbody tr th:only-of-type {\n",
       "        vertical-align: middle;\n",
       "    }\n",
       "\n",
       "    .dataframe tbody tr th {\n",
       "        vertical-align: top;\n",
       "    }\n",
       "\n",
       "    .dataframe thead th {\n",
       "        text-align: right;\n",
       "    }\n",
       "</style>\n",
       "<table border=\"1\" class=\"dataframe\">\n",
       "  <thead>\n",
       "    <tr style=\"text-align: right;\">\n",
       "      <th></th>\n",
       "      <th>Breed</th>\n",
       "      <th>Age</th>\n",
       "      <th>Length</th>\n",
       "      <th>combination</th>\n",
       "      <th>weight</th>\n",
       "    </tr>\n",
       "  </thead>\n",
       "  <tbody>\n",
       "    <tr>\n",
       "      <th>Rex</th>\n",
       "      <td>bulldog</td>\n",
       "      <td>2.0</td>\n",
       "      <td>50</td>\n",
       "      <td>100.0</td>\n",
       "      <td>4.319188</td>\n",
       "    </tr>\n",
       "    <tr>\n",
       "      <th>Bruno</th>\n",
       "      <td>labrador</td>\n",
       "      <td>4.0</td>\n",
       "      <td>100</td>\n",
       "      <td>400.0</td>\n",
       "      <td>34.553504</td>\n",
       "    </tr>\n",
       "    <tr>\n",
       "      <th>Biffa</th>\n",
       "      <td>doberman</td>\n",
       "      <td>12.0</td>\n",
       "      <td>105</td>\n",
       "      <td>1260.0</td>\n",
       "      <td>40.000000</td>\n",
       "    </tr>\n",
       "    <tr>\n",
       "      <th>Queeny</th>\n",
       "      <td>poodle</td>\n",
       "      <td>0.5</td>\n",
       "      <td>85</td>\n",
       "      <td>42.5</td>\n",
       "      <td>21.220171</td>\n",
       "    </tr>\n",
       "    <tr>\n",
       "      <th>Bob</th>\n",
       "      <td>pug</td>\n",
       "      <td>7.0</td>\n",
       "      <td>40</td>\n",
       "      <td>280.0</td>\n",
       "      <td>2.211424</td>\n",
       "    </tr>\n",
       "    <tr>\n",
       "      <th>Sheiba</th>\n",
       "      <td>labrador</td>\n",
       "      <td>10.0</td>\n",
       "      <td>100</td>\n",
       "      <td>1000.0</td>\n",
       "      <td>34.553504</td>\n",
       "    </tr>\n",
       "    <tr>\n",
       "      <th>Crusoe</th>\n",
       "      <td>scotty</td>\n",
       "      <td>7.0</td>\n",
       "      <td>80</td>\n",
       "      <td>560.0</td>\n",
       "      <td>17.691394</td>\n",
       "    </tr>\n",
       "    <tr>\n",
       "      <th>Daisy</th>\n",
       "      <td>papillon</td>\n",
       "      <td>3.5</td>\n",
       "      <td>35</td>\n",
       "      <td>122.5</td>\n",
       "      <td>1.481481</td>\n",
       "    </tr>\n",
       "    <tr>\n",
       "      <th>Ham</th>\n",
       "      <td>shiba inu</td>\n",
       "      <td>10.0</td>\n",
       "      <td>40</td>\n",
       "      <td>400.0</td>\n",
       "      <td>2.211424</td>\n",
       "    </tr>\n",
       "    <tr>\n",
       "      <th>Scooby Doo</th>\n",
       "      <td>great dane</td>\n",
       "      <td>9.0</td>\n",
       "      <td>100</td>\n",
       "      <td>NaN</td>\n",
       "      <td>100.000000</td>\n",
       "    </tr>\n",
       "  </tbody>\n",
       "</table>\n",
       "</div>"
      ],
      "text/plain": [
       "                 Breed   Age  Length  combination      weight\n",
       "Rex            bulldog   2.0      50        100.0    4.319188\n",
       "Bruno         labrador   4.0     100        400.0   34.553504\n",
       "Biffa         doberman  12.0     105       1260.0   40.000000\n",
       "Queeny          poodle   0.5      85         42.5   21.220171\n",
       "Bob                pug   7.0      40        280.0    2.211424\n",
       "Sheiba        labrador  10.0     100       1000.0   34.553504\n",
       "Crusoe          scotty   7.0      80        560.0   17.691394\n",
       "Daisy         papillon   3.5      35        122.5    1.481481\n",
       "Ham          shiba inu  10.0      40        400.0    2.211424\n",
       "Scooby Doo  great dane   9.0     100          NaN  100.000000"
      ]
     },
     "metadata": {},
     "output_type": "display_data"
    }
   ],
   "source": [
    "# Add data for another dog\n",
    "\n",
    "# Typical length of Great Dane is 100cm\n",
    "# Remember that we have changed the data frame since our first example of how to add a row\n",
    "# so we need to change the input dictionary and use a Name as the index of the new row.\n",
    "# For instance in this answer the 'combination' entry is not defined  in this input\n",
    "# so Scooby Doo will have a \"NaN\" (\"not a number\") value there .\n",
    "\n",
    "new_row = pd.DataFrame({'weight': 100.0, 'Breed': 'great dane', 'Age':9, 'Length':100}, index = ['Scooby Doo'])\n",
    "dogs = pd.concat([dogs, new_row])\n",
    "display(dogs)\n",
    "\n",
    "\n",
    "# If you just copied from the earlier example you will get a mess e.g. if you tried this:-\n",
    "#    new_row_bad = pd.DataFrame({'Name':'Scooby Doo','Breed':'great dane','Age':9,'Length':100},index = [len(dogs)])\n",
    "# This new_row_bad would generate a new row but the index would be a number \n",
    "# while the 'Name' entry in this dictionary now generates a new column where all previous dogs get Nan values \n",
    "\n"
   ]
  },
  {
   "cell_type": "code",
   "execution_count": 16,
   "metadata": {},
   "outputs": [
    {
     "data": {
      "text/html": [
       "<div>\n",
       "<style scoped>\n",
       "    .dataframe tbody tr th:only-of-type {\n",
       "        vertical-align: middle;\n",
       "    }\n",
       "\n",
       "    .dataframe tbody tr th {\n",
       "        vertical-align: top;\n",
       "    }\n",
       "\n",
       "    .dataframe thead th {\n",
       "        text-align: right;\n",
       "    }\n",
       "</style>\n",
       "<table border=\"1\" class=\"dataframe\">\n",
       "  <thead>\n",
       "    <tr style=\"text-align: right;\">\n",
       "      <th></th>\n",
       "      <th>Breed</th>\n",
       "      <th>Age</th>\n",
       "      <th>Length</th>\n",
       "      <th>combination</th>\n",
       "      <th>weight</th>\n",
       "      <th>W/L</th>\n",
       "    </tr>\n",
       "  </thead>\n",
       "  <tbody>\n",
       "    <tr>\n",
       "      <th>Rex</th>\n",
       "      <td>bulldog</td>\n",
       "      <td>2.0</td>\n",
       "      <td>50</td>\n",
       "      <td>100.0</td>\n",
       "      <td>4.319188</td>\n",
       "      <td>0.086384</td>\n",
       "    </tr>\n",
       "    <tr>\n",
       "      <th>Bruno</th>\n",
       "      <td>labrador</td>\n",
       "      <td>4.0</td>\n",
       "      <td>100</td>\n",
       "      <td>400.0</td>\n",
       "      <td>34.553504</td>\n",
       "      <td>0.345535</td>\n",
       "    </tr>\n",
       "    <tr>\n",
       "      <th>Biffa</th>\n",
       "      <td>doberman</td>\n",
       "      <td>12.0</td>\n",
       "      <td>105</td>\n",
       "      <td>1260.0</td>\n",
       "      <td>40.000000</td>\n",
       "      <td>0.380952</td>\n",
       "    </tr>\n",
       "    <tr>\n",
       "      <th>Queeny</th>\n",
       "      <td>poodle</td>\n",
       "      <td>0.5</td>\n",
       "      <td>85</td>\n",
       "      <td>42.5</td>\n",
       "      <td>21.220171</td>\n",
       "      <td>0.249649</td>\n",
       "    </tr>\n",
       "    <tr>\n",
       "      <th>Bob</th>\n",
       "      <td>pug</td>\n",
       "      <td>7.0</td>\n",
       "      <td>40</td>\n",
       "      <td>280.0</td>\n",
       "      <td>2.211424</td>\n",
       "      <td>0.055286</td>\n",
       "    </tr>\n",
       "    <tr>\n",
       "      <th>Sheiba</th>\n",
       "      <td>labrador</td>\n",
       "      <td>10.0</td>\n",
       "      <td>100</td>\n",
       "      <td>1000.0</td>\n",
       "      <td>34.553504</td>\n",
       "      <td>0.345535</td>\n",
       "    </tr>\n",
       "    <tr>\n",
       "      <th>Crusoe</th>\n",
       "      <td>scotty</td>\n",
       "      <td>7.0</td>\n",
       "      <td>80</td>\n",
       "      <td>560.0</td>\n",
       "      <td>17.691394</td>\n",
       "      <td>0.221142</td>\n",
       "    </tr>\n",
       "    <tr>\n",
       "      <th>Daisy</th>\n",
       "      <td>papillon</td>\n",
       "      <td>3.5</td>\n",
       "      <td>35</td>\n",
       "      <td>122.5</td>\n",
       "      <td>1.481481</td>\n",
       "      <td>0.042328</td>\n",
       "    </tr>\n",
       "    <tr>\n",
       "      <th>Ham</th>\n",
       "      <td>shiba inu</td>\n",
       "      <td>10.0</td>\n",
       "      <td>40</td>\n",
       "      <td>400.0</td>\n",
       "      <td>2.211424</td>\n",
       "      <td>0.055286</td>\n",
       "    </tr>\n",
       "    <tr>\n",
       "      <th>Scooby Doo</th>\n",
       "      <td>great dane</td>\n",
       "      <td>9.0</td>\n",
       "      <td>100</td>\n",
       "      <td>NaN</td>\n",
       "      <td>100.000000</td>\n",
       "      <td>1.000000</td>\n",
       "    </tr>\n",
       "  </tbody>\n",
       "</table>\n",
       "</div>"
      ],
      "text/plain": [
       "                 Breed   Age  Length  combination      weight       W/L\n",
       "Rex            bulldog   2.0      50        100.0    4.319188  0.086384\n",
       "Bruno         labrador   4.0     100        400.0   34.553504  0.345535\n",
       "Biffa         doberman  12.0     105       1260.0   40.000000  0.380952\n",
       "Queeny          poodle   0.5      85         42.5   21.220171  0.249649\n",
       "Bob                pug   7.0      40        280.0    2.211424  0.055286\n",
       "Sheiba        labrador  10.0     100       1000.0   34.553504  0.345535\n",
       "Crusoe          scotty   7.0      80        560.0   17.691394  0.221142\n",
       "Daisy         papillon   3.5      35        122.5    1.481481  0.042328\n",
       "Ham          shiba inu  10.0      40        400.0    2.211424  0.055286\n",
       "Scooby Doo  great dane   9.0     100          NaN  100.000000  1.000000"
      ]
     },
     "metadata": {},
     "output_type": "display_data"
    }
   ],
   "source": [
    "# Define a weight per unit length column\n",
    "\n",
    "dogs[\"W/L\"]=dogs.weight/dogs.Length\n",
    "display(dogs)\n"
   ]
  },
  {
   "cell_type": "code",
   "execution_count": 17,
   "metadata": {},
   "outputs": [
    {
     "data": {
      "text/plain": [
       "['Breed', 'Age', 'Length', 'combination', 'weight', 'W/L']"
      ]
     },
     "execution_count": 17,
     "metadata": {},
     "output_type": "execute_result"
    }
   ],
   "source": [
    "dogs.columns.tolist()"
   ]
  },
  {
   "cell_type": "code",
   "execution_count": 18,
   "metadata": {},
   "outputs": [
    {
     "name": "stdout",
     "output_type": "stream",
     "text": [
      "Simple way to get mean of the age of dogs, which equals  6.50, and the std. dev.  3.84\n"
     ]
    },
    {
     "data": {
      "text/plain": [
       "['Breed', 'Age', 'Length', 'combination', 'weight', 'W/L']"
      ]
     },
     "metadata": {},
     "output_type": "display_data"
    },
    {
     "name": "stdout",
     "output_type": "stream",
     "text": [
      "Age         : Mean =   6.50, std.dev. =   3.84\n",
      "Length      : Mean =  73.50, std.dev. =  28.97\n",
      "combination : Mean = 462.78, std.dev. = 418.17\n",
      "weight      : Mean =  25.82, std.dev. =  30.02\n",
      "W/L         : Mean =   0.28, std.dev. =   0.29\n"
     ]
    }
   ],
   "source": [
    "# Calculate the mean and standard deviation for each of the numeric quantities\n",
    "\n",
    "print(\"Simple way to get mean of the age of dogs, which equals {:5.2f}, and the std. dev. {:5.2f}\".format(dogs.Age.mean(),dogs.Age.std()))\n",
    "\n",
    "# Here is a way to do everything at once but here probably quicker to cut and paste then change the column label used by hand\n",
    "\n",
    "# This gives a list of column labels\n",
    "display(dogs.columns.tolist())\n",
    "\n",
    "# So loop through but deal with failure when non numerical values are accessed\n",
    "for column_label in dogs.columns.tolist():\n",
    "    try:\n",
    "        print(\"{:12s}: Mean = {:6.2f}, std.dev. = {:6.2f}\".format(column_label,dogs.loc[:,column_label].mean(), dogs.loc[:,column_label].std() ))\n",
    "    except:\n",
    "        # We expect columns which are not numerical to fail but don't let that stop the loop\n",
    "        pass\n"
   ]
  },
  {
   "cell_type": "markdown",
   "metadata": {},
   "source": [
    "<div style=\"background-color:#C2F5DD\">\n",
    "\n",
    "End of Exercise 1"
   ]
  },
  {
   "cell_type": "markdown",
   "metadata": {},
   "source": [
    "### Summary\n",
    "\n",
    "In this section, we have covered some basics of `pandas`, a very useful data library in Python. This has included:\n",
    "\n",
    "* Defining a DataFrame\n",
    "* Printing the contents of a DataFrame in a nice way\n",
    "* Finding slices of a DataFrame\n",
    "* Adding new rows and columns to a DataFrame\n",
    "\n",
    "The following section will some more advanced techniques using pandas, including reading and writing DataFrames to and from files. "
   ]
  },
  {
   "cell_type": "markdown",
   "metadata": {},
   "source": [
    "<hr style=\"border:2px solid gray\"> \n",
    "<a id='section4'></a>"
   ]
  },
  {
   "cell_type": "markdown",
   "metadata": {},
   "source": [
    "## Section Four: Pandas with Datasets on File  [^](#outline)"
   ]
  },
  {
   "cell_type": "markdown",
   "metadata": {},
   "source": [
    "So far we have dealt with a very simple DataFrame that we have defined ourselves, to demonstrate how you can add data to an existing DataFrame. In reality, the main use of pandas is for big DataFrames, and handling a lot of data at once. Typically these will be stored in a file. You can save pandas DataFrames in a number of different ways, such as:\n",
    "* Excel spreadsheets\n",
    "* csv files\n",
    "* JSON files\n",
    "\n",
    "and more. The full list of input/output functions can be found in [the documentation](https://pandas.pydata.org/docs/reference/io.html), but here we will deal with a file saved in an .csv file. First, we load the file."
   ]
  },
  {
   "cell_type": "code",
   "execution_count": 19,
   "metadata": {},
   "outputs": [
    {
     "data": {
      "text/html": [
       "<div>\n",
       "<style scoped>\n",
       "    .dataframe tbody tr th:only-of-type {\n",
       "        vertical-align: middle;\n",
       "    }\n",
       "\n",
       "    .dataframe tbody tr th {\n",
       "        vertical-align: top;\n",
       "    }\n",
       "\n",
       "    .dataframe thead th {\n",
       "        text-align: right;\n",
       "    }\n",
       "</style>\n",
       "<table border=\"1\" class=\"dataframe\">\n",
       "  <thead>\n",
       "    <tr style=\"text-align: right;\">\n",
       "      <th></th>\n",
       "      <th>Cement</th>\n",
       "      <th>Blast Furnace Slag</th>\n",
       "      <th>Fly Ash</th>\n",
       "      <th>Water</th>\n",
       "      <th>Superplasticizer</th>\n",
       "      <th>Coarse Aggregate</th>\n",
       "      <th>Fine Aggregate</th>\n",
       "      <th>Age</th>\n",
       "      <th>Strength</th>\n",
       "    </tr>\n",
       "  </thead>\n",
       "  <tbody>\n",
       "    <tr>\n",
       "      <th>0</th>\n",
       "      <td>540.0</td>\n",
       "      <td>0.0</td>\n",
       "      <td>0.0</td>\n",
       "      <td>162.0</td>\n",
       "      <td>2.5</td>\n",
       "      <td>1040.0</td>\n",
       "      <td>676.0</td>\n",
       "      <td>28</td>\n",
       "      <td>79.99</td>\n",
       "    </tr>\n",
       "    <tr>\n",
       "      <th>1</th>\n",
       "      <td>540.0</td>\n",
       "      <td>0.0</td>\n",
       "      <td>0.0</td>\n",
       "      <td>162.0</td>\n",
       "      <td>2.5</td>\n",
       "      <td>1055.0</td>\n",
       "      <td>676.0</td>\n",
       "      <td>28</td>\n",
       "      <td>61.89</td>\n",
       "    </tr>\n",
       "    <tr>\n",
       "      <th>2</th>\n",
       "      <td>332.5</td>\n",
       "      <td>142.5</td>\n",
       "      <td>0.0</td>\n",
       "      <td>228.0</td>\n",
       "      <td>0.0</td>\n",
       "      <td>932.0</td>\n",
       "      <td>594.0</td>\n",
       "      <td>270</td>\n",
       "      <td>40.27</td>\n",
       "    </tr>\n",
       "    <tr>\n",
       "      <th>3</th>\n",
       "      <td>332.5</td>\n",
       "      <td>142.5</td>\n",
       "      <td>0.0</td>\n",
       "      <td>228.0</td>\n",
       "      <td>0.0</td>\n",
       "      <td>932.0</td>\n",
       "      <td>594.0</td>\n",
       "      <td>365</td>\n",
       "      <td>41.05</td>\n",
       "    </tr>\n",
       "    <tr>\n",
       "      <th>4</th>\n",
       "      <td>198.6</td>\n",
       "      <td>132.4</td>\n",
       "      <td>0.0</td>\n",
       "      <td>192.0</td>\n",
       "      <td>0.0</td>\n",
       "      <td>978.4</td>\n",
       "      <td>825.5</td>\n",
       "      <td>360</td>\n",
       "      <td>44.30</td>\n",
       "    </tr>\n",
       "    <tr>\n",
       "      <th>...</th>\n",
       "      <td>...</td>\n",
       "      <td>...</td>\n",
       "      <td>...</td>\n",
       "      <td>...</td>\n",
       "      <td>...</td>\n",
       "      <td>...</td>\n",
       "      <td>...</td>\n",
       "      <td>...</td>\n",
       "      <td>...</td>\n",
       "    </tr>\n",
       "    <tr>\n",
       "      <th>1025</th>\n",
       "      <td>276.4</td>\n",
       "      <td>116.0</td>\n",
       "      <td>90.3</td>\n",
       "      <td>179.6</td>\n",
       "      <td>8.9</td>\n",
       "      <td>870.1</td>\n",
       "      <td>768.3</td>\n",
       "      <td>28</td>\n",
       "      <td>44.28</td>\n",
       "    </tr>\n",
       "    <tr>\n",
       "      <th>1026</th>\n",
       "      <td>322.2</td>\n",
       "      <td>0.0</td>\n",
       "      <td>115.6</td>\n",
       "      <td>196.0</td>\n",
       "      <td>10.4</td>\n",
       "      <td>817.9</td>\n",
       "      <td>813.4</td>\n",
       "      <td>28</td>\n",
       "      <td>31.18</td>\n",
       "    </tr>\n",
       "    <tr>\n",
       "      <th>1027</th>\n",
       "      <td>148.5</td>\n",
       "      <td>139.4</td>\n",
       "      <td>108.6</td>\n",
       "      <td>192.7</td>\n",
       "      <td>6.1</td>\n",
       "      <td>892.4</td>\n",
       "      <td>780.0</td>\n",
       "      <td>28</td>\n",
       "      <td>23.70</td>\n",
       "    </tr>\n",
       "    <tr>\n",
       "      <th>1028</th>\n",
       "      <td>159.1</td>\n",
       "      <td>186.7</td>\n",
       "      <td>0.0</td>\n",
       "      <td>175.6</td>\n",
       "      <td>11.3</td>\n",
       "      <td>989.6</td>\n",
       "      <td>788.9</td>\n",
       "      <td>28</td>\n",
       "      <td>32.77</td>\n",
       "    </tr>\n",
       "    <tr>\n",
       "      <th>1029</th>\n",
       "      <td>260.9</td>\n",
       "      <td>100.5</td>\n",
       "      <td>78.3</td>\n",
       "      <td>200.6</td>\n",
       "      <td>8.6</td>\n",
       "      <td>864.5</td>\n",
       "      <td>761.5</td>\n",
       "      <td>28</td>\n",
       "      <td>32.40</td>\n",
       "    </tr>\n",
       "  </tbody>\n",
       "</table>\n",
       "<p>1030 rows × 9 columns</p>\n",
       "</div>"
      ],
      "text/plain": [
       "      Cement  Blast Furnace Slag  Fly Ash  Water  Superplasticizer  \\\n",
       "0      540.0                 0.0      0.0  162.0               2.5   \n",
       "1      540.0                 0.0      0.0  162.0               2.5   \n",
       "2      332.5               142.5      0.0  228.0               0.0   \n",
       "3      332.5               142.5      0.0  228.0               0.0   \n",
       "4      198.6               132.4      0.0  192.0               0.0   \n",
       "...      ...                 ...      ...    ...               ...   \n",
       "1025   276.4               116.0     90.3  179.6               8.9   \n",
       "1026   322.2                 0.0    115.6  196.0              10.4   \n",
       "1027   148.5               139.4    108.6  192.7               6.1   \n",
       "1028   159.1               186.7      0.0  175.6              11.3   \n",
       "1029   260.9               100.5     78.3  200.6               8.6   \n",
       "\n",
       "      Coarse Aggregate  Fine Aggregate  Age  Strength  \n",
       "0               1040.0           676.0   28     79.99  \n",
       "1               1055.0           676.0   28     61.89  \n",
       "2                932.0           594.0  270     40.27  \n",
       "3                932.0           594.0  365     41.05  \n",
       "4                978.4           825.5  360     44.30  \n",
       "...                ...             ...  ...       ...  \n",
       "1025             870.1           768.3   28     44.28  \n",
       "1026             817.9           813.4   28     31.18  \n",
       "1027             892.4           780.0   28     23.70  \n",
       "1028             989.6           788.9   28     32.77  \n",
       "1029             864.5           761.5   28     32.40  \n",
       "\n",
       "[1030 rows x 9 columns]"
      ]
     },
     "metadata": {},
     "output_type": "display_data"
    }
   ],
   "source": [
    "concrete_data = pd.read_csv('concrete_data.csv')\n",
    "display(concrete_data)"
   ]
  },
  {
   "cell_type": "markdown",
   "metadata": {},
   "source": [
    "As you can see, this dataset has more than 1000 entries, with 9 columns per entry. This dataset is a sample machine learning dataset from the UC Irvine Machine Learning Repository, and can be found [here](https://archive.ics.uci.edu/dataset/165/concrete+compressive+strength). It can be used to test machine learning methods to predict the compressive strength of concrete, from the age of the concrete and ingredients used to make it. \n",
    "\n",
    "Column units are as follows:\n",
    "* First 7 columns (Cement to Fine Aggregate): $\\text{kg m}^{-3}$. Note this is not density, but the weight of the relevant ingredient in a $\\text{m}^3$ mixture of that concrete sample.\n",
    "* Age: days\n",
    "* Strength: MPa\n",
    "\n",
    "\n",
    "\n"
   ]
  },
  {
   "cell_type": "markdown",
   "metadata": {},
   "source": [
    "We can directly do plotting from Pandas, e.g. plotting the Cement content against the concrete strength:"
   ]
  },
  {
   "cell_type": "code",
   "execution_count": 20,
   "metadata": {},
   "outputs": [
    {
     "data": {
      "text/plain": [
       "<AxesSubplot:xlabel='Cement', ylabel='Strength'>"
      ]
     },
     "execution_count": 20,
     "metadata": {},
     "output_type": "execute_result"
    },
    {
     "data": {
      "image/png": "[encoded data removed]",
      "text/plain": [
       "<Figure size 432x288 with 1 Axes>"
      ]
     },
     "metadata": {
      "needs_background": "light"
     },
     "output_type": "display_data"
    }
   ],
   "source": [
    "concrete_data.plot(x='Cement',y = 'Strength',kind='scatter')"
   ]
  },
  {
   "cell_type": "markdown",
   "metadata": {},
   "source": [
    "Or we can plot a histogram of the cement content:\n"
   ]
  },
  {
   "cell_type": "code",
   "execution_count": 21,
   "metadata": {},
   "outputs": [
    {
     "data": {
      "text/plain": [
       "array([[<AxesSubplot:title={'center':'Cement'}>]], dtype=object)"
      ]
     },
     "execution_count": 21,
     "metadata": {},
     "output_type": "execute_result"
    },
    {
     "data": {
      "image/png": "[encoded data removed]",
      "text/plain": [
       "<Figure size 432x288 with 1 Axes>"
      ]
     },
     "metadata": {
      "needs_background": "light"
     },
     "output_type": "display_data"
    }
   ],
   "source": [
    "concrete_data.hist('Cement',bins = 20)"
   ]
  },
  {
   "cell_type": "markdown",
   "metadata": {},
   "source": [
    "These are very basic plots that you can produce quickly to explore a dataset. Later in this workbook you will see how we can produce clear and professional plots. \n",
    "\n",
    "There are lots of options for visualisation from Pandas DataFrames directly that we don't have the time to cover in detail here, see [the documentation](https://pandas.pydata.org/docs/user_guide/visualization.html) for further details."
   ]
  },
  {
   "cell_type": "markdown",
   "metadata": {},
   "source": [
    "<div style=\"background-color:#C2F5DD\">\n",
    "\n",
    "### Exercise 2\n",
    "\n",
    "Use some of the pandas plotting methods to visualise some of the data from our dogs DataFrame in the previous section. Try:\n",
    "\n",
    "* Scatter plot of one quantity against another\n",
    "* Histogram of one of the quantities"
   ]
  },
  {
   "cell_type": "code",
   "execution_count": 22,
   "metadata": {},
   "outputs": [
    {
     "data": {
      "text/plain": [
       "<AxesSubplot:xlabel='Water', ylabel='Strength'>"
      ]
     },
     "execution_count": 22,
     "metadata": {},
     "output_type": "execute_result"
    },
    {
     "data": {
      "image/png": "[encoded data removed]",
      "text/plain": [
       "<Figure size 432x288 with 1 Axes>"
      ]
     },
     "metadata": {
      "needs_background": "light"
     },
     "output_type": "display_data"
    }
   ],
   "source": [
    "# Scatter plot code\n",
    "\n",
    "concrete_data.plot(x='Water',y = 'Strength',kind='scatter')\n"
   ]
  },
  {
   "cell_type": "code",
   "execution_count": 23,
   "metadata": {
    "scrolled": true
   },
   "outputs": [
    {
     "data": {
      "text/plain": [
       "array([[<AxesSubplot:title={'center':'Strength'}>]], dtype=object)"
      ]
     },
     "execution_count": 23,
     "metadata": {},
     "output_type": "execute_result"
    },
    {
     "data": {
      "image/png": "[encoded data removed]",
      "text/plain": [
       "<Figure size 432x288 with 1 Axes>"
      ]
     },
     "metadata": {
      "needs_background": "light"
     },
     "output_type": "display_data"
    }
   ],
   "source": [
    "# Histogram code\n",
    "\n",
    "concrete_data.hist('Strength',bins = 20)\n"
   ]
  },
  {
   "cell_type": "markdown",
   "metadata": {},
   "source": [
    "<div style=\"background-color:#C2F5DD\">\n",
    "\n",
    "End of exercise 2"
   ]
  },
  {
   "cell_type": "markdown",
   "metadata": {},
   "source": [
    "Say we wanted to look for concrete samples with a Water content of greater than 100 $\\text{kg m}^{-3}$, but an age of less than 100 days. We can index in a boolean fashion, as described before, or use `query`. `query` performs the same actions as indexing with a boolean condition, but is slightly faster due to the specific implementation. This is only generally noticeable for large DataFrames, but it is good practise in general. "
   ]
  },
  {
   "cell_type": "code",
   "execution_count": 24,
   "metadata": {},
   "outputs": [
    {
     "data": {
      "text/html": [
       "<div>\n",
       "<style scoped>\n",
       "    .dataframe tbody tr th:only-of-type {\n",
       "        vertical-align: middle;\n",
       "    }\n",
       "\n",
       "    .dataframe tbody tr th {\n",
       "        vertical-align: top;\n",
       "    }\n",
       "\n",
       "    .dataframe thead th {\n",
       "        text-align: right;\n",
       "    }\n",
       "</style>\n",
       "<table border=\"1\" class=\"dataframe\">\n",
       "  <thead>\n",
       "    <tr style=\"text-align: right;\">\n",
       "      <th></th>\n",
       "      <th>Cement</th>\n",
       "      <th>Blast Furnace Slag</th>\n",
       "      <th>Fly Ash</th>\n",
       "      <th>Water</th>\n",
       "      <th>Superplasticizer</th>\n",
       "      <th>Coarse Aggregate</th>\n",
       "      <th>Fine Aggregate</th>\n",
       "      <th>Age</th>\n",
       "      <th>Strength</th>\n",
       "    </tr>\n",
       "  </thead>\n",
       "  <tbody>\n",
       "    <tr>\n",
       "      <th>0</th>\n",
       "      <td>540.0</td>\n",
       "      <td>0.0</td>\n",
       "      <td>0.0</td>\n",
       "      <td>162.0</td>\n",
       "      <td>2.5</td>\n",
       "      <td>1040.0</td>\n",
       "      <td>676.0</td>\n",
       "      <td>28</td>\n",
       "      <td>79.99</td>\n",
       "    </tr>\n",
       "    <tr>\n",
       "      <th>1</th>\n",
       "      <td>540.0</td>\n",
       "      <td>0.0</td>\n",
       "      <td>0.0</td>\n",
       "      <td>162.0</td>\n",
       "      <td>2.5</td>\n",
       "      <td>1055.0</td>\n",
       "      <td>676.0</td>\n",
       "      <td>28</td>\n",
       "      <td>61.89</td>\n",
       "    </tr>\n",
       "    <tr>\n",
       "      <th>5</th>\n",
       "      <td>266.0</td>\n",
       "      <td>114.0</td>\n",
       "      <td>0.0</td>\n",
       "      <td>228.0</td>\n",
       "      <td>0.0</td>\n",
       "      <td>932.0</td>\n",
       "      <td>670.0</td>\n",
       "      <td>90</td>\n",
       "      <td>47.03</td>\n",
       "    </tr>\n",
       "    <tr>\n",
       "      <th>7</th>\n",
       "      <td>380.0</td>\n",
       "      <td>95.0</td>\n",
       "      <td>0.0</td>\n",
       "      <td>228.0</td>\n",
       "      <td>0.0</td>\n",
       "      <td>932.0</td>\n",
       "      <td>594.0</td>\n",
       "      <td>28</td>\n",
       "      <td>36.45</td>\n",
       "    </tr>\n",
       "    <tr>\n",
       "      <th>8</th>\n",
       "      <td>266.0</td>\n",
       "      <td>114.0</td>\n",
       "      <td>0.0</td>\n",
       "      <td>228.0</td>\n",
       "      <td>0.0</td>\n",
       "      <td>932.0</td>\n",
       "      <td>670.0</td>\n",
       "      <td>28</td>\n",
       "      <td>45.85</td>\n",
       "    </tr>\n",
       "    <tr>\n",
       "      <th>...</th>\n",
       "      <td>...</td>\n",
       "      <td>...</td>\n",
       "      <td>...</td>\n",
       "      <td>...</td>\n",
       "      <td>...</td>\n",
       "      <td>...</td>\n",
       "      <td>...</td>\n",
       "      <td>...</td>\n",
       "      <td>...</td>\n",
       "    </tr>\n",
       "    <tr>\n",
       "      <th>1025</th>\n",
       "      <td>276.4</td>\n",
       "      <td>116.0</td>\n",
       "      <td>90.3</td>\n",
       "      <td>179.6</td>\n",
       "      <td>8.9</td>\n",
       "      <td>870.1</td>\n",
       "      <td>768.3</td>\n",
       "      <td>28</td>\n",
       "      <td>44.28</td>\n",
       "    </tr>\n",
       "    <tr>\n",
       "      <th>1026</th>\n",
       "      <td>322.2</td>\n",
       "      <td>0.0</td>\n",
       "      <td>115.6</td>\n",
       "      <td>196.0</td>\n",
       "      <td>10.4</td>\n",
       "      <td>817.9</td>\n",
       "      <td>813.4</td>\n",
       "      <td>28</td>\n",
       "      <td>31.18</td>\n",
       "    </tr>\n",
       "    <tr>\n",
       "      <th>1027</th>\n",
       "      <td>148.5</td>\n",
       "      <td>139.4</td>\n",
       "      <td>108.6</td>\n",
       "      <td>192.7</td>\n",
       "      <td>6.1</td>\n",
       "      <td>892.4</td>\n",
       "      <td>780.0</td>\n",
       "      <td>28</td>\n",
       "      <td>23.70</td>\n",
       "    </tr>\n",
       "    <tr>\n",
       "      <th>1028</th>\n",
       "      <td>159.1</td>\n",
       "      <td>186.7</td>\n",
       "      <td>0.0</td>\n",
       "      <td>175.6</td>\n",
       "      <td>11.3</td>\n",
       "      <td>989.6</td>\n",
       "      <td>788.9</td>\n",
       "      <td>28</td>\n",
       "      <td>32.77</td>\n",
       "    </tr>\n",
       "    <tr>\n",
       "      <th>1029</th>\n",
       "      <td>260.9</td>\n",
       "      <td>100.5</td>\n",
       "      <td>78.3</td>\n",
       "      <td>200.6</td>\n",
       "      <td>8.6</td>\n",
       "      <td>864.5</td>\n",
       "      <td>761.5</td>\n",
       "      <td>28</td>\n",
       "      <td>32.40</td>\n",
       "    </tr>\n",
       "  </tbody>\n",
       "</table>\n",
       "<p>916 rows × 9 columns</p>\n",
       "</div>"
      ],
      "text/plain": [
       "      Cement  Blast Furnace Slag  Fly Ash  Water  Superplasticizer  \\\n",
       "0      540.0                 0.0      0.0  162.0               2.5   \n",
       "1      540.0                 0.0      0.0  162.0               2.5   \n",
       "5      266.0               114.0      0.0  228.0               0.0   \n",
       "7      380.0                95.0      0.0  228.0               0.0   \n",
       "8      266.0               114.0      0.0  228.0               0.0   \n",
       "...      ...                 ...      ...    ...               ...   \n",
       "1025   276.4               116.0     90.3  179.6               8.9   \n",
       "1026   322.2                 0.0    115.6  196.0              10.4   \n",
       "1027   148.5               139.4    108.6  192.7               6.1   \n",
       "1028   159.1               186.7      0.0  175.6              11.3   \n",
       "1029   260.9               100.5     78.3  200.6               8.6   \n",
       "\n",
       "      Coarse Aggregate  Fine Aggregate  Age  Strength  \n",
       "0               1040.0           676.0   28     79.99  \n",
       "1               1055.0           676.0   28     61.89  \n",
       "5                932.0           670.0   90     47.03  \n",
       "7                932.0           594.0   28     36.45  \n",
       "8                932.0           670.0   28     45.85  \n",
       "...                ...             ...  ...       ...  \n",
       "1025             870.1           768.3   28     44.28  \n",
       "1026             817.9           813.4   28     31.18  \n",
       "1027             892.4           780.0   28     23.70  \n",
       "1028             989.6           788.9   28     32.77  \n",
       "1029             864.5           761.5   28     32.40  \n",
       "\n",
       "[916 rows x 9 columns]"
      ]
     },
     "metadata": {},
     "output_type": "display_data"
    }
   ],
   "source": [
    "display(concrete_data.query('Water > 100 and Age < 100'))"
   ]
  },
  {
   "cell_type": "markdown",
   "metadata": {},
   "source": [
    "In general, `query` is very powerful and a useful tool for filtering and selecting data. It returns a DataFrame consisting of the rows of the original DataFrame that satisfy the boolean condition(s) passed. Read more in [the documentation](https://pandas.pydata.org/docs/reference/api/pandas.DataFrame.query.html)."
   ]
  },
  {
   "cell_type": "markdown",
   "metadata": {},
   "source": [
    "<div style=\"background-color:#C2F5DD\">\n",
    "\n",
    "### Exercise 3\n",
    "\n",
    "Using `query`, find concrete samples less than 30 days old and plot a histogram of the Strength, using 20 bins."
   ]
  },
  {
   "cell_type": "code",
   "execution_count": 25,
   "metadata": {},
   "outputs": [
    {
     "name": "stdout",
     "output_type": "stream",
     "text": [
      " There are 749 entries with age under 30\n",
      " There are 749 entries with age under 30\n"
     ]
    },
    {
     "data": {
      "text/plain": [
       "array([[<AxesSubplot:title={'center':'Strength'}>]], dtype=object)"
      ]
     },
     "execution_count": 25,
     "metadata": {},
     "output_type": "execute_result"
    },
    {
     "data": {
      "image/png": "[encoded data removed]",
      "text/plain": [
       "<Figure size 432x288 with 1 Axes>"
      ]
     },
     "metadata": {
      "needs_background": "light"
     },
     "output_type": "display_data"
    }
   ],
   "source": [
    "# As an example I print the number of rows selected by the query\n",
    "\n",
    "print(\" There are {} entries with age under 30\".format( len( concrete_data.query('Age < 30') ) ) )\n",
    "\n",
    "# You might see another way to do online this but it is harder to read\n",
    "print(\" There are {} entries with age under 30\".format( len( concrete_data.loc[ concrete_data['Age']< 30 ]  ) ) )\n",
    "\n",
    "# The histogram\n",
    "concrete_data.query('Age < 30').hist('Strength',bins = 20)\n"
   ]
  },
  {
   "cell_type": "markdown",
   "metadata": {},
   "source": [
    "<div style=\"background-color:#C2F5DD\">\n",
    "\n",
    "End of exercise 3"
   ]
  },
  {
   "cell_type": "markdown",
   "metadata": {},
   "source": [
    "One other very useful way to filter data is `groupby`\n",
    "* You can group by values in one column\n",
    "* Useful for datasets with categorical or discrete data in at least one column\n",
    "* Useful to process different data sets in one DataFrame quickly\n",
    "\n",
    "For example, with our concrete data we could group by the age and find the mean and standard deviation of the strength."
   ]
  },
  {
   "cell_type": "code",
   "execution_count": 26,
   "metadata": {},
   "outputs": [
    {
     "data": {
      "text/plain": [
       "Age\n",
       "1       9.455000\n",
       "3      18.981194\n",
       "7      26.050873\n",
       "14     28.750968\n",
       "28     36.748612\n",
       "56     51.890220\n",
       "90     40.480370\n",
       "91     69.808636\n",
       "100    47.668846\n",
       "120    39.646667\n",
       "180    41.730385\n",
       "270    51.272308\n",
       "360    40.696667\n",
       "365    43.557857\n",
       "Name: Strength, dtype: float64"
      ]
     },
     "metadata": {},
     "output_type": "display_data"
    },
    {
     "data": {
      "text/plain": [
       "Age\n",
       "1       4.504270\n",
       "3       9.863047\n",
       "7      14.583447\n",
       "14      8.638029\n",
       "28     14.711077\n",
       "56     14.308545\n",
       "90      9.819174\n",
       "91      7.697465\n",
       "100     8.401673\n",
       "120     1.104415\n",
       "180    10.929097\n",
       "270    10.644833\n",
       "360     4.171439\n",
       "365     9.620081\n",
       "Name: Strength, dtype: float64"
      ]
     },
     "metadata": {},
     "output_type": "display_data"
    }
   ],
   "source": [
    "means = concrete_data.groupby('Age')['Strength'].mean()\n",
    "stds = concrete_data.groupby('Age')['Strength'].std()\n",
    "\n",
    "display(means)\n",
    "display(stds)"
   ]
  },
  {
   "cell_type": "markdown",
   "metadata": {},
   "source": [
    "`groupby` is especially useful when you have a complex operation that you want to apply to different groups of data separately, but still quickly. \n",
    "\n",
    "You can define your own function to use in `groupby` as well. This is beyond the scope of this course but you can find more details about `groupby` in [the documentation](https://pandas.pydata.org/pandas-docs/stable/user_guide/groupby.html)."
   ]
  },
  {
   "cell_type": "markdown",
   "metadata": {},
   "source": [
    "We can find some useful summary statistics for each column using `describe`. This gives us the following statistics per column:\n",
    "\n",
    "* `count`: the number of entries in that column\n",
    "* `mean`: the mean value \n",
    "* `std`: the standard deviation \n",
    "* `min`: the minimum value\n",
    "* `25%`: the lower quartile value\n",
    "* `50%`: the median value\n",
    "* `75%`: the upper quartile value\n",
    "* `max`: the maximum value"
   ]
  },
  {
   "cell_type": "code",
   "execution_count": 27,
   "metadata": {},
   "outputs": [
    {
     "data": {
      "text/html": [
       "<div>\n",
       "<style scoped>\n",
       "    .dataframe tbody tr th:only-of-type {\n",
       "        vertical-align: middle;\n",
       "    }\n",
       "\n",
       "    .dataframe tbody tr th {\n",
       "        vertical-align: top;\n",
       "    }\n",
       "\n",
       "    .dataframe thead th {\n",
       "        text-align: right;\n",
       "    }\n",
       "</style>\n",
       "<table border=\"1\" class=\"dataframe\">\n",
       "  <thead>\n",
       "    <tr style=\"text-align: right;\">\n",
       "      <th></th>\n",
       "      <th>Cement</th>\n",
       "      <th>Blast Furnace Slag</th>\n",
       "      <th>Fly Ash</th>\n",
       "      <th>Water</th>\n",
       "      <th>Superplasticizer</th>\n",
       "      <th>Coarse Aggregate</th>\n",
       "      <th>Fine Aggregate</th>\n",
       "      <th>Age</th>\n",
       "      <th>Strength</th>\n",
       "    </tr>\n",
       "  </thead>\n",
       "  <tbody>\n",
       "    <tr>\n",
       "      <th>count</th>\n",
       "      <td>1030.000000</td>\n",
       "      <td>1030.000000</td>\n",
       "      <td>1030.000000</td>\n",
       "      <td>1030.000000</td>\n",
       "      <td>1030.000000</td>\n",
       "      <td>1030.000000</td>\n",
       "      <td>1030.000000</td>\n",
       "      <td>1030.000000</td>\n",
       "      <td>1030.000000</td>\n",
       "    </tr>\n",
       "    <tr>\n",
       "      <th>mean</th>\n",
       "      <td>281.167864</td>\n",
       "      <td>73.895825</td>\n",
       "      <td>54.188350</td>\n",
       "      <td>181.567282</td>\n",
       "      <td>6.204660</td>\n",
       "      <td>972.918932</td>\n",
       "      <td>773.580485</td>\n",
       "      <td>45.662136</td>\n",
       "      <td>35.817961</td>\n",
       "    </tr>\n",
       "    <tr>\n",
       "      <th>std</th>\n",
       "      <td>104.506364</td>\n",
       "      <td>86.279342</td>\n",
       "      <td>63.997004</td>\n",
       "      <td>21.354219</td>\n",
       "      <td>5.973841</td>\n",
       "      <td>77.753954</td>\n",
       "      <td>80.175980</td>\n",
       "      <td>63.169912</td>\n",
       "      <td>16.705742</td>\n",
       "    </tr>\n",
       "    <tr>\n",
       "      <th>min</th>\n",
       "      <td>102.000000</td>\n",
       "      <td>0.000000</td>\n",
       "      <td>0.000000</td>\n",
       "      <td>121.800000</td>\n",
       "      <td>0.000000</td>\n",
       "      <td>801.000000</td>\n",
       "      <td>594.000000</td>\n",
       "      <td>1.000000</td>\n",
       "      <td>2.330000</td>\n",
       "    </tr>\n",
       "    <tr>\n",
       "      <th>25%</th>\n",
       "      <td>192.375000</td>\n",
       "      <td>0.000000</td>\n",
       "      <td>0.000000</td>\n",
       "      <td>164.900000</td>\n",
       "      <td>0.000000</td>\n",
       "      <td>932.000000</td>\n",
       "      <td>730.950000</td>\n",
       "      <td>7.000000</td>\n",
       "      <td>23.710000</td>\n",
       "    </tr>\n",
       "    <tr>\n",
       "      <th>50%</th>\n",
       "      <td>272.900000</td>\n",
       "      <td>22.000000</td>\n",
       "      <td>0.000000</td>\n",
       "      <td>185.000000</td>\n",
       "      <td>6.400000</td>\n",
       "      <td>968.000000</td>\n",
       "      <td>779.500000</td>\n",
       "      <td>28.000000</td>\n",
       "      <td>34.445000</td>\n",
       "    </tr>\n",
       "    <tr>\n",
       "      <th>75%</th>\n",
       "      <td>350.000000</td>\n",
       "      <td>142.950000</td>\n",
       "      <td>118.300000</td>\n",
       "      <td>192.000000</td>\n",
       "      <td>10.200000</td>\n",
       "      <td>1029.400000</td>\n",
       "      <td>824.000000</td>\n",
       "      <td>56.000000</td>\n",
       "      <td>46.135000</td>\n",
       "    </tr>\n",
       "    <tr>\n",
       "      <th>max</th>\n",
       "      <td>540.000000</td>\n",
       "      <td>359.400000</td>\n",
       "      <td>200.100000</td>\n",
       "      <td>247.000000</td>\n",
       "      <td>32.200000</td>\n",
       "      <td>1145.000000</td>\n",
       "      <td>992.600000</td>\n",
       "      <td>365.000000</td>\n",
       "      <td>82.600000</td>\n",
       "    </tr>\n",
       "  </tbody>\n",
       "</table>\n",
       "</div>"
      ],
      "text/plain": [
       "            Cement  Blast Furnace Slag      Fly Ash        Water  \\\n",
       "count  1030.000000         1030.000000  1030.000000  1030.000000   \n",
       "mean    281.167864           73.895825    54.188350   181.567282   \n",
       "std     104.506364           86.279342    63.997004    21.354219   \n",
       "min     102.000000            0.000000     0.000000   121.800000   \n",
       "25%     192.375000            0.000000     0.000000   164.900000   \n",
       "50%     272.900000           22.000000     0.000000   185.000000   \n",
       "75%     350.000000          142.950000   118.300000   192.000000   \n",
       "max     540.000000          359.400000   200.100000   247.000000   \n",
       "\n",
       "       Superplasticizer  Coarse Aggregate  Fine Aggregate          Age  \\\n",
       "count       1030.000000       1030.000000     1030.000000  1030.000000   \n",
       "mean           6.204660        972.918932      773.580485    45.662136   \n",
       "std            5.973841         77.753954       80.175980    63.169912   \n",
       "min            0.000000        801.000000      594.000000     1.000000   \n",
       "25%            0.000000        932.000000      730.950000     7.000000   \n",
       "50%            6.400000        968.000000      779.500000    28.000000   \n",
       "75%           10.200000       1029.400000      824.000000    56.000000   \n",
       "max           32.200000       1145.000000      992.600000   365.000000   \n",
       "\n",
       "          Strength  \n",
       "count  1030.000000  \n",
       "mean     35.817961  \n",
       "std      16.705742  \n",
       "min       2.330000  \n",
       "25%      23.710000  \n",
       "50%      34.445000  \n",
       "75%      46.135000  \n",
       "max      82.600000  "
      ]
     },
     "execution_count": 27,
     "metadata": {},
     "output_type": "execute_result"
    }
   ],
   "source": [
    "concrete_data.describe()"
   ]
  },
  {
   "cell_type": "markdown",
   "metadata": {},
   "source": [
    "We can add a new column that is the sum of the total ingredients in each concrete sample, by summing the ingredient columns:"
   ]
  },
  {
   "cell_type": "code",
   "execution_count": 28,
   "metadata": {},
   "outputs": [],
   "source": [
    "concrete_data['Ingredient Total'] = concrete_data.loc[:,['Cement','Blast Furnace Slag','Fly Ash','Water','Superplasticizer','Coarse Aggregate','Fine Aggregate']].sum(axis = 1)"
   ]
  },
  {
   "cell_type": "markdown",
   "metadata": {},
   "source": [
    "Finally, we can save our updated data to a new Excel spreadsheet. "
   ]
  },
  {
   "cell_type": "code",
   "execution_count": 29,
   "metadata": {},
   "outputs": [],
   "source": [
    "concrete_data.to_excel('concrete_data_new.xlsx')"
   ]
  },
  {
   "cell_type": "markdown",
   "metadata": {},
   "source": [
    "<div style=\"background-color: #FFF8C6\">\n",
    "\n",
    "When we save structured data such as DataFrames or dictionaries to file, we must undergo a process called **data serialisation**. You don't in general need to know how this works, just that there are different methods. In Python, the default method is using the **pickle** module; if you ever save a dictionary to a .npy file using numpy, it implicitly uses pickle. This process is referred to as pickling the data. In several places you will be given data saved to a .npy file that is contained within a dictionary. To access this data, you will need the following call signature:\n",
    "\n",
    "`data = np.load('file/name',allow_pickle = True).item()`"
   ]
  },
  {
   "cell_type": "markdown",
   "metadata": {},
   "source": [
    "### Summary\n",
    "\n",
    "In this section we have seen some more pandas syntax, including: \n",
    "\n",
    "* loading and saving DataFrames from and to .csv files\n",
    "* querying DataFrames to use multiple Boolean conditions\n",
    "* Grouping data and finding summary statistics of each group\n",
    "* Finding total summary statistics of our dataset\n",
    "\n",
    "The following section will discuss how you can use `matplotlib` make good, clear plots of your data."
   ]
  },
  {
   "cell_type": "markdown",
   "metadata": {},
   "source": [
    "<hr style=\"border:2px solid gray\"> \n",
    "<a id='section5'></a>"
   ]
  },
  {
   "cell_type": "markdown",
   "metadata": {},
   "source": [
    "# Section Five: Data Visualisation [^](#outline)\n",
    "\n",
    "In data science, it is not enough just to display your DataFrames; instead, you need to visualise your data. To really understand your data, a good clear plot is key. In this section we recap some of the options available to you in `matplotlib`. In particular, we will emphasise producing **professional** looking plots, to make sure your results are as clear as they can be."
   ]
  },
  {
   "cell_type": "markdown",
   "metadata": {},
   "source": [
    "Both plots below are showing the same set of results from an experiment you might be familiar with: determining the acceleration due to gravity on earth $g$, from measuring the time period of oscillation of a simple pendulum as a function of length. These measurements should obey the standard simple pendulum equation:\n",
    "\n",
    "\\begin{equation*}\n",
    "T = 2\\pi\\sqrt{\\frac{L}{g}}\n",
    "\\end{equation*}\n",
    "where the symbols are defined as:\n",
    "* $T$ is the time period of oscillation and has units of $\\text{s}$\n",
    "* $L$ is the length of the pendulum and has units of $\\text{cm}$\n",
    "* $g$ is the acceleration due to graivy on Earth and has units of $\\text{m s}^{-2}$\n",
    "\n",
    "The aim of such an experiment is to determine a value for $g$, by fitting a straight line to $\\sqrt{L}$ against $T$ and finding the gradient.\n",
    "\n",
    "Which of these two plots is better?"
   ]
  },
  {
   "cell_type": "markdown",
   "metadata": {},
   "source": [
    "<table><tr>\n",
    "<td><img src=Week1_plots/default_pendulum.png align='center' height=400/></td>\n",
    "<td><img src=Week1_plots/example_pendulum.png align='center' height=400/></td>\n",
    "</tr></table>\n"
   ]
  },
  {
   "cell_type": "markdown",
   "metadata": {},
   "source": [
    "<!-- Hopefully, the answer should be obvious. There are many things you need to be aware of when making plots, such as:\n",
    "\n",
    "* Axis labels, including units\n",
    "* Font sizes of numbers of axes, labels, titles\n",
    "* Error bars\n",
    "* Plot resolution -->\n",
    "<!-- * Legends -->\n",
    "\n",
    "Hopefully, the answer should be obvious. The left plot is produced using just matplotlib's default formatting, while the right has been customised. The main things to consider when you are making plots are as follows:\n",
    "\n",
    "* Readibility: is the plot easy to read?\n",
    "* Clarity: is the information clearly conveyed?\n",
    "\n",
    "There are many factors that contribute to both of these, including but not limited to:\n",
    "\n",
    "* Axis labels, including units\n",
    "* Font sizes for labels, titles, numbers on axes\n",
    "* Error bars\n",
    "* Plot resolution\n",
    "* Legends\n",
    "\n",
    "and more. In this section we will recap the basics of matplotlib, and show you how you can make clear and professional-looking plots to visualise data.\n",
    "\n"
   ]
  },
  {
   "cell_type": "markdown",
   "metadata": {},
   "source": [
    "### Basics of matplotlib \n",
    "\n",
    "You will have seen matplotlib before in Years 1 and 2, so we will just very quickly recap some basics before we show you some examples of things to improve your plots. \n",
    "\n",
    "You can create plots very simply and very quickly if you want, by just importing `matplotlib.pyplot` and running e.g. `plt.plot`, as you can see in the cell below."
   ]
  },
  {
   "cell_type": "code",
   "execution_count": 30,
   "metadata": {},
   "outputs": [
    {
     "data": {
      "text/plain": [
       "[<matplotlib.lines.Line2D at 0x1aab303ca00>]"
      ]
     },
     "execution_count": 30,
     "metadata": {},
     "output_type": "execute_result"
    },
    {
     "data": {
      "image/png": "[encoded data removed]",
      "text/plain": [
       "<Figure size 432x288 with 1 Axes>"
      ]
     },
     "metadata": {
      "needs_background": "light"
     },
     "output_type": "display_data"
    }
   ],
   "source": [
    "import matplotlib.pyplot as plt\n",
    "import numpy as np\n",
    "\n",
    "X = np.linspace(-10,10,100)\n",
    "y = X**2\n",
    "\n",
    "plt.plot(X,y)"
   ]
  },
  {
   "cell_type": "markdown",
   "metadata": {},
   "source": [
    "This produces a very simple plot, using matplotlib default formatting. It is also often useful to display multiple plots side-by-side, above one another, or in an array. This can be done easily in matplotlib using the `plt.subplots` function. \n",
    "\n",
    "You call this function as `plt.subplots(m, n)`, which will produce a `Figure` with `Axes` arranged in a grid with `m` rows and `n` columns. \n",
    "\n",
    "This allows you to create common layouts of subplots quickly; see the example cell below."
   ]
  },
  {
   "cell_type": "code",
   "execution_count": 31,
   "metadata": {},
   "outputs": [
    {
     "data": {
      "text/plain": [
       "[<matplotlib.lines.Line2D at 0x1aab3181d50>]"
      ]
     },
     "execution_count": 31,
     "metadata": {},
     "output_type": "execute_result"
    },
    {
     "data": {
      "image/png": "[encoded data removed]",
      "text/plain": [
       "<Figure size 432x288 with 4 Axes>"
      ]
     },
     "metadata": {
      "needs_background": "light"
     },
     "output_type": "display_data"
    }
   ],
   "source": [
    "fig, axs = plt.subplots(2,2)\n",
    "axs[0,0].plot(X,X**2)\n",
    "axs[0,1].plot(X,X*np.sin(X))\n",
    "axs[1,0].plot(X,X*X*np.sin(X))\n",
    "axs[1,1].plot(X,X*X*X*np.sin(X)**2)"
   ]
  },
  {
   "cell_type": "markdown",
   "metadata": {},
   "source": [
    "Conveniently, we can access each subplot individually via `axs`, the array of `Axes` produced by `plt.subplots`. This allows us to individually modify each axis, e.g. setting axis labels or making specific plots. We can also use LaTeX in axis labels and titles, as you can see in the example below."
   ]
  },
  {
   "cell_type": "code",
   "execution_count": 32,
   "metadata": {},
   "outputs": [
    {
     "data": {
      "text/plain": [
       "Text(0, 0.5, '$X^3\\\\sin(X)$')"
      ]
     },
     "execution_count": 32,
     "metadata": {},
     "output_type": "execute_result"
    },
    {
     "data": {
      "image/png": "[encoded data removed]",
      "text/plain": [
       "<Figure size 432x288 with 4 Axes>"
      ]
     },
     "metadata": {
      "needs_background": "light"
     },
     "output_type": "display_data"
    }
   ],
   "source": [
    "fig, axs = plt.subplots(2,2)\n",
    "axs[0,0].plot(X,X**2)\n",
    "axs[0,1].plot(X,X*np.sin(X))\n",
    "axs[1,0].plot(X,X*X*np.sin(X))\n",
    "axs[1,1].plot(X,X*X*X*np.sin(X)**2)\n",
    "\n",
    "axs[0,0].set_ylabel('$X^2$')\n",
    "axs[0,1].set_ylabel('$X\\sin(X)$')\n",
    "axs[1,0].set_ylabel('$X^2\\sin(X)$')\n",
    "axs[1,1].set_ylabel('$X^3\\sin(X)$')"
   ]
  },
  {
   "cell_type": "markdown",
   "metadata": {},
   "source": [
    "The default plotting scheme is useful, but not ideal. Clearly, you can see that there are issues with overlapping the axis labels in subplots. One way we can get around this is using `fig.tight_layout()`, which gets matplotlib to automatically adjust spacing parameters to try to fit everything on the plot without overlaps. However, in general we may need to adjust placement of plots using `fig.subplots_adjust`, or by composing the position of subplots manually. See [the documentation](https://matplotlib.org/stable/tutorials/intermediate/tight_layout_guide.html) for more details."
   ]
  },
  {
   "cell_type": "code",
   "execution_count": 33,
   "metadata": {},
   "outputs": [
    {
     "data": {
      "image/png": "[encoded data removed]",
      "text/plain": [
       "<Figure size 432x288 with 4 Axes>"
      ]
     },
     "metadata": {
      "needs_background": "light"
     },
     "output_type": "display_data"
    }
   ],
   "source": [
    "fig, axs = plt.subplots(2,2)\n",
    "axs[0,0].plot(X,X**2)\n",
    "axs[0,1].plot(X,X*np.sin(X))\n",
    "axs[1,0].plot(X,X*X*np.sin(X))\n",
    "axs[1,1].plot(X,X*X*X*np.sin(X)**2)\n",
    "\n",
    "axs[0,0].set_ylabel('$X^2$')\n",
    "axs[0,1].set_ylabel('$X\\sin(X)$')\n",
    "axs[1,0].set_ylabel('$X^2\\sin(X)$')\n",
    "axs[1,1].set_ylabel('$X^3\\sin(X)$')\n",
    "\n",
    "fig.tight_layout()"
   ]
  },
  {
   "cell_type": "markdown",
   "metadata": {},
   "source": [
    "<div style=\"background-color: #FFF8C6\">\n",
    "\n",
    "While we define a `Figure` and `Axes` manually to customise things, they are implicitly created when you run `plt.plot`. You can access the most recently created `Figure` or `Axes` using the functions `plt.gcf()` and `plt.gca()`, standing for 'get current figure' and 'get current axes' respectively.\n",
    "\n",
    "How does running `plt.plot` correspond to us manually creating a `Figure` and `Axes`? The steps of `plt.plot(X,y)` depend on the current state, and is decided according to the following steps:\n",
    "\n",
    "* No existing `Figure` or `Axes`: define a `Figure`, add an `Axes`, and plot on that `Axes`. Equivalent to `plt.figure().add_subplot(111).plot(X,y)`\n",
    "\n",
    "* Existing `Figure`, but no existing `Axes`: add an `Axes` to the `Figure`, and plot on the new `Axes`. Equivalent to `plt.gcf().add_subplot(111).plot(X,y)`\n",
    "\n",
    "* Existing `Figure` and `Axes`: get the current (most recently created) `Axes` and plot on that `Axes`. Equivalent to `plt.gca().plot(X,y)`\n",
    "\n",
    "By manually defining our `Figure` and `Axes`, we have more freedom to compose plots how we wish. Having specific names for different `Axes` is particularly useful, as it allows us to specify which one we wish to plot or add a label to etc. \n",
    "\n",
    "More explanation of this can be found in the matplotlib [User Guide](https://matplotlib.org/stable/users/explain/api_interfaces.html)."
   ]
  },
  {
   "cell_type": "markdown",
   "metadata": {},
   "source": [
    "We can do more than just define an array of subplots, if we add axes manually. For example, we can add inset axes to a plot using `add_axes`:"
   ]
  },
  {
   "cell_type": "code",
   "execution_count": 34,
   "metadata": {},
   "outputs": [
    {
     "data": {
      "text/plain": [
       "[<matplotlib.lines.Line2D at 0x1aab356a2c0>]"
      ]
     },
     "execution_count": 34,
     "metadata": {},
     "output_type": "execute_result"
    },
    {
     "data": {
      "image/png": "[encoded data removed]",
      "text/plain": [
       "<Figure size 432x288 with 2 Axes>"
      ]
     },
     "metadata": {
      "needs_background": "light"
     },
     "output_type": "display_data"
    }
   ],
   "source": [
    "fig, ax = plt.subplots(1,1)\n",
    "ax.plot(X,X**2)\n",
    "ax_small = fig.add_axes([0.3,0.6,0.4,0.2])\n",
    "ax_small.plot(np.linspace(-2.5,2.5,100),np.sin(np.linspace(-2.5,2.5,100)**2))\n"
   ]
  },
  {
   "cell_type": "markdown",
   "metadata": {},
   "source": [
    "There are many things you can do to build sets of subplots. You can find more information in the [User Guide](https://matplotlib.org/stable/tutorials/intermediate/arranging_axes.html). \n"
   ]
  },
  {
   "cell_type": "markdown",
   "metadata": {},
   "source": [
    "<div style=\"background-color:#C2F5DD\">\n",
    "\n",
    "### Exercise 4\n",
    "\n",
    "Using `subplots`, produce an array of 6 plots for polynomials of order 1 to 6. Make sure of the following formatting points:\n",
    "\n",
    "* Make sure plots are nicely spaced\n",
    "* Label all axes\n"
   ]
  },
  {
   "cell_type": "code",
   "execution_count": 35,
   "metadata": {},
   "outputs": [
    {
     "data": {
      "image/png": "[encoded data removed]",
      "text/plain": [
       "<Figure size 432x288 with 6 Axes>"
      ]
     },
     "metadata": {
      "needs_background": "light"
     },
     "output_type": "display_data"
    }
   ],
   "source": [
    "# This does the trick but still isn't very nice. Maybe your solution was better?\n",
    "# We should really adjust the vertical scale e.g. using the figsize option but we will ook at this below.\n",
    "# You really need to at least three values marked on an axis to be able to see the scale \n",
    "# so the default settings fgor the size of the plots and the \"ticks\" on the axes are not \n",
    "# producing nice plots.\n",
    "# We will see more tricks we can use later and then improve these plots in a later exercise.\n",
    "\n",
    "fig, axs = plt.subplots(3,2)\n",
    "axs[0,0].plot(X,X)\n",
    "axs[0,1].plot(X,X*X)\n",
    "axs[1,0].plot(X,X*X*X)\n",
    "axs[1,1].plot(X,X*X*X*X)\n",
    "axs[2,0].plot(X,X*X*X*X*X)\n",
    "axs[2,1].plot(X,X*X*X*X*X*X)\n",
    "\n",
    "axs[0,0].set_ylabel('$X$')\n",
    "axs[0,1].set_ylabel('$X^2$')\n",
    "axs[1,0].set_ylabel('$X^3$')\n",
    "axs[1,1].set_ylabel('$X^4$')\n",
    "axs[2,0].set_ylabel('$X^5$')\n",
    "axs[2,1].set_ylabel('$X^6$')\n",
    "\n",
    "fig.tight_layout()"
   ]
  },
  {
   "cell_type": "markdown",
   "metadata": {},
   "source": [
    "<div style=\"background-color:#C2F5DD\">\n",
    "\n",
    "End of exercise 4"
   ]
  },
  {
   "cell_type": "markdown",
   "metadata": {},
   "source": [
    "### Histograms\n",
    "\n",
    "In data science you will often need to produce histograms, to look at the frequency of data points in different bins. Histogramming in Python is straightforward:\n",
    "\n",
    "* calculating bins and counts can be done using `np.histogram`\n",
    "* plotting a histogram is easy using `plt.hist` in matplotlib; implicitly, this uses `np.histogram` to calculate the values then effectively uses `bar` to plot the histogram.\n",
    "\n",
    "We can generate some random Gaussian data and plot that:"
   ]
  },
  {
   "cell_type": "code",
   "execution_count": 36,
   "metadata": {},
   "outputs": [
    {
     "data": {
      "text/plain": [
       "(array([2.0000e+00, 4.0000e+00, 5.1000e+01, 1.9400e+02, 6.4300e+02,\n",
       "        1.8540e+03, 4.4190e+03, 8.3540e+03, 1.2998e+04, 1.6568e+04,\n",
       "        1.7734e+04, 1.5142e+04, 1.0790e+04, 6.4090e+03, 3.1350e+03,\n",
       "        1.2070e+03, 3.7600e+02, 9.6000e+01, 2.2000e+01, 2.0000e+00]),\n",
       " array([-1.29732825, -1.07367908, -0.85002992, -0.62638076, -0.40273159,\n",
       "        -0.17908243,  0.04456673,  0.2682159 ,  0.49186506,  0.71551422,\n",
       "         0.93916339,  1.16281255,  1.38646171,  1.61011088,  1.83376004,\n",
       "         2.05740921,  2.28105837,  2.50470753,  2.7283567 ,  2.95200586,\n",
       "         3.17565502]),\n",
       " <BarContainer object of 20 artists>)"
      ]
     },
     "execution_count": 36,
     "metadata": {},
     "output_type": "execute_result"
    },
    {
     "data": {
      "image/png": "[encoded data removed]",
      "text/plain": [
       "<Figure size 432x288 with 1 Axes>"
      ]
     },
     "metadata": {
      "needs_background": "light"
     },
     "output_type": "display_data"
    }
   ],
   "source": [
    "x_data = np.random.normal(loc = 1, scale = 0.5, size = 100000)\n",
    "\n",
    "plt.hist(x_data,bins = 20)"
   ]
  },
  {
   "cell_type": "markdown",
   "metadata": {},
   "source": [
    "Notice before the plot, the Jupyter Notebook output shows two arrays; these are the counts in each bin and the bin edges respectively. If you want to be able to use this data later, it is useful to assign it to variables. The third object returned by `plt.hist` is the array of artists that are on the plot, one corresponding to each bin.\n",
    "\n",
    "We can also manually specify bins rather than just requesting a specific number of bins. It is also useful to pass the `edgecolor` parameter to `plt.hist`, as this makes it easier to see the distinction between different bins:"
   ]
  },
  {
   "cell_type": "code",
   "execution_count": 37,
   "metadata": {},
   "outputs": [
    {
     "data": {
      "image/png": "[encoded data removed]",
      "text/plain": [
       "<Figure size 432x288 with 1 Axes>"
      ]
     },
     "metadata": {
      "needs_background": "light"
     },
     "output_type": "display_data"
    }
   ],
   "source": [
    "bins = [-4,-0.25,0,0.5,1,1.5,1.75,2.5,3]\n",
    "\n",
    "counts, bins, patches = plt.hist(x_data,bins = bins,edgecolor='black')"
   ]
  },
  {
   "cell_type": "markdown",
   "metadata": {},
   "source": [
    "You can also specify the alpha value of a histogram, which determines the transparency. This allows you to plot two histograms on top of one-another:"
   ]
  },
  {
   "cell_type": "code",
   "execution_count": 38,
   "metadata": {},
   "outputs": [
    {
     "data": {
      "text/plain": [
       "<matplotlib.legend.Legend at 0x1aab340f520>"
      ]
     },
     "execution_count": 38,
     "metadata": {},
     "output_type": "execute_result"
    },
    {
     "data": {
      "image/png": "[encoded data removed]",
      "text/plain": [
       "<Figure size 432x288 with 1 Axes>"
      ]
     },
     "metadata": {
      "needs_background": "light"
     },
     "output_type": "display_data"
    }
   ],
   "source": [
    "x_data2 = np.random.normal(loc = -1,scale = 1.5, size = 100000)\n",
    "\n",
    "bins = np.linspace(-5,5,100)\n",
    "\n",
    "# the alpha parameter is the transparency, between 0% (opaque) to 100% (totally transparent)\n",
    "counts_1, bins, patches_1 = plt.hist(x_data, bins = bins, edgecolor='black', label = 'Dataset 1',alpha = 0.5)\n",
    "counts_2, bins, patches_2 = plt.hist(x_data2,bins = bins, edgecolor='black', label = 'Dataset 2',alpha = 0.5)\n",
    "\n",
    "plt.xlabel('X')\n",
    "plt.ylabel('Frequency')\n",
    "plt.legend(loc='best')"
   ]
  },
  {
   "cell_type": "markdown",
   "metadata": {},
   "source": [
    "Finally, if you have calculated histogram bins and counts per bin using `np.histogram`, you can plot them easily in a number of ways:"
   ]
  },
  {
   "cell_type": "code",
   "execution_count": 39,
   "metadata": {},
   "outputs": [
    {
     "data": {
      "image/png": "[encoded data removed]",
      "text/plain": [
       "<Figure size 864x288 with 3 Axes>"
      ]
     },
     "metadata": {
      "needs_background": "light"
     },
     "output_type": "display_data"
    }
   ],
   "source": [
    "fig, axs = plt.subplots(1,3,figsize = (12,4))\n",
    "\n",
    "counts, bins = np.histogram(x_data, bins = 100)\n",
    "\n",
    "axs[0].stairs(counts, bins)\n",
    "axs[0].set_title('plt.stairs',fontsize = 20)\n",
    "axs[0].set_xlabel('X')\n",
    "axs[0].set_ylabel('Frequency')\n",
    "\n",
    "axs[1].bar((bins[1:]+bins[:-1])/2,counts,width = np.diff(bins))\n",
    "axs[1].set_title('plt.bar',fontsize = 20)\n",
    "axs[1].set_xlabel('X')\n",
    "axs[1].set_ylabel('Frequency')\n",
    "\n",
    "axs[2].hist(bins[:-1], bins, weights = counts)\n",
    "axs[2].set_title('plt.hist using \\n weights = counts',fontsize = 20)\n",
    "axs[2].set_xlabel('X')\n",
    "axs[2].set_ylabel('Frequency')\n",
    "\n",
    "fig.tight_layout()"
   ]
  },
  {
   "cell_type": "markdown",
   "metadata": {},
   "source": [
    "You can see more information in the matplotlib [documentation](https://matplotlib.org/stable/api/_as_gen/matplotlib.pyplot.hist.html)."
   ]
  },
  {
   "cell_type": "markdown",
   "metadata": {},
   "source": [
    "<div style=\"background-color:#C2F5DD\">\n",
    "\n",
    "### Exercise 5\n",
    "\n",
    "Using the concrete dataset from the previous section, perform the following actions:\n",
    "\n",
    "* Use `query` to find all rows with Age $\\lt 30$, and another `query` to separately find all rows with Age $\\geq 30$.\n",
    "* Plot a histogram of Strength for these two DataFrames on the same axes. Make sure to use the same bins for both of them. \n",
    "    \n",
    "Note we will return to these histograms later to imporve these plots.    "
   ]
  },
  {
   "cell_type": "code",
   "execution_count": 40,
   "metadata": {},
   "outputs": [
    {
     "name": "stdout",
     "output_type": "stream",
     "text": [
      "Concrete strength, age < 30\n",
      "count    749.000000\n",
      "mean      31.035407\n",
      "std       15.233631\n",
      "min        2.330000\n",
      "25%       19.420000\n",
      "50%       29.730000\n",
      "75%       39.460000\n",
      "max       81.750000\n",
      "Name: Strength, dtype: float64\n",
      "\n",
      "Concrete strength, age >= 30\n",
      "count    281.000000\n",
      "mean      48.565765\n",
      "std       13.468959\n",
      "min       21.860000\n",
      "25%       39.000000\n",
      "50%       46.930000\n",
      "75%       56.340000\n",
      "max       82.600000\n",
      "Name: Strength, dtype: float64\n"
     ]
    }
   ],
   "source": [
    "# Define the two DataFrames using query\n",
    "\n",
    "df_lt_30 = concrete_data.query('Age < 30')\n",
    "df_geq_30 = concrete_data.query('Age >= 30')\n",
    "\n",
    "# It would be useful to know the largest and smallest strength values so we can choose bins\n",
    "print(\"Concrete strength, age < 30\")\n",
    "print(df_lt_30['Strength'].describe())\n",
    "\n",
    "print(\"\\nConcrete strength, age >= 30\")\n",
    "print(df_geq_30['Strength'].describe())\n",
    "\n"
   ]
  },
  {
   "cell_type": "code",
   "execution_count": 41,
   "metadata": {},
   "outputs": [
    {
     "data": {
      "text/plain": [
       "<matplotlib.legend.Legend at 0x1aab34ab1c0>"
      ]
     },
     "execution_count": 41,
     "metadata": {},
     "output_type": "execute_result"
    },
    {
     "data": {
      "image/png": "[encoded data removed]",
      "text/plain": [
       "<Figure size 432x288 with 1 Axes>"
      ]
     },
     "metadata": {
      "needs_background": "light"
     },
     "output_type": "display_data"
    }
   ],
   "source": [
    "# Make the plot, note how we can control the size opf the plot (in inches)\n",
    "fig, axs = plt.subplots(1,1,figsize = (6,4))\n",
    "\n",
    "# Saw the min and max are roughly 0 to 80 so 40 bins so size  maybe?  \n",
    "# Can always try other values to see what works.\n",
    "bins = np.linspace(0,84,43) # last argument is number of intervals but these are the edges of the bins\n",
    "\n",
    "\n",
    "# the alpha parameter is the transparency, between 0% (opaque) to 100% (totally transparent)\n",
    "plt.hist(df_lt_30['Strength'] , bins = bins, edgecolor='black', label ='Age < 30',  alpha = 0.5)\n",
    "plt.hist(df_geq_30['Strength'], bins = bins, edgecolor='black', label ='Age >= 30', alpha = 0.5)\n",
    "\n",
    "plt.xlabel('Strength')\n",
    "plt.ylabel('Frequency')\n",
    "plt.legend(loc='best')"
   ]
  },
  {
   "cell_type": "markdown",
   "metadata": {},
   "source": [
    "<div style=\"background-color:#C2F5DD\">\n",
    "\n",
    "End of exercise 5"
   ]
  },
  {
   "cell_type": "markdown",
   "metadata": {},
   "source": [
    "### How to make a professional looking plot\n",
    "\n",
    "So far we have talked about how you can build plots, but we also want to talk about how to make plots look good. Namely, how we can present information clearly and precisely to somebody else looking at our plots. A good plot can do the work of paragraphs of explanation, so it is important to understand how we can best visualise our data.\n",
    "\n",
    "There are many things to consider when it comes to making a good looking plot:\n",
    "\n",
    "* Colours: do the colours you have used look the same or do they complement each other? Are they sufficiently contrasting to be easy to look at? Can people with colour blindness see the difference?\n",
    "* Shapes: would it help to use different types of line (continuous, dashed, dots) or different shaped points (circles, squares)?\n",
    "* Size: is the `Figure` big enough for everything on the plot? Are the font sizes for labels, titles and tick labels large enough to read? \n",
    "* Labels: are your labels clear? Do they describe your axes? Do they have units?\n",
    "* Clarity: how easy is it to read values off of the plot? Have you hidden some points underneath something else?\n",
    "\n",
    "In this section, you will see how you can go from the default matplotlib formatting to the custom formatted plot you saw above. \n",
    "\n"
   ]
  },
  {
   "cell_type": "markdown",
   "metadata": {},
   "source": [
    "#### Basic plot first\n",
    "The data for the plots shown above can be loaded from the .npy file, \"pendulum_data.npy\". This is a dictionary, containing:\n",
    "* Measurements of pendulum length, in $\\text{cm}$\n",
    "* Measurements of pendulum time period, in $\\text{s}$\n",
    "* The measured value of $g$, the acceleration due to gravity on Earth, from a fit to the data, in $\\text{ms}^{-2}$\n",
    "* The uncertainty on this measured value of $g$, in $\\text{ms}^{-2}$\n",
    "* The uncertainty in length measurements, in $\\text{cm}$\n",
    "* The uncertainty in time period measurements, in $\\text{s}$\n",
    "\n",
    "Note: The data was fitted with a linear relationship between the period $T$ and $\\sqrt{L}$, the square root of the pendulum length. $g$ is inversely proportional to the square of the gradient of this linear model. Fit parameters were calculated using `iminuit`, a library you will see in Week 4 of this course."
   ]
  },
  {
   "cell_type": "code",
   "execution_count": 42,
   "metadata": {},
   "outputs": [],
   "source": [
    "pendulum_data = np.load('pendulum_data.npy',allow_pickle = True).item()\n",
    "\n",
    "X = pendulum_data['length']\n",
    "y = pendulum_data['period']\n",
    "g = pendulum_data['g']\n",
    "sig_g = pendulum_data['sig_g']\n",
    "xerr = pendulum_data['length_err']\n",
    "yerr = pendulum_data['period_err']"
   ]
  },
  {
   "cell_type": "markdown",
   "metadata": {},
   "source": [
    "To start with, we will use the matplotlib defaults and do a simple plot of our data, its error, and the fit, with descriptive labels on each axis. We will also include a simple legend."
   ]
  },
  {
   "cell_type": "code",
   "execution_count": 43,
   "metadata": {},
   "outputs": [
    {
     "data": {
      "text/plain": [
       "<matplotlib.legend.Legend at 0x1aab4c9ff10>"
      ]
     },
     "execution_count": 43,
     "metadata": {},
     "output_type": "execute_result"
    },
    {
     "data": {
      "image/png": "[encoded data removed]",
      "text/plain": [
       "<Figure size 432x288 with 1 Axes>"
      ]
     },
     "metadata": {
      "needs_background": "light"
     },
     "output_type": "display_data"
    }
   ],
   "source": [
    "plt.errorbar(X, y, xerr = xerr, yerr = yerr, fmt = '.',label='Data')\n",
    "plt.xlabel('Length [cm]')\n",
    "plt.ylabel('Period [s]')\n",
    "plt.title('Simple pendulum')\n",
    "plt.plot(X, 2*np.pi*np.sqrt(X/100/g),label = 'Fit') # Dividing X by 100 because it is currently in cm, but needs to be in m for the formula\n",
    "plt.legend(loc='upper left')\n"
   ]
  },
  {
   "cell_type": "markdown",
   "metadata": {},
   "source": [
    "This plot conveys the most basic information: your measurements, their uncertainty, and shows the line that has been fitted to the data. However, there are a few issues:\n",
    "\n",
    "* Font sizes for labels and titles are small compared to the graph\n",
    "* No labelling of your fit parameters\n",
    "* Colours are just matplotlib default; we can do better\n",
    "* It can be a bit difficult to read values in between the main labels\n",
    "\n",
    "We will tackle each of these in turn."
   ]
  },
  {
   "cell_type": "markdown",
   "metadata": {},
   "source": [
    "#### Increase the size of text elements\n",
    "Firstly, it is easy to increase the fontsize of axis labels, titles, and tick labels:"
   ]
  },
  {
   "cell_type": "code",
   "execution_count": 44,
   "metadata": {},
   "outputs": [
    {
     "data": {
      "image/png": "[encoded data removed]",
      "text/plain": [
       "<Figure size 432x288 with 1 Axes>"
      ]
     },
     "metadata": {
      "needs_background": "light"
     },
     "output_type": "display_data"
    }
   ],
   "source": [
    "plt.errorbar(X, y, xerr = xerr, yerr = yerr, fmt = '.',label='Data')\n",
    "plt.xlabel('Length [cm]',fontsize = 16)\n",
    "plt.ylabel('Period [s]',fontsize= 16)\n",
    "plt.title('Simple pendulum',fontsize= 20)\n",
    "plt.plot(X, 2*np.pi*np.sqrt(X/100/g),label = 'Fit')\n",
    "plt.legend(loc='upper left',fontsize = 12)\n",
    "plt.tick_params(axis='both',labelsize = 12) # changes the fontsize of the numbers on the axes\n"
   ]
  },
  {
   "cell_type": "markdown",
   "metadata": {},
   "source": [
    "We can improve the legend entry for the fit, by using formatted strings. \n",
    "\n",
    "You will also see that currently the fit is in the legend before the data, despite the fact that we plot the data before the fit. This is because matplotlib has a default priority for how handles are ordered in legends; first it orders by type of plot, then by order plotted. As a result, output from `plot` is always plotted before `scatter` or `errorbar`, for example. We have to manually specify the legend order to get around this.\n",
    "\n",
    "To make things easier, we will move to manually defining a figure and an axis."
   ]
  },
  {
   "cell_type": "code",
   "execution_count": 45,
   "metadata": {},
   "outputs": [
    {
     "data": {
      "image/png": "[encoded data removed]",
      "text/plain": [
       "<Figure size 432x288 with 1 Axes>"
      ]
     },
     "metadata": {
      "needs_background": "light"
     },
     "output_type": "display_data"
    }
   ],
   "source": [
    "# Note a slightly different way to define figure and axes from the style \n",
    "# fig, axs = plt.subplots(1,1,figsize = (6,4))\n",
    "# used above. \n",
    "fig = plt.figure(figsize = (6,4)) # set a figure size similar to the default\n",
    "\n",
    "# Note that fig.add_subplot(235) means adding plot 5 in a 2x3 grid index.\n",
    "# Another format we will use later is fig.add_subplot(2,3,5) \n",
    "ax = fig.add_subplot(111) # add a 1x1 grid with index 1\n",
    "\n",
    "ax.errorbar(X, y, xerr = xerr, yerr = yerr, fmt = '.',label='Data')\n",
    "ax.set_xlabel('Length [cm]',fontsize = 16)\n",
    "ax.set_ylabel('Period [s]',fontsize= 16)\n",
    "ax.set_title('Simple pendulum',fontsize= 20)\n",
    "\n",
    "# Now show the fitted equation in the label for the fit \n",
    "ax.plot(X, 2*np.pi*np.sqrt(X/100/g),label = 'Fit g = {:.2f} $\\pm$ {:.2f} ms$^{{-2}}$'.format(g, sig_g))\n",
    "\n",
    "\n",
    "# A more sophisticated way to arrange legend, not usre it is any better here!\n",
    "handles, labels = ax.get_legend_handles_labels() # Get the list of handles and labels of all plots in the Axes\n",
    "ax.legend(handles[::-1],labels[::-1],loc='upper left',fontsize = 12) # Manually specify legend handles & labels; opposite order to default here\n",
    "\n",
    "\n",
    "ax.tick_params(axis='both',labelsize = 12)\n"
   ]
  },
  {
   "cell_type": "markdown",
   "metadata": {},
   "source": [
    "The choice of the label for the fit is what is key here. The line is as follows:\n",
    "\n",
    "`label = 'Fit g = {:.2f} $\\pm$ {:.2f} ms$^{{-2}}$'.format(g, sig_g)`\n",
    "\n",
    "The '{}'.format(a) notation is the preferred notation in matplotlib to format your strings with variables. Essentially, `format` looks through your string for '{}' instances and inserts the variables you pass through `format` into those positions in your string. For example:"
   ]
  },
  {
   "cell_type": "code",
   "execution_count": 46,
   "metadata": {},
   "outputs": [
    {
     "data": {
      "text/plain": [
       "'g = 9.916196929486013'"
      ]
     },
     "execution_count": 46,
     "metadata": {},
     "output_type": "execute_result"
    }
   ],
   "source": [
    "'g = {}'.format(g)"
   ]
  },
  {
   "cell_type": "markdown",
   "metadata": {},
   "source": [
    "We can improve the formatting of the variables passed by placing formatting arguments inside the {}. For example, to format float values to have 2 decimal places, we can use `{:.2f}`:"
   ]
  },
  {
   "cell_type": "code",
   "execution_count": 47,
   "metadata": {},
   "outputs": [
    {
     "data": {
      "text/plain": [
       "'g = 9.92'"
      ]
     },
     "execution_count": 47,
     "metadata": {},
     "output_type": "execute_result"
    }
   ],
   "source": [
    "'g = {:.2f}'.format(g)"
   ]
  },
  {
   "cell_type": "markdown",
   "metadata": {},
   "source": [
    "There are many ways you can format strings. You can find some more information on this in the [Python documentation](https://docs.python.org/3/library/string.html#format-string-syntax)."
   ]
  },
  {
   "cell_type": "markdown",
   "metadata": {},
   "source": [
    "#### Improving the look\n",
    "The next step is to improve the aesthetics of our plot. We are going to change/add\n",
    "\n",
    "* Colours\n",
    "* Error bars caps\n",
    "* A grid\n",
    "* Minor ticks\n",
    "* Other tick formatting"
   ]
  },
  {
   "cell_type": "code",
   "execution_count": 48,
   "metadata": {},
   "outputs": [
    {
     "data": {
      "image/png": "[encoded data removed]",
      "text/plain": [
       "<Figure size 432x288 with 1 Axes>"
      ]
     },
     "metadata": {
      "needs_background": "light"
     },
     "output_type": "display_data"
    }
   ],
   "source": [
    "fig = plt.figure(figsize = (6,4)) # set a figure size similar to the default\n",
    "ax = fig.add_subplot(111)\n",
    "\n",
    "# If you want a grid, make sure you add this first.\n",
    "ax.grid() # Make sure we add the grid before our other plots, otherwise it will be displayed on top of other elements\n",
    "\n",
    "ax.errorbar(X, y, xerr = xerr, yerr = yerr, fmt = '.',label='Data',color='#D55E00',capsize = 3)\n",
    "ax.set_xlabel('Length [cm]',fontsize = 16)\n",
    "ax.set_ylabel('Period [s]',fontsize= 16)\n",
    "ax.set_title('Simple pendulum',fontsize= 20)\n",
    "ax.plot(X, 2*np.pi*np.sqrt(X/100/g),label = 'Fit g = {:.2f} $\\pm$ {:.2f} ms$^{{-2}}$'.format(g, sig_g),color='black')\n",
    "\n",
    "handles, labels = ax.get_legend_handles_labels()\n",
    "\n",
    "ax.legend(handles[::-1],labels[::-1],loc='upper left',fontsize = 12, framealpha = 1) # Framealpha prevents grid lines from showing through legend\n",
    "\n",
    "ax.tick_params(axis='both',labelsize = 12, direction='in',top = True, right = True, which='both')\n",
    "\n",
    "# These next three lines make more sophisticated ticks on the axes\n",
    "# I would normally put imports at the start but I place this import just before I use the imported methods.\n",
    "from matplotlib.ticker import MultipleLocator # makes placing ticks easier; can put major/minor ticks at fixed multiples\n",
    "\n",
    "ax.xaxis.set_minor_locator(MultipleLocator(0.5)) # tells it to place the small ticks every 0.5 on the horizontal axis\n",
    "ax.yaxis.set_minor_locator(MultipleLocator(0.02)) # tells it to place the small ticks every 0.02 on the vertical axis\n",
    "\n",
    "\n",
    "\n"
   ]
  },
  {
   "cell_type": "markdown",
   "metadata": {},
   "source": [
    "Suddenly, with a bit of formatting, our plot looks a lot nicer. We will quickly break down each step of this."
   ]
  },
  {
   "cell_type": "markdown",
   "metadata": {},
   "source": [
    "**Colour** choice is very important, especially when you are showing multiple things at once:\n",
    "* Python talks American English so it uses `color` as a keyword\n",
    "* Colours need to contrast enough to be clearly distinguishable \n",
    "* Colours need to be easy to look at together, i.e. not too much contrast\n",
    "\n",
    "You always have seven basic colours indicated by basic letters `r`, `g`, `b` (blue), `c`, `m`, `y`, `w` and `k` (black). You can specify any colour using RGB codes so `color='#D55E00'` indicates a RGB code in hex (indicated by the `#` in the string). There are many sets of predefined colours which you can import from matplotlib but I would find a set that works for you and stick with that. \n",
    "\n"
   ]
  },
  {
   "cell_type": "markdown",
   "metadata": {},
   "source": [
    "The **ticks on the axes** are the lines on the axes used to indicate the different values. The ticks can be changed in many ways using the function `ax.tick_params` including:\n",
    "\n",
    "* Tick labelsize (as we have done before)\n",
    "* Direction of ticks\n",
    "* Ticks on top and right edges of the plot\n",
    "\n",
    "We can also separately adjust major and minor ticks, and ticks on each axis, through the `which` and `axis` arguments respectively.\n",
    "\n",
    "You can set ticks manually, using `ax.set_xticks` and `ax.set_yticks`. However, matplotlib also implements a number of objects in `matplotlib.ticker` for \"smart\" tick placement, such as:\n",
    "\n",
    "* `MultipleLocator`: places ticks at every multiple of a given number\n",
    "* `LogLocator`: places ticks at powers of a given base, e.g. base 10 produces ticks at each power of 10\n",
    "* `MaxNLocator`: place a maximum of N ticks at \"nice\" locations\n",
    "\n",
    "You can use these for either major or minor ticks through `ax.xaxis.set_major_locator` and `ax.xaxis.set_minor_locator` for the x-axis and `ax.yaxis.set_major_locator` and `ax.yaxis.set_minor_locator` for the y-axis."
   ]
  },
  {
   "cell_type": "markdown",
   "metadata": {},
   "source": [
    "Adding a **grid** is very useful for reading values off of the plot. It is important to plot the grid first so you don't draw over your plot. Similarly the `framealpha` argument for the legend allows you to remove the transparency of the legend so the grid does not show through the legend."
   ]
  },
  {
   "cell_type": "markdown",
   "metadata": {},
   "source": [
    "Changing the **shape** of symbols for data points (points, circles, squares etc) or the **type of line** (continuous, dashed etc.) can be an effective way to show multiple sets of data on the same plot independent of colour e.g. works in a black and white printout, helps if colours are washed out by a poor projector, helps people with different visual perception. We don't need this here as we only have one line and one set of data. \n",
    "\n",
    "Currently the `fmt = '.'` is setting the symbol used for the data points in the `errorbar` command but the default setting (a continuous line) is used in the `plot` command. "
   ]
  },
  {
   "cell_type": "markdown",
   "metadata": {},
   "source": [
    "### Image file issues"
   ]
  },
  {
   "cell_type": "markdown",
   "metadata": {},
   "source": [
    "The physical **size of the plot** is controlled the `figsize` parameter to `plt.figure` and by default it is in **inches** (other length units are also possible). So `fig = plt.figure(figsize = (6.4,4.8))` will give a figure that is 6.4 inches wide and 4.8 inches high which happens are the default values used if you do not specify a figure size. Sometimes you may want a square shape so this is where you can force that. "
   ]
  },
  {
   "cell_type": "markdown",
   "metadata": {},
   "source": [
    "There are two main **types of image file**: vector format files and raster format files. In matplotlib, the format of the file is set by the file extension of the filename you use when saving the file. For example `plt.savefig('myimage.png')` saves the image in `png` format' while `plt.savefig('myimage.pdf')` saves the file in `pdf` format."
   ]
  },
  {
   "cell_type": "markdown",
   "metadata": {},
   "source": [
    "In **vector image formats** the file stores commands and the image is drawn using these commands each time it is displayed.  \n",
    "* The main advantage is that images in vector format can be rescaled by arbitrary amounts without any loss in quality. These formats are the preferred option for many formal contexts such as academic journals and other professional printers.\n",
    "* More informal contexts, e.g. social media, are unlikely to accept vector formats. `Word` is also poor at handling these formats. \n",
    "* If you have very many items to draw, e.g.\\ you have a scatter plot of one million elements from an experiment, this format produces very large files that take far too long to display. \n",
    "* The most popular examples vector format files are `pdf` (proprietry but most widely accepted) and `svg` (widely used open source format and human readable).  "
   ]
  },
  {
   "cell_type": "markdown",
   "metadata": {},
   "source": [
    "In **raster image formats** the image is stored as a series of dots called \"pixels\" in a rectangular grid. \n",
    "* Raster format images often look terrible if you rescale by an arbitrary amount especially if enlarging them. This is why a screen shot of an image from a book that you use in a student report can look slightly blurred at edges. So try not to rescale these images if you can. \n",
    "* These files are widely accepted in informal contexts and so are the simplest to use.\n",
    "* These formats have a resolution parameter which we discuss below.  High resolution can produce extremely big files.\n",
    "* Common formats are `jpg` (proprietry) and `png`. These formats use compression to produce smaller files. \n",
    "\n",
    "For any raster format files you must specify the **resolution** in terms of `dpi` dots-per-inch.  This is controlled by the dots(pixels)-per-inch, the `dpi` parameter in a `plt.figure` command (see below).\n",
    "\n",
    "The actual size of the raster image in pixels, is then the product of the figure size in (the `figsize` parameter to `plt.figure`), and the dpi. \n",
    "\n",
    "One of the ways to improve the quality of raster file formats, to allow some rescaling, is to use is to use a much nigher resolution (and hence a much larger files sizes). Academic journals might ask for 1200dpi, a typical home printer might print at 300dpi or 600dpi. The default in matplotlib is 100dpi which is fine for most electronic presentations e.g. powerpoint, web pages. \n",
    "\n",
    "As almost any output device is also using a raster format, printing or displaying individual pixels. So the precise relationship of the number of pixels from the image displayed in one pixel in the output device is not trivial to work out.\n"
   ]
  },
  {
   "cell_type": "markdown",
   "metadata": {},
   "source": [
    "#### Demonstration of image file issues \n",
    "\n",
    "We can demonstrate this by making the same plot twice, saving it, and displaying them at the same height using a Markdown cell. Run the following two code cells, then the Markdown cell after that."
   ]
  },
  {
   "cell_type": "code",
   "execution_count": 49,
   "metadata": {},
   "outputs": [],
   "source": [
    "fig = plt.figure(figsize = (3,2)) # 3 inches wide, 2 inches high with default 100 pixels per inch,\n",
    "ax = fig.add_subplot(111)\n",
    "ax.grid() \n",
    "\n",
    "ax.errorbar(X, y, xerr = xerr, yerr = yerr, fmt = '.',label='Data',color='#D55E00',capsize = 1.5,ms = 1.5, elinewidth = 1,capthick = 1)\n",
    "ax.set_xlabel('Length [cm]',fontsize = 8)\n",
    "ax.set_ylabel('Period [s]',fontsize= 8)\n",
    "ax.set_title('Simple pendulum',fontsize= 10)\n",
    "ax.plot(X, 2*np.pi*np.sqrt(X/100/g),label = 'Fit g = {:.2f} $\\pm$ {:.2f} ms$^{{-2}}$'.format(g, sig_g),color='black')\n",
    "\n",
    "handles, labels = ax.get_legend_handles_labels()\n",
    "\n",
    "ax.legend(handles[::-1],labels[::-1],loc='upper left',fontsize = 6, framealpha = 1) \n",
    "\n",
    "ax.tick_params(axis='both',labelsize = 6, direction='in',top = True, right = True, which='both')\n",
    "\n",
    "ax.xaxis.set_minor_locator(MultipleLocator(0.5))\n",
    "ax.yaxis.set_minor_locator(MultipleLocator(0.02))\n",
    "\n",
    "fig.tight_layout()\n",
    "plt.savefig('pendulum_dpi_100_small.png') # 100 pixels per inch, so should be 1800 pixels by 1200 pixels \n",
    "plt.close()"
   ]
  },
  {
   "cell_type": "code",
   "execution_count": 50,
   "metadata": {},
   "outputs": [],
   "source": [
    "fig = plt.figure(figsize = (3,2), dpi = 300) # 300 pixels per inch, so should be 1800 pixels by 1200 pixels \n",
    "ax = fig.add_subplot(111)\n",
    "ax.grid() \n",
    "\n",
    "ax.errorbar(X, y, xerr = xerr, yerr = yerr, fmt = '.',label='Data',color='#D55E00',capsize = 1.5,ms = 1.5, elinewidth = 1,capthick = 1)\n",
    "ax.set_xlabel('Length [cm]',fontsize = 8)\n",
    "ax.set_ylabel('Period [s]',fontsize= 8)\n",
    "ax.set_title('Simple pendulum',fontsize= 10)\n",
    "ax.plot(X, 2*np.pi*np.sqrt(X/100/g),label = 'Fit g = {:.2f} $\\pm$ {:.2f} ms$^{{-2}}$'.format(g, sig_g),color='black')\n",
    "\n",
    "handles, labels = ax.get_legend_handles_labels()\n",
    "\n",
    "ax.legend(handles[::-1],labels[::-1],loc='upper left',fontsize = 6, framealpha = 1) \n",
    "\n",
    "ax.tick_params(axis='both',labelsize = 6, direction='in',top = True, right = True, which='both')\n",
    "\n",
    "ax.xaxis.set_minor_locator(MultipleLocator(0.5))\n",
    "ax.yaxis.set_minor_locator(MultipleLocator(0.02))\n",
    "\n",
    "fig.tight_layout()\n",
    "plt.savefig('pendulum_dpi_300_small.png')\n",
    "plt.close() # stops the plot from being displayed on screen"
   ]
  },
  {
   "cell_type": "markdown",
   "metadata": {},
   "source": [
    "This this is how the two files produced by the plots look in a markdown cell. Note that we are reading the files created at different resoultions in the last code cell directly into this markdown cell to see how they look. Take a look at the markdown if you want to see the HTML code used to do this.\n",
    "<table><tr>\n",
    "<td><img src=pendulum_dpi_100_small.png align='center' width=600/></td>\n",
    "<td><img src=pendulum_dpi_300_small.png align='center' width=600/></td>\n",
    "</tr></table>\n"
   ]
  },
  {
   "cell_type": "markdown",
   "metadata": {},
   "source": [
    "The plot on the left is the default resolution, while the plot on the right is with `dpi = 300`. Depending on how much you are scaling your plot for e.g. a report or a poster, the resolution will have a greater or lesser effect. With `figsize = (3,2)`, the left plot has a resolution of 300 pixels by 200 pixels while the right plot has a resolution of 900 pixels by 600 pixels. In this markdown cell, both images have been scaled to a width of 600 pixels."
   ]
  },
  {
   "cell_type": "markdown",
   "metadata": {},
   "source": [
    "<div style=\"background-color: #FFF8C6\">\n",
    "\n",
    "We have done all of this plot formatting manually each time we make a plot; however, matplotlib has the ability for you to define a **style file** that redefines the default formatting. These are generally contained in in .mpl files. There are a number of pre-defined styles in matplotlib, but it is straightforward enough to prepare your own style file. \n",
    "\n",
    "You can use a .mpl style file using `plt.style.use`. You can see the list of available defaults using `plt.style.available`.\n",
    "\n",
    "It is common for big experiments to have a style file to ensure consistency in plot style between different members of the experiment. You could also have different style files for different applications of your plots, e.g. you want larger fonts for labels etc for posters than you do for reports.\n",
    "\n",
    "You can find more information about matplotlib style files in the [User Guide](https://matplotlib.org/stable/tutorials/introductory/customizing.html#customizing-with-style-sheets)."
   ]
  },
  {
   "cell_type": "markdown",
   "metadata": {},
   "source": [
    "<div style=\"background-color:#C2F5DD\">\n",
    "\n",
    "### Exercise 6\n",
    "\n",
    "Using what you have now seen about plot formatting, re-do your 6 plots of polynomials from Exercise Four but with better formatting. Remember the following points:\n",
    "\n",
    "* Good spacing between subplots\n",
    "* Clear and appropriately sized axis labels, tick labels, and titles\n",
    "* Grids on each plot"
   ]
  },
  {
   "cell_type": "code",
   "execution_count": 51,
   "metadata": {},
   "outputs": [
    {
     "data": {
      "image/png": "[encoded data removed]",
      "text/plain": [
       "<Figure size 864x864 with 6 Axes>"
      ]
     },
     "metadata": {
      "needs_background": "light"
     },
     "output_type": "display_data"
    }
   ],
   "source": [
    "# Update of code from exercise before. Nicer plots of polynomials.\n",
    "\n",
    "# These were the X coordinates used before\n",
    "X = np.linspace(-10,10,100)\n",
    "\n",
    "fig = plt.figure(figsize = (12,12)) \n",
    "\n",
    "# Super (?) title given over all the plots\n",
    "fig.suptitle('Polynomials of Order 1 to 6', fontsize=16)\n",
    "\n",
    "y = X\n",
    "for plot_index in range(1,7):\n",
    "    # note instead of fig.add_subplot(325) style we use fig.add_subplot(3,2,5) as means same thing \n",
    "    ax = fig.add_subplot(3,2,plot_index) # set new \"axes\" i.e. a new plot\n",
    "\n",
    "    ax.set_title(r'Order {:d} polynomial'.format(plot_index),fontsize= 10)\n",
    "    ax.grid()\n",
    "    ax.plot(X,y)\n",
    "    ax.set_ylabel(r'$X^{:d}$'.format(plot_index)) # LaTeX is best written in r\"...\" strings so that any backslash interpreted as LaTeX\n",
    "    \n",
    "    # To be honest, I thought the default set of labels and grid worked well.\n",
    "    # If you want even fancier (but maybe not better?) this is what I tried\n",
    "    handles, labels = ax.get_legend_handles_labels()\n",
    "    ax.legend(handles[::-1],labels[::-1],loc='upper left',fontsize = 6, framealpha = 1) \n",
    "    ax.tick_params(axis='both',labelsize = 12, direction='out',top = True, right = True, which='both')\n",
    "    ax.xaxis.set_minor_locator(MultipleLocator(0.5))\n",
    "    y_min = min(y)\n",
    "    y_max = max(y)\n",
    "    y_minor_tick_size = (y_max-y_min)/40.0\n",
    "    ax.yaxis.set_minor_locator(MultipleLocator(y_minor_tick_size))\n",
    "\n",
    "    y=y*X # set up for next loop\n",
    "\n",
    "fig.tight_layout()"
   ]
  },
  {
   "cell_type": "markdown",
   "metadata": {},
   "source": [
    "<div style=\"background-color:#C2F5DD\">\n",
    "\n",
    "### Exercise 7\n",
    "\n",
    "Using what you have now seen about plot formatting, reproduce the two histograms you plotted in Exercise 5 but with better formatting. Remember to consider:\n",
    "\n",
    "* Clear plot colours\n",
    "* Well-formatted legend\n",
    "* Appropriately sized axis labels, tick labels, and title\n",
    "* A grid"
   ]
  },
  {
   "cell_type": "code",
   "execution_count": 52,
   "metadata": {},
   "outputs": [
    {
     "data": {
      "text/plain": [
       "<matplotlib.legend.Legend at 0x1aab4f02a40>"
      ]
     },
     "execution_count": 52,
     "metadata": {},
     "output_type": "execute_result"
    },
    {
     "data": {
      "image/png": "[encoded data removed]",
      "text/plain": [
       "<Figure size 432x288 with 1 Axes>"
      ]
     },
     "metadata": {
      "needs_background": "light"
     },
     "output_type": "display_data"
    }
   ],
   "source": [
    "# I ran this a few times, each time adding something more.  \n",
    "\n",
    "\n",
    "# Assume our data is still available, we defined these using query\n",
    "# df_lt_30 = concrete_data.query('Age < 30')\n",
    "# df_geq_30 = concrete_data.query('Age >= 30')\n",
    "\n",
    "fig = plt.figure(figsize = (6,4)) \n",
    "ax = fig.add_subplot(111) \n",
    "ax.set_title(\"Strength of Young and Old Concrete Samples\",fontsize= 14)\n",
    "# Last time we saw that strength values were between 0 to 84 so 42 bins (43 bin edges) was about right.  \n",
    "bins = np.linspace(0,84,43) # Defines edges of bins, last argument is number of values.\n",
    "\n",
    "ax.set_xlim(0,86) # get rid of negative X values shown by default.\n",
    "    \n",
    "# the alpha parameter is the transparency, between 0% (opaque) to 100% (totally transparent)\n",
    "ax.hist(df_lt_30['Strength'] , bins = bins, edgecolor='black', label ='Age < 30',  alpha = 0.5)\n",
    "ax.hist(df_geq_30['Strength'], bins = bins, edgecolor='black', label ='Age >= 30', alpha = 0.5)\n",
    "\n",
    "ax.grid()\n",
    "\n",
    "# To be honest, I thought the default set of labels and grid worked well.\n",
    "# If you want even fancier (but maybe not better?) this is what I tried\n",
    "\n",
    "# By looking at the values in the earlier plots, I could set the tick sizes by hand.\n",
    "# For the x I want to match the bin edges.\n",
    "# A useful trick for the y is to automate the minor ticks based on the major ticks, a pain to do by hand\n",
    "from matplotlib.ticker import AutoMinorLocator # This helps choose the minor ticks \n",
    "\n",
    "handles, labels = ax.get_legend_handles_labels()\n",
    "ax.legend(handles[::-1],labels[::-1],loc='upper left',fontsize = 6, framealpha = 1) \n",
    "ax.tick_params(axis='both',labelsize = 12, direction='out',top = True, right = True, which='both')\n",
    "\n",
    "# X axis runs 0 to 84 or so, and widths were set at width = bins[n]-bins[n-1] for any n\n",
    "# With a histogram really best if the values of the bin edges are clearly identified \n",
    "ax.xaxis.set_major_locator(MultipleLocator(20))\n",
    "ax.xaxis.set_minor_locator(MultipleLocator(bins[1]-bins[0]))\n",
    "\n",
    "# y axis runs 0 to 60 or so\n",
    "ax.yaxis.set_major_locator(MultipleLocator(10))\n",
    "\n",
    "# By hand or use automatic choice\n",
    "# ax.yaxis.set_minor_locator(MultipleLocator(2))\n",
    "ax.yaxis.set_minor_locator(AutoMinorLocator())\n",
    "\n",
    "\n",
    "plt.xlabel('Strength')\n",
    "plt.ylabel('Frequency')\n",
    "plt.legend(loc='best')\n",
    "\n"
   ]
  },
  {
   "cell_type": "markdown",
   "metadata": {},
   "source": [
    "## Summary\n",
    "\n",
    "In this section, we have reviewed visualisation of data using matplotlib. \n",
    "\n",
    "* Basics of matplotlib, including the `Figure` and `Axes` classes\n",
    "* How to improve plot aesthetics\n",
    "\n",
    "The next section will include a set of exercises for you to work through this week, to practise using pandas and producing professional-looking plots."
   ]
  },
  {
   "cell_type": "markdown",
   "metadata": {},
   "source": [
    "<hr style=\"border:2px solid gray\"> \n",
    "<a name=\"exercises\"></a>"
   ]
  },
  {
   "cell_type": "markdown",
   "metadata": {},
   "source": [
    "# Further Exercises [^](#outline)\n",
    "\n",
    "These exercises are here for you to get more experience using Jupyter notebooks, `pandas` and `matplotlib`. In each section, code cells have been given to help prompt you on each step to work through, but feel free to make your own steps if you want - just make sure you work through each of the tasks."
   ]
  },
  {
   "cell_type": "markdown",
   "metadata": {},
   "source": [
    "<div style=\"background-color:#C2F5DD\">\n",
    "\n",
    "### Exercise 8\n",
    "\n",
    "Using the concrete dataset, pick two of the quantities in the DataFrame and make a scatter plot. Remember the following plotting points:\n",
    "\n",
    "* Appropriate axis labels and title\n",
    "* Title, axis label and tick label fontsizes\n",
    "* Figure size & resolution\n",
    "* Tick formatting\n",
    "\n",
    "Save your figure using `plt.savefig` with an appropriate file name."
   ]
  },
  {
   "cell_type": "code",
   "execution_count": 53,
   "metadata": {},
   "outputs": [
    {
     "data": {
      "text/html": [
       "<div>\n",
       "<style scoped>\n",
       "    .dataframe tbody tr th:only-of-type {\n",
       "        vertical-align: middle;\n",
       "    }\n",
       "\n",
       "    .dataframe tbody tr th {\n",
       "        vertical-align: top;\n",
       "    }\n",
       "\n",
       "    .dataframe thead th {\n",
       "        text-align: right;\n",
       "    }\n",
       "</style>\n",
       "<table border=\"1\" class=\"dataframe\">\n",
       "  <thead>\n",
       "    <tr style=\"text-align: right;\">\n",
       "      <th></th>\n",
       "      <th>Cement</th>\n",
       "      <th>Blast Furnace Slag</th>\n",
       "      <th>Fly Ash</th>\n",
       "      <th>Water</th>\n",
       "      <th>Superplasticizer</th>\n",
       "      <th>Coarse Aggregate</th>\n",
       "      <th>Fine Aggregate</th>\n",
       "      <th>Age</th>\n",
       "      <th>Strength</th>\n",
       "      <th>Ingredient Total</th>\n",
       "    </tr>\n",
       "  </thead>\n",
       "  <tbody>\n",
       "    <tr>\n",
       "      <th>0</th>\n",
       "      <td>540.0</td>\n",
       "      <td>0.0</td>\n",
       "      <td>0.0</td>\n",
       "      <td>162.0</td>\n",
       "      <td>2.5</td>\n",
       "      <td>1040.0</td>\n",
       "      <td>676.0</td>\n",
       "      <td>28</td>\n",
       "      <td>79.99</td>\n",
       "      <td>2420.5</td>\n",
       "    </tr>\n",
       "    <tr>\n",
       "      <th>1</th>\n",
       "      <td>540.0</td>\n",
       "      <td>0.0</td>\n",
       "      <td>0.0</td>\n",
       "      <td>162.0</td>\n",
       "      <td>2.5</td>\n",
       "      <td>1055.0</td>\n",
       "      <td>676.0</td>\n",
       "      <td>28</td>\n",
       "      <td>61.89</td>\n",
       "      <td>2435.5</td>\n",
       "    </tr>\n",
       "    <tr>\n",
       "      <th>2</th>\n",
       "      <td>332.5</td>\n",
       "      <td>142.5</td>\n",
       "      <td>0.0</td>\n",
       "      <td>228.0</td>\n",
       "      <td>0.0</td>\n",
       "      <td>932.0</td>\n",
       "      <td>594.0</td>\n",
       "      <td>270</td>\n",
       "      <td>40.27</td>\n",
       "      <td>2229.0</td>\n",
       "    </tr>\n",
       "    <tr>\n",
       "      <th>3</th>\n",
       "      <td>332.5</td>\n",
       "      <td>142.5</td>\n",
       "      <td>0.0</td>\n",
       "      <td>228.0</td>\n",
       "      <td>0.0</td>\n",
       "      <td>932.0</td>\n",
       "      <td>594.0</td>\n",
       "      <td>365</td>\n",
       "      <td>41.05</td>\n",
       "      <td>2229.0</td>\n",
       "    </tr>\n",
       "    <tr>\n",
       "      <th>4</th>\n",
       "      <td>198.6</td>\n",
       "      <td>132.4</td>\n",
       "      <td>0.0</td>\n",
       "      <td>192.0</td>\n",
       "      <td>0.0</td>\n",
       "      <td>978.4</td>\n",
       "      <td>825.5</td>\n",
       "      <td>360</td>\n",
       "      <td>44.30</td>\n",
       "      <td>2326.9</td>\n",
       "    </tr>\n",
       "    <tr>\n",
       "      <th>...</th>\n",
       "      <td>...</td>\n",
       "      <td>...</td>\n",
       "      <td>...</td>\n",
       "      <td>...</td>\n",
       "      <td>...</td>\n",
       "      <td>...</td>\n",
       "      <td>...</td>\n",
       "      <td>...</td>\n",
       "      <td>...</td>\n",
       "      <td>...</td>\n",
       "    </tr>\n",
       "    <tr>\n",
       "      <th>1025</th>\n",
       "      <td>276.4</td>\n",
       "      <td>116.0</td>\n",
       "      <td>90.3</td>\n",
       "      <td>179.6</td>\n",
       "      <td>8.9</td>\n",
       "      <td>870.1</td>\n",
       "      <td>768.3</td>\n",
       "      <td>28</td>\n",
       "      <td>44.28</td>\n",
       "      <td>2309.6</td>\n",
       "    </tr>\n",
       "    <tr>\n",
       "      <th>1026</th>\n",
       "      <td>322.2</td>\n",
       "      <td>0.0</td>\n",
       "      <td>115.6</td>\n",
       "      <td>196.0</td>\n",
       "      <td>10.4</td>\n",
       "      <td>817.9</td>\n",
       "      <td>813.4</td>\n",
       "      <td>28</td>\n",
       "      <td>31.18</td>\n",
       "      <td>2275.5</td>\n",
       "    </tr>\n",
       "    <tr>\n",
       "      <th>1027</th>\n",
       "      <td>148.5</td>\n",
       "      <td>139.4</td>\n",
       "      <td>108.6</td>\n",
       "      <td>192.7</td>\n",
       "      <td>6.1</td>\n",
       "      <td>892.4</td>\n",
       "      <td>780.0</td>\n",
       "      <td>28</td>\n",
       "      <td>23.70</td>\n",
       "      <td>2267.7</td>\n",
       "    </tr>\n",
       "    <tr>\n",
       "      <th>1028</th>\n",
       "      <td>159.1</td>\n",
       "      <td>186.7</td>\n",
       "      <td>0.0</td>\n",
       "      <td>175.6</td>\n",
       "      <td>11.3</td>\n",
       "      <td>989.6</td>\n",
       "      <td>788.9</td>\n",
       "      <td>28</td>\n",
       "      <td>32.77</td>\n",
       "      <td>2311.2</td>\n",
       "    </tr>\n",
       "    <tr>\n",
       "      <th>1029</th>\n",
       "      <td>260.9</td>\n",
       "      <td>100.5</td>\n",
       "      <td>78.3</td>\n",
       "      <td>200.6</td>\n",
       "      <td>8.6</td>\n",
       "      <td>864.5</td>\n",
       "      <td>761.5</td>\n",
       "      <td>28</td>\n",
       "      <td>32.40</td>\n",
       "      <td>2274.9</td>\n",
       "    </tr>\n",
       "  </tbody>\n",
       "</table>\n",
       "<p>1030 rows × 10 columns</p>\n",
       "</div>"
      ],
      "text/plain": [
       "      Cement  Blast Furnace Slag  Fly Ash  Water  Superplasticizer  \\\n",
       "0      540.0                 0.0      0.0  162.0               2.5   \n",
       "1      540.0                 0.0      0.0  162.0               2.5   \n",
       "2      332.5               142.5      0.0  228.0               0.0   \n",
       "3      332.5               142.5      0.0  228.0               0.0   \n",
       "4      198.6               132.4      0.0  192.0               0.0   \n",
       "...      ...                 ...      ...    ...               ...   \n",
       "1025   276.4               116.0     90.3  179.6               8.9   \n",
       "1026   322.2                 0.0    115.6  196.0              10.4   \n",
       "1027   148.5               139.4    108.6  192.7               6.1   \n",
       "1028   159.1               186.7      0.0  175.6              11.3   \n",
       "1029   260.9               100.5     78.3  200.6               8.6   \n",
       "\n",
       "      Coarse Aggregate  Fine Aggregate  Age  Strength  Ingredient Total  \n",
       "0               1040.0           676.0   28     79.99            2420.5  \n",
       "1               1055.0           676.0   28     61.89            2435.5  \n",
       "2                932.0           594.0  270     40.27            2229.0  \n",
       "3                932.0           594.0  365     41.05            2229.0  \n",
       "4                978.4           825.5  360     44.30            2326.9  \n",
       "...                ...             ...  ...       ...               ...  \n",
       "1025             870.1           768.3   28     44.28            2309.6  \n",
       "1026             817.9           813.4   28     31.18            2275.5  \n",
       "1027             892.4           780.0   28     23.70            2267.7  \n",
       "1028             989.6           788.9   28     32.77            2311.2  \n",
       "1029             864.5           761.5   28     32.40            2274.9  \n",
       "\n",
       "[1030 rows x 10 columns]"
      ]
     },
     "metadata": {},
     "output_type": "display_data"
    }
   ],
   "source": [
    "# Load concrete data again if you need to\n",
    "# concrete_data = pd.read_csv('concrete_data.csv')\n",
    "\n",
    "display(concrete_data)\n"
   ]
  },
  {
   "cell_type": "code",
   "execution_count": 54,
   "metadata": {},
   "outputs": [],
   "source": [
    "from matplotlib.ticker import AutoMinorLocator # This helps choose the minor ticks \n",
    "\n",
    "# Columns available are 'Cement', 'Blast Furnace Slag', 'Fly Ash', 'Water', 'Superplasticizer', \n",
    "#                       'Coarse Aggregate', 'Fine Aggregate', 'Age', 'Strength', 'Ingredient Total'\n",
    "\n",
    "# I chose 'Age' and 'Strength' again\n",
    "\n",
    "fig = plt.figure(figsize = (6,4)) \n",
    "ax = fig.add_subplot(111) \n",
    "ax.set_title(\"Scatter plot of Age vs Strength of Concrete Samples\",fontsize= 14)\n",
    "\n",
    "\"\"\" \n",
    "The trouble with this data is that I suspect sometimes \n",
    "there are several points that lie on top of each other and \n",
    "you can not see this with the default settings and without \n",
    "more processing it is hard to show this.\n",
    "So a neat trick is to use transparency, this is the alpha parameter.\n",
    "\"\"\"\n",
    "ax.scatter(concrete_data['Cement'],concrete_data['Strength'], marker=\"o\", color='r', alpha=.2)\n",
    "\n",
    "ax.grid()\n",
    "    \n",
    "\n",
    "# To be honest, I thought the default set of labels and grid worked well.\n",
    "# If you want even fancier (but maybe not better?) this is what I tried\n",
    "handles, labels = ax.get_legend_handles_labels()\n",
    "ax.legend(handles[::-1],labels[::-1],loc='upper left',fontsize = 6, framealpha = 1) \n",
    "ax.tick_params(axis='both',labelsize = 12, direction='out',top = True, right = True, which='both')\n",
    "\n",
    "# X axis runs 0 to 84 or so, and widths were set at width = bins[n]-bins[n-1] for any n\n",
    "# With a histogram really best if the values of the bin edges are clearly identified \n",
    "ax.xaxis.set_major_locator(MultipleLocator(100))\n",
    "#ax.xaxis.set_minor_locator(MultipleLocator(20))\n",
    "ax.xaxis.set_minor_locator(AutoMinorLocator())\n",
    "\n",
    "# y axis runs 0 to 60 or so\n",
    "ax.yaxis.set_major_locator(MultipleLocator(20))\n",
    "#ax.yaxis.set_minor_locator(MultipleLocator(5))\n",
    "ax.yaxis.set_minor_locator(AutoMinorLocator())\n",
    "\n",
    "# Once I had the plot looking good, I added the lines to save the plot to a file\n",
    "# and  to close the plot to stop it being displayed on screen \n",
    "\n",
    "# Now save the figure - you can set dpi here is using a bitmap format\n",
    "# plt.savefig('concrete_age_strength_dpi100.png',dpi=100)\n",
    "plt.savefig('concrete_age_strength_dpi300.png',dpi=300)\n",
    "\n",
    "# If you want it in another format, just change the extension in the name of the file\n",
    "# I use pdf file in LaTeX so this is what I would also save it in this format\n",
    "# plt.savefig('concrete_age_strength_dpi300.pdf')\n",
    "\n",
    "plt.close() # stops the plot from being displayed on screen\n"
   ]
  },
  {
   "cell_type": "markdown",
   "metadata": {},
   "source": [
    "<div style=\"background-color:#C2F5DD\">\n",
    "\n",
    "### Exercise 9\n",
    "\n",
    "Using the plot you have just saved, display your plot in the Markdown cell below."
   ]
  },
  {
   "cell_type": "markdown",
   "metadata": {},
   "source": [
    "This is the plot I just created in the previous exercise.\n",
    "<br>\n",
    "<img src=concrete_age_strength_dpi300.png align='center' width=600/></td>\n"
   ]
  },
  {
   "cell_type": "markdown",
   "metadata": {},
   "source": [
    "<div style=\"background-color:#C2F5DD\">\n",
    "\n",
    "### Exercise 10\n",
    "\n",
    "Using the concrete data, make an array of histograms of the concrete descriptive features, using `plt.subplots`. The descriptive features are the following DataFrame columns:\n",
    "\n",
    "* Cement\n",
    "* Blast Furnace Slag\n",
    "* Fly Ash\n",
    "* Water\n",
    "* Superplasticizer\n",
    "* Coarse Aggregate\n",
    "* Fine Aggregate\n",
    "* Age\n",
    "\n",
    "Remember to format your plots carefully. `plt.subplots` returns a `Figure` object and an array of `Axes`, which you can index to plot on/format individually. Make sure to consider the following formatting points:\n",
    "\n",
    "* Size of axis and tick labels\n",
    "* Colours\n",
    "* Grids"
   ]
  },
  {
   "cell_type": "code",
   "execution_count": 55,
   "metadata": {},
   "outputs": [
    {
     "data": {
      "text/html": [
       "<div>\n",
       "<style scoped>\n",
       "    .dataframe tbody tr th:only-of-type {\n",
       "        vertical-align: middle;\n",
       "    }\n",
       "\n",
       "    .dataframe tbody tr th {\n",
       "        vertical-align: top;\n",
       "    }\n",
       "\n",
       "    .dataframe thead th {\n",
       "        text-align: right;\n",
       "    }\n",
       "</style>\n",
       "<table border=\"1\" class=\"dataframe\">\n",
       "  <thead>\n",
       "    <tr style=\"text-align: right;\">\n",
       "      <th></th>\n",
       "      <th>Cement</th>\n",
       "      <th>Blast Furnace Slag</th>\n",
       "      <th>Fly Ash</th>\n",
       "      <th>Water</th>\n",
       "      <th>Superplasticizer</th>\n",
       "      <th>Coarse Aggregate</th>\n",
       "      <th>Fine Aggregate</th>\n",
       "      <th>Age</th>\n",
       "      <th>Strength</th>\n",
       "      <th>Ingredient Total</th>\n",
       "    </tr>\n",
       "  </thead>\n",
       "  <tbody>\n",
       "    <tr>\n",
       "      <th>0</th>\n",
       "      <td>540.0</td>\n",
       "      <td>0.0</td>\n",
       "      <td>0.0</td>\n",
       "      <td>162.0</td>\n",
       "      <td>2.5</td>\n",
       "      <td>1040.0</td>\n",
       "      <td>676.0</td>\n",
       "      <td>28</td>\n",
       "      <td>79.99</td>\n",
       "      <td>2420.5</td>\n",
       "    </tr>\n",
       "    <tr>\n",
       "      <th>1</th>\n",
       "      <td>540.0</td>\n",
       "      <td>0.0</td>\n",
       "      <td>0.0</td>\n",
       "      <td>162.0</td>\n",
       "      <td>2.5</td>\n",
       "      <td>1055.0</td>\n",
       "      <td>676.0</td>\n",
       "      <td>28</td>\n",
       "      <td>61.89</td>\n",
       "      <td>2435.5</td>\n",
       "    </tr>\n",
       "    <tr>\n",
       "      <th>2</th>\n",
       "      <td>332.5</td>\n",
       "      <td>142.5</td>\n",
       "      <td>0.0</td>\n",
       "      <td>228.0</td>\n",
       "      <td>0.0</td>\n",
       "      <td>932.0</td>\n",
       "      <td>594.0</td>\n",
       "      <td>270</td>\n",
       "      <td>40.27</td>\n",
       "      <td>2229.0</td>\n",
       "    </tr>\n",
       "    <tr>\n",
       "      <th>3</th>\n",
       "      <td>332.5</td>\n",
       "      <td>142.5</td>\n",
       "      <td>0.0</td>\n",
       "      <td>228.0</td>\n",
       "      <td>0.0</td>\n",
       "      <td>932.0</td>\n",
       "      <td>594.0</td>\n",
       "      <td>365</td>\n",
       "      <td>41.05</td>\n",
       "      <td>2229.0</td>\n",
       "    </tr>\n",
       "    <tr>\n",
       "      <th>4</th>\n",
       "      <td>198.6</td>\n",
       "      <td>132.4</td>\n",
       "      <td>0.0</td>\n",
       "      <td>192.0</td>\n",
       "      <td>0.0</td>\n",
       "      <td>978.4</td>\n",
       "      <td>825.5</td>\n",
       "      <td>360</td>\n",
       "      <td>44.30</td>\n",
       "      <td>2326.9</td>\n",
       "    </tr>\n",
       "    <tr>\n",
       "      <th>...</th>\n",
       "      <td>...</td>\n",
       "      <td>...</td>\n",
       "      <td>...</td>\n",
       "      <td>...</td>\n",
       "      <td>...</td>\n",
       "      <td>...</td>\n",
       "      <td>...</td>\n",
       "      <td>...</td>\n",
       "      <td>...</td>\n",
       "      <td>...</td>\n",
       "    </tr>\n",
       "    <tr>\n",
       "      <th>1025</th>\n",
       "      <td>276.4</td>\n",
       "      <td>116.0</td>\n",
       "      <td>90.3</td>\n",
       "      <td>179.6</td>\n",
       "      <td>8.9</td>\n",
       "      <td>870.1</td>\n",
       "      <td>768.3</td>\n",
       "      <td>28</td>\n",
       "      <td>44.28</td>\n",
       "      <td>2309.6</td>\n",
       "    </tr>\n",
       "    <tr>\n",
       "      <th>1026</th>\n",
       "      <td>322.2</td>\n",
       "      <td>0.0</td>\n",
       "      <td>115.6</td>\n",
       "      <td>196.0</td>\n",
       "      <td>10.4</td>\n",
       "      <td>817.9</td>\n",
       "      <td>813.4</td>\n",
       "      <td>28</td>\n",
       "      <td>31.18</td>\n",
       "      <td>2275.5</td>\n",
       "    </tr>\n",
       "    <tr>\n",
       "      <th>1027</th>\n",
       "      <td>148.5</td>\n",
       "      <td>139.4</td>\n",
       "      <td>108.6</td>\n",
       "      <td>192.7</td>\n",
       "      <td>6.1</td>\n",
       "      <td>892.4</td>\n",
       "      <td>780.0</td>\n",
       "      <td>28</td>\n",
       "      <td>23.70</td>\n",
       "      <td>2267.7</td>\n",
       "    </tr>\n",
       "    <tr>\n",
       "      <th>1028</th>\n",
       "      <td>159.1</td>\n",
       "      <td>186.7</td>\n",
       "      <td>0.0</td>\n",
       "      <td>175.6</td>\n",
       "      <td>11.3</td>\n",
       "      <td>989.6</td>\n",
       "      <td>788.9</td>\n",
       "      <td>28</td>\n",
       "      <td>32.77</td>\n",
       "      <td>2311.2</td>\n",
       "    </tr>\n",
       "    <tr>\n",
       "      <th>1029</th>\n",
       "      <td>260.9</td>\n",
       "      <td>100.5</td>\n",
       "      <td>78.3</td>\n",
       "      <td>200.6</td>\n",
       "      <td>8.6</td>\n",
       "      <td>864.5</td>\n",
       "      <td>761.5</td>\n",
       "      <td>28</td>\n",
       "      <td>32.40</td>\n",
       "      <td>2274.9</td>\n",
       "    </tr>\n",
       "  </tbody>\n",
       "</table>\n",
       "<p>1030 rows × 10 columns</p>\n",
       "</div>"
      ],
      "text/plain": [
       "      Cement  Blast Furnace Slag  Fly Ash  Water  Superplasticizer  \\\n",
       "0      540.0                 0.0      0.0  162.0               2.5   \n",
       "1      540.0                 0.0      0.0  162.0               2.5   \n",
       "2      332.5               142.5      0.0  228.0               0.0   \n",
       "3      332.5               142.5      0.0  228.0               0.0   \n",
       "4      198.6               132.4      0.0  192.0               0.0   \n",
       "...      ...                 ...      ...    ...               ...   \n",
       "1025   276.4               116.0     90.3  179.6               8.9   \n",
       "1026   322.2                 0.0    115.6  196.0              10.4   \n",
       "1027   148.5               139.4    108.6  192.7               6.1   \n",
       "1028   159.1               186.7      0.0  175.6              11.3   \n",
       "1029   260.9               100.5     78.3  200.6               8.6   \n",
       "\n",
       "      Coarse Aggregate  Fine Aggregate  Age  Strength  Ingredient Total  \n",
       "0               1040.0           676.0   28     79.99            2420.5  \n",
       "1               1055.0           676.0   28     61.89            2435.5  \n",
       "2                932.0           594.0  270     40.27            2229.0  \n",
       "3                932.0           594.0  365     41.05            2229.0  \n",
       "4                978.4           825.5  360     44.30            2326.9  \n",
       "...                ...             ...  ...       ...               ...  \n",
       "1025             870.1           768.3   28     44.28            2309.6  \n",
       "1026             817.9           813.4   28     31.18            2275.5  \n",
       "1027             892.4           780.0   28     23.70            2267.7  \n",
       "1028             989.6           788.9   28     32.77            2311.2  \n",
       "1029             864.5           761.5   28     32.40            2274.9  \n",
       "\n",
       "[1030 rows x 10 columns]"
      ]
     },
     "metadata": {},
     "output_type": "display_data"
    }
   ],
   "source": [
    "# Load concrete data again if you need to\n",
    "# concrete_data = pd.read_csv('concrete_data.csv')\n",
    "\n",
    "display(concrete_data)"
   ]
  },
  {
   "cell_type": "code",
   "execution_count": 56,
   "metadata": {},
   "outputs": [
    {
     "data": {
      "image/png": "[encoded data removed]",
      "text/plain": [
       "<Figure size 864x1152 with 8 Axes>"
      ]
     },
     "metadata": {
      "needs_background": "light"
     },
     "output_type": "display_data"
    }
   ],
   "source": [
    "from matplotlib.ticker import AutoMinorLocator # This helps choose the minor ticks \n",
    "\n",
    "\n",
    "# Define figure and subplots\n",
    "\n",
    "fig = plt.figure(figsize = (12,16)) \n",
    "\n",
    "\n",
    "# Super (?) title given over all the plots\n",
    "fig.suptitle('Histograms for Concrete Samples', fontsize=16)\n",
    "\n",
    "# 8 Types to                          \n",
    "# Create a list of the names of the columns we need. I cut and pasted from the question \n",
    "list_of_columns = [\"Cement\", \"Blast Furnace Slag\", \"Fly Ash\", \"Water\", \"Superplasticizer\", \n",
    "                   \"Coarse Aggregate\", \"Fine Aggregate\", \"Age\"]\n",
    "\n",
    "# I'm lazy so I see how much of this I can automate\n",
    "for plot_index in range(8):\n",
    "    column_name=list_of_columns[plot_index] # histogram of this column\n",
    "    \n",
    "    # note instead of fig.add_subplot(325) style we use fig.add_subplot(3,2,5) as means same thing \n",
    "    ax = fig.add_subplot(4,2,plot_index+1) # Must be the only place in python where counting starts from 1 not 0!\n",
    "    ax.set_title(column_name,fontsize= 10)\n",
    "    ax.grid()\n",
    "    \n",
    "    # The one bit I can not easily automate is the bins as the data is so different for each column.\n",
    "    # So I ran it without any bins first then set these Xvalues.\n",
    "    # I will use the value again to set the X ticks.\n",
    "    # The y values can be automated.\n",
    "    \n",
    "    if column_name==\"Cement\":\n",
    "        Xmin=100\n",
    "        Xmax=700\n",
    "        bin_width=25\n",
    "    elif column_name==\"Blast Furnace Slag\":\n",
    "        Xmin=0\n",
    "        Xmax=400\n",
    "        bin_width=25\n",
    "    elif column_name==\"Fly Ash\":\n",
    "        Xmin=0\n",
    "        Xmax=200\n",
    "        bin_width=10\n",
    "    elif column_name==\"Water\":\n",
    "        Xmin=100\n",
    "        Xmax=300\n",
    "        bin_width=10\n",
    "    elif column_name==\"Superplasticizer\":\n",
    "        Xmin=0\n",
    "        Xmax=35\n",
    "        bin_width=2\n",
    "    elif column_name==\"Coarse Aggregate\":\n",
    "        Xmin=800\n",
    "        Xmax=1200\n",
    "        bin_width=25\n",
    "    elif column_name==\"Fine Aggregate\":\n",
    "        Xmin=500\n",
    "        Xmax=1000\n",
    "        bin_width=25\n",
    "    elif column_name==\"Age\":\n",
    "        Xmin=0\n",
    "        Xmax=400\n",
    "        bin_width=10\n",
    "    else:\n",
    "        print(\"*** ERROR should never get here with column name \"+column_name)\n",
    "\n",
    "    #Now set up bins\n",
    "    nbins=int(0.5+(Xmax-Xmin)/bin_width) # need to round number of bins to nearest integer\n",
    "    bins = np.linspace(Xmin,Xmax,nbins+1) # last is number of edges, one more than bins \n",
    "    \n",
    "    # At long last make the histogram\n",
    "    ax.hist(concrete_data[column_name],bins=bins)\n",
    "\n",
    "    \n",
    "# Add labels to each axis\n",
    "    ax.set_xlabel(column_name) \n",
    "    ax.set_ylabel('frequency') \n",
    "\n",
    "# Edit tick parameters on each axis\n",
    "    \n",
    "    handles, labels = ax.get_legend_handles_labels()\n",
    "    ax.legend(handles[::-1],labels[::-1],loc='upper left',fontsize = 6, framealpha = 1) \n",
    "    ax.tick_params(axis='both',labelsize = 12, direction='out',top = True, right = True, which='both')\n",
    "    ax.xaxis.set_minor_locator(MultipleLocator(bin_width)) # mark out edges of bins\n",
    "    ax.yaxis.set_minor_locator(AutoMinorLocator()) # Use automatic choice for y minor ticks\n",
    "\n",
    "    \n",
    "fig.tight_layout()\n",
    "\n",
    "\n",
    "# Once it looks OK I save the plot and close it to stop display\n",
    "plt.savefig('concrete_histograms_all.png',dpi=300)\n",
    "\n",
    "# If you want it in another format, just change the extension in the name of the file\n",
    "# I use pdf file in LaTeX so this is what I would also save it in this format\n",
    "# plt.savefig('concrete_age_strength_dpi300.pdf')\n",
    "\n",
    "# This time I won't close the plot so we can see the result on screen (or look at the file we saved).\n",
    "#plt.close() \n",
    "\n",
    "\n"
   ]
  },
  {
   "cell_type": "markdown",
   "metadata": {},
   "source": [
    "Finished!"
   ]
  },
  {
   "cell_type": "code",
   "execution_count": null,
   "metadata": {},
   "outputs": [],
   "source": []
  }
 ],
 "metadata": {
  "kernelspec": {
   "display_name": "Python 3 (ipykernel)",
   "language": "python",
   "name": "python3"
  },
  "language_info": {
   "codemirror_mode": {
    "name": "ipython",
    "version": 3
   },
   "file_extension": ".py",
   "mimetype": "text/x-python",
   "name": "python",
   "nbconvert_exporter": "python",
   "pygments_lexer": "ipython3",
   "version": "3.10.4"
  }
 },
 "nbformat": 4,
 "nbformat_minor": 2
}
