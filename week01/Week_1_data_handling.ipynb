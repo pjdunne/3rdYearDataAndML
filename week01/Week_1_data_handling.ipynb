{
 "cells": [
  {
   "cell_type": "markdown",
   "metadata": {},
   "source": [
    "# Week 1 - Data structure, handling and visualisation\n"
   ]
  },
  {
   "cell_type": "markdown",
   "metadata": {},
   "source": [
    "<hr style=\"border:2px solid gray\">\n",
    "\n",
    "# Outline <a id='outline'></a>\n",
    "1. [Section One: Course Preliminaries](#)\n",
    "1. [Section Two: Introduction to Jupyter Notebooks](#)\n",
    "1. [Section Three: ](#)\n",
    "1. [Section Four: ](#)\n",
    "1. [Section Five: ](#)\n"
   ]
  },
  {
   "cell_type": "markdown",
   "metadata": {},
   "source": [
    "<hr style=\"border:2px solid gray\"> \n",
    "\n",
    "# Section One: Course Preliminaries [^](#outline)"
   ]
  },
  {
   "cell_type": "markdown",
   "metadata": {},
   "source": [
    "### Insert general information here"
   ]
  },
  {
   "cell_type": "markdown",
   "metadata": {},
   "source": [
    "<hr style=\"border:2px solid gray\"> \n",
    "\n",
    "# Section Two: Introduction to Jupyter Notebooks [^](#outline)"
   ]
  },
  {
   "cell_type": "markdown",
   "metadata": {},
   "source": [
    "Throughout your degree so far, the majority of you will have worked with a development environment such as Spyder or Visual Studio Code. Throughout this course, each week you will have a **Jupyter Notebook** such as this one. These allow you to include text cells, images and so on alongside blocks of code, to write explanations of your code or include relevant theory. \n",
    "\n",
    "The notebook sources a local Python environment to tell it what packages are available. Broadly speaking, a notebook is divided into **code** cells and **Markdown** cells. Code cells are exactly what you would expect: namely, you can write Python code in these cells. For example, we can generate some random data and plot it:"
   ]
  },
  {
   "cell_type": "code",
   "execution_count": 8,
   "metadata": {},
   "outputs": [],
   "source": [
    "import numpy as np\n",
    "import matplotlib.pyplot as plt\n",
    "\n",
    "X = np.random.uniform(-3,3,50)\n",
    "y = np.sin(X) + np.random.normal(loc = 0, scale = 0.3, size = 50)"
   ]
  },
  {
   "cell_type": "markdown",
   "metadata": {},
   "source": [
    "Variables defined in one cell carry over into other cells and throughout the whole notebook. That way, you don't need to re-run all of your code to try something new."
   ]
  },
  {
   "cell_type": "code",
   "execution_count": 9,
   "metadata": {},
   "outputs": [
    {
     "data": {
      "text/plain": [
       "[<matplotlib.lines.Line2D at 0x243c7b6dac0>]"
      ]
     },
     "execution_count": 9,
     "metadata": {},
     "output_type": "execute_result"
    },
    {
     "data": {
      "image/png": "[encoded data removed]",
      "text/plain": [
       "<Figure size 640x480 with 1 Axes>"
      ]
     },
     "metadata": {},
     "output_type": "display_data"
    }
   ],
   "source": [
    "plt.plot(X,y,'b.')"
   ]
  },
  {
   "cell_type": "markdown",
   "metadata": {},
   "source": [
    "As well as code cells, **Markdown** cells let us add text. Markdown is a markup language that is a superset of HTML, which you can use to format the text you write in these cells. You can change a cell type to Markdown using the ```Cell``` menu, the toolbar, or the default key shortcut ```m```. \n",
    "\n",
    "You can write in *italics* by enclosing the relevant words in single * on either side\n",
    "\n",
    "You can write in **bold** by using two * on either side of the text in question\n"
   ]
  },
  {
   "cell_type": "markdown",
   "metadata": {},
   "source": [
    "You can write bullet points by starting a line with \"- \" or \"* \", and indent them for multiple layers:\n",
    "\n",
    "* Bullet 1\n",
    "    * Bullet 2\n",
    "        * Bullet 2a\n",
    "    * Bullet 3\n",
    "\n",
    "You can also write enumerated lists by starting a line with \"1. \"; the specific number does not matter as numbering (and numbering of sublists) is determined automatically:\n",
    "\n",
    "1. Thing One\n",
    "    1. Other Thing One\n",
    "1. Thing Two\n",
    "    1. Thing Two A\n",
    "    1. Thing Two B\n",
    "    1. Thing Two C\n",
    "1. Thing Three\n"
   ]
  },
  {
   "cell_type": "markdown",
   "metadata": {},
   "source": [
    "You can make horizontal lines using \"___\":\n",
    "\n",
    "___\n",
    "\n",
    "And you can include hyperlinks via \"[Text for link](link address)\":\n",
    "\n",
    "[Jupyter website](https://jupyter.org/)\n",
    "\n"
   ]
  },
  {
   "cell_type": "markdown",
   "metadata": {},
   "source": [
    "You can make headings by starting a line with a #, followed by a space; more # means a smaller heading\n",
    "\n",
    "# Big heading\n",
    "## Smaller heading\n",
    "### Smaller heading again\n",
    "#### Smaller again"
   ]
  },
  {
   "cell_type": "markdown",
   "metadata": {},
   "source": [
    "You can also embed code for illustration or description, by wrapping your text in \"```\" on either side:\n",
    "\n",
    "```\n",
    "print('Hello World!')\n",
    "return True\n",
    "```"
   ]
  },
  {
   "cell_type": "markdown",
   "metadata": {},
   "source": [
    "Finally, you can also include images. We will save the plot we made earlier using a code cell, then manually add it into a cell."
   ]
  },
  {
   "cell_type": "code",
   "execution_count": 11,
   "metadata": {},
   "outputs": [
    {
     "data": {
      "image/png": "[encoded data removed]",
      "text/plain": [
       "<Figure size 640x480 with 1 Axes>"
      ]
     },
     "metadata": {},
     "output_type": "display_data"
    }
   ],
   "source": [
    "plt.plot(X, y, 'b.')\n",
    "plt.savefig('test_plot.png')"
   ]
  },
  {
   "cell_type": "markdown",
   "metadata": {},
   "source": [
    "You include images using HTML style tags: e.g. ```<img src='test_plot.png' align='center' height=600>```"
   ]
  },
  {
   "cell_type": "markdown",
   "metadata": {},
   "source": [
    "<img src='test_plot.png' align='center' height=600>"
   ]
  },
  {
   "cell_type": "markdown",
   "metadata": {},
   "source": [
    "You can also write LaTeX in Markdown cells, both inline and as equations:\n",
    "\n",
    "```$e^{i\\pi} + 1 = 0$``` gives $e^{i\\pi} + 1  = 0$\n",
    "\n",
    "```\n",
    "\\begin{equation}\n",
    "e^x \\approx \\sum_{i = 0}^\\infty \\frac{x^n}{n!}\n",
    "\\end{equation}\n",
    "```\n",
    "gives\n",
    "\\begin{equation}\n",
    "e^x \\approx \\sum_{i = 0}^\\infty \\frac{x^n}{n!}\n",
    "\\end{equation}\n",
    "\n",
    "and so on.\n"
   ]
  },
  {
   "cell_type": "markdown",
   "metadata": {},
   "source": [
    "You can find more information about Markdown for Jupyter Notebooks [here](https://jupyter-notebook.readthedocs.io/en/stable/examples/Notebook/Working%20With%20Markdown%20Cells.html)."
   ]
  },
  {
   "cell_type": "markdown",
   "metadata": {},
   "source": [
    "### Summary\n",
    "\n",
    "In this section, you have been introduced to Jupyter Notebooks. This has included:\n",
    "\n",
    "* Differences between Markdown and code cells\n",
    "* Some of the Markdown you can use to format your cells\n",
    "\n",
    "The next section will cover data handling using the Python library `pandas`."
   ]
  },
  {
   "cell_type": "markdown",
   "metadata": {},
   "source": [
    "<hr style=\"border:2px solid gray\"> \n",
    "\n",
    "# Section Three: Data Handling using Pandas [^](#outline)"
   ]
  },
  {
   "cell_type": "markdown",
   "metadata": {},
   "source": [
    "**Pandas** is a Python library for data manipulation, analysis and display. It is very commonly used for data science. There are two main ways of formatting data using Pandas: **Series** and **DataFrame**. In general, Series are smaller than DataFrames and less commonly used, so we will focus on DataFrames.\n",
    "\n",
    "DataFrames are a tabular data structure similar to Excel spreadsheets: data is organised into rows and columns, and can have labels in either dimension. You can read and write spreadsheets to and from Pandas DataFrames. "
   ]
  },
  {
   "cell_type": "markdown",
   "metadata": {},
   "source": [
    "## Creating a DataFrame\n",
    "\n",
    "\n",
    "\n",
    "A DataFrame is a 2D data structure that is composed of the following components:\n",
    "- The data\n",
    "- The index - This is the row number of the DataFrame\n",
    "- The columns - These are labelled with headers\n",
    "\n",
    "The information at the 'top' of the DataFrame contains are known as **headers**. These allow you to access your data without needing to use indices. The cell below shows two equivalent ways to create a DataFrame.\n"
   ]
  },
  {
   "cell_type": "code",
   "execution_count": 12,
   "metadata": {},
   "outputs": [
    {
     "data": {
      "text/html": [
       "<div>\n",
       "<style scoped>\n",
       "    .dataframe tbody tr th:only-of-type {\n",
       "        vertical-align: middle;\n",
       "    }\n",
       "\n",
       "    .dataframe tbody tr th {\n",
       "        vertical-align: top;\n",
       "    }\n",
       "\n",
       "    .dataframe thead th {\n",
       "        text-align: right;\n",
       "    }\n",
       "</style>\n",
       "<table border=\"1\" class=\"dataframe\">\n",
       "  <thead>\n",
       "    <tr style=\"text-align: right;\">\n",
       "      <th></th>\n",
       "      <th>Name</th>\n",
       "      <th>Breed</th>\n",
       "      <th>Age</th>\n",
       "    </tr>\n",
       "  </thead>\n",
       "  <tbody>\n",
       "    <tr>\n",
       "      <th>0</th>\n",
       "      <td>Rex</td>\n",
       "      <td>bulldog</td>\n",
       "      <td>2.0</td>\n",
       "    </tr>\n",
       "    <tr>\n",
       "      <th>1</th>\n",
       "      <td>Bruno</td>\n",
       "      <td>labrador</td>\n",
       "      <td>4.0</td>\n",
       "    </tr>\n",
       "    <tr>\n",
       "      <th>2</th>\n",
       "      <td>Biffa</td>\n",
       "      <td>doberman</td>\n",
       "      <td>12.0</td>\n",
       "    </tr>\n",
       "    <tr>\n",
       "      <th>3</th>\n",
       "      <td>Queeny</td>\n",
       "      <td>poodle</td>\n",
       "      <td>0.5</td>\n",
       "    </tr>\n",
       "    <tr>\n",
       "      <th>4</th>\n",
       "      <td>Bob</td>\n",
       "      <td>pug</td>\n",
       "      <td>7.0</td>\n",
       "    </tr>\n",
       "  </tbody>\n",
       "</table>\n",
       "</div>"
      ],
      "text/plain": [
       "     Name     Breed   Age\n",
       "0     Rex   bulldog   2.0\n",
       "1   Bruno  labrador   4.0\n",
       "2   Biffa  doberman  12.0\n",
       "3  Queeny    poodle   0.5\n",
       "4     Bob       pug   7.0"
      ]
     },
     "metadata": {},
     "output_type": "display_data"
    },
    {
     "data": {
      "text/html": [
       "<div>\n",
       "<style scoped>\n",
       "    .dataframe tbody tr th:only-of-type {\n",
       "        vertical-align: middle;\n",
       "    }\n",
       "\n",
       "    .dataframe tbody tr th {\n",
       "        vertical-align: top;\n",
       "    }\n",
       "\n",
       "    .dataframe thead th {\n",
       "        text-align: right;\n",
       "    }\n",
       "</style>\n",
       "<table border=\"1\" class=\"dataframe\">\n",
       "  <thead>\n",
       "    <tr style=\"text-align: right;\">\n",
       "      <th></th>\n",
       "      <th>Name</th>\n",
       "      <th>Breed</th>\n",
       "      <th>Age</th>\n",
       "    </tr>\n",
       "  </thead>\n",
       "  <tbody>\n",
       "    <tr>\n",
       "      <th>0</th>\n",
       "      <td>Rex</td>\n",
       "      <td>bulldog</td>\n",
       "      <td>2.0</td>\n",
       "    </tr>\n",
       "    <tr>\n",
       "      <th>1</th>\n",
       "      <td>Bruno</td>\n",
       "      <td>labrador</td>\n",
       "      <td>4.0</td>\n",
       "    </tr>\n",
       "    <tr>\n",
       "      <th>2</th>\n",
       "      <td>Biffa</td>\n",
       "      <td>doberman</td>\n",
       "      <td>12.0</td>\n",
       "    </tr>\n",
       "    <tr>\n",
       "      <th>3</th>\n",
       "      <td>Queeny</td>\n",
       "      <td>poodle</td>\n",
       "      <td>0.5</td>\n",
       "    </tr>\n",
       "    <tr>\n",
       "      <th>4</th>\n",
       "      <td>Bob</td>\n",
       "      <td>pug</td>\n",
       "      <td>7.0</td>\n",
       "    </tr>\n",
       "  </tbody>\n",
       "</table>\n",
       "</div>"
      ],
      "text/plain": [
       "     Name     Breed   Age\n",
       "0     Rex   bulldog   2.0\n",
       "1   Bruno  labrador   4.0\n",
       "2   Biffa  doberman  12.0\n",
       "3  Queeny    poodle   0.5\n",
       "4     Bob       pug   7.0"
      ]
     },
     "metadata": {},
     "output_type": "display_data"
    }
   ],
   "source": [
    "import pandas as pd\n",
    "\n",
    "# Method 1: Set data as dictionary structure. Data formatted in columns\n",
    "\n",
    "data={'Name':[\"Rex\",\"Bruno\",\"Biffa\",\"Queeny\", \"Bob\"],\n",
    "     'Breed':[\"bulldog\",\"labrador\",\"doberman\",\"poodle\", \"pug\"],\n",
    "     'Age':[2,4,12,0.5, 7]}\n",
    "\n",
    "dogs=pd.DataFrame(data)\n",
    "\n",
    "display(dogs)\n",
    "\n",
    "# Method 2: Splitting Headers and data. Data formatted in rows\n",
    "\n",
    "d=[[\"Rex\",\"bulldog\",2],\n",
    "    [\"Bruno\",\"labrador\",4],\n",
    "    [\"Biffa\", \"doberman\", 12],\n",
    "    [\"Queeny\",\"poodle\", 0.5],\n",
    "    [\"Bob\", \"pug\", 7]]\n",
    "\n",
    "Headers=['Name', 'Breed', 'Age']\n",
    "\n",
    "dogs2=pd.DataFrame(data=d,columns=Headers)\n",
    "\n",
    "display(dogs2)\n"
   ]
  },
  {
   "cell_type": "markdown",
   "metadata": {},
   "source": [
    "\n",
    "The first column is the **index**, and you can be used to specify which rows of data you want to display. \n",
    "\n",
    "Using ```display``` rather than ```print``` results in nicer formatting.\n"
   ]
  },
  {
   "cell_type": "code",
   "execution_count": null,
   "metadata": {},
   "outputs": [],
   "source": [
    "display(dogs[2:4])\n",
    "print(dogs[2:4])\n",
    "print ()\n",
    "print(type(dogs[2:4]))\n"
   ]
  },
  {
   "cell_type": "markdown",
   "metadata": {},
   "source": [
    "An alternative way to access a row of data is through the `df.loc` method (loc stands for location), where df is replaced by th DataFrame of interest. Note that in the first example, the printed data is stored in a pandas Series.\n"
   ]
  },
  {
   "cell_type": "code",
   "execution_count": null,
   "metadata": {},
   "outputs": [],
   "source": [
    "display(dogs.loc[0]) \n",
    "print()\n",
    "print(type(dogs.loc[0]))\n",
    "print()\n",
    "display(dogs.loc[[0,1]]) \n",
    "print()\n",
    "print(type(dogs.loc[[0,1]]))\n"
   ]
  },
  {
   "cell_type": "markdown",
   "metadata": {},
   "source": [
    "We can use the names of the headers to display particular columns. If the name is a simple string, we can use the `df.header` method, else we can use square brackets.\n"
   ]
  },
  {
   "cell_type": "code",
   "execution_count": null,
   "metadata": {},
   "outputs": [],
   "source": [
    "display(dogs.Name)\n",
    "display(dogs[['Breed', 'Age']])\n"
   ]
  },
  {
   "cell_type": "markdown",
   "metadata": {},
   "source": [
    "It is possible to change the index to something more relevant, although our example DataFrame does not lend itself well to this.\n",
    "\n",
    "Note that in this example, the data is displayed up to and including 'b' and 'd' (unlike in the celle above, where only two rows were displayed).\n",
    "\n",
    "We can also use loc to access a particular row based on the index. If we want to access a row based on its position (such as how the data was indexed before), we can use the `iloc` argument. This stands for **integer location**.\n"
   ]
  },
  {
   "cell_type": "code",
   "execution_count": null,
   "metadata": {},
   "outputs": [],
   "source": [
    "dogs=pd.DataFrame(data,index=[\"a\",\"b\",\"c\",\"d\", \"e\"])\n",
    "display(dogs[\"b\":\"d\"]) \n",
    "display(dogs.loc[\"b\":\"d\"])\n",
    "display(dogs.iloc[2:4]) # Does not include index 4 row\n",
    "\n"
   ]
  },
  {
   "cell_type": "markdown",
   "metadata": {},
   "source": [
    "To insert a new column into the DataFrame, simply perform:\n"
   ]
  },
  {
   "cell_type": "code",
   "execution_count": null,
   "metadata": {},
   "outputs": [],
   "source": [
    "dogs[\"Length\"]=[50,100,105,85, 40]\n",
    "display(dogs)\n"
   ]
  },
  {
   "cell_type": "markdown",
   "metadata": {},
   "source": [
    "You can even create columns that are functions of other columns. Pandas performs this very quickly. \n"
   ]
  },
  {
   "cell_type": "code",
   "execution_count": null,
   "metadata": {},
   "outputs": [],
   "source": [
    "dogs[\"combination\"]=dogs.Age*dogs.Length\n",
    "display(dogs)"
   ]
  },
  {
   "cell_type": "markdown",
   "metadata": {},
   "source": [
    "<hr style=\"border:2px solid gray\"> \n",
    "\n",
    "# Section Four: Data Visualisation [^](#outline)"
   ]
  },
  {
   "cell_type": "code",
   "execution_count": null,
   "metadata": {},
   "outputs": [],
   "source": [
    "# "
   ]
  }
 ],
 "metadata": {
  "kernelspec": {
   "display_name": "MLCourseEnv",
   "language": "python",
   "name": "python3"
  },
  "language_info": {
   "codemirror_mode": {
    "name": "ipython",
    "version": 3
   },
   "file_extension": ".py",
   "mimetype": "text/x-python",
   "name": "python",
   "nbconvert_exporter": "python",
   "pygments_lexer": "ipython3",
   "version": "3.9.7"
  },
  "orig_nbformat": 4
 },
 "nbformat": 4,
 "nbformat_minor": 2
}
