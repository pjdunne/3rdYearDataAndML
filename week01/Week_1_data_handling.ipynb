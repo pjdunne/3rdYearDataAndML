{
 "cells": [
  {
   "cell_type": "markdown",
   "metadata": {},
   "source": [
    "# Week 1 - Data structure, handling and visualisation\n"
   ]
  },
  {
   "cell_type": "markdown",
   "metadata": {},
   "source": [
    "<hr style=\"border:2px solid gray\">\n",
    "\n",
    "# Outline <a id='outline'></a>\n",
    "1. [Section One: Course Preliminaries](#)\n",
    "1. [Section Two: Introduction to Jupyter Notebooks](#)\n",
    "1. [Section Three: ](#)\n",
    "1. [Section Four: ](#)\n",
    "1. [Section Five: ](#)\n"
   ]
  },
  {
   "cell_type": "markdown",
   "metadata": {},
   "source": [
    "<hr style=\"border:2px solid gray\"> \n",
    "\n",
    "# Section One: Course Preliminaries [^](#outline)"
   ]
  },
  {
   "cell_type": "markdown",
   "metadata": {},
   "source": [
    "### Insert general information here"
   ]
  },
  {
   "cell_type": "markdown",
   "metadata": {},
   "source": [
    "## Formatting\n",
    "\n",
    "Throughout the notebooks you will use in this course, a colour-coding scheme has been adopted to make it clear what content is non-examinable, optional, or exercises/examples you should work through. These are denoted as follows\n",
    "\n"
   ]
  },
  {
   "cell_type": "markdown",
   "metadata": {},
   "source": [
    "<div style=\"background-color: #FFF8C6\">\n",
    "\n",
    "### Optional, non-examinable\n",
    "\n",
    "This colour denotes content that is optional and non-examinable. Often useful for general awareness of machine learning more broadly, but not critical for the purposes of this course."
   ]
  },
  {
   "cell_type": "markdown",
   "metadata": {},
   "source": [
    "<div style=\"background-color:#FFCCCB\">\n",
    "\n",
    "\n",
    "### Non-examinable mathematics\n",
    "\n",
    "This colour denotes mathematics that is non-examinable, but important; you will not be expected to reproduce this mathematics in an exam, but it is in general important for your understanding of the content presented."
   ]
  },
  {
   "cell_type": "markdown",
   "metadata": {},
   "source": [
    "<div style=\"background-color:#C2F5DD\">\n",
    "\n",
    "\n",
    "### Examples and exercises\n",
    "\n",
    "This colour denotes examples and exercises that you should work through. "
   ]
  },
  {
   "cell_type": "markdown",
   "metadata": {},
   "source": [
    "<div style=\"background-color:#efdff2\">\n",
    "\n",
    "### Appendices\n",
    "\n",
    "This colour denotes appendices; these contain longer pieces of non-examinable explanation or mathematics for your own interest and are not required to understand the material."
   ]
  },
  {
   "cell_type": "markdown",
   "metadata": {},
   "source": [
    "Keywords are denoted in **bold**. Each notebook contains a glossary at the end with a review of the definitions of key terms for easy reference."
   ]
  },
  {
   "cell_type": "markdown",
   "metadata": {},
   "source": [
    "<hr style=\"border:2px solid gray\"> \n",
    "\n",
    "# Section Two: Introduction to Jupyter Notebooks [^](#outline)"
   ]
  },
  {
   "cell_type": "markdown",
   "metadata": {},
   "source": [
    "Throughout your degree so far, the majority of you will have worked with a development environment such as Spyder or Visual Studio Code. Throughout this course, each week you will have a **Jupyter Notebook** such as this one. These allow you to include text cells, images and so on alongside blocks of code, to write explanations of your code or include relevant theory. \n",
    "\n",
    "The notebook sources a local Python environment to tell it what packages are available. Broadly speaking, a notebook is divided into **code** cells and **Markdown** cells. Code cells are exactly what you would expect: namely, you can write Python code in these cells. For example, we can generate some random data and plot it:"
   ]
  },
  {
   "cell_type": "code",
   "execution_count": 8,
   "metadata": {},
   "outputs": [],
   "source": [
    "import numpy as np\n",
    "import matplotlib.pyplot as plt\n",
    "\n",
    "X = np.random.uniform(-3,3,50)\n",
    "y = np.sin(X) + np.random.normal(loc = 0, scale = 0.3, size = 50)"
   ]
  },
  {
   "cell_type": "markdown",
   "metadata": {},
   "source": [
    "Variables defined in one cell carry over into other cells and throughout the whole notebook. That way, you don't need to re-run all of your code to try something new."
   ]
  },
  {
   "cell_type": "code",
   "execution_count": 9,
   "metadata": {},
   "outputs": [
    {
     "data": {
      "text/plain": [
       "[<matplotlib.lines.Line2D at 0x243c7b6dac0>]"
      ]
     },
     "execution_count": 9,
     "metadata": {},
     "output_type": "execute_result"
    },
    {
     "data": {
      "image/png": "[encoded data removed]",
      "text/plain": [
       "<Figure size 640x480 with 1 Axes>"
      ]
     },
     "metadata": {},
     "output_type": "display_data"
    }
   ],
   "source": [
    "plt.plot(X,y,'b.')"
   ]
  },
  {
   "cell_type": "markdown",
   "metadata": {},
   "source": [
    "As well as code cells, **Markdown** cells let us add text. Markdown is a markup language that is a superset of HTML, which you can use to format the text you write in these cells. You can change a cell type to Markdown using the ```Cell``` menu, the toolbar, or the default key shortcut ```m```. \n",
    "\n",
    "You can write in *italics* by enclosing the relevant words in single * on either side\n",
    "\n",
    "You can write in **bold** by using two * on either side of the text in question\n"
   ]
  },
  {
   "cell_type": "markdown",
   "metadata": {},
   "source": [
    "You can write bullet points by starting a line with \"- \" or \"* \", and indent them for multiple layers:\n",
    "\n",
    "* Bullet 1\n",
    "    * Bullet 2\n",
    "        * Bullet 2a\n",
    "    * Bullet 3\n",
    "\n",
    "You can also write enumerated lists by starting a line with \"1. \"; the specific number does not matter as numbering (and numbering of sublists) is determined automatically:\n",
    "\n",
    "1. Thing One\n",
    "    1. Other Thing One\n",
    "1. Thing Two\n",
    "    1. Thing Two A\n",
    "    1. Thing Two B\n",
    "    1. Thing Two C\n",
    "1. Thing Three\n"
   ]
  },
  {
   "cell_type": "markdown",
   "metadata": {},
   "source": [
    "You can make horizontal lines using \"___\":\n",
    "\n",
    "___\n",
    "\n",
    "And you can include hyperlinks via \"[Text for link](link address)\":\n",
    "\n",
    "[Jupyter website](https://jupyter.org/)\n",
    "\n"
   ]
  },
  {
   "cell_type": "markdown",
   "metadata": {},
   "source": [
    "You can make headings by starting a line with a #, followed by a space; more # means a smaller heading\n",
    "\n",
    "# Big heading\n",
    "## Smaller heading\n",
    "### Smaller heading again\n",
    "#### Smaller again"
   ]
  },
  {
   "cell_type": "markdown",
   "metadata": {},
   "source": [
    "You can also embed code for illustration or description, by wrapping your text in \"```\" on either side:\n",
    "\n",
    "```\n",
    "print('Hello World!')\n",
    "return True\n",
    "```"
   ]
  },
  {
   "cell_type": "markdown",
   "metadata": {},
   "source": [
    "Finally, you can also include images. We will save the plot we made earlier using a code cell, then manually add it into a cell."
   ]
  },
  {
   "cell_type": "code",
   "execution_count": 11,
   "metadata": {},
   "outputs": [
    {
     "data": {
      "image/png": "[encoded data removed]",
      "text/plain": [
       "<Figure size 640x480 with 1 Axes>"
      ]
     },
     "metadata": {},
     "output_type": "display_data"
    }
   ],
   "source": [
    "plt.plot(X, y, 'b.')\n",
    "plt.savefig('test_plot.png')"
   ]
  },
  {
   "cell_type": "markdown",
   "metadata": {},
   "source": [
    "You include images using HTML style tags: e.g. ```<img src='test_plot.png' align='center' height=600>```"
   ]
  },
  {
   "cell_type": "markdown",
   "metadata": {},
   "source": [
    "<img src='test_plot.png' align='center' height=600>"
   ]
  },
  {
   "cell_type": "markdown",
   "metadata": {},
   "source": [
    "You can also write LaTeX in Markdown cells, both inline and as equations:\n",
    "\n",
    "```$e^{i\\pi} + 1 = 0$``` gives $e^{i\\pi} + 1  = 0$\n",
    "\n",
    "```\n",
    "\\begin{equation}\n",
    "e^x \\approx \\sum_{i = 0}^\\infty \\frac{x^n}{n!}\n",
    "\\end{equation}\n",
    "```\n",
    "gives\n",
    "\\begin{equation}\n",
    "e^x \\approx \\sum_{i = 0}^\\infty \\frac{x^n}{n!}\n",
    "\\end{equation}\n",
    "\n",
    "and so on.\n"
   ]
  },
  {
   "cell_type": "markdown",
   "metadata": {},
   "source": [
    "You can find more information about Markdown for Jupyter Notebooks [here](https://jupyter-notebook.readthedocs.io/en/stable/examples/Notebook/Working%20With%20Markdown%20Cells.html)."
   ]
  },
  {
   "cell_type": "markdown",
   "metadata": {},
   "source": [
    "### Summary\n",
    "\n",
    "In this section, you have been introduced to Jupyter Notebooks. This has included:\n",
    "\n",
    "* Differences between Markdown and code cells\n",
    "* Some of the Markdown you can use to format your cells\n",
    "\n",
    "The next section will cover data handling using the Python library `pandas`."
   ]
  },
  {
   "cell_type": "markdown",
   "metadata": {},
   "source": [
    "<hr style=\"border:2px solid gray\"> \n",
    "\n",
    "# Section Three: Data Handling using Pandas [^](#outline)"
   ]
  },
  {
   "cell_type": "markdown",
   "metadata": {},
   "source": [
    "**Pandas** is a Python library for data manipulation, analysis and display. It is very commonly used for data science. There are two main ways of formatting data using Pandas: **Series** and **DataFrame**. In general, Series are smaller than DataFrames and less commonly used, so we will focus on DataFrames.\n",
    "\n",
    "DataFrames are a tabular data structure similar to Excel spreadsheets: data is organised into rows and columns, and can have labels in either dimension. You can read and write spreadsheets to and from Pandas DataFrames. "
   ]
  },
  {
   "cell_type": "markdown",
   "metadata": {},
   "source": [
    "## Creating a DataFrame\n",
    "\n",
    "\n",
    "\n",
    "A DataFrame is a 2D data structure that is composed of the following components:\n",
    "- The data\n",
    "- The index - This is the row number of the DataFrame\n",
    "- The columns - These are labelled with headers\n",
    "\n",
    "The information at the 'top' of the DataFrame contains are known as **headers**. These allow you to access your data without needing to use indices. The cell below shows two equivalent ways to create a DataFrame.\n"
   ]
  },
  {
   "cell_type": "code",
   "execution_count": 2,
   "metadata": {},
   "outputs": [
    {
     "data": {
      "text/html": [
       "<div>\n",
       "<style scoped>\n",
       "    .dataframe tbody tr th:only-of-type {\n",
       "        vertical-align: middle;\n",
       "    }\n",
       "\n",
       "    .dataframe tbody tr th {\n",
       "        vertical-align: top;\n",
       "    }\n",
       "\n",
       "    .dataframe thead th {\n",
       "        text-align: right;\n",
       "    }\n",
       "</style>\n",
       "<table border=\"1\" class=\"dataframe\">\n",
       "  <thead>\n",
       "    <tr style=\"text-align: right;\">\n",
       "      <th></th>\n",
       "      <th>Name</th>\n",
       "      <th>Breed</th>\n",
       "      <th>Age</th>\n",
       "    </tr>\n",
       "  </thead>\n",
       "  <tbody>\n",
       "    <tr>\n",
       "      <th>0</th>\n",
       "      <td>Rex</td>\n",
       "      <td>bulldog</td>\n",
       "      <td>2.0</td>\n",
       "    </tr>\n",
       "    <tr>\n",
       "      <th>1</th>\n",
       "      <td>Bruno</td>\n",
       "      <td>labrador</td>\n",
       "      <td>4.0</td>\n",
       "    </tr>\n",
       "    <tr>\n",
       "      <th>2</th>\n",
       "      <td>Biffa</td>\n",
       "      <td>doberman</td>\n",
       "      <td>12.0</td>\n",
       "    </tr>\n",
       "    <tr>\n",
       "      <th>3</th>\n",
       "      <td>Queeny</td>\n",
       "      <td>poodle</td>\n",
       "      <td>0.5</td>\n",
       "    </tr>\n",
       "    <tr>\n",
       "      <th>4</th>\n",
       "      <td>Bob</td>\n",
       "      <td>pug</td>\n",
       "      <td>7.0</td>\n",
       "    </tr>\n",
       "  </tbody>\n",
       "</table>\n",
       "</div>"
      ],
      "text/plain": [
       "     Name     Breed   Age\n",
       "0     Rex   bulldog   2.0\n",
       "1   Bruno  labrador   4.0\n",
       "2   Biffa  doberman  12.0\n",
       "3  Queeny    poodle   0.5\n",
       "4     Bob       pug   7.0"
      ]
     },
     "metadata": {},
     "output_type": "display_data"
    },
    {
     "data": {
      "text/html": [
       "<div>\n",
       "<style scoped>\n",
       "    .dataframe tbody tr th:only-of-type {\n",
       "        vertical-align: middle;\n",
       "    }\n",
       "\n",
       "    .dataframe tbody tr th {\n",
       "        vertical-align: top;\n",
       "    }\n",
       "\n",
       "    .dataframe thead th {\n",
       "        text-align: right;\n",
       "    }\n",
       "</style>\n",
       "<table border=\"1\" class=\"dataframe\">\n",
       "  <thead>\n",
       "    <tr style=\"text-align: right;\">\n",
       "      <th></th>\n",
       "      <th>Name</th>\n",
       "      <th>Breed</th>\n",
       "      <th>Age</th>\n",
       "    </tr>\n",
       "  </thead>\n",
       "  <tbody>\n",
       "    <tr>\n",
       "      <th>0</th>\n",
       "      <td>Rex</td>\n",
       "      <td>bulldog</td>\n",
       "      <td>2.0</td>\n",
       "    </tr>\n",
       "    <tr>\n",
       "      <th>1</th>\n",
       "      <td>Bruno</td>\n",
       "      <td>labrador</td>\n",
       "      <td>4.0</td>\n",
       "    </tr>\n",
       "    <tr>\n",
       "      <th>2</th>\n",
       "      <td>Biffa</td>\n",
       "      <td>doberman</td>\n",
       "      <td>12.0</td>\n",
       "    </tr>\n",
       "    <tr>\n",
       "      <th>3</th>\n",
       "      <td>Queeny</td>\n",
       "      <td>poodle</td>\n",
       "      <td>0.5</td>\n",
       "    </tr>\n",
       "    <tr>\n",
       "      <th>4</th>\n",
       "      <td>Bob</td>\n",
       "      <td>pug</td>\n",
       "      <td>7.0</td>\n",
       "    </tr>\n",
       "  </tbody>\n",
       "</table>\n",
       "</div>"
      ],
      "text/plain": [
       "     Name     Breed   Age\n",
       "0     Rex   bulldog   2.0\n",
       "1   Bruno  labrador   4.0\n",
       "2   Biffa  doberman  12.0\n",
       "3  Queeny    poodle   0.5\n",
       "4     Bob       pug   7.0"
      ]
     },
     "metadata": {},
     "output_type": "display_data"
    }
   ],
   "source": [
    "import pandas as pd\n",
    "\n",
    "# Method 1: Set data as dictionary structure. Data formatted in columns\n",
    "\n",
    "data={'Name':[\"Rex\",\"Bruno\",\"Biffa\",\"Queeny\", \"Bob\"],\n",
    "     'Breed':[\"bulldog\",\"labrador\",\"doberman\",\"poodle\", \"pug\"],\n",
    "     'Age':[2,4,12,0.5, 7]}\n",
    "\n",
    "dogs=pd.DataFrame(data)\n",
    "\n",
    "display(dogs)\n",
    "\n",
    "# Method 2: Splitting Headers and data. Data formatted in rows\n",
    "\n",
    "d=[[\"Rex\",\"bulldog\",2],\n",
    "    [\"Bruno\",\"labrador\",4],\n",
    "    [\"Biffa\", \"doberman\", 12],\n",
    "    [\"Queeny\",\"poodle\", 0.5],\n",
    "    [\"Bob\", \"pug\", 7]]\n",
    "\n",
    "Headers=['Name', 'Breed', 'Age']\n",
    "\n",
    "dogs2=pd.DataFrame(data=d,columns=Headers)\n",
    "\n",
    "display(dogs2)\n"
   ]
  },
  {
   "cell_type": "markdown",
   "metadata": {},
   "source": [
    "\n",
    "The first column is the **index**, and you can be used to specify which rows of data you want to display. \n",
    "\n",
    "Using ```display``` rather than ```print``` results in nicer formatting.\n"
   ]
  },
  {
   "cell_type": "code",
   "execution_count": 3,
   "metadata": {},
   "outputs": [
    {
     "data": {
      "text/html": [
       "<div>\n",
       "<style scoped>\n",
       "    .dataframe tbody tr th:only-of-type {\n",
       "        vertical-align: middle;\n",
       "    }\n",
       "\n",
       "    .dataframe tbody tr th {\n",
       "        vertical-align: top;\n",
       "    }\n",
       "\n",
       "    .dataframe thead th {\n",
       "        text-align: right;\n",
       "    }\n",
       "</style>\n",
       "<table border=\"1\" class=\"dataframe\">\n",
       "  <thead>\n",
       "    <tr style=\"text-align: right;\">\n",
       "      <th></th>\n",
       "      <th>Name</th>\n",
       "      <th>Breed</th>\n",
       "      <th>Age</th>\n",
       "    </tr>\n",
       "  </thead>\n",
       "  <tbody>\n",
       "    <tr>\n",
       "      <th>2</th>\n",
       "      <td>Biffa</td>\n",
       "      <td>doberman</td>\n",
       "      <td>12.0</td>\n",
       "    </tr>\n",
       "    <tr>\n",
       "      <th>3</th>\n",
       "      <td>Queeny</td>\n",
       "      <td>poodle</td>\n",
       "      <td>0.5</td>\n",
       "    </tr>\n",
       "  </tbody>\n",
       "</table>\n",
       "</div>"
      ],
      "text/plain": [
       "     Name     Breed   Age\n",
       "2   Biffa  doberman  12.0\n",
       "3  Queeny    poodle   0.5"
      ]
     },
     "metadata": {},
     "output_type": "display_data"
    },
    {
     "name": "stdout",
     "output_type": "stream",
     "text": [
      "     Name     Breed   Age\n",
      "2   Biffa  doberman  12.0\n",
      "3  Queeny    poodle   0.5\n",
      "\n",
      "<class 'pandas.core.frame.DataFrame'>\n"
     ]
    }
   ],
   "source": [
    "display(dogs[2:4])\n",
    "print(dogs[2:4])\n",
    "print ()\n",
    "print(type(dogs[2:4]))\n"
   ]
  },
  {
   "cell_type": "markdown",
   "metadata": {},
   "source": [
    "An alternative way to access a row of data is through the `df.loc` method (loc stands for location), where `df` is replaced by the DataFrame of interest. Note that in the first example, the printed data is stored in a pandas Series.\n"
   ]
  },
  {
   "cell_type": "code",
   "execution_count": 4,
   "metadata": {},
   "outputs": [
    {
     "data": {
      "text/plain": [
       "Name         Rex\n",
       "Breed    bulldog\n",
       "Age          2.0\n",
       "Name: 0, dtype: object"
      ]
     },
     "metadata": {},
     "output_type": "display_data"
    },
    {
     "name": "stdout",
     "output_type": "stream",
     "text": [
      "\n",
      "<class 'pandas.core.series.Series'>\n",
      "\n"
     ]
    },
    {
     "data": {
      "text/html": [
       "<div>\n",
       "<style scoped>\n",
       "    .dataframe tbody tr th:only-of-type {\n",
       "        vertical-align: middle;\n",
       "    }\n",
       "\n",
       "    .dataframe tbody tr th {\n",
       "        vertical-align: top;\n",
       "    }\n",
       "\n",
       "    .dataframe thead th {\n",
       "        text-align: right;\n",
       "    }\n",
       "</style>\n",
       "<table border=\"1\" class=\"dataframe\">\n",
       "  <thead>\n",
       "    <tr style=\"text-align: right;\">\n",
       "      <th></th>\n",
       "      <th>Name</th>\n",
       "      <th>Breed</th>\n",
       "      <th>Age</th>\n",
       "    </tr>\n",
       "  </thead>\n",
       "  <tbody>\n",
       "    <tr>\n",
       "      <th>0</th>\n",
       "      <td>Rex</td>\n",
       "      <td>bulldog</td>\n",
       "      <td>2.0</td>\n",
       "    </tr>\n",
       "    <tr>\n",
       "      <th>1</th>\n",
       "      <td>Bruno</td>\n",
       "      <td>labrador</td>\n",
       "      <td>4.0</td>\n",
       "    </tr>\n",
       "  </tbody>\n",
       "</table>\n",
       "</div>"
      ],
      "text/plain": [
       "    Name     Breed  Age\n",
       "0    Rex   bulldog  2.0\n",
       "1  Bruno  labrador  4.0"
      ]
     },
     "metadata": {},
     "output_type": "display_data"
    },
    {
     "name": "stdout",
     "output_type": "stream",
     "text": [
      "\n",
      "<class 'pandas.core.frame.DataFrame'>\n"
     ]
    }
   ],
   "source": [
    "display(dogs.loc[0]) \n",
    "print()\n",
    "print(type(dogs.loc[0]))\n",
    "print()\n",
    "display(dogs.loc[[0,1]]) \n",
    "print()\n",
    "print(type(dogs.loc[[0,1]]))\n"
   ]
  },
  {
   "cell_type": "markdown",
   "metadata": {},
   "source": [
    "We can use the names of the headers to display particular columns. If the name is a simple string, we can use the `df.header` method (where you replace header with the name of the desired column), else we can use square brackets. You can also use square brackets to look at multiple headers at once:\n"
   ]
  },
  {
   "cell_type": "code",
   "execution_count": 6,
   "metadata": {},
   "outputs": [
    {
     "data": {
      "text/plain": [
       "0       Rex\n",
       "1     Bruno\n",
       "2     Biffa\n",
       "3    Queeny\n",
       "4       Bob\n",
       "Name: Name, dtype: object"
      ]
     },
     "metadata": {},
     "output_type": "display_data"
    },
    {
     "data": {
      "text/plain": [
       "0       Rex\n",
       "1     Bruno\n",
       "2     Biffa\n",
       "3    Queeny\n",
       "4       Bob\n",
       "Name: Name, dtype: object"
      ]
     },
     "metadata": {},
     "output_type": "display_data"
    },
    {
     "data": {
      "text/html": [
       "<div>\n",
       "<style scoped>\n",
       "    .dataframe tbody tr th:only-of-type {\n",
       "        vertical-align: middle;\n",
       "    }\n",
       "\n",
       "    .dataframe tbody tr th {\n",
       "        vertical-align: top;\n",
       "    }\n",
       "\n",
       "    .dataframe thead th {\n",
       "        text-align: right;\n",
       "    }\n",
       "</style>\n",
       "<table border=\"1\" class=\"dataframe\">\n",
       "  <thead>\n",
       "    <tr style=\"text-align: right;\">\n",
       "      <th></th>\n",
       "      <th>Name</th>\n",
       "      <th>Breed</th>\n",
       "    </tr>\n",
       "  </thead>\n",
       "  <tbody>\n",
       "    <tr>\n",
       "      <th>0</th>\n",
       "      <td>Rex</td>\n",
       "      <td>bulldog</td>\n",
       "    </tr>\n",
       "    <tr>\n",
       "      <th>1</th>\n",
       "      <td>Bruno</td>\n",
       "      <td>labrador</td>\n",
       "    </tr>\n",
       "    <tr>\n",
       "      <th>2</th>\n",
       "      <td>Biffa</td>\n",
       "      <td>doberman</td>\n",
       "    </tr>\n",
       "    <tr>\n",
       "      <th>3</th>\n",
       "      <td>Queeny</td>\n",
       "      <td>poodle</td>\n",
       "    </tr>\n",
       "    <tr>\n",
       "      <th>4</th>\n",
       "      <td>Bob</td>\n",
       "      <td>pug</td>\n",
       "    </tr>\n",
       "  </tbody>\n",
       "</table>\n",
       "</div>"
      ],
      "text/plain": [
       "     Name     Breed\n",
       "0     Rex   bulldog\n",
       "1   Bruno  labrador\n",
       "2   Biffa  doberman\n",
       "3  Queeny    poodle\n",
       "4     Bob       pug"
      ]
     },
     "metadata": {},
     "output_type": "display_data"
    }
   ],
   "source": [
    "display(dogs.Name)\n",
    "display(dogs['Name'])\n",
    "display(dogs[['Name', 'Breed']])\n"
   ]
  },
  {
   "cell_type": "markdown",
   "metadata": {},
   "source": [
    "It is possible to change the index to something more relevant, although our example DataFrame does not lend itself well to this.\n",
    "\n",
    "\n",
    "We can also use `loc` to access a particular row based on the index. If we want to access a row based on its position (such as how the data was indexed before), we can use the `iloc` method. This stands for **integer location**.\n",
    "\n",
    "Note: indexing by value rather than positional index in inclusive of the end of the slice; e.g. indexing `df[2:4]` would give you rows 2 and 3, but indexing `df['b':'d']` will give you rows b, c and d.\n",
    "\n",
    "Both `loc` and `iloc` can be also used to index specific rows and columns, either by name in the case of `loc` or by positional index in the case of `iloc`.\n"
   ]
  },
  {
   "cell_type": "code",
   "execution_count": 10,
   "metadata": {},
   "outputs": [
    {
     "data": {
      "text/html": [
       "<div>\n",
       "<style scoped>\n",
       "    .dataframe tbody tr th:only-of-type {\n",
       "        vertical-align: middle;\n",
       "    }\n",
       "\n",
       "    .dataframe tbody tr th {\n",
       "        vertical-align: top;\n",
       "    }\n",
       "\n",
       "    .dataframe thead th {\n",
       "        text-align: right;\n",
       "    }\n",
       "</style>\n",
       "<table border=\"1\" class=\"dataframe\">\n",
       "  <thead>\n",
       "    <tr style=\"text-align: right;\">\n",
       "      <th></th>\n",
       "      <th>Name</th>\n",
       "      <th>Breed</th>\n",
       "      <th>Age</th>\n",
       "    </tr>\n",
       "  </thead>\n",
       "  <tbody>\n",
       "    <tr>\n",
       "      <th>b</th>\n",
       "      <td>Bruno</td>\n",
       "      <td>labrador</td>\n",
       "      <td>4.0</td>\n",
       "    </tr>\n",
       "    <tr>\n",
       "      <th>c</th>\n",
       "      <td>Biffa</td>\n",
       "      <td>doberman</td>\n",
       "      <td>12.0</td>\n",
       "    </tr>\n",
       "    <tr>\n",
       "      <th>d</th>\n",
       "      <td>Queeny</td>\n",
       "      <td>poodle</td>\n",
       "      <td>0.5</td>\n",
       "    </tr>\n",
       "  </tbody>\n",
       "</table>\n",
       "</div>"
      ],
      "text/plain": [
       "     Name     Breed   Age\n",
       "b   Bruno  labrador   4.0\n",
       "c   Biffa  doberman  12.0\n",
       "d  Queeny    poodle   0.5"
      ]
     },
     "metadata": {},
     "output_type": "display_data"
    },
    {
     "data": {
      "text/html": [
       "<div>\n",
       "<style scoped>\n",
       "    .dataframe tbody tr th:only-of-type {\n",
       "        vertical-align: middle;\n",
       "    }\n",
       "\n",
       "    .dataframe tbody tr th {\n",
       "        vertical-align: top;\n",
       "    }\n",
       "\n",
       "    .dataframe thead th {\n",
       "        text-align: right;\n",
       "    }\n",
       "</style>\n",
       "<table border=\"1\" class=\"dataframe\">\n",
       "  <thead>\n",
       "    <tr style=\"text-align: right;\">\n",
       "      <th></th>\n",
       "      <th>Name</th>\n",
       "      <th>Breed</th>\n",
       "      <th>Age</th>\n",
       "    </tr>\n",
       "  </thead>\n",
       "  <tbody>\n",
       "    <tr>\n",
       "      <th>b</th>\n",
       "      <td>Bruno</td>\n",
       "      <td>labrador</td>\n",
       "      <td>4.0</td>\n",
       "    </tr>\n",
       "    <tr>\n",
       "      <th>c</th>\n",
       "      <td>Biffa</td>\n",
       "      <td>doberman</td>\n",
       "      <td>12.0</td>\n",
       "    </tr>\n",
       "    <tr>\n",
       "      <th>d</th>\n",
       "      <td>Queeny</td>\n",
       "      <td>poodle</td>\n",
       "      <td>0.5</td>\n",
       "    </tr>\n",
       "  </tbody>\n",
       "</table>\n",
       "</div>"
      ],
      "text/plain": [
       "     Name     Breed   Age\n",
       "b   Bruno  labrador   4.0\n",
       "c   Biffa  doberman  12.0\n",
       "d  Queeny    poodle   0.5"
      ]
     },
     "metadata": {},
     "output_type": "display_data"
    },
    {
     "data": {
      "text/html": [
       "<div>\n",
       "<style scoped>\n",
       "    .dataframe tbody tr th:only-of-type {\n",
       "        vertical-align: middle;\n",
       "    }\n",
       "\n",
       "    .dataframe tbody tr th {\n",
       "        vertical-align: top;\n",
       "    }\n",
       "\n",
       "    .dataframe thead th {\n",
       "        text-align: right;\n",
       "    }\n",
       "</style>\n",
       "<table border=\"1\" class=\"dataframe\">\n",
       "  <thead>\n",
       "    <tr style=\"text-align: right;\">\n",
       "      <th></th>\n",
       "      <th>Name</th>\n",
       "      <th>Breed</th>\n",
       "      <th>Age</th>\n",
       "    </tr>\n",
       "  </thead>\n",
       "  <tbody>\n",
       "    <tr>\n",
       "      <th>c</th>\n",
       "      <td>Biffa</td>\n",
       "      <td>doberman</td>\n",
       "      <td>12.0</td>\n",
       "    </tr>\n",
       "    <tr>\n",
       "      <th>d</th>\n",
       "      <td>Queeny</td>\n",
       "      <td>poodle</td>\n",
       "      <td>0.5</td>\n",
       "    </tr>\n",
       "  </tbody>\n",
       "</table>\n",
       "</div>"
      ],
      "text/plain": [
       "     Name     Breed   Age\n",
       "c   Biffa  doberman  12.0\n",
       "d  Queeny    poodle   0.5"
      ]
     },
     "metadata": {},
     "output_type": "display_data"
    },
    {
     "data": {
      "text/plain": [
       "b     Bruno\n",
       "c     Biffa\n",
       "d    Queeny\n",
       "Name: Name, dtype: object"
      ]
     },
     "metadata": {},
     "output_type": "display_data"
    },
    {
     "data": {
      "text/html": [
       "<div>\n",
       "<style scoped>\n",
       "    .dataframe tbody tr th:only-of-type {\n",
       "        vertical-align: middle;\n",
       "    }\n",
       "\n",
       "    .dataframe tbody tr th {\n",
       "        vertical-align: top;\n",
       "    }\n",
       "\n",
       "    .dataframe thead th {\n",
       "        text-align: right;\n",
       "    }\n",
       "</style>\n",
       "<table border=\"1\" class=\"dataframe\">\n",
       "  <thead>\n",
       "    <tr style=\"text-align: right;\">\n",
       "      <th></th>\n",
       "      <th>Name</th>\n",
       "      <th>Breed</th>\n",
       "    </tr>\n",
       "  </thead>\n",
       "  <tbody>\n",
       "    <tr>\n",
       "      <th>b</th>\n",
       "      <td>Bruno</td>\n",
       "      <td>labrador</td>\n",
       "    </tr>\n",
       "    <tr>\n",
       "      <th>c</th>\n",
       "      <td>Biffa</td>\n",
       "      <td>doberman</td>\n",
       "    </tr>\n",
       "    <tr>\n",
       "      <th>d</th>\n",
       "      <td>Queeny</td>\n",
       "      <td>poodle</td>\n",
       "    </tr>\n",
       "  </tbody>\n",
       "</table>\n",
       "</div>"
      ],
      "text/plain": [
       "     Name     Breed\n",
       "b   Bruno  labrador\n",
       "c   Biffa  doberman\n",
       "d  Queeny    poodle"
      ]
     },
     "metadata": {},
     "output_type": "display_data"
    },
    {
     "data": {
      "text/plain": [
       "c     Biffa\n",
       "d    Queeny\n",
       "Name: Name, dtype: object"
      ]
     },
     "metadata": {},
     "output_type": "display_data"
    }
   ],
   "source": [
    "dogs=pd.DataFrame(data,index=[\"a\",\"b\",\"c\",\"d\", \"e\"])\n",
    "\n",
    "display(dogs[\"b\":\"d\"]) \n",
    "display(dogs.loc[\"b\":\"d\"]) # Equivalent to the previous line\n",
    "display(dogs.iloc[2:4]) # Indexing using positional indices\n",
    "\n",
    "display(dogs.loc['b':'d','Name']) # Can index both rows and columns by name\n",
    "display(dogs.loc['b':'d',['Name','Breed']])\n",
    "\n",
    "display(dogs.iloc[2:4,0]) # Get rows 2 & 3, and column 0\n"
   ]
  },
  {
   "cell_type": "markdown",
   "metadata": {},
   "source": [
    "You can add a new column frame by indexing by the desired column name, and setting it equal to a list of values equal to the number of rows in the DataFrame."
   ]
  },
  {
   "cell_type": "code",
   "execution_count": 11,
   "metadata": {},
   "outputs": [
    {
     "data": {
      "text/html": [
       "<div>\n",
       "<style scoped>\n",
       "    .dataframe tbody tr th:only-of-type {\n",
       "        vertical-align: middle;\n",
       "    }\n",
       "\n",
       "    .dataframe tbody tr th {\n",
       "        vertical-align: top;\n",
       "    }\n",
       "\n",
       "    .dataframe thead th {\n",
       "        text-align: right;\n",
       "    }\n",
       "</style>\n",
       "<table border=\"1\" class=\"dataframe\">\n",
       "  <thead>\n",
       "    <tr style=\"text-align: right;\">\n",
       "      <th></th>\n",
       "      <th>Name</th>\n",
       "      <th>Breed</th>\n",
       "      <th>Age</th>\n",
       "      <th>Length</th>\n",
       "    </tr>\n",
       "  </thead>\n",
       "  <tbody>\n",
       "    <tr>\n",
       "      <th>a</th>\n",
       "      <td>Rex</td>\n",
       "      <td>bulldog</td>\n",
       "      <td>2.0</td>\n",
       "      <td>50</td>\n",
       "    </tr>\n",
       "    <tr>\n",
       "      <th>b</th>\n",
       "      <td>Bruno</td>\n",
       "      <td>labrador</td>\n",
       "      <td>4.0</td>\n",
       "      <td>100</td>\n",
       "    </tr>\n",
       "    <tr>\n",
       "      <th>c</th>\n",
       "      <td>Biffa</td>\n",
       "      <td>doberman</td>\n",
       "      <td>12.0</td>\n",
       "      <td>105</td>\n",
       "    </tr>\n",
       "    <tr>\n",
       "      <th>d</th>\n",
       "      <td>Queeny</td>\n",
       "      <td>poodle</td>\n",
       "      <td>0.5</td>\n",
       "      <td>85</td>\n",
       "    </tr>\n",
       "    <tr>\n",
       "      <th>e</th>\n",
       "      <td>Bob</td>\n",
       "      <td>pug</td>\n",
       "      <td>7.0</td>\n",
       "      <td>40</td>\n",
       "    </tr>\n",
       "  </tbody>\n",
       "</table>\n",
       "</div>"
      ],
      "text/plain": [
       "     Name     Breed   Age  Length\n",
       "a     Rex   bulldog   2.0      50\n",
       "b   Bruno  labrador   4.0     100\n",
       "c   Biffa  doberman  12.0     105\n",
       "d  Queeny    poodle   0.5      85\n",
       "e     Bob       pug   7.0      40"
      ]
     },
     "metadata": {},
     "output_type": "display_data"
    }
   ],
   "source": [
    "dogs[\"Length\"]=[50,100,105,85, 40]\n",
    "display(dogs)\n"
   ]
  },
  {
   "cell_type": "markdown",
   "metadata": {},
   "source": [
    "You can also create columns that are combinations of other columns: "
   ]
  },
  {
   "cell_type": "code",
   "execution_count": 12,
   "metadata": {},
   "outputs": [
    {
     "data": {
      "text/html": [
       "<div>\n",
       "<style scoped>\n",
       "    .dataframe tbody tr th:only-of-type {\n",
       "        vertical-align: middle;\n",
       "    }\n",
       "\n",
       "    .dataframe tbody tr th {\n",
       "        vertical-align: top;\n",
       "    }\n",
       "\n",
       "    .dataframe thead th {\n",
       "        text-align: right;\n",
       "    }\n",
       "</style>\n",
       "<table border=\"1\" class=\"dataframe\">\n",
       "  <thead>\n",
       "    <tr style=\"text-align: right;\">\n",
       "      <th></th>\n",
       "      <th>Name</th>\n",
       "      <th>Breed</th>\n",
       "      <th>Age</th>\n",
       "      <th>Length</th>\n",
       "      <th>combination</th>\n",
       "    </tr>\n",
       "  </thead>\n",
       "  <tbody>\n",
       "    <tr>\n",
       "      <th>a</th>\n",
       "      <td>Rex</td>\n",
       "      <td>bulldog</td>\n",
       "      <td>2.0</td>\n",
       "      <td>50</td>\n",
       "      <td>100.0</td>\n",
       "    </tr>\n",
       "    <tr>\n",
       "      <th>b</th>\n",
       "      <td>Bruno</td>\n",
       "      <td>labrador</td>\n",
       "      <td>4.0</td>\n",
       "      <td>100</td>\n",
       "      <td>400.0</td>\n",
       "    </tr>\n",
       "    <tr>\n",
       "      <th>c</th>\n",
       "      <td>Biffa</td>\n",
       "      <td>doberman</td>\n",
       "      <td>12.0</td>\n",
       "      <td>105</td>\n",
       "      <td>1260.0</td>\n",
       "    </tr>\n",
       "    <tr>\n",
       "      <th>d</th>\n",
       "      <td>Queeny</td>\n",
       "      <td>poodle</td>\n",
       "      <td>0.5</td>\n",
       "      <td>85</td>\n",
       "      <td>42.5</td>\n",
       "    </tr>\n",
       "    <tr>\n",
       "      <th>e</th>\n",
       "      <td>Bob</td>\n",
       "      <td>pug</td>\n",
       "      <td>7.0</td>\n",
       "      <td>40</td>\n",
       "      <td>280.0</td>\n",
       "    </tr>\n",
       "  </tbody>\n",
       "</table>\n",
       "</div>"
      ],
      "text/plain": [
       "     Name     Breed   Age  Length  combination\n",
       "a     Rex   bulldog   2.0      50        100.0\n",
       "b   Bruno  labrador   4.0     100        400.0\n",
       "c   Biffa  doberman  12.0     105       1260.0\n",
       "d  Queeny    poodle   0.5      85         42.5\n",
       "e     Bob       pug   7.0      40        280.0"
      ]
     },
     "metadata": {},
     "output_type": "display_data"
    }
   ],
   "source": [
    "dogs[\"combination\"]=dogs.Age*dogs.Length\n",
    "display(dogs)"
   ]
  },
  {
   "cell_type": "markdown",
   "metadata": {},
   "source": [
    "## Manipulation of DataFrames\n",
    "\n",
    "There are many ways you can sort and filter DataFrames to find the information you want. You can do simple indexing like you might with numpy arrays:\n",
    "\n"
   ]
  },
  {
   "cell_type": "code",
   "execution_count": 13,
   "metadata": {},
   "outputs": [
    {
     "data": {
      "text/html": [
       "<div>\n",
       "<style scoped>\n",
       "    .dataframe tbody tr th:only-of-type {\n",
       "        vertical-align: middle;\n",
       "    }\n",
       "\n",
       "    .dataframe tbody tr th {\n",
       "        vertical-align: top;\n",
       "    }\n",
       "\n",
       "    .dataframe thead th {\n",
       "        text-align: right;\n",
       "    }\n",
       "</style>\n",
       "<table border=\"1\" class=\"dataframe\">\n",
       "  <thead>\n",
       "    <tr style=\"text-align: right;\">\n",
       "      <th></th>\n",
       "      <th>Name</th>\n",
       "      <th>Breed</th>\n",
       "      <th>Age</th>\n",
       "      <th>Length</th>\n",
       "      <th>combination</th>\n",
       "    </tr>\n",
       "  </thead>\n",
       "  <tbody>\n",
       "    <tr>\n",
       "      <th>c</th>\n",
       "      <td>Biffa</td>\n",
       "      <td>doberman</td>\n",
       "      <td>12.0</td>\n",
       "      <td>105</td>\n",
       "      <td>1260.0</td>\n",
       "    </tr>\n",
       "    <tr>\n",
       "      <th>e</th>\n",
       "      <td>Bob</td>\n",
       "      <td>pug</td>\n",
       "      <td>7.0</td>\n",
       "      <td>40</td>\n",
       "      <td>280.0</td>\n",
       "    </tr>\n",
       "  </tbody>\n",
       "</table>\n",
       "</div>"
      ],
      "text/plain": [
       "    Name     Breed   Age  Length  combination\n",
       "c  Biffa  doberman  12.0     105       1260.0\n",
       "e    Bob       pug   7.0      40        280.0"
      ]
     },
     "metadata": {},
     "output_type": "display_data"
    }
   ],
   "source": [
    "display(dogs[dogs.Age > 6])"
   ]
  },
  {
   "cell_type": "markdown",
   "metadata": {},
   "source": [
    "<div style=\"background-color: #FFF8C6\">\n",
    "\n",
    "\n",
    "There is also a built-in function called `query` for exactly this purpose, which is good for complex conditions:"
   ]
  },
  {
   "cell_type": "code",
   "execution_count": 14,
   "metadata": {},
   "outputs": [
    {
     "data": {
      "text/html": [
       "<div>\n",
       "<style scoped>\n",
       "    .dataframe tbody tr th:only-of-type {\n",
       "        vertical-align: middle;\n",
       "    }\n",
       "\n",
       "    .dataframe tbody tr th {\n",
       "        vertical-align: top;\n",
       "    }\n",
       "\n",
       "    .dataframe thead th {\n",
       "        text-align: right;\n",
       "    }\n",
       "</style>\n",
       "<table border=\"1\" class=\"dataframe\">\n",
       "  <thead>\n",
       "    <tr style=\"text-align: right;\">\n",
       "      <th></th>\n",
       "      <th>Name</th>\n",
       "      <th>Breed</th>\n",
       "      <th>Age</th>\n",
       "      <th>Length</th>\n",
       "      <th>combination</th>\n",
       "    </tr>\n",
       "  </thead>\n",
       "  <tbody>\n",
       "    <tr>\n",
       "      <th>c</th>\n",
       "      <td>Biffa</td>\n",
       "      <td>doberman</td>\n",
       "      <td>12.0</td>\n",
       "      <td>105</td>\n",
       "      <td>1260.0</td>\n",
       "    </tr>\n",
       "    <tr>\n",
       "      <th>e</th>\n",
       "      <td>Bob</td>\n",
       "      <td>pug</td>\n",
       "      <td>7.0</td>\n",
       "      <td>40</td>\n",
       "      <td>280.0</td>\n",
       "    </tr>\n",
       "  </tbody>\n",
       "</table>\n",
       "</div>"
      ],
      "text/plain": [
       "    Name     Breed   Age  Length  combination\n",
       "c  Biffa  doberman  12.0     105       1260.0\n",
       "e    Bob       pug   7.0      40        280.0"
      ]
     },
     "metadata": {},
     "output_type": "display_data"
    }
   ],
   "source": [
    "# Also not examinable\n",
    "\n",
    "display(dogs.query('Age>6'))"
   ]
  },
  {
   "cell_type": "markdown",
   "metadata": {},
   "source": [
    "<div style=\"background-color: #FFF8C6\">\n",
    "\n",
    "\n",
    "Note the specific syntax: you put the boolean condition you are interested in in quote marks. The specific quote marks don't matter; you can use either ' or \". For more information on `query`, see the [Pandas documentation](https://pandas.pydata.org/docs/reference/api/pandas.DataFrame.query.html)."
   ]
  },
  {
   "cell_type": "markdown",
   "metadata": {},
   "source": [
    "Pandas is very good for running statistical operations on individual columns quickly, e.g. mean or standard deviation. You can also calculate more complex metrics, such as correlation or covariance matrices. "
   ]
  },
  {
   "cell_type": "code",
   "execution_count": 24,
   "metadata": {},
   "outputs": [
    {
     "data": {
      "text/plain": [
       "5.1"
      ]
     },
     "metadata": {},
     "output_type": "display_data"
    },
    {
     "data": {
      "text/plain": [
       "4.560701700396552"
      ]
     },
     "metadata": {},
     "output_type": "display_data"
    },
    {
     "data": {
      "text/html": [
       "<div>\n",
       "<style scoped>\n",
       "    .dataframe tbody tr th:only-of-type {\n",
       "        vertical-align: middle;\n",
       "    }\n",
       "\n",
       "    .dataframe tbody tr th {\n",
       "        vertical-align: top;\n",
       "    }\n",
       "\n",
       "    .dataframe thead th {\n",
       "        text-align: right;\n",
       "    }\n",
       "</style>\n",
       "<table border=\"1\" class=\"dataframe\">\n",
       "  <thead>\n",
       "    <tr style=\"text-align: right;\">\n",
       "      <th></th>\n",
       "      <th>Age</th>\n",
       "      <th>Length</th>\n",
       "      <th>combination</th>\n",
       "      <th>Age*Length</th>\n",
       "    </tr>\n",
       "  </thead>\n",
       "  <tbody>\n",
       "    <tr>\n",
       "      <th>Age</th>\n",
       "      <td>1.000000</td>\n",
       "      <td>0.268931</td>\n",
       "      <td>0.921530</td>\n",
       "      <td>0.921530</td>\n",
       "    </tr>\n",
       "    <tr>\n",
       "      <th>Length</th>\n",
       "      <td>0.268931</td>\n",
       "      <td>1.000000</td>\n",
       "      <td>0.583193</td>\n",
       "      <td>0.583193</td>\n",
       "    </tr>\n",
       "    <tr>\n",
       "      <th>combination</th>\n",
       "      <td>0.921530</td>\n",
       "      <td>0.583193</td>\n",
       "      <td>1.000000</td>\n",
       "      <td>1.000000</td>\n",
       "    </tr>\n",
       "    <tr>\n",
       "      <th>Age*Length</th>\n",
       "      <td>0.921530</td>\n",
       "      <td>0.583193</td>\n",
       "      <td>1.000000</td>\n",
       "      <td>1.000000</td>\n",
       "    </tr>\n",
       "  </tbody>\n",
       "</table>\n",
       "</div>"
      ],
      "text/plain": [
       "                  Age    Length  combination  Age*Length\n",
       "Age          1.000000  0.268931     0.921530    0.921530\n",
       "Length       0.268931  1.000000     0.583193    0.583193\n",
       "combination  0.921530  0.583193     1.000000    1.000000\n",
       "Age*Length   0.921530  0.583193     1.000000    1.000000"
      ]
     },
     "metadata": {},
     "output_type": "display_data"
    },
    {
     "data": {
      "text/html": [
       "<div>\n",
       "<style scoped>\n",
       "    .dataframe tbody tr th:only-of-type {\n",
       "        vertical-align: middle;\n",
       "    }\n",
       "\n",
       "    .dataframe tbody tr th {\n",
       "        vertical-align: top;\n",
       "    }\n",
       "\n",
       "    .dataframe thead th {\n",
       "        text-align: right;\n",
       "    }\n",
       "</style>\n",
       "<table border=\"1\" class=\"dataframe\">\n",
       "  <thead>\n",
       "    <tr style=\"text-align: right;\">\n",
       "      <th></th>\n",
       "      <th>Age</th>\n",
       "      <th>Length</th>\n",
       "      <th>combination</th>\n",
       "      <th>Age*Length</th>\n",
       "    </tr>\n",
       "  </thead>\n",
       "  <tbody>\n",
       "    <tr>\n",
       "      <th>Age</th>\n",
       "      <td>20.800</td>\n",
       "      <td>36.125</td>\n",
       "      <td>2070.125</td>\n",
       "      <td>2070.125</td>\n",
       "    </tr>\n",
       "    <tr>\n",
       "      <th>Length</th>\n",
       "      <td>36.125</td>\n",
       "      <td>867.500</td>\n",
       "      <td>8460.625</td>\n",
       "      <td>8460.625</td>\n",
       "    </tr>\n",
       "    <tr>\n",
       "      <th>combination</th>\n",
       "      <td>2070.125</td>\n",
       "      <td>8460.625</td>\n",
       "      <td>242611.250</td>\n",
       "      <td>242611.250</td>\n",
       "    </tr>\n",
       "    <tr>\n",
       "      <th>Age*Length</th>\n",
       "      <td>2070.125</td>\n",
       "      <td>8460.625</td>\n",
       "      <td>242611.250</td>\n",
       "      <td>242611.250</td>\n",
       "    </tr>\n",
       "  </tbody>\n",
       "</table>\n",
       "</div>"
      ],
      "text/plain": [
       "                  Age    Length  combination  Age*Length\n",
       "Age            20.800    36.125     2070.125    2070.125\n",
       "Length         36.125   867.500     8460.625    8460.625\n",
       "combination  2070.125  8460.625   242611.250  242611.250\n",
       "Age*Length   2070.125  8460.625   242611.250  242611.250"
      ]
     },
     "metadata": {},
     "output_type": "display_data"
    }
   ],
   "source": [
    "display(dogs['Age'].mean())\n",
    "display(dogs['Age'].std())\n",
    "\n",
    "display(dogs.corr(numeric_only = True))\n",
    "display(dogs.cov(numeric_only=True))"
   ]
  },
  {
   "cell_type": "markdown",
   "metadata": {},
   "source": [
    "### Summary\n",
    "\n",
    "In this section, we have covered some basics of `pandas`, a very useful data library in Python. This has included:\n",
    "\n",
    "* Defining a DataFrame\n",
    "* Printing the contents of a DataFrame in a nice way\n",
    "* Finding slices of a DataFrame\n",
    "* Adding new columns to a DataFrame\n",
    "\n",
    "The following section will review plotting using `matplotlib` and show you some ways you can make more professional looking plots."
   ]
  },
  {
   "cell_type": "markdown",
   "metadata": {},
   "source": [
    "<hr style=\"border:2px solid gray\"> \n",
    "\n",
    "# Section Four: Data Visualisation [^](#outline)\n",
    "\n",
    "In data science, it is not enough just to display your DataFrames; instead, you need to visualise your data. To really understand your data, a good clear plot is key. In this section we recap some of the options available to you in `matplotlib`. In particular, we will emphasise producing **professional** looking plots, to make sure your results are as clear as they can be."
   ]
  },
  {
   "cell_type": "markdown",
   "metadata": {},
   "source": [
    "### Displaying Data [^](#index) <a id='display'></a>\n",
    "\n",
    "The ability to display data is often an important first step in understanding the information. Producing clear and understandable (appropriately labelled, legible etc) plots is an important part of communicating your results to others. The purpose of this section is to make sure that you are familiar with the display options in matplotlib and can make professional looking plots. In the assignments you perform at the end of the two weeks, this is one aspect that you will be judged upon. \n",
    "\n",
    "Consider and run the following (very simple) example.\n"
   ]
  },
  {
   "cell_type": "code",
   "execution_count": null,
   "metadata": {},
   "outputs": [],
   "source": [
    "import numpy as np\n",
    "import pylab as pl # one of the several ways of importing matplotlib\n",
    "\n",
    "x= np.arange(-10,10,0.01)\n",
    "y=x*x\n",
    "\n",
    "pl.plot(x,y)\n",
    "pl.grid()\n",
    "pl.title(\"Simple plot\")\n",
    "pl.show()\n"
   ]
  },
  {
   "cell_type": "markdown",
   "metadata": {},
   "source": [
    "<div style=\"background-color:#C2F5DD\">\n",
    "\n",
    "### Exercise\n",
    "\n",
    "Create a graph of a $y=\\sin^2(x)$ going from $-2\\pi$ to $+2\\pi$ (and no further). Make sure that the axes are labelled as $x$ and $y$ and that the equation is written as legend on this graph. Change the $x-axis$ tick marks to be multiples of $\\frac{\\pi}{4}$ and labelled appropriately. Add a grid to this plot, and finally add a graph of $y=\\cos^{100}(x)$ as a dotted red line with appropriate legend. Make sure that your plot is a decent size to be easily readable and save the complete plot to a file.\n",
    "\n",
    "\n",
    "\n"
   ]
  },
  {
   "cell_type": "markdown",
   "metadata": {},
   "source": [
    "### Displaying Multiple Plots [^](#index) <a id='subplots'></a>\n",
    "\n",
    "It is often useful to display multiple plots side by side, or one above another. This can be done relatively simply in matplotlib using  the <span style=\"color:blue\">plt.subplot()</span> function. This function presents the plots in a grid structure that contains $n \\times m$ plots, where $n$ is the number of rows and $m$ is the number of columns. You call the <span style=\"color:blue\">plt.subplot()</span> function like this:\n",
    "\n",
    "```python\n",
    "plt.subplot(n,m,k)\n",
    "```\n",
    "\n",
    "where n is the number of rows you want, m is the number of columns and k is the number of the plot you are creating at this moment in time.\n",
    "\n",
    "Consider the example below:\n"
   ]
  },
  {
   "cell_type": "code",
   "execution_count": null,
   "metadata": {},
   "outputs": [],
   "source": [
    "\n",
    "import numpy as np\n",
    "import pylab as pl\n",
    "\n",
    "pl.rcParams['figure.figsize'] = [10, 5] # setting a nice big figure size\n",
    "\n",
    "x=np.arange(-10,10,0.01)\n",
    "y1=x*x\n",
    "y2=x*x*np.sin(x)\n",
    "y3=x*x*x*np.sin(x)\n",
    "y4=np.sin(x)/x\n",
    "\n",
    "pl.subplot(2,2,1) #2 rows, 2 columns and the 1st plot\n",
    "pl.plot(x,y1)\n",
    "\n",
    "pl.subplot(2,2,2)\n",
    "pl.plot(x,y2)\n",
    "\n",
    "pl.subplot(2,2,3)\n",
    "pl.plot(x,y3)\n",
    "\n",
    "pl.subplot(2,2,4)\n",
    "pl.plot(x,y4)\n",
    "\n",
    "pl.show()\n"
   ]
  },
  {
   "cell_type": "markdown",
   "metadata": {},
   "source": [
    "While these defaults are useful, they are not always ideal. Consider the example below, where we have tried to put axes labels on the second plot. The $y$ label has overwritten the first plot (the font was made to be large to demonstrate this) and the $x$ is completely lost under the 4th plot.\n",
    "\n",
    "(If you want to check that it is actually there, comment out the commands that draw the 4th plot)\n"
   ]
  },
  {
   "cell_type": "code",
   "execution_count": null,
   "metadata": {},
   "outputs": [],
   "source": [
    "import numpy as np\n",
    "import pylab as pl\n",
    "\n",
    "x=np.arange(-10,10,0.01)\n",
    "y1=x*x\n",
    "y2=x*x*np.sin(x)\n",
    "y3=x*x*x*np.sin(x)\n",
    "y4=np.sin(x)/x\n",
    "\n",
    "pl.subplot(2,2,1)\n",
    "pl.plot(x,y1)\n",
    "\n",
    "pl.subplot(2,2,2)\n",
    "pl.plot(x,y2)\n",
    "pl.xlabel(\"$x$\",fontsize=12)\n",
    "pl.ylabel(\"$y$\",fontsize=32)\n",
    "\n",
    "pl.subplot(2,2,3)\n",
    "pl.plot(x,y3)\n",
    "\n",
    "pl.subplot(2,2,4)\n",
    "pl.plot(x,y4)\n",
    "\n",
    "pl.show()\n"
   ]
  },
  {
   "cell_type": "markdown",
   "metadata": {},
   "source": [
    "This particular problem is quite easy to fix and can be useful to understand how matplotlib works. The basis on which matplotlib draws is the **figure** -- this is the canvas on which you can draw. When you have multiple plots on the same figure, it must be divided up into \"axes\".  Once you have a figure, you can put an axis on it wherever you want. For example:\n"
   ]
  },
  {
   "cell_type": "code",
   "execution_count": null,
   "metadata": {},
   "outputs": [],
   "source": [
    "import numpy as np\n",
    "import pylab as pl\n",
    "pl.rcParams['figure.figsize'] = [10, 5] \n",
    "\n",
    "x=np.arange(-10,10,0.01)\n",
    "y1=x*x\n",
    "y2=x*x*np.sin(x)\n",
    "y3=x*x*x*np.sin(x)\n",
    "y4=np.sin(x)/x\n",
    "\n",
    "fig=pl.figure(\"New Figure\")\n",
    "\n",
    "ax0=fig.add_axes([0.1, 0.1, 0.5, 0.5]) # [x0,y0,width,height]\n",
    "ax0.plot(x,y1)\n",
    "pl.xticks(fontsize=12)\n",
    "pl.yticks(fontsize=12)\n",
    "pl.grid()\n",
    "\n",
    "\n",
    "ax1=fig.add_axes([.6, .6, .4, 0.4]) # [x0,y0,width,height]\n",
    "ax1.plot(x,y2)\n",
    "pl.xticks(fontsize=12)\n",
    "pl.yticks(fontsize=12)\n",
    "pl.grid()\n",
    "\n",
    "pl.savefig(\"axes_plots.png\")\n",
    "\n",
    "pl.show()\n"
   ]
  },
  {
   "cell_type": "markdown",
   "metadata": {},
   "source": [
    "You will notice that the $x$ and $y$ tick labels lie outside of the axis area. If you look at axes_plots.png, you will also notice that the very right hand edge of the second plot is missing.\n",
    "\n",
    "This approach gives you complete flexibility as to where to place plots on your figures and can be very useful. For example, it easily allows you to have graph insets. Below is an example of this:\n"
   ]
  },
  {
   "cell_type": "code",
   "execution_count": null,
   "metadata": {},
   "outputs": [],
   "source": [
    "import numpy as np\n",
    "import pylab as pl\n",
    "pl.rcParams['figure.figsize'] = [10, 5] \n",
    "\n",
    "x=np.arange(-500,500,0.001)\n",
    "\n",
    "y4=np.sin(x)**6/x\n",
    "\n",
    "fig=pl.figure(\"New Figure\")\n",
    "\n",
    "ax=fig.add_axes([0.05, 0.1, 0.8, 0.8]) # [x0,y0,width,height]\n",
    "ax.plot(x,y4)\n",
    "pl.xlabel(\"$x$\",fontsize=15)\n",
    "pl.ylabel(\"$y$\",fontsize=15)\n",
    "pl.xticks(fontsize=12)\n",
    "pl.yticks(fontsize=12)\n",
    "pl.text(220,0.45,\"(A)\", fontsize=15)\n",
    "pl.grid()\n",
    "\n",
    "\n",
    "ax1=fig.add_axes([.1, .55, .3, 0.3]) # [x0,y0,width,height]\n",
    "ax1.plot(x[480000:520000],y4[480000:520000]) # clearly there are more elegant ways of doing this\n",
    "pl.xticks(np.arange(-20,20,5),fontsize=10)\n",
    "pl.yticks(fontsize=10)\n",
    "pl.text(13,0.4,\"(B)\", fontsize=15)\n",
    "pl.grid()\n",
    "\n",
    "\n",
    "pl.savefig(\"inset_plots.png\")\n",
    "\n",
    "pl.show()\n"
   ]
  },
  {
   "cell_type": "markdown",
   "metadata": {},
   "source": [
    "Using this method, there is an alternate way to draw the four plots we had earlier with the following code:\n"
   ]
  },
  {
   "cell_type": "code",
   "execution_count": null,
   "metadata": {},
   "outputs": [],
   "source": [
    "import numpy as np\n",
    "import pylab as pl\n",
    "\n",
    "x=np.arange(-10,10,0.01)\n",
    "y1=x*x\n",
    "y2=x*x*np.sin(x)\n",
    "y3=x*x*x*np.sin(x)\n",
    "y4=np.sin(x)/x\n",
    "\n",
    "#define the subplots\n",
    "fig, axes = pl.subplots(nrows=2, ncols=2)\n",
    "\n",
    "#now plot\n",
    "axes[0,0].plot(x,y1)\n",
    "axes[0,1].plot(x,y2)\n",
    "axes[1,0].plot(x,y3)\n",
    "axes[1,1].plot(x,y4)\n",
    "\n",
    "pl.subplot(2,2,2)\n",
    "pl.ylabel(\"$y$\", fontsize=32)\n",
    "pl.xlabel(\"$x$\",fontsize=\"12\")\n",
    "\n",
    "# But now can change the padding between the plots as we have the figure defined\n",
    "\n",
    "fig.tight_layout(pad=2.0)\n",
    "\n",
    "pl.show()\n",
    "\n"
   ]
  },
  {
   "cell_type": "markdown",
   "metadata": {},
   "source": [
    "Having the figure defined gives us more flexibilty. For example:\n"
   ]
  },
  {
   "cell_type": "code",
   "execution_count": null,
   "metadata": {},
   "outputs": [],
   "source": [
    "import numpy as np\n",
    "import pylab as pl\n",
    "\n",
    "x=np.arange(-10,10,0.01)\n",
    "y1=x*x\n",
    "y2=x*x*np.sin(x)\n",
    "y3=x*x*x*np.sin(x)\n",
    "y4=np.sin(x)/x\n",
    "\n",
    "fig=pl.figure()\n",
    "\n",
    "pl.subplot(2,2,1)\n",
    "pl.plot(x,y1)\n",
    "pl.xlabel(\"x\")\n",
    "pl.subplot(2,2,3)\n",
    "pl.plot(x,y2)\n",
    "pl.subplot(1,2,2)\n",
    "pl.plot(x,y4)\n",
    "\n",
    "ax=fig.add_axes([0.6,0.7,0.12,0.15])\n",
    "ax.plot(x,x*x-x+4)\n",
    "\n",
    "\n",
    "\n",
    "fig.tight_layout(pad=2.0) \n",
    "# this will generate a warning as the inset plot is not compatible with tight_layout but it will work \n",
    "#for the subplots.\n",
    "\n",
    "pl.show()\n",
    "\n",
    "\n"
   ]
  },
  {
   "cell_type": "markdown",
   "metadata": {},
   "source": [
    "<div style=\"background-color:#C2F5DD\">\n",
    "\n",
    "### Exercise\n",
    "\n",
    "Pick 6 different functions of x (the actual functions don't matter for this exercise), and plot them in different configurations, orientations etc. A good example could be drawing some graphs so that they have a shared $x$-axis and $y$-axis. This exercise may seem trivial after reading through the examples above, but do try to do a good and detailed job of it. Practise now will reduce the time spent looking it up later.\n",
    "\n"
   ]
  },
  {
   "cell_type": "markdown",
   "metadata": {},
   "source": [
    "\n",
    "### Histograms [^](#index) <a id='histograms'></a>\n",
    "\n",
    "When carrying out data science, you will often need to histogram data. This can be done easily with matplotlib using the following:\n"
   ]
  },
  {
   "cell_type": "code",
   "execution_count": null,
   "metadata": {},
   "outputs": [],
   "source": [
    "import numpy as np\n",
    "import numpy.random as npr\n",
    "import pylab as pl\n",
    "\n",
    "x_data=npr.normal(loc=2,scale=1.5,size=10000)\n",
    "# this will generate a Gaussian distribution - we will look more at these later.\n",
    "\n",
    "pl.hist(x_data) # this will draw a histogram with 10 bins covering the range of the data\n",
    "\n",
    "pl.show()\n",
    "pl.hist(x_data,bins=100) # changes it to have 100 bins\n",
    "pl.show()\n",
    "x,bins,patches=pl.hist(x_data,bins=20) # you can extract the values and bin boundaries\n",
    "print(\"Entries \",x)\n",
    "print(\"Bins\",bins,len(bins)) # note that there are 21 entries because this is a \"fence post\" problem\n",
    "bins=[-5,-4,0,4,6,8]\n",
    "x,bins,patches=pl.hist(x_data,bins=bins) # you can have any binning that you want\n",
    "print(\"Entries \",x)\n"
   ]
  },
  {
   "cell_type": "markdown",
   "metadata": {},
   "source": [
    "You can plot two histograms on top of each other and then change the transparency by changing \"alpha\"\n"
   ]
  },
  {
   "cell_type": "code",
   "execution_count": null,
   "metadata": {},
   "outputs": [],
   "source": [
    "x_data2=npr.normal(loc=0.5,scale=1.5,size=10000)\n",
    "pl.hist(x_data,bins=100,alpha=0.5,label=\"Data\")\n",
    "pl.hist(x_data2,bins=100,alpha=0.5,label=\"Data 2\")\n",
    "pl.xlabel(\"Two histograms on top of each other\")\n",
    "pl.legend(loc=\"best\")\n",
    "pl.show()\n"
   ]
  },
  {
   "cell_type": "markdown",
   "metadata": {},
   "source": [
    "Numpy also has a histogramming method, however these only produce the numbers and then have to added to matplotlib to be displayed\n"
   ]
  },
  {
   "cell_type": "code",
   "execution_count": null,
   "metadata": {},
   "outputs": [],
   "source": [
    "import numpy as np\n",
    "import matplotlib.pyplot as pl\n",
    "\n",
    "n,bins=np.histogram(x_data,bins=20,range=[-3,7])\n",
    "x= 0.5 * (bins[1:] + bins[:-1])\n",
    "y_err=n**0.5 # Assume Poison distribution\n",
    "pl.errorbar(x,n,y_err,fmt=\"ok\");\n"
   ]
  },
  {
   "cell_type": "markdown",
   "metadata": {},
   "source": [
    "___\n",
    "\n",
    "<a name=\"section-5\"></a>\n",
    "\n",
    "# Section 5: Exercises [^](#outline)\n",
    "\n",
    "These exercises are here for you to get more experience using Jupyter notebooks, `pandas` and `matplotlib`. In each section, code cells have been given to help prompt you on each step to work through, but feel free to make your own steps if you want - just make sure you work through each of the tasks."
   ]
  },
  {
   "cell_type": "code",
   "execution_count": null,
   "metadata": {},
   "outputs": [],
   "source": []
  }
 ],
 "metadata": {
  "kernelspec": {
   "display_name": "MLCourseEnv",
   "language": "python",
   "name": "python3"
  },
  "language_info": {
   "codemirror_mode": {
    "name": "ipython",
    "version": 3
   },
   "file_extension": ".py",
   "mimetype": "text/x-python",
   "name": "python",
   "nbconvert_exporter": "python",
   "pygments_lexer": "ipython3",
   "version": "3.9.7"
  },
  "orig_nbformat": 4
 },
 "nbformat": 4,
 "nbformat_minor": 2
}
