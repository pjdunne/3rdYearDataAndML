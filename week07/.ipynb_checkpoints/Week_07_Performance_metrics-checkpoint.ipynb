{
 "cells": [
  {
   "cell_type": "markdown",
   "metadata": {},
   "source": [
    "# Week 7 - Performance metrics"
   ]
  },
  {
   "cell_type": "markdown",
   "metadata": {},
   "source": [
    "<hr style=\"border:2px solid gray\">\n",
    "\n",
    "# Outline <a id='outline'></a>\n",
    "1. [Section One: Performance metrics in Classification](#section-1)\n",
    "1. [Section Two: A toy model for ROC-AUC](#section-2)\n",
    "1. [Section Three: Performance metrics in Regression](#section-3)\n",
    "1. [Section Four: The MNIST dataset](#section-4)\n",
    "1. [Section Five: Exercises](#section-5)"
   ]
  },
  {
   "cell_type": "markdown",
   "metadata": {},
   "source": [
    "<hr style=\"border:2px solid gray\">\n",
    "\n",
    "# Section One: Performance metrics in Classification [^](#outline) <a id='section-1'></a>\n",
    "\n",
    "So far you have seen a couple different ML algorithms for both classification and regression. We have tracked the performance of these models some simple **performance metrics**, including classification accuracy and root-mean squared error. However, these are far from the be-all and end-all of evaluating the performance of machine learning algorithms. This week we will introduce a couple important metrics to evaluate the performance of your algorithms including **ROC-AUC** for classification and **goodness of fit** for regression."
   ]
  },
  {
   "cell_type": "markdown",
   "metadata": {},
   "source": [
    "When we look at a classification problem, we have previosly looked at the percentage of test points that were correctly classified. However, we can define things in a way that gives us a bit more insight into what is actually going on. For a binary classification problem with $y_i \\in \\{+1, -1\\}$, we can define four rates describing how good the classification is:\n",
    "\n",
    "* **True positive (TP)**: Samples in the +1 class that are correctly identified as the +1 class\n",
    "<br>\n",
    "\n",
    "* **False positive (FP)**: Samples in the -1 class that are incorrectly identified as the +1 class\n",
    "<br>\n",
    "\n",
    "* **True negative (TN)**: Samples in the -1 class that are correctly identified as the -1 class\n",
    "<br>\n",
    "\n",
    "* **False negative (FN)**: Samples in the +1 class that are incorrectly identified as the -1 class\n",
    "\n",
    "This tells us not only if the model prediction is accurate i.e. predicts the correct class, but how it makes mistakes. \n"
   ]
  },
  {
   "cell_type": "markdown",
   "metadata": {},
   "source": [
    "For example, consider the Iris dataset we have seen before. We will focus on a single type of iris, namely *iris versicolor*, and we will attempt to classify each point as to whether it is an *iris versicolor* or not. With a simple linear SVC, we can produce the following **confusion matrix**, which is a matrix of the true positive, false positive, true negative and false negative rates. Here we have evaluated the prediction on all of the Iris dataset.\n",
    "\n"
   ]
  },
  {
   "cell_type": "markdown",
   "metadata": {},
   "source": [
    "<div>\n",
    "<img src=Week7_plots/confusion_matrix.png align='center' width=600>\n",
    "</div>\n",
    "\n",
    "*Confusion matrix for classifying IRIS into *versicolor* and not *versicolor*. The entire 150 sample dataset is used.*"
   ]
  },
  {
   "cell_type": "markdown",
   "metadata": {},
   "source": [
    "\n",
    "We can define derived quantities from these that express different things about the model:\n",
    "\n",
    "* **Accuracy**: as we have seen already, this is the proportion of samples that are classified correctly\n",
    "<br>\n",
    "\n",
    "\\begin{equation*}\n",
    "\\text{Accuracy} = \\frac{\\text{Number of correct predictions}}{\\text{Total number of predictions}} = \\frac{TP + TN}{TP + TN + FP + FN}\n",
    "\\end{equation*}\n",
    "<br>\n",
    "\n",
    "* **Fall-out or False Positive Rate**: the proportion of points with $y$ = -1 that are incorrectly predicted as $\\hat{y}$ = +1\n",
    "<br>\n",
    "\n",
    "\\begin{equation*}\n",
    "\\text{Fall-out} = \\frac{\\text{+1 predictions with true class -1}}{\\text{Points with true class -1}} = \\frac{FP}{FP + TN}\n",
    "\\end{equation*}\n",
    "<br>\n",
    "\n",
    "* **Precision**: the proportion of points with predicted to have class +1 that have true class +1 i.e. fraction of predictions of class +1 that are correct\n",
    "<br>\n",
    "\n",
    "\\begin{equation*}\n",
    "\\text{Precision} = \\frac{\\text{+1 class predictions with true class +1}}{\\text{Predictions of class +1}} = \\frac{TP}{TP + FP}\n",
    "\\end{equation*}\n",
    "<br>\n",
    "\n",
    "* **Recall or True Positive Rate**: fraction of points with true class +1 that are correctly identified as class +1\n",
    "<br>\n",
    "\n",
    "\\begin{equation*}\n",
    "\\text{Recall} = \\frac{\\text{+1 class predictions with true class +1}}{\\text{Points with true class +1}} = \\frac{TP}{TP + FN}\n",
    "\\end{equation*}"
   ]
  },
  {
   "cell_type": "markdown",
   "metadata": {},
   "source": [
    "In general, there is a trade-off between **precision** and **recall**. This is not necessarily obvious, but can be seen for an example 1D case. The classifier in this case assigns the -1 class to samples with an $\\mathbf{X}$ value left of the decision boundary, and the +1 class to samples with an $\\mathbf{X}$ value to the right of the decision boundary."
   ]
  },
  {
   "cell_type": "markdown",
   "metadata": {},
   "source": [
    "<img src='Week7_plots/decision_boundary_1_example.png' align='center' height=200>\n",
    "\n",
    "*Example binary classifier with one input feature. The decision boundary at this case is set at 0.05.*"
   ]
  },
  {
   "cell_type": "markdown",
   "metadata": {},
   "source": [
    "In this example, the prediction of this classifier can be represented as follows:\n",
    "\n",
    "| | Correct prediction | Incorrect prediction |\n",
    "|-|-|-|\n",
    "| Class +1 | 8 | 1 |\n",
    "| Class -1 | 7 | 3 |\n",
    "\n",
    "For this decision boundary, the precision is equal to 8/9 and the recall is equal to 8/11.\n",
    "\n",
    "We can look at what these values are for a different decision boundary:"
   ]
  },
  {
   "cell_type": "markdown",
   "metadata": {},
   "source": [
    "<img src='Week7_plots/decision_boundary_2_example.png' align='center' height=200>\n",
    "\n",
    "*Example binary classifier with one input feature. The decision boundary at this case is set at 0.25.*"
   ]
  },
  {
   "cell_type": "markdown",
   "metadata": {},
   "source": [
    "In this example, the prediction of this classifier can be represented as follows:\n",
    "\n",
    "| | Correct prediction | Incorrect prediction |\n",
    "|-|-|-|\n",
    "| Class +1 | 7 | 0 |\n",
    "| Class -1 | 8 | 4 |\n",
    "\n",
    "For this decision boundary, the precision is equal to 1 and the recall is equal to 7/11.\n",
    "\n",
    "While the precision has improved with the different choice of decision boundary, the recall has decreased. \n",
    "\n",
    "We can see the precision and recall as a function of decision boundary in the figure below:"
   ]
  },
  {
   "cell_type": "markdown",
   "metadata": {},
   "source": [
    "<img src=Week7_plots/decision_boundary_precision_recall.png align='center' height=400>\n",
    "\n",
    "*Precision and recall as a function of decision boundary for the 1D model shown prior.*"
   ]
  },
  {
   "cell_type": "markdown",
   "metadata": {},
   "source": [
    "Choice of decision boundary therefore depends on whether you value precision or recall more.\n",
    "\n",
    "* When testing for an infectious disease, it is important your test is as sensitive to the disease as possible, even if it also returns false positive results. Higher recall is preferred.\n",
    "* When classifying emails as spam or not, it is important that any emails flagged as spam actually are spam; if an email is flagged as spam, it better be spam, otherwise you might miss important emails. Higher precision is preferred.\n",
    "\n",
    "There is another metric that is very commonly used to evaluate the performance of a classifier, which we will cover next."
   ]
  },
  {
   "cell_type": "markdown",
   "metadata": {},
   "source": [
    "## The Receiver Operating Characteristic (ROC) curve\n",
    "\n",
    "The receiver operating characteristic (ROC) curve is the plot of fallout (false positive rate) against recall (true positive rate), as a function of decision boundary value. This originated in World War II, to help radar receivers analyse the classification accuracy for discriminating signal and noise in radar detection. In general, it is used to evaluate the effectiveness of a classifier. \n",
    "\n",
    "* Randomly classifying samples produces a classifier where the ROC curve is a straight line with gradient 1\n",
    "* The best possible classifier has a fall-out equal to 0 and a recall equal to 1\n",
    "* The worst possible classifier has a fall-out equal to 1 and a recall equal to 0. \n",
    "\n",
    "These cases are illustrated in the figure below.\n",
    "\n",
    "\n",
    "\n"
   ]
  },
  {
   "cell_type": "markdown",
   "metadata": {},
   "source": [
    "<div>\n",
    "<img src=Week7_plots/roc_curve_schematic_.png align='center' width=500>\n",
    "<div>\n",
    "\n",
    "*Schematic of a receiver operator characteristic (ROC) curve. The diagonal dashed line indicates the performance of a random classifier. Better classifiers are closer to the top left of the plot, and worse classifiers are closer to the bottom right.* "
   ]
  },
  {
   "cell_type": "markdown",
   "metadata": {},
   "source": [
    "The most common way to use this curve to evaluate a given classifier is to calculate the area-under-curve (AUC). \n",
    "* This is referred to as the **AUC score**\n",
    "* Complete metric for the area under the ROC curve is referred to as **ROC-AUC**\n",
    "\n",
    "* A perfect classifier has a ROC-AUC score of 1 \n",
    "* A random classifier has a ROC-AUC score of 0.5 \n",
    "* The worst possible classifier has a ROC-AUC score of 0. \n",
    "\n",
    "We will use ROC-AUC later in this notebook to evaluate the success of classifiers."
   ]
  },
  {
   "cell_type": "markdown",
   "metadata": {},
   "source": [
    "## Summary\n",
    "\n",
    "In this section, we have covered several performance metrics for classification, including:\n",
    "\n",
    "* Identifying true positive, false positive, true negative and false negative counts\n",
    "* Accuracy, fall-out, precision and recall\n",
    "* The receiver operating characteristic (ROC) curve and the ROC-AUC score\n",
    "\n",
    "In the following section, you will see performance metrics that we can use for regression."
   ]
  },
  {
   "cell_type": "markdown",
   "metadata": {},
   "source": [
    "<hr style=\"border:2px solid gray\">\n",
    "\n",
    "# Section Two: A toy model to practise ROC-AUC [^](#outline) <a id='section-2'></a>\n",
    "\n",
    "\n",
    "\n"
   ]
  },
  {
   "cell_type": "markdown",
   "metadata": {},
   "source": [
    "We will now see how we can in practise look at ROC curves and calculate the ROC-AUC score. To do this, we will use a real physics dataset.\n",
    "\n",
    "The SoLid experiment is searching for a new type of neutrino, that can only be produced by neutrino oscillations. To do this, it measures antineutrino flux from a nuclear reactor. Antineutrinos are detected via an inverse beta decay reaction:\n",
    "\n",
    "$$\\bar{\\nu}_e + \\text{p} \\to \\text{e}^+ + \\text{n}$$\n",
    "\n",
    "In this experiment, both the positron and the neutron need to be detected in order to detect this reaction. This is done with two different scintillators: one which can detect positrons that annihilate, and one that detects neutrons through a capture reaction. This results in two very different readout waveforms, which are referred to as electromagnetic signal (ES) and nuclear signal (NS) events for positrons and neutrons respectively. \n",
    "\n",
    "Both the positron and neutron reactions produce scintillation light. This is converted to signals as follows:\n",
    "\n",
    "* Light is detected using photo-detectors called silicon photomultipliers, which are a form of p-n junction such that light is absorbed through the photoelectric effect and results in a current flowing across the junction\n",
    "<br>\n",
    "\n",
    "* The voltage is recorded and sampled using an analogue-to-digital converter, so the signal can be analysed. \n",
    "<br>\n",
    "\n",
    "* Each waveform is recorded in ADC count, which is proportional to the voltage measured across the photodetector. \n",
    "<br>\n",
    "\n",
    "* Waveforms are recorded when the measured ADC rises above a specific threshold value for a sufficient number of samples, which is referred to as the **threshold** and the **time over threshold** of the trigger.\n",
    "\n",
    "We can characterise the waveforms by three metrics: peak value, sum value, and time over threshold. These correspond to the maximum value of the waveform, the sum of all of the waveform samples, and the number of samples the waveform is above the triggering threshold. Example ES and NS waveforms can be see in the figure below."
   ]
  },
  {
   "cell_type": "markdown",
   "metadata": {},
   "source": [
    "<img src=Week7_plots/ns_es_example.png align='center' height=300>\n",
    "\n",
    "*NS and ES signal waveforms. In general, NS waveforms are much longer than ES waveforms.*"
   ]
  },
  {
   "cell_type": "markdown",
   "metadata": {},
   "source": [
    "The data for you to use consists of 150 data points from each class, where each data point has the three input features described above. The data is provided in a .npy file, which can be loaded as follows:"
   ]
  },
  {
   "cell_type": "code",
   "execution_count": 1,
   "metadata": {},
   "outputs": [],
   "source": [
    "import numpy as np\n",
    "\n",
    "waveforms_data = np.load('nf_waveforms_dset.npy', allow_pickle = True).item()"
   ]
  },
  {
   "cell_type": "markdown",
   "metadata": {},
   "source": [
    "The waveforms themselves are not included in this file, just the three descriptive features. Class label 0 corresponds to an NS waveform, and class label 1 corresponds to an ES waveform. We can print the keys of the dictionary:"
   ]
  },
  {
   "cell_type": "code",
   "execution_count": 2,
   "metadata": {},
   "outputs": [
    {
     "name": "stdout",
     "output_type": "stream",
     "text": [
      "dict_keys(['data', 'target', 'feature_names', 'target_names'])\n"
     ]
    }
   ],
   "source": [
    "print(waveforms_data.keys())"
   ]
  },
  {
   "cell_type": "markdown",
   "metadata": {},
   "source": [
    "This format should be familiar from the other datasets we have looked at. "
   ]
  },
  {
   "cell_type": "markdown",
   "metadata": {},
   "source": [
    "We can prepare a training dataset as we normally do from this data, to see what kind of ROC curve we can produce using a support vector classifier."
   ]
  },
  {
   "cell_type": "code",
   "execution_count": 3,
   "metadata": {},
   "outputs": [],
   "source": [
    "from sklearn.model_selection import train_test_split\n",
    "\n",
    "X = waveforms_data['data']\n",
    "y = waveforms_data['target']\n",
    "\n",
    "X_train, X_test, y_train, y_test = train_test_split(X,y,test_size = 0.2)"
   ]
  },
  {
   "cell_type": "markdown",
   "metadata": {},
   "source": [
    "Now we define and fit two support vector classifiers, so we can compare ROC curves:"
   ]
  },
  {
   "cell_type": "code",
   "execution_count": 4,
   "metadata": {},
   "outputs": [
    {
     "data": {
      "text/html": [
       "<style>#sk-container-id-1 {color: black;}#sk-container-id-1 pre{padding: 0;}#sk-container-id-1 div.sk-toggleable {background-color: white;}#sk-container-id-1 label.sk-toggleable__label {cursor: pointer;display: block;width: 100%;margin-bottom: 0;padding: 0.3em;box-sizing: border-box;text-align: center;}#sk-container-id-1 label.sk-toggleable__label-arrow:before {content: \"▸\";float: left;margin-right: 0.25em;color: #696969;}#sk-container-id-1 label.sk-toggleable__label-arrow:hover:before {color: black;}#sk-container-id-1 div.sk-estimator:hover label.sk-toggleable__label-arrow:before {color: black;}#sk-container-id-1 div.sk-toggleable__content {max-height: 0;max-width: 0;overflow: hidden;text-align: left;background-color: #f0f8ff;}#sk-container-id-1 div.sk-toggleable__content pre {margin: 0.2em;color: black;border-radius: 0.25em;background-color: #f0f8ff;}#sk-container-id-1 input.sk-toggleable__control:checked~div.sk-toggleable__content {max-height: 200px;max-width: 100%;overflow: auto;}#sk-container-id-1 input.sk-toggleable__control:checked~label.sk-toggleable__label-arrow:before {content: \"▾\";}#sk-container-id-1 div.sk-estimator input.sk-toggleable__control:checked~label.sk-toggleable__label {background-color: #d4ebff;}#sk-container-id-1 div.sk-label input.sk-toggleable__control:checked~label.sk-toggleable__label {background-color: #d4ebff;}#sk-container-id-1 input.sk-hidden--visually {border: 0;clip: rect(1px 1px 1px 1px);clip: rect(1px, 1px, 1px, 1px);height: 1px;margin: -1px;overflow: hidden;padding: 0;position: absolute;width: 1px;}#sk-container-id-1 div.sk-estimator {font-family: monospace;background-color: #f0f8ff;border: 1px dotted black;border-radius: 0.25em;box-sizing: border-box;margin-bottom: 0.5em;}#sk-container-id-1 div.sk-estimator:hover {background-color: #d4ebff;}#sk-container-id-1 div.sk-parallel-item::after {content: \"\";width: 100%;border-bottom: 1px solid gray;flex-grow: 1;}#sk-container-id-1 div.sk-label:hover label.sk-toggleable__label {background-color: #d4ebff;}#sk-container-id-1 div.sk-serial::before {content: \"\";position: absolute;border-left: 1px solid gray;box-sizing: border-box;top: 0;bottom: 0;left: 50%;z-index: 0;}#sk-container-id-1 div.sk-serial {display: flex;flex-direction: column;align-items: center;background-color: white;padding-right: 0.2em;padding-left: 0.2em;position: relative;}#sk-container-id-1 div.sk-item {position: relative;z-index: 1;}#sk-container-id-1 div.sk-parallel {display: flex;align-items: stretch;justify-content: center;background-color: white;position: relative;}#sk-container-id-1 div.sk-item::before, #sk-container-id-1 div.sk-parallel-item::before {content: \"\";position: absolute;border-left: 1px solid gray;box-sizing: border-box;top: 0;bottom: 0;left: 50%;z-index: -1;}#sk-container-id-1 div.sk-parallel-item {display: flex;flex-direction: column;z-index: 1;position: relative;background-color: white;}#sk-container-id-1 div.sk-parallel-item:first-child::after {align-self: flex-end;width: 50%;}#sk-container-id-1 div.sk-parallel-item:last-child::after {align-self: flex-start;width: 50%;}#sk-container-id-1 div.sk-parallel-item:only-child::after {width: 0;}#sk-container-id-1 div.sk-dashed-wrapped {border: 1px dashed gray;margin: 0 0.4em 0.5em 0.4em;box-sizing: border-box;padding-bottom: 0.4em;background-color: white;}#sk-container-id-1 div.sk-label label {font-family: monospace;font-weight: bold;display: inline-block;line-height: 1.2em;}#sk-container-id-1 div.sk-label-container {text-align: center;}#sk-container-id-1 div.sk-container {/* jupyter's `normalize.less` sets `[hidden] { display: none; }` but bootstrap.min.css set `[hidden] { display: none !important; }` so we also need the `!important` here to be able to override the default hidden behavior on the sphinx rendered scikit-learn.org. See: https://github.com/scikit-learn/scikit-learn/issues/21755 */display: inline-block !important;position: relative;}#sk-container-id-1 div.sk-text-repr-fallback {display: none;}</style><div id=\"sk-container-id-1\" class=\"sk-top-container\"><div class=\"sk-text-repr-fallback\"><pre>SVC(C=1, kernel=&#x27;sigmoid&#x27;)</pre><b>In a Jupyter environment, please rerun this cell to show the HTML representation or trust the notebook. <br />On GitHub, the HTML representation is unable to render, please try loading this page with nbviewer.org.</b></div><div class=\"sk-container\" hidden><div class=\"sk-item\"><div class=\"sk-estimator sk-toggleable\"><input class=\"sk-toggleable__control sk-hidden--visually\" id=\"sk-estimator-id-1\" type=\"checkbox\" checked><label for=\"sk-estimator-id-1\" class=\"sk-toggleable__label sk-toggleable__label-arrow\">SVC</label><div class=\"sk-toggleable__content\"><pre>SVC(C=1, kernel=&#x27;sigmoid&#x27;)</pre></div></div></div></div></div>"
      ],
      "text/plain": [
       "SVC(C=1, kernel='sigmoid')"
      ]
     },
     "execution_count": 4,
     "metadata": {},
     "output_type": "execute_result"
    }
   ],
   "source": [
    "from sklearn.svm import SVC\n",
    "\n",
    "svc1 = SVC(C = 1, kernel = 'rbf')\n",
    "svc2 = SVC(C = 1, kernel = 'sigmoid')\n",
    "\n",
    "svc1.fit(X_train, y_train)\n",
    "svc2.fit(X_train, y_train)"
   ]
  },
  {
   "cell_type": "markdown",
   "metadata": {},
   "source": [
    "sklearn implements a function called ```roc_curve``` that will produce the false positive rate, true positive rate, and decision thresholds corresponding to those rates from true data and the output of the model decision function. In general, an sklearn model decision function can be accessed as ```model.decision_function```. For example, to get the ROC curve for our SVC, we do the following:"
   ]
  },
  {
   "cell_type": "code",
   "execution_count": 5,
   "metadata": {},
   "outputs": [
    {
     "data": {
      "image/png": "[encoded data removed]",
      "text/plain": [
       "<Figure size 720x480 with 1 Axes>"
      ]
     },
     "metadata": {},
     "output_type": "display_data"
    }
   ],
   "source": [
    "from sklearn.metrics import roc_curve\n",
    "import matplotlib.pyplot as plt\n",
    "from matplotlib.ticker import MultipleLocator\n",
    "\n",
    "y_score1 = svc1.decision_function(X_test) # Calculate scores for test points\n",
    "y_score2 = svc2.decision_function(X_test) # Calculate scores for test points\n",
    "\n",
    "fpr1, tpr1, thresholds1 = roc_curve(y_test, y_score1) # Find ROC curve values\n",
    "fpr2, tpr2, thresholds2 = roc_curve(y_test, y_score2)\n",
    "\n",
    "fig, ax = plt.subplots(1,1,figsize = (6,4), dpi = 120)\n",
    "\n",
    "ax.plot(fpr1, tpr1,color='#D55E00', label='Model 1',ls='--') # Plot the ROC curve\n",
    "ax.plot(fpr2, tpr2, color='#56B4E9', label = 'Model 2', ls = '--')\n",
    "ax.set_xlabel('False positive rate',fontsize = 18)\n",
    "ax.set_ylabel('True positive rate', fontsize = 18)\n",
    "ax.tick_params(which='both',labelsize = 14)\n",
    "ax.legend(loc='upper left',fontsize = 14)\n",
    "ax.xaxis.set_minor_locator(MultipleLocator(0.04))\n",
    "ax.yaxis.set_minor_locator(MultipleLocator(0.04))"
   ]
  },
  {
   "cell_type": "markdown",
   "metadata": {},
   "source": [
    "Finally, we can calculate the ROC-AUC score using the ```roc_auc_score``` function in sklearn:"
   ]
  },
  {
   "cell_type": "code",
   "execution_count": 6,
   "metadata": {},
   "outputs": [
    {
     "name": "stdout",
     "output_type": "stream",
     "text": [
      "Model 1 ROC-AUC: 0.782\n",
      "Model 2 ROC-AUC: 0.225\n"
     ]
    }
   ],
   "source": [
    "from sklearn.metrics import roc_auc_score\n",
    "\n",
    "print('Model 1 ROC-AUC: {:.3f}'.format(roc_auc_score(y_test, y_score1)))\n",
    "print('Model 2 ROC-AUC: {:.3f}'.format(roc_auc_score(y_test, y_score2)))\n"
   ]
  },
  {
   "cell_type": "markdown",
   "metadata": {},
   "source": [
    "We can also do both of these steps in one, using sklearn's ```RocCurveDisplay.from_estimator```. This produces a nicely labelled plot and labels the curve with the ROC-AUC score."
   ]
  },
  {
   "cell_type": "code",
   "execution_count": 7,
   "metadata": {},
   "outputs": [
    {
     "data": {
      "text/plain": [
       "Text(0.5, 1.0, 'Model 2')"
      ]
     },
     "execution_count": 7,
     "metadata": {},
     "output_type": "execute_result"
    },
    {
     "data": {
      "image/png": "[encoded data removed]",
      "text/plain": [
       "<Figure size 640x480 with 1 Axes>"
      ]
     },
     "metadata": {},
     "output_type": "display_data"
    },
    {
     "data": {
      "image/png": "[encoded data removed]",
      "text/plain": [
       "<Figure size 640x480 with 1 Axes>"
      ]
     },
     "metadata": {},
     "output_type": "display_data"
    }
   ],
   "source": [
    "from sklearn.metrics import RocCurveDisplay\n",
    "\n",
    "RocCurveDisplay.from_estimator(svc1, X_test, y_test)\n",
    "plt.gca().set_title('Model 1',fontsize = 20)\n",
    "RocCurveDisplay.from_estimator(svc2, X_test, y_test)\n",
    "plt.gca().set_title('Model 2',fontsize= 20)"
   ]
  },
  {
   "cell_type": "markdown",
   "metadata": {},
   "source": [
    "<div style=\"background-color:#C2F5DD\">\n",
    "\n",
    "### Example\n",
    "\n",
    "Now you have seen how to calculate ROC-AUC scores and plot a ROC curve using sklearn, try varying your hyperparameters and seeing what ROC curves and ROC-AUC scores you get. \n",
    "\n",
    "* Vary your hyperparameters, e.g. your kernel and your value of C\n",
    "* Plot your best ROC-AUC curve\n",
    "\n",
    "Record your results in a pandas DataFrame alongside the hyperparameters you used."
   ]
  },
  {
   "cell_type": "markdown",
   "metadata": {},
   "source": [
    "<div style=\"background-color: #FFF8C6\">\n",
    "\n",
    "Note: we can calculate a ROC curve for a kNN classifier, but it does not implement a ```decision_function```. However, from the ```roc_curve``` [documentation](https://scikit-learn.org/stable/modules/generated/sklearn.metrics.roc_curve.html) you can see that rather than passing the output of a decision function, we can pass a list of probabilities of the positive class. From a k-NN classifier, we can obtain this using the ```predict_proba``` function. This returns an array of shape ($n_{\\text{samples}}$, $n_{\\text{classes}}$) where each element is the probability of the relevant class for that sample. \n",
    "\n",
    "We need to pass the probability of the positive class, which corresponds to the second column: ```knn.predict_proba(X_test)[:,1]```. We can then pass this to ```roc_curve``` and ```roc_auc_score``` with ```y_test``` to calculate the score. You can read more about ```predict_proba``` in the KNeighborsClassifier [documentation]((https://scikit-learn.org/stable/modules/generated/sklearn.neighbors.KNeighborsClassifier.html). The ```RocCurveDisplay``` will automatically do this, so if you use that function you do not need to worry about this."
   ]
  },
  {
   "cell_type": "code",
   "execution_count": 8,
   "metadata": {},
   "outputs": [],
   "source": [
    "# Define your hyperparameters, vary these\n",
    "\n",
    "kernel = 'rbf'\n",
    "C = 1"
   ]
  },
  {
   "cell_type": "code",
   "execution_count": 9,
   "metadata": {},
   "outputs": [],
   "source": [
    "# Define and fit your model\n",
    "\n",
    "svc = SVC(C = C, kernel = kernel)\n",
    "svc.fit(X_train, y_train)"
   ]
  },
  {
   "cell_type": "code",
   "execution_count": 10,
   "metadata": {},
   "outputs": [],
   "source": [
    "# Calculate scores for test data\n",
    "\n",
    "y_score = svc.decision_function(X_test)"
   ]
  },
  {
   "cell_type": "code",
   "execution_count": 11,
   "metadata": {},
   "outputs": [],
   "source": [
    "# Calculate ROC curve and ROC-AUC score\n",
    "\n",
    "RocCurveDisplay.from_estimator(svc, X_test, y_test)"
   ]
  },
  {
   "cell_type": "markdown",
   "metadata": {},
   "source": [
    "<div style=\"background-color:#C2F5DD\">\n",
    "\n",
    "\n",
    "Display the ROC curve for your best performing model in the cell below."
   ]
  },
  {
   "cell_type": "code",
   "execution_count": null,
   "metadata": {},
   "outputs": [],
   "source": []
  },
  {
   "cell_type": "markdown",
   "metadata": {},
   "source": [
    "## Summary\n",
    "\n",
    "In this section, we have discussed how to use ROC-AUC on some simple data, including:\n",
    "\n",
    "* How to calculate true positive rate and false positive rate using `sklearn`\n",
    "* How to calculate ROC-AUC scores\n",
    "* How to plot ROC curves\n",
    "\n",
    "In the next section, we will discuss performance metrics for regression."
   ]
  },
  {
   "cell_type": "markdown",
   "metadata": {},
   "source": [
    "<hr style=\"border:2px solid gray\">\n",
    "\n",
    "# Section Three: Performance metrics for Regression [^](#outline)<a id='section-3'></a>\n",
    " \n",
    "\n",
    "\n"
   ]
  },
  {
   "cell_type": "markdown",
   "metadata": {},
   "source": [
    "When evaluating the regression models we have worked with so far, we have calculated the root-mean squared error. In this section, we will present some other metrics that can be used to evaluate regression models and compare them with the root-mean squared error."
   ]
  },
  {
   "cell_type": "markdown",
   "metadata": {},
   "source": [
    "## Residuals, mean absolute error and mean squared error"
   ]
  },
  {
   "cell_type": "markdown",
   "metadata": {},
   "source": [
    "Many metrics for evaluating regression performance depend on the **residuals** between prediction and expected values. This is the difference between the predicted and expected values; for a regression model prediction $\\hat{y}_i = f(\\mathbf{X}_i)$ and a test point ($\\mathbf{X}_i$, $y_i$), the residual is given as $y_i - \\hat{y}_i$. The order of subtraction doesn't generally matter, as the majority of metrics are sign-independent. "
   ]
  },
  {
   "cell_type": "markdown",
   "metadata": {},
   "source": [
    "Mean absolute error, mean squared error and root-mean squared error are all dependent on the residuals. These are each defined as follows:\n",
    "\n",
    "\\begin{align*}\n",
    "\\text{Mean absolute error (MAE)}:\\qquad\\qquad & \\text{MAE} = \\frac{1}{N}\\sum_{i = 1}^N|y_i - \\hat{y}_i| \\\\[10pt]\n",
    "\\text{Mean squared error (MSE)}:\\qquad\\qquad & \\text{MSE} = \\frac{1}{N}\\sum_{i = 1}^N(y_i - \\hat{y}_i)^2 \\\\[10pt]\n",
    "\\text{Root-mean squared error (RMSE)}:\\qquad\\qquad & \\text{RMSE} = \\sqrt{\\frac{1}{N}\\sum_{i = 1}^N(y_i - \\hat{y}_i)^2} \\\\\n",
    "\\end{align*}\n",
    "\n",
    "The figure below shows residuals with some example data."
   ]
  },
  {
   "cell_type": "markdown",
   "metadata": {},
   "source": [
    "<div>\n",
    "<img src='Week7_plots/residuals.png' width=700>\n",
    "</div>\n",
    "\n",
    "*Illustration of residuals. The mean absolute error, mean squared error, and root-mean squared error all depend on these values.*"
   ]
  },
  {
   "cell_type": "markdown",
   "metadata": {},
   "source": [
    "Which of these is best? It depends on the specific case. There are several things to consider:\n",
    "\n",
    "* Is the metric the same scale/units as the data? \n",
    "* Is the metric differentiable? This is important for many optimisation algorithms\n",
    "* Is the metric robust against outliers?\n",
    "\n",
    "Both MAE and RMSE have the same units as the $y$ values, while MSE does not. This makes it harder to interpret than the other metrics.\n",
    "\n",
    "Both MSE and RMSE are differentiable, as they are expressed as continuous functions of the residuals, whereas MAE is a discontinuous function of the residuals and so is harder to differentiate. \n",
    "\n",
    "Because MSE and RMSE are dependent on the square of the residuals, larger errors receive a significantly heavier penalty. This is not the case for MAE; higher errors are still penalised, but not as much as for MSE and RMSE.\n",
    "\n"
   ]
  },
  {
   "cell_type": "markdown",
   "metadata": {},
   "source": [
    "## Coefficient of determination $R^2$"
   ]
  },
  {
   "cell_type": "markdown",
   "metadata": {},
   "source": [
    "So far, we have looked at errors that are dependent on the scale of the data; what a good value of RMSE is depends intrinsicly on how large your data values are. There are other metrics we can use to assess model performance that are independent of the model scale. \n",
    "\n",
    "One example of such a metric is the **coefficient of determination**, also referred to as $R^2$. This metric compares the performance of the model against a model that just predicts the mean of the training data; in other words, it tells you how much the model can explain the variance of the data. \n",
    "\n",
    "This is defined as:\n",
    "\n",
    "\\begin{equation*}\n",
    "R^2 = 1 - \\frac{\\sum_{i = 1}^N(y_i - \\hat{y}_i)^2}{\\sum_{i = 1}^N (y_i - \\bar{y})^2},\n",
    "\\end{equation*}\n",
    "\n",
    "where symbols are defined as:\n",
    "\n",
    "* $y_i$ is the target for the test point $\\mathbf{X}_i$\n",
    "<br>\n",
    "\n",
    "* $\\hat{y}_i$ is the model prediction for the test point $\\mathbf{X}_i$\n",
    "<br>\n",
    "\n",
    "* $\\bar{y}$ is the mean of the training targets\n",
    "\n",
    "A model that predicts only the mean of the data has an $R^2$ of 0. A perfect prediction has an $R^2$ equal to 1. The value can become arbitrarily negative as model prediction can be arbitrarily bad."
   ]
  },
  {
   "cell_type": "markdown",
   "metadata": {},
   "source": [
    "<div>\n",
    "<img src='Week7_plots/r2_illustration_final.png' width=600>\n",
    "</div>\n",
    "\n",
    "*Illustration of the two components to the coefficient of determination. $R^2$ tells us if our model prediction does better than predicting the mean of the data.*"
   ]
  },
  {
   "cell_type": "markdown",
   "metadata": {},
   "source": [
    "## Goodness of fit\n",
    "\n",
    "We have previously discussed goodness of fit in the context of traditional fitting, but we can apply similar concepts to evaluate the performance of ML regression models. Specifically, we can use tests such as the Kolmogorov-Smirnov test to see how similar the distribution of the real data is compared to our predictions. \n",
    "\n",
    "Like we talked about for Kolmogorov-Smirnov tests in Week 3, we can construct separate cumulative distribution functions for the test data and our model prediction on the test data. Then, we can calculate the Kolmogorov-Smirnov statistic to characterise how similar those two distribution functions are, which then gives us a measure of how well our model generalises from the training data to the test data. \n",
    "\n",
    "If we have overfitted on our training data, then the difference between these two cumulative distributions will be large and the p-value associated with the Kolmogorov-Smirnov test will be small. \n",
    "\n",
    "We can do this test using `kstest` from `scipy.stats`. We will demonstrate this using the polynomial data from last week. We will start by loading in the data and splitting into training and test datasets. "
   ]
  },
  {
   "cell_type": "code",
   "execution_count": 8,
   "metadata": {},
   "outputs": [],
   "source": [
    "from scipy.stats import kstest\n",
    "import pandas as pd\n",
    "\n",
    "poly_df = pd.read_hdf('poly_data.h5')\n",
    "\n",
    "X, y = poly_df['input'].values, poly_df['target'].values\n",
    "\n",
    "X_train, X_test, y_train, y_test = train_test_split(X.reshape(-1,1), y, train_size = 0.8, test_size = 0.2, random_state = 1)"
   ]
  },
  {
   "cell_type": "markdown",
   "metadata": {},
   "source": [
    "Now we want to train two models: one that generalises well between training and test data, and one that overfits to the training data. We will do this using a polynomial kernel and an `rbf` kernel respectively."
   ]
  },
  {
   "cell_type": "code",
   "execution_count": 9,
   "metadata": {},
   "outputs": [
    {
     "data": {
      "text/html": [
       "<style>#sk-container-id-2 {color: black;}#sk-container-id-2 pre{padding: 0;}#sk-container-id-2 div.sk-toggleable {background-color: white;}#sk-container-id-2 label.sk-toggleable__label {cursor: pointer;display: block;width: 100%;margin-bottom: 0;padding: 0.3em;box-sizing: border-box;text-align: center;}#sk-container-id-2 label.sk-toggleable__label-arrow:before {content: \"▸\";float: left;margin-right: 0.25em;color: #696969;}#sk-container-id-2 label.sk-toggleable__label-arrow:hover:before {color: black;}#sk-container-id-2 div.sk-estimator:hover label.sk-toggleable__label-arrow:before {color: black;}#sk-container-id-2 div.sk-toggleable__content {max-height: 0;max-width: 0;overflow: hidden;text-align: left;background-color: #f0f8ff;}#sk-container-id-2 div.sk-toggleable__content pre {margin: 0.2em;color: black;border-radius: 0.25em;background-color: #f0f8ff;}#sk-container-id-2 input.sk-toggleable__control:checked~div.sk-toggleable__content {max-height: 200px;max-width: 100%;overflow: auto;}#sk-container-id-2 input.sk-toggleable__control:checked~label.sk-toggleable__label-arrow:before {content: \"▾\";}#sk-container-id-2 div.sk-estimator input.sk-toggleable__control:checked~label.sk-toggleable__label {background-color: #d4ebff;}#sk-container-id-2 div.sk-label input.sk-toggleable__control:checked~label.sk-toggleable__label {background-color: #d4ebff;}#sk-container-id-2 input.sk-hidden--visually {border: 0;clip: rect(1px 1px 1px 1px);clip: rect(1px, 1px, 1px, 1px);height: 1px;margin: -1px;overflow: hidden;padding: 0;position: absolute;width: 1px;}#sk-container-id-2 div.sk-estimator {font-family: monospace;background-color: #f0f8ff;border: 1px dotted black;border-radius: 0.25em;box-sizing: border-box;margin-bottom: 0.5em;}#sk-container-id-2 div.sk-estimator:hover {background-color: #d4ebff;}#sk-container-id-2 div.sk-parallel-item::after {content: \"\";width: 100%;border-bottom: 1px solid gray;flex-grow: 1;}#sk-container-id-2 div.sk-label:hover label.sk-toggleable__label {background-color: #d4ebff;}#sk-container-id-2 div.sk-serial::before {content: \"\";position: absolute;border-left: 1px solid gray;box-sizing: border-box;top: 0;bottom: 0;left: 50%;z-index: 0;}#sk-container-id-2 div.sk-serial {display: flex;flex-direction: column;align-items: center;background-color: white;padding-right: 0.2em;padding-left: 0.2em;position: relative;}#sk-container-id-2 div.sk-item {position: relative;z-index: 1;}#sk-container-id-2 div.sk-parallel {display: flex;align-items: stretch;justify-content: center;background-color: white;position: relative;}#sk-container-id-2 div.sk-item::before, #sk-container-id-2 div.sk-parallel-item::before {content: \"\";position: absolute;border-left: 1px solid gray;box-sizing: border-box;top: 0;bottom: 0;left: 50%;z-index: -1;}#sk-container-id-2 div.sk-parallel-item {display: flex;flex-direction: column;z-index: 1;position: relative;background-color: white;}#sk-container-id-2 div.sk-parallel-item:first-child::after {align-self: flex-end;width: 50%;}#sk-container-id-2 div.sk-parallel-item:last-child::after {align-self: flex-start;width: 50%;}#sk-container-id-2 div.sk-parallel-item:only-child::after {width: 0;}#sk-container-id-2 div.sk-dashed-wrapped {border: 1px dashed gray;margin: 0 0.4em 0.5em 0.4em;box-sizing: border-box;padding-bottom: 0.4em;background-color: white;}#sk-container-id-2 div.sk-label label {font-family: monospace;font-weight: bold;display: inline-block;line-height: 1.2em;}#sk-container-id-2 div.sk-label-container {text-align: center;}#sk-container-id-2 div.sk-container {/* jupyter's `normalize.less` sets `[hidden] { display: none; }` but bootstrap.min.css set `[hidden] { display: none !important; }` so we also need the `!important` here to be able to override the default hidden behavior on the sphinx rendered scikit-learn.org. See: https://github.com/scikit-learn/scikit-learn/issues/21755 */display: inline-block !important;position: relative;}#sk-container-id-2 div.sk-text-repr-fallback {display: none;}</style><div id=\"sk-container-id-2\" class=\"sk-top-container\"><div class=\"sk-text-repr-fallback\"><pre>SVR(C=100, coef0=2, epsilon=10, gamma=20)</pre><b>In a Jupyter environment, please rerun this cell to show the HTML representation or trust the notebook. <br />On GitHub, the HTML representation is unable to render, please try loading this page with nbviewer.org.</b></div><div class=\"sk-container\" hidden><div class=\"sk-item\"><div class=\"sk-estimator sk-toggleable\"><input class=\"sk-toggleable__control sk-hidden--visually\" id=\"sk-estimator-id-2\" type=\"checkbox\" checked><label for=\"sk-estimator-id-2\" class=\"sk-toggleable__label sk-toggleable__label-arrow\">SVR</label><div class=\"sk-toggleable__content\"><pre>SVR(C=100, coef0=2, epsilon=10, gamma=20)</pre></div></div></div></div></div>"
      ],
      "text/plain": [
       "SVR(C=100, coef0=2, epsilon=10, gamma=20)"
      ]
     },
     "execution_count": 9,
     "metadata": {},
     "output_type": "execute_result"
    }
   ],
   "source": [
    "from sklearn.svm import SVR\n",
    "\n",
    "poly_model = SVR(kernel='poly',degree=4,epsilon=10,coef0=2,C=1)\n",
    "rbf_model = SVR(kernel='rbf',gamma = 20, coef0=2, epsilon = 10, C = 100)\n",
    "\n",
    "poly_model.fit(X_train, y_train)\n",
    "rbf_model.fit(X_train, y_train)"
   ]
  },
  {
   "cell_type": "markdown",
   "metadata": {},
   "source": [
    "Now that we have defined and trained our two models, we can plot the prediction of both models along with both the training and test data, to get a first impression of any overfitting."
   ]
  },
  {
   "cell_type": "code",
   "execution_count": 10,
   "metadata": {},
   "outputs": [
    {
     "data": {
      "text/plain": [
       "<matplotlib.legend.Legend at 0x2a9f3c70850>"
      ]
     },
     "execution_count": 10,
     "metadata": {},
     "output_type": "execute_result"
    },
    {
     "data": {
      "image/png": "[encoded data removed]",
      "text/plain": [
       "<Figure size 900x600 with 1 Axes>"
      ]
     },
     "metadata": {},
     "output_type": "display_data"
    }
   ],
   "source": [
    "fig, ax = plt.subplots(1,1,figsize = (6,4),dpi = 150)\n",
    "\n",
    "X_plot = np.linspace(-3,3,1000).reshape(-1,1)\n",
    "\n",
    "ax.plot(X_plot,poly_model.predict(X_plot), color='#D55E00', label = \"Kernel = 'poly'\")\n",
    "ax.plot(X_plot, rbf_model.predict(X_plot), color='#56B4E9',label = \"Kernel = 'rbf'\")\n",
    "ax.scatter(X_train, y_train, color='black',label='Training data', s = 10)\n",
    "ax.scatter(X_test, y_test, color='#009E73',label='Test data', s = 10 )\n",
    "ax.set_xlabel('X',fontsize = 20)\n",
    "ax.set_ylabel('y',fontsize = 20)\n",
    "ax.xaxis.set_minor_locator(MultipleLocator(0.2))\n",
    "ax.yaxis.set_minor_locator(MultipleLocator(4))\n",
    "ax.tick_params(which='both',labelsize = 12,direction='in',top=True,right=True)\n",
    "ax.legend(loc='upper center',fontsize = 12, edgecolor='black')"
   ]
  },
  {
   "cell_type": "markdown",
   "metadata": {},
   "source": [
    "For the `rbf` kernel, it clearly looks like we have some overfitting on the training data, given the specific shape of our prediction curve. We can now test if the empirical cumulative distribution of our model prediction is consistent with that of the test data, using `kstest`. "
   ]
  },
  {
   "cell_type": "code",
   "execution_count": 11,
   "metadata": {},
   "outputs": [
    {
     "name": "stdout",
     "output_type": "stream",
     "text": [
      "poly kernel model:\n",
      "KstestResult(statistic=0.15, pvalue=0.9831368772656193, statistic_location=4.9360914108843055, statistic_sign=1)\n",
      "\n",
      "rbf kernel model\n",
      "KstestResult(statistic=0.35, pvalue=0.17453300569806826, statistic_location=8.069743415063959, statistic_sign=-1)\n"
     ]
    }
   ],
   "source": [
    "print('poly kernel model:')\n",
    "print(kstest(poly_model.predict(X_test), y_test))\n",
    "print('')\n",
    "\n",
    "print('rbf kernel model')\n",
    "print(kstest(rbf_model.predict(X_test), y_test))"
   ]
  },
  {
   "cell_type": "markdown",
   "metadata": {},
   "source": [
    "As you can see from the `kstest` results, the maximum distance between the two cumulative distributions is more than twice the size for the rbf kernel model than for the polynomial kernel model, with a corresponding p-value of 0.175 vs 0.983 for the polynomial kernel. \n",
    "\n",
    "In other words, these results tell us that for the rbf model, there is a 17.5% chance that the model is correctly describing the distribution of the test data, whereas there is a 98.3% chance the polynomial model is correctly describing the test data distribution. Of course, this doesn't mean we are necessarily correctly describing whatever the underlying model of the data is, only that our model correctly describes the test data distribution."
   ]
  },
  {
   "cell_type": "markdown",
   "metadata": {},
   "source": [
    "## A toy model to practise\n",
    "\n",
    "Once again you will have an opportunity now to practise using some of the regression metrics on some toy data. We will use the random polynomial function we defined in the exercises last week."
   ]
  },
  {
   "cell_type": "code",
   "execution_count": 16,
   "metadata": {},
   "outputs": [],
   "source": [
    "poly_df = pd.read_hdf('poly_data.h5')\n",
    "\n",
    "X, y = poly_df['input'], poly_df['target']\n",
    "\n",
    "X_train, X_test, y_train, y_test = train_test_split(X, y, test_size = 0.2)"
   ]
  },
  {
   "cell_type": "markdown",
   "metadata": {},
   "source": [
    "Define a support vector regression model:"
   ]
  },
  {
   "cell_type": "code",
   "execution_count": 17,
   "metadata": {},
   "outputs": [],
   "source": [
    "from sklearn.svm import SVR\n",
    "\n",
    "C = 100\n",
    "epsilon = 5\n",
    "kernel = 'linear'\n",
    "\n",
    "svr = SVR(C = C, epsilon = epsilon, kernel = kernel)\n",
    "\n",
    "svr.fit(X_train, y_train)"
   ]
  },
  {
   "cell_type": "markdown",
   "metadata": {},
   "source": [
    "Mean absolute error, mean squared error and the coefficient of determination are all defined in sklearn. However, both mean absolute error and mean squared error are defined as negative, so by default optimising by these metrics is a maximisation rather than a minimisation, so bear that in mind.\n",
    "\n",
    "You can also pass the argument ```squared = False``` to ```mean_squared_error``` to get the RMSE."
   ]
  },
  {
   "cell_type": "code",
   "execution_count": 18,
   "metadata": {},
   "outputs": [],
   "source": [
    "from sklearn.metrics import mean_absolute_error, mean_squared_error, r2_score\n",
    "\n",
    "y_pred = svr.predict(X_test)\n",
    "\n",
    "mae = mean_absolute_error(y_test, y_pred)\n",
    "mse = mean_squared_error(y_test, y_pred)\n",
    "rmse = mean_squared_error(y_test, y_pred, squared = False)\n",
    "\n",
    "print(\"Mean absolute error : {}\".format(mae))\n",
    "print(\"Mean squared error : {}\".format(mse))\n",
    "print(\"Root-mean squared error : {}\".format(rmse))\n",
    "\n",
    "r2 = r2_score(y_test, y_pred)\n",
    "\n",
    "print(\"R2 score : {}\".format(r2))"
   ]
  },
  {
   "cell_type": "code",
   "execution_count": 19,
   "metadata": {},
   "outputs": [],
   "source": [
    "from scipy.stats import kstest"
   ]
  },
  {
   "cell_type": "code",
   "execution_count": 20,
   "metadata": {},
   "outputs": [],
   "source": [
    "training_residuals = svr.predict(X_train) - y_train\n",
    "test_residuals = y_pred - y_test\n",
    "\n",
    "kstest(training_residuals, test_residuals)"
   ]
  },
  {
   "cell_type": "markdown",
   "metadata": {},
   "source": [
    "Finally, we can perform our goodness of fit tests:"
   ]
  },
  {
   "cell_type": "code",
   "execution_count": null,
   "metadata": {},
   "outputs": [],
   "source": [
    "# Code block for goodness of fit tests\n",
    "\n"
   ]
  },
  {
   "cell_type": "markdown",
   "metadata": {},
   "source": [
    "<div style=\"background-color:#C2F5DD\">\n",
    "\n",
    "### Example\n",
    "\n",
    "Now you have seen how to these metrics for regression using SVR, try varying your hyperparameters and see what values of performance metrics you get. \n",
    "\n",
    "* Vary your hyperparameters, e.g. your kernel and your value of C\n",
    "* Record your best results\n"
   ]
  },
  {
   "cell_type": "code",
   "execution_count": 21,
   "metadata": {},
   "outputs": [],
   "source": [
    "# Define your hyperparameters; vary these\n",
    "\n",
    "C = 100\n",
    "epsilon = 5\n",
    "kernel = 'linear'"
   ]
  },
  {
   "cell_type": "code",
   "execution_count": 22,
   "metadata": {},
   "outputs": [],
   "source": [
    "# Define and fit your model\n",
    "\n",
    "svr = SVR(C = C, epsilon = epsilon, kernel = kernel)\n",
    "\n",
    "svr.fit(X_train, y_train)"
   ]
  },
  {
   "cell_type": "code",
   "execution_count": 23,
   "metadata": {},
   "outputs": [],
   "source": [
    "# Evaluate MAE, MSE, and RMSE\n",
    "\n",
    "mae = mean_absolute_error(y_test, y_pred)\n",
    "mse = mean_squared_error(y_test, y_pred)\n",
    "rmse = mean_squared_error(y_test, y_pred, squared = False)\n",
    "\n",
    "print(\"Mean absolute error : {}\".format(mae))\n",
    "print(\"Mean squared error : {}\".format(mse))\n",
    "print(\"Root-mean squared error : {}\".format(rmse))\n"
   ]
  },
  {
   "cell_type": "code",
   "execution_count": 24,
   "metadata": {},
   "outputs": [],
   "source": [
    "# Evaluate R^2 score\n",
    "\n",
    "r2 = r2_score(y_test, y_pred)\n",
    "\n",
    "print(\"R2 score : {}\".format(r2))"
   ]
  },
  {
   "cell_type": "code",
   "execution_count": 25,
   "metadata": {},
   "outputs": [],
   "source": [
    "# K-S test\n",
    "\n",
    "from scipy.stats import kstest\n",
    "\n",
    "train_pred = svr.predict(X_train)\n",
    "test_pred = svr.predict(X_test)\n",
    "\n",
    "kstest(train_pred, test_pred)"
   ]
  },
  {
   "cell_type": "markdown",
   "metadata": {},
   "source": [
    "Record your best performing hyperparameters and the metric values using bullet points in this cell"
   ]
  },
  {
   "cell_type": "markdown",
   "metadata": {},
   "source": [
    "<div style=\"background-color:#C2F5DD\">\n",
    "\n",
    "\n",
    "Do you see any correlation between these metrics? E.g. does \"good\" MSE correlate with good $R^2$ etc?"
   ]
  },
  {
   "cell_type": "markdown",
   "metadata": {},
   "source": [
    "Your answer here"
   ]
  },
  {
   "cell_type": "markdown",
   "metadata": {},
   "source": [
    "## Summary\n",
    "\n",
    "In this section, we have discussed performance metrics for regression. This has included:\n",
    "\n",
    "* Residuals\n",
    "* Mean absolute error, mean squared error, and root-mean squared error\n",
    "* Coefficient of determination $R^2$\n",
    "\n",
    "In the next section, we will discuss one of the most famous datasets in machine learnint. "
   ]
  },
  {
   "cell_type": "markdown",
   "metadata": {},
   "source": [
    "<hr style=\"border:2px solid gray\">\n",
    "\n",
    "# Section Four: The MNIST dataset [^](#outline) <a id='section-4'></a>\n",
    "\n"
   ]
  },
  {
   "cell_type": "markdown",
   "metadata": {},
   "source": [
    "For this week, we will be working with the [MNIST dataset](https://en.wikipedia.org/wiki/MNIST_database). This is a set of labelled images of handwritten digits from 0 to 9. Each training sample is a 28 x 28 pixel greyscale image, where each pixel value is the intensity in that pixel. Once again, this is a commonly used dataset to test classification algorithms. There is a version implemented in sklearn that is a reduced size version, made of 8 x 8 images, that you can load using the ```load_digits``` function. However, we want to use the full dataset, so we need to download it. Note: this will take a while as this is quite a large dataset."
   ]
  },
  {
   "cell_type": "code",
   "execution_count": null,
   "metadata": {},
   "outputs": [],
   "source": [
    "from sklearn.datasets import fetch_openml\n",
    "\n",
    "mnist = fetch_openml('mnist_784')"
   ]
  },
  {
   "cell_type": "markdown",
   "metadata": {},
   "source": [
    "To visualise a single digit, we need to use matplotlib's ```imshow``` function:"
   ]
  },
  {
   "cell_type": "code",
   "execution_count": null,
   "metadata": {},
   "outputs": [],
   "source": [
    "import matplotlib.pyplot as plt\n",
    "import matplotlib.cm  as cm\n",
    "\n",
    "image = mnist.data.values[0] # Get the first point in the dataset\n",
    "image = image.reshape(28,28) # Reshape into its image form\n",
    "\n",
    "plt.imshow(image,cmap=cm.binary)\n",
    "plt.axis('off')"
   ]
  },
  {
   "cell_type": "markdown",
   "metadata": {},
   "source": [
    "You can check the corresponding target for your self. You will use this dataset for the remainder of this week to practise generating ROC curves and evaluating the performance of your machine learning models.\n",
    "\n"
   ]
  },
  {
   "cell_type": "markdown",
   "metadata": {},
   "source": [
    "## Summary\n",
    "\n",
    "In this section, you have been introduced to the MNIST dataset, one of the most famous datasets for classification. \n",
    "\n",
    "The following section will cover the exercises for you to work through this week."
   ]
  },
  {
   "cell_type": "markdown",
   "metadata": {},
   "source": [
    "<hr style=\"border:2px solid gray\">\n",
    "\n",
    "# Section Five: Exercises [^](#outline) <a id='section-5'></a>\n",
    "\n"
   ]
  },
  {
   "cell_type": "markdown",
   "metadata": {},
   "source": [
    "## MNIST"
   ]
  },
  {
   "cell_type": "markdown",
   "metadata": {},
   "source": [
    "<div style=\"background-color:#C2F5DD\">\n",
    "\n",
    "### Exercise 1\n",
    "\n",
    "Explore the MNIST dataset. This includes:\n",
    "\n",
    "* Print the dataset description\n",
    "* Visualise one of each of the classes using ```imshow```\n",
    "* Visualise several training points simulataneously, e.g. in a 4 x 4 array of plots"
   ]
  },
  {
   "cell_type": "code",
   "execution_count": null,
   "metadata": {},
   "outputs": [],
   "source": [
    "# Your visualisation code here\n",
    "\n"
   ]
  },
  {
   "cell_type": "markdown",
   "metadata": {},
   "source": [
    "The MNIST dataset is a multiclass classification problem. We however will restrict ourselves to binary classification; sklearn's ```SVC``` is capable of multiclass classification, which is done through a one-vs-one scheme, i.e. an independent classifier is trained for every pair of classes. For any prediction point, each classifier is used to predict that point and the class predicted by the greatest number of classifiers is chosen for the prediction point.\n",
    "\n",
    "To construct a binary classification problem, we must pick one class we are interested in identifying, e.g. identifying a handwritten 5, and we assign that as the positive class. To do this, we must manually create a target."
   ]
  },
  {
   "cell_type": "markdown",
   "metadata": {},
   "source": [
    "<div style=\"background-color:#C2F5DD\">\n",
    "\n",
    "### Exercise 2\n",
    "\n",
    "Create a target for a binary classification problem, to identify whether a digit is a 5 or not. Your target should have 0 (or -1) corresponding to an input that is **not** a 5, and 1 for inputs that are a 5. \n",
    "\n",
    "Make sure your target is an array of integers."
   ]
  },
  {
   "cell_type": "code",
   "execution_count": null,
   "metadata": {},
   "outputs": [],
   "source": [
    "# Your code here\n",
    "\n"
   ]
  },
  {
   "cell_type": "markdown",
   "metadata": {},
   "source": [
    "## ROC-AUC for MNIST"
   ]
  },
  {
   "cell_type": "markdown",
   "metadata": {},
   "source": [
    "<div style=\"background-color:#C2F5DD\">\n",
    "\n",
    "### Exercise 3\n",
    "\n",
    "Using the MNIST dataset, train a linear SVM classifier to determine if a given digit is a 5 or not.  Remember the following steps:\n",
    "\n",
    "* Divide your dataset into training and test sets\n",
    "* Use ```LinearSVC``` for speed\n",
    "* Define your hyperparameters\n",
    "* Fit your model\n",
    "\n",
    "Find your ROC curve and ROC-AUC score on the test data."
   ]
  },
  {
   "cell_type": "code",
   "execution_count": null,
   "metadata": {},
   "outputs": [],
   "source": [
    "# Define training and test datasets\n",
    "\n"
   ]
  },
  {
   "cell_type": "code",
   "execution_count": null,
   "metadata": {},
   "outputs": [],
   "source": [
    "# Define hyperparameters\n",
    "\n"
   ]
  },
  {
   "cell_type": "code",
   "execution_count": null,
   "metadata": {},
   "outputs": [],
   "source": [
    "# Define and fit your model\n",
    "\n"
   ]
  },
  {
   "cell_type": "code",
   "execution_count": null,
   "metadata": {},
   "outputs": [],
   "source": [
    "# Calculate prediction and scores on test data\n",
    "\n"
   ]
  },
  {
   "cell_type": "code",
   "execution_count": null,
   "metadata": {},
   "outputs": [],
   "source": [
    "# Plot ROC curve\n",
    "\n"
   ]
  },
  {
   "cell_type": "code",
   "execution_count": null,
   "metadata": {},
   "outputs": [],
   "source": [
    "# Calculate ROC-AUC score\n",
    "\n"
   ]
  },
  {
   "cell_type": "markdown",
   "metadata": {},
   "source": [
    "Although we have managed to use ```LinearSVC``` to train a linear SVM to classify the MNIST dataset, if we were to try using the generic ```SVC``` you will find it takes a lot longer to run. Instead of getting you to optimise hyperparameters on the whole dataset, we will instead generate a subset of MNIST with each class represented 100 times. You can then fit a model this subset and predict on the rest of the data."
   ]
  },
  {
   "cell_type": "code",
   "execution_count": null,
   "metadata": {},
   "outputs": [],
   "source": [
    "import numpy as np\n",
    "\n",
    "X = mnist['data'].values\n",
    "target = mnist['target'].values.astype(int)\n",
    "\n",
    "train_inds = np.concatenate([np.random.choice(np.where(target==i)[0],size = 100, replace = False) for i in range(10)])\n",
    "\n",
    "test_inds = np.arange(len(X))[~np.isin(np.arange(len(X)),train_inds)]\n",
    "\n",
    "y = np.zeros(len(X))\n",
    "y[target==5] = 1\n",
    "y = y.astype(int)\n",
    "\n",
    "X_train, y_train = X[train_inds], y[train_inds]\n",
    "X_test, y_test = X[test_inds], y[test_inds]"
   ]
  },
  {
   "cell_type": "markdown",
   "metadata": {},
   "source": [
    "<div style=\"background-color:#C2F5DD\">\n",
    "\n",
    "### Exercise 4\n",
    "\n",
    "Using this subset of the MNIST dataset and the sklearn ```SVC``` class, try experimenting with different hyperparameters to get the best possible ROC-AUC score you can on the full dataset. Remember the following steps:\n",
    "\n",
    "* Vary hyperparameters such as kernel and C\n",
    "* Fit your model\n",
    "* Predict on the test data\n",
    "\n",
    "Find your ROC curve and ROC-AUC score on the test data.\n",
    "\n",
    "Remember to record the ROC-AUC score for each combination of parameters."
   ]
  },
  {
   "cell_type": "code",
   "execution_count": null,
   "metadata": {},
   "outputs": [],
   "source": [
    "# Define your hyperparameters\n",
    "\n"
   ]
  },
  {
   "cell_type": "code",
   "execution_count": null,
   "metadata": {},
   "outputs": [],
   "source": [
    "# Fit your model\n",
    "\n"
   ]
  },
  {
   "cell_type": "code",
   "execution_count": null,
   "metadata": {},
   "outputs": [],
   "source": [
    "# Calculate your ROC-AUC score\n",
    "\n"
   ]
  },
  {
   "cell_type": "markdown",
   "metadata": {},
   "source": [
    "## Performance metrics for California housing dataset"
   ]
  },
  {
   "cell_type": "markdown",
   "metadata": {},
   "source": [
    "<div style=\"background-color:#C2F5DD\">\n",
    "\n",
    "### Exercise 5\n",
    "\n",
    "Using the California housing dataset we saw last week, train an SVR model with your choice of hyperparameters and calculate the following metrics:\n",
    "\n",
    "* Your choice of MAE, MSE or RMSE; which do you think is most appropriate? Discuss with the person next to you. \n",
    "* $R^2$ score\n",
    "* Goodness-of-fit using Kolmogorov-Smirnov"
   ]
  },
  {
   "cell_type": "code",
   "execution_count": null,
   "metadata": {},
   "outputs": [],
   "source": [
    "# Load the dataset\n",
    "\n"
   ]
  },
  {
   "cell_type": "code",
   "execution_count": null,
   "metadata": {},
   "outputs": [],
   "source": [
    "# Split into train and test datasets\n",
    "\n"
   ]
  },
  {
   "cell_type": "code",
   "execution_count": null,
   "metadata": {},
   "outputs": [],
   "source": [
    "# Define your hyper parameters\n",
    "\n"
   ]
  },
  {
   "cell_type": "code",
   "execution_count": null,
   "metadata": {},
   "outputs": [],
   "source": [
    "# Fit your model\n",
    "\n"
   ]
  },
  {
   "cell_type": "code",
   "execution_count": null,
   "metadata": {},
   "outputs": [],
   "source": [
    "# Calculate prediction and score on test data\n",
    "\n"
   ]
  },
  {
   "cell_type": "code",
   "execution_count": null,
   "metadata": {},
   "outputs": [],
   "source": [
    "# Calculate metrics\n",
    "# MAE, MSE or RMSE\n",
    "\n",
    "\n",
    "# Coefficient of determination\n",
    "\n",
    "\n",
    "# Goodness of fit"
   ]
  },
  {
   "cell_type": "markdown",
   "metadata": {},
   "source": [
    "<div style=\"background-color:#C2F5DD\">\n",
    "\n",
    "Do the other metrics agree with your best performing model from last week? Try testing using other hyperparameters like you did last week, do you find a model that has a better performance metrics than your model with best RMSE? \n",
    "\n",
    "Write a few sentences about your results."
   ]
  },
  {
   "cell_type": "markdown",
   "metadata": {},
   "source": [
    "Your answer here"
   ]
  }
 ],
 "metadata": {
  "kernelspec": {
   "display_name": "Python 3 (ipykernel)",
   "language": "python",
   "name": "python3"
  },
  "language_info": {
   "codemirror_mode": {
    "name": "ipython",
    "version": 3
   },
   "file_extension": ".py",
   "mimetype": "text/x-python",
   "name": "python",
   "nbconvert_exporter": "python",
   "pygments_lexer": "ipython3",
   "version": "3.9.18"
  }
 },
 "nbformat": 4,
 "nbformat_minor": 2
}
