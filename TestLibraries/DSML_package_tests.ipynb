{
 "cells": [
  {
   "cell_type": "markdown",
   "id": "da443c56",
   "metadata": {},
   "source": [
    "# Libraries for DSML Course\n",
    "\n",
    "Tests packages needed for DSML course. In some cases this illustrates some standard abreviations used for the packages or subpackages."
   ]
  },
  {
   "cell_type": "code",
   "execution_count": 3,
   "id": "c9d294b2",
   "metadata": {},
   "outputs": [
    {
     "name": "stdout",
     "output_type": "stream",
     "text": [
      "matplotlib version is 3.5.1\n"
     ]
    }
   ],
   "source": [
    "# matplotlib, other bits are used too, all weeks\n",
    "import matplotlib.pyplot as plt \n",
    "import matplotlib \n",
    "print(\"matplotlib version is \"+str(matplotlib.__version__))"
   ]
  },
  {
   "cell_type": "code",
   "execution_count": 4,
   "id": "0fc54bfd",
   "metadata": {},
   "outputs": [
    {
     "name": "stdout",
     "output_type": "stream",
     "text": [
      "numpy version is 1.21.5\n"
     ]
    }
   ],
   "source": [
    "# numpy, all weeks\n",
    "import numpy as np\n",
    "print(\"numpy version is \"+str(np.__version__))"
   ]
  },
  {
   "cell_type": "code",
   "execution_count": 5,
   "id": "5e90f0cd",
   "metadata": {},
   "outputs": [
    {
     "name": "stdout",
     "output_type": "stream",
     "text": [
      "scipy version is 1.8.0\n"
     ]
    }
   ],
   "source": [
    "# scipy, most weeks\n",
    "import scipy\n",
    "print(\"scipy version is \"+str(scipy.__version__))"
   ]
  },
  {
   "cell_type": "code",
   "execution_count": 6,
   "id": "cbe70a0d",
   "metadata": {},
   "outputs": [
    {
     "name": "stdout",
     "output_type": "stream",
     "text": [
      "sklearn version is 1.0.2\n"
     ]
    }
   ],
   "source": [
    "# sklearn, from week 5 onwards\n",
    "import sklearn\n",
    "print(\"sklearn version is \"+str(sklearn.__version__))"
   ]
  },
  {
   "cell_type": "code",
   "execution_count": 9,
   "id": "ebc15a6a",
   "metadata": {},
   "outputs": [
    {
     "name": "stdout",
     "output_type": "stream",
     "text": [
      "iminuit version is 1.4.2\n"
     ]
    }
   ],
   "source": [
    "# pandas, week 1\n",
    "import pandas as pd\n",
    "print(\"iminuit version is \"+str(pd.__version__))"
   ]
  },
  {
   "cell_type": "code",
   "execution_count": 10,
   "id": "4b3915fe",
   "metadata": {},
   "outputs": [
    {
     "name": "stdout",
     "output_type": "stream",
     "text": [
      "iminuit version is 2.24.0\n"
     ]
    }
   ],
   "source": [
    "# iminuit, week 4 \n",
    "import iminuit \n",
    "print(\"iminuit version is \"+str(iminuit.__version__))\n",
    "# next line needed as there is a problem running it\n",
    "from iminuit.cost import LeastSquares "
   ]
  },
  {
   "cell_type": "code",
   "execution_count": 11,
   "id": "850b2655",
   "metadata": {},
   "outputs": [
    {
     "ename": "ModuleNotFoundError",
     "evalue": "No module named 'xgboost'",
     "output_type": "error",
     "traceback": [
      "\u001b[1;31m---------------------------------------------------------------------------\u001b[0m",
      "\u001b[1;31mModuleNotFoundError\u001b[0m                       Traceback (most recent call last)",
      "\u001b[1;32m~\\AppData\\Local\\Temp\\ipykernel_23232\\4229785219.py\u001b[0m in \u001b[0;36m<cell line: 2>\u001b[1;34m()\u001b[0m\n\u001b[0;32m      1\u001b[0m \u001b[1;31m# iminuit, week 8\u001b[0m\u001b[1;33m\u001b[0m\u001b[1;33m\u001b[0m\u001b[0m\n\u001b[1;32m----> 2\u001b[1;33m \u001b[1;32mimport\u001b[0m \u001b[0mxgboost\u001b[0m\u001b[1;33m\u001b[0m\u001b[1;33m\u001b[0m\u001b[0m\n\u001b[0m\u001b[0;32m      3\u001b[0m \u001b[0mprint\u001b[0m\u001b[1;33m(\u001b[0m\u001b[1;34m\"xgboost version is \"\u001b[0m\u001b[1;33m+\u001b[0m\u001b[0mstr\u001b[0m\u001b[1;33m(\u001b[0m\u001b[0mxgboost\u001b[0m\u001b[1;33m.\u001b[0m\u001b[0m__version__\u001b[0m\u001b[1;33m)\u001b[0m\u001b[1;33m)\u001b[0m\u001b[1;33m\u001b[0m\u001b[1;33m\u001b[0m\u001b[0m\n",
      "\u001b[1;31mModuleNotFoundError\u001b[0m: No module named 'xgboost'"
     ]
    }
   ],
   "source": [
    "# iminuit, week 8\n",
    "import xgboost \n",
    "print(\"xgboost version is \"+str(xgboost.__version__))"
   ]
  },
  {
   "cell_type": "code",
   "execution_count": 12,
   "id": "fe46582a",
   "metadata": {},
   "outputs": [
    {
     "name": "stdout",
     "output_type": "stream",
     "text": [
      "torch version is 1.11.0+cpu\n"
     ]
    },
    {
     "name": "stderr",
     "output_type": "stream",
     "text": [
      "D:\\WPy64-31040\\python-3.10.4.amd64\\lib\\site-packages\\torch\\_masked\\__init__.py:223: UserWarning: Failed to initialize NumPy: module compiled against API version 0xf but this version of numpy is 0xe (Triggered internally at  ..\\torch\\csrc\\utils\\tensor_numpy.cpp:68.)\n",
      "  example_input = torch.tensor([[-3, -2, -1], [0, 1, 2]])\n"
     ]
    }
   ],
   "source": [
    "# torch, week 9 and 10\n",
    "import torch \n",
    "print(\"torch version is \"+str(torch.__version__))"
   ]
  },
  {
   "cell_type": "code",
   "execution_count": 13,
   "id": "04b04d5f",
   "metadata": {},
   "outputs": [
    {
     "name": "stdout",
     "output_type": "stream",
     "text": [
      "torchvision version is 0.12.0+cpu\n"
     ]
    }
   ],
   "source": [
    "# torchvision, week 9 and 10\n",
    "import torchvision \n",
    "print(\"torchvision version is \"+str(torchvision.__version__))"
   ]
  },
  {
   "cell_type": "code",
   "execution_count": null,
   "id": "53a3d1c3",
   "metadata": {},
   "outputs": [],
   "source": []
  }
 ],
 "metadata": {
  "kernelspec": {
   "display_name": "Python 3 (ipykernel)",
   "language": "python",
   "name": "python3"
  },
  "language_info": {
   "codemirror_mode": {
    "name": "ipython",
    "version": 3
   },
   "file_extension": ".py",
   "mimetype": "text/x-python",
   "name": "python",
   "nbconvert_exporter": "python",
   "pygments_lexer": "ipython3",
   "version": "3.10.4"
  }
 },
 "nbformat": 4,
 "nbformat_minor": 5
}
