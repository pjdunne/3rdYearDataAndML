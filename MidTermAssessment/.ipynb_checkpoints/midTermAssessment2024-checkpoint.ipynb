{
 "cells": [
  {
   "cell_type": "markdown",
   "id": "8c85ac4e",
   "metadata": {},
   "source": [
    "# Mid-Term Assessment PHYS60023/PHYS70073\n",
    "\n",
    "This is the mid term assessment for the BSc/MSci PHYS60022/PHYS70073 course - \"Data Science and Machine Learning for Physics\" (Spring 2024). You will also need to have the file `PHYS60022_2m_n1000_r0250_s042.npy` in the same directory as this Jupyter notebook\n",
    "\n",
    "Both the BSc and MSci courses will use the same Jupyter notebook (this one) for this formative assessment."
   ]
  },
  {
   "cell_type": "markdown",
   "id": "00044e6a",
   "metadata": {},
   "source": [
    "<hr style=\"border:2px solid gray\">\n",
    "<a id='instructions'></a>"
   ]
  },
  {
   "cell_type": "markdown",
   "id": "f65cdba6",
   "metadata": {},
   "source": [
    "# Instructions  [^](#outline)"
   ]
  },
  {
   "cell_type": "markdown",
   "id": "f3eb5d6a",
   "metadata": {},
   "source": [
    "<div style=\"background-color: #FFEEEC\">\n",
    "    \n",
    "#### Pink sections are questions\n",
    "\n",
    "Any Markdown/text boxes coloured in pink coloured like this one are *questions*. The next cell below is your first example. \n",
    "    \n",
    "We used a deep red colour in the main course notebooks to indicate optional mathematical sections but we do not have such sections here."
   ]
  },
  {
   "cell_type": "markdown",
   "id": "5cd2ba7d",
   "metadata": {},
   "source": [
    "<div style=\"background-color: #FFEEEC\">\n",
    "    \n",
    "#### Claim this file\n",
    "\n",
    "1. We suggest you rename this file e.g. add your CID number to the file name. Click on the filename at the top of this page and it will ask you to rename the file.\n",
    "1. Add your name and/or CID number in the Markdown cell box below \n",
    "\n"
   ]
  },
  {
   "cell_type": "markdown",
   "id": "d40956eb",
   "metadata": {},
   "source": [
    "*Write your name and CID number here*\n",
    "\n",
    "Name: Albert Einstein\n",
    "\n",
    "CID:  0123456"
   ]
  },
  {
   "cell_type": "markdown",
   "id": "e91cd622",
   "metadata": {},
   "source": [
    "#### How this formative assessment will be run\n",
    "\n",
    "* This is the mid term assessment for the BSc/MSci PHYS60022/PHYS70073 \"Data Science and Machine Learning for Physics\" (Spring 2024).\n",
    "* Formative assessment, for feedback only, no contribution to final mark for course.\n",
    "    * The mark scheme indicated here is for information and feedback only. These marks are indicative of the style we expect to use in the final summative assessment this summer. These marks do not contribute to the final grade of the course.\n",
    "* Three hours long.\n",
    "    * If the department has agreed formally to make other arrangements for your exams then these arrangements should be followed. Please make the examiners aware if the agreed procedures are not being followed.\n",
    "* Work must be done on a standard Blackett Lab computer lab computer.\n",
    "* You should answer the questions by adding code and text to this notebook.\n",
    "    * Only this notebook is assessed, no other files will be considered. You should therefore make sure all information (e.g. plots) are produced in this file.\n",
    "    * Questions *must* be answered in the order they are presented here. Failure to do so will be marked down under the general presentation and style marks.\n",
    "    * Some cells for your answers are often provided. You may add extra cells of any type as you require as long as they are in the correct location. \n",
    "* Submit your completed version of this python notebook via Blackboard.\n",
    "* The work submitted must be your own.\n",
    "    * Do not discuss your work with *anyone* else during the exam. This includes *any* sort of communication with people not in this room. Do not communicate with anyone else during the exam other than with the examiners present in the room. \n",
    "    * Do not share the notebook with anyone else. That includes the original bare notebook you download initially or any version where you have made changes or additions. \n",
    "    * If you use code from elsewhere, cite the source of any code copied in comments next to the relevant code. As a *rough* guide:-\n",
    "        * If you use less than a single line of code from another source, e.g. how to use a command, then citation is probably not needed.  \n",
    "        * If you use more than one line, then you should consider citing the source. \n",
    "    * If you use text from elsewhere this must be in quotes with the source cited.\n",
    "    * If you use an image from elsewhere, even if you make some alterations, you should cite the source.\n",
    "   "
   ]
  },
  {
   "cell_type": "markdown",
   "id": "5a6c3fa0",
   "metadata": {},
   "source": [
    "<hr style=\"border:2px solid gray\">\n",
    "<a id='outline'></a>"
   ]
  },
  {
   "cell_type": "markdown",
   "id": "497417eb",
   "metadata": {},
   "source": [
    "# Outline \n",
    "\n",
    "* [Instructions](#instructions)\n",
    "* [Question 1](#q1)\n",
    "* [Question 2](#q2)\n",
    "* [Question 3](#q3)\n",
    "\n"
   ]
  },
  {
   "cell_type": "markdown",
   "id": "7e800453",
   "metadata": {},
   "source": [
    "<hr style=\"border:2px solid gray\">\n",
    "<a id='outline'></a>"
   ]
  },
  {
   "cell_type": "markdown",
   "id": "2dde7ede",
   "metadata": {},
   "source": [
    "<div style=\"background-color: #FFEEEC\">\n",
    "\n",
    "# Question 1  [^](#outline)\n",
    "\n",
    "[Total Marks 15] \n",
    "    \n",
    "Read in the data from the file `PHYS60022_2m_n1000_r0250_s042.npy`, for instance using the following code. \n",
    "```\n",
    "with open(\"PHYS60022_2m_n1000_r0250_s024.npy\", 'rb') as ifp:\n",
    "    coord = np.load(ifp)\n",
    "    label = np.load(ifp)\n",
    "```\n",
    "This gives two numpy arrays. The `coord` array gives two-dimensional coordinates for some data points. The `label` array is a one-dimensional numpy array with integer entries. This labels the class of each data point so that `label[i]` is the label of the class of the `i`-th data point with coordinates `(coord[i,0],  coord[i,1])`. "
   ]
  },
  {
   "cell_type": "code",
   "execution_count": 1,
   "id": "80ca1658",
   "metadata": {},
   "outputs": [],
   "source": [
    "# input data from file \"PHYS60022_2m_n0300_r0250_s024.npy\"\n"
   ]
  },
  {
   "cell_type": "markdown",
   "id": "a0dcdd91",
   "metadata": {},
   "source": [
    "<div style=\"background-color: #FFEEEC\">\n",
    "\n",
    "## Q1.1\n",
    "\n",
    "(i) Show that there is one label for every coordinate. [1 mark]\n",
    "\n",
    "(ii) How many data points are there? [1 mark]\n",
    "\n",
    "(iii) How many distinct labels are there? This is the number of different classes assigned to the data  [1 mark]\n",
    "\n",
    "<!-- How many distinct labels are there? This is the number of different classes assigned to the data  [1 mark]  -->"
   ]
  },
  {
   "cell_type": "code",
   "execution_count": 3,
   "id": "5ba2e8e9",
   "metadata": {},
   "outputs": [
    {
     "name": "stdout",
     "output_type": "stream",
     "text": [
      "(1000, 2) (1000,)\n",
      "There are 1000 entries in the coordinates and 1000 entries in the labels\n",
      "There are 2 unique labels which are:-\n",
      " [0 1]\n"
     ]
    }
   ],
   "source": [
    "# Some code to answer the questions\n",
    "\n"
   ]
  },
  {
   "cell_type": "markdown",
   "id": "9284b88c",
   "metadata": {},
   "source": [
    "*your answer here*\n",
    "\n"
   ]
  },
  {
   "cell_type": "markdown",
   "id": "0662ee43",
   "metadata": {},
   "source": [
    "<div style=\"background-color: #FFEEEC\">\n",
    "\n",
    "## Q1.2\n",
    "\n",
    "Plot the data points on one plot showing the coordinates and class of each point clearly. [5 marks]"
   ]
  },
  {
   "cell_type": "code",
   "execution_count": 4,
   "id": "140d4ef5",
   "metadata": {},
   "outputs": [
    {
     "data": {
      "text/plain": [
       "<matplotlib.legend.Legend at 0x17b8b6eef80>"
      ]
     },
     "execution_count": 4,
     "metadata": {},
     "output_type": "execute_result"
    },
    {
     "data": {
      "image/png": "[encoded data removed]",
      "text/plain": [
       "<Figure size 1500x900 with 1 Axes>"
      ]
     },
     "metadata": {
      "needs_background": "light"
     },
     "output_type": "display_data"
    }
   ],
   "source": [
    "# code to plot the data points\n",
    "\n"
   ]
  },
  {
   "cell_type": "markdown",
   "id": "eebc001f",
   "metadata": {},
   "source": [
    "<div style=\"background-color: #FFEEEC\">\n",
    "\n",
    "## Q1.3\n",
    "\n",
    "The aim is to use machine learning methods to automatically separate the data into a number of distinct sets. The labels will be used to check how good your solutions are."
   ]
  },
  {
   "cell_type": "markdown",
   "id": "046ac3e3",
   "metadata": {},
   "source": [
    "<div style=\"background-color: #FFEEEC\">\n",
    "\n",
    "### Q1.3.(i)\n",
    "\n",
    "What is the name for this type of problem? [1 mark]"
   ]
  },
  {
   "cell_type": "markdown",
   "id": "dc3de006",
   "metadata": {},
   "source": [
    "*your answer here*\n",
    "\n"
   ]
  },
  {
   "cell_type": "markdown",
   "id": "0cb80fd3",
   "metadata": {},
   "source": [
    "<div style=\"background-color: #FFEEEC\">\n",
    "\n",
    "### Q1.3.(ii)\n",
    "\n",
    "We will use two algorithms to separate our data into distinct types: k-NN (k-Nearest Neighbours) and a classifier based on a SVM (Support Vector Machine). Answer each of the following points with one or two sentences each.\n",
    "\n",
    "* Are these examples of supervised or unsupervised learning algorithms?  [1 mark]\n",
    "* Why are these two algoithms appropriate here? [1 mark]\n",
    "    \n",
    "<!-- Name at two algorithms that could be used for doing this? [1 mark]-->"
   ]
  },
  {
   "cell_type": "markdown",
   "id": "b973a1b1",
   "metadata": {},
   "source": [
    "*your answer here*\n",
    "\n"
   ]
  },
  {
   "cell_type": "markdown",
   "id": "22164d2c",
   "metadata": {},
   "source": [
    "<div style=\"background-color: #FFEEEC\">\n",
    "\n",
    "### Q1.3.iii\n",
    "    \n",
    "* Explain in one or two sentences if k-NN (k-Nearest Neighbours) is a good method for this data or not.  [2 marks]\n",
    "* Explain in one or two sentences if SVC (Support Vector Machine) is a good method for this data or not.  [2 marks]\n"
   ]
  },
  {
   "cell_type": "markdown",
   "id": "b90cf569",
   "metadata": {},
   "source": [
    "*answer for k-NN*\n"
   ]
  },
  {
   "cell_type": "markdown",
   "id": "8a50a94a",
   "metadata": {},
   "source": [
    "\n"
   ]
  },
  {
   "cell_type": "markdown",
   "id": "f30397be",
   "metadata": {},
   "source": [
    "<hr style=\"border:2px solid gray\">\n",
    "<a id='outline'></a>"
   ]
  },
  {
   "cell_type": "markdown",
   "id": "435d724d",
   "metadata": {},
   "source": [
    "<div style=\"background-color: #FFEEEC\">\n",
    "\n",
    "# Question 2  [^](#outline)\n",
    "\n",
    "In this question you will apply the k-NN (k-Nearest Neighbours) to classify the data and you will measure how effective this method is.\n",
    "    \n",
    "[Total Marks 25]"
   ]
  },
  {
   "cell_type": "markdown",
   "id": "5d5a0eba",
   "metadata": {},
   "source": [
    "<div style=\"background-color: #FFEEEC\">\n",
    "\n",
    "## Q2.1\n",
    "\n",
    "Preliminary questions about the k-NN method."
   ]
  },
  {
   "cell_type": "markdown",
   "id": "63b4df0c",
   "metadata": {},
   "source": [
    "<div style=\"background-color: #FFEEEC\">\n",
    "\n",
    "### Q2.1.i\n",
    "\n",
    "1. What are the hyperparameters of the k-NN method? [Marks 1]\n",
    "\n",
    "1. In each case describe in one or two sentences what they do. [Marks 1]\n"
   ]
  },
  {
   "cell_type": "markdown",
   "id": "0732b534",
   "metadata": {},
   "source": [
    "*your answer here*\n",
    "\n"
   ]
  },
  {
   "cell_type": "markdown",
   "id": "a90bbc21",
   "metadata": {},
   "source": [
    "<div style=\"background-color: #FFEEEC\">\n",
    "\n",
    "### 2.1.ii\n",
    "\n",
    "Name three performance metrics you could use to test the effectiveness of your k-NN algorithm. [Marks 3]\n",
    "\n"
   ]
  },
  {
   "cell_type": "markdown",
   "id": "e0e98f6c",
   "metadata": {},
   "source": [
    "*your answer here*\n",
    "\n"
   ]
  },
  {
   "cell_type": "markdown",
   "id": "581a48d5",
   "metadata": {},
   "source": [
    "<div style=\"background-color: #FFEEEC\">\n",
    "\n",
    "## Q2.2\n",
    "\n",
    "In this part of question 2, you just need to show your code with appropriate comments. In the next part of question 2, you will be asked to describe the choices you made, to explain how you chose the best set of hyperparameter values and to describe the results.\n",
    "\n",
    "Build, train and test a k-NN classifier for our data. \n",
    "* You should use ROC_AUC and at least one other performance metric to measure the effectiveness of any results. [4 marks]\n",
    "    * If you can use more metrics easily then do so. \n",
    "* You should aim to find the best results you can e.g. by varying the hyperparameters. [4 marks]\n",
    "    * You should try at least 10 different combinations of hyperparameter values. \n",
    "\n",
    "[Marks 5] \n"
   ]
  },
  {
   "cell_type": "code",
   "execution_count": 5,
   "id": "01433fbf",
   "metadata": {},
   "outputs": [],
   "source": [
    "# import libraries needed\n"
   ]
  },
  {
   "cell_type": "code",
   "execution_count": 6,
   "id": "4e0e04a3",
   "metadata": {},
   "outputs": [
    {
     "name": "stdout",
     "output_type": "stream",
     "text": [
      "(800,) (200,)\n"
     ]
    }
   ],
   "source": [
    "# Split data into training and test sets \n",
    "\n"
   ]
  },
  {
   "cell_type": "code",
   "execution_count": 7,
   "id": "0cbd3a7e",
   "metadata": {},
   "outputs": [],
   "source": [
    "# Define your hyperparameters\n"
   ]
  },
  {
   "cell_type": "code",
   "execution_count": 8,
   "id": "7515570c",
   "metadata": {},
   "outputs": [
    {
     "data": {
      "text/plain": [
       "KNeighborsClassifier(n_neighbors=4)"
      ]
     },
     "execution_count": 8,
     "metadata": {},
     "output_type": "execute_result"
    }
   ],
   "source": [
    "# Define your model and fit your model to appropriate data\n"
   ]
  },
  {
   "cell_type": "code",
   "execution_count": 9,
   "id": "3b4dea9c",
   "metadata": {},
   "outputs": [],
   "source": [
    "# Predict on test data \n"
   ]
  },
  {
   "cell_type": "code",
   "execution_count": 10,
   "id": "11c0c537",
   "metadata": {},
   "outputs": [
    {
     "name": "stdout",
     "output_type": "stream",
     "text": [
      "Accuracy = 93.0%, precision  = 92.5%, recall = 92.5%, \n"
     ]
    }
   ],
   "source": [
    "# Use performance metrics to investigate the effectiveness of predictions made\n"
   ]
  },
  {
   "cell_type": "code",
   "execution_count": 3,
   "id": "77bbf0d6",
   "metadata": {},
   "outputs": [],
   "source": [
    "# This is ROC for k-NN\n"
   ]
  },
  {
   "cell_type": "code",
   "execution_count": null,
   "id": "74961396",
   "metadata": {},
   "outputs": [],
   "source": []
  },
  {
   "cell_type": "code",
   "execution_count": 13,
   "id": "5ad8c05c",
   "metadata": {},
   "outputs": [
    {
     "name": "stdout",
     "output_type": "stream",
     "text": [
      "*** Each data point represents a change of 0.005000 in the accuracy\n"
     ]
    }
   ],
   "source": []
  },
  {
   "cell_type": "code",
   "execution_count": 2,
   "id": "b0b0336d",
   "metadata": {},
   "outputs": [],
   "source": [
    "# code to plot the effectiveness of the results\n",
    "\n"
   ]
  },
  {
   "cell_type": "markdown",
   "id": "44767299",
   "metadata": {},
   "source": [
    "<div style=\"background-color: #FFEEEC\">\n",
    "\n",
    "## Q2.3\n",
    "\n",
    "In the previous part of question 2, you built, trained and tested a k-NN classifier for our data. Based on the results you have shown, what hyperparameter values would you choose to best classify the data? Give your chosen values in the following markdown cell and explain why you made your choice. \n",
    "Refer back to any plots and data you have produced above. Your answer should include    \n",
    "* The performance metrics you used and how you interpeted them. \n",
    "* What values you chose for the hyperparameters and why. \n",
    "\n",
    "[10 marks]"
   ]
  },
  {
   "cell_type": "markdown",
   "id": "d1530894",
   "metadata": {},
   "source": [
    "*your answer here*\n"
   ]
  },
  {
   "cell_type": "markdown",
   "id": "4dd5192a",
   "metadata": {},
   "source": [
    "<div style=\"background-color: #FFEEEC\">\n",
    "\n",
    "## Q2.4\n",
    "\n",
    "Using your chosen values for hyperparameters to give the best classification, on a single scatter plot plot, show the following\n",
    "* the training data,\n",
    "* the test data that were correctly identified,\n",
    "* the test data that were incorrectly identified.\n",
    "\n",
    "You will need to distinguish all three types of point for both classes so that is six distinct types of point must be present. \n",
    "    \n",
    "[5 marks] "
   ]
  },
  {
   "cell_type": "code",
   "execution_count": 4,
   "id": "4ced3de0",
   "metadata": {},
   "outputs": [],
   "source": [
    "# code to plot the data points\n",
    "\n"
   ]
  },
  {
   "cell_type": "markdown",
   "id": "99b93d0f",
   "metadata": {},
   "source": [
    "<div style=\"background-color: #FFEEEC\">\n",
    "\n",
    "**END OF QUESTION 2**  [^](#outline)"
   ]
  },
  {
   "cell_type": "markdown",
   "id": "e40c37fa",
   "metadata": {},
   "source": [
    "<hr style=\"border:2px solid gray\">\n",
    "<a id='outline'></a>"
   ]
  },
  {
   "cell_type": "markdown",
   "id": "7571f635",
   "metadata": {},
   "source": [
    "<div style=\"background-color: #FFEEEC\">\n",
    "\n",
    "# Question 3  [^](#outline)\n",
    "\n",
    "In this question you will apply SVC (a Scalar Vector Machine used as a classifier) to classify the same data as used in question 2. You will measure how effective this SVC method is in this case and compare it the results against the k-NN method of question 2.\n",
    "\n",
    "[Total Marks 25]"
   ]
  },
  {
   "cell_type": "markdown",
   "id": "c26ab98a",
   "metadata": {},
   "source": [
    "<div style=\"background-color: #FFEEEC\">\n",
    "\n",
    "### Q3.1\n",
    "\n",
    "1. What are the two most important hyperparameters of the SVC (support Vector Classification) method? \n",
    "\n",
    "1. In each case describe in one or two sentences what they do. \n",
    "    \n",
    "[Marks 5]\n",
    "\n"
   ]
  },
  {
   "cell_type": "markdown",
   "id": "7fe19baf",
   "metadata": {},
   "source": [
    "*your answer here*\n"
   ]
  },
  {
   "cell_type": "markdown",
   "id": "21e5be74",
   "metadata": {},
   "source": [
    "<div style=\"background-color: #FFEEEC\">\n",
    "    \n",
    "## Q3.2\n",
    "\n",
    "In this part of question 3, you just need to show your code with appropriate comments. In the next part of question 3, you will be asked to describe the choices you made, to explain how you chose the best set of hyperparameter values and to describe the results.\n",
    "\n",
    "Build, train and test an SVC (Scalar Vector Machine regression used as a classifier) for our data. In particular\n",
    "    \n",
    "* Use the same division of the dataset into training and test sets exactly as before. \n",
    "* Define your hyperparameters. This includes choosing at least two \n",
    "* Fit your model\n",
    "* Plot the ROC curve\n",
    "* Measure the effectiveness of your classification by calculating the value of at least 2 performance metrics. \n",
    "    * If you can use more metrics easily then do so. \n",
    "* You should aim to find the best results you can e.g. by varying the hyperparameters. \n",
    "    * You should try at least 10 different combinations of hyperparameter values. \n",
    "    \n",
    "In the next part of question 3 we will look at the performance of the model.\n",
    "    \n",
    "[Marks 5]    "
   ]
  },
  {
   "cell_type": "code",
   "execution_count": 5,
   "id": "ab9c0002",
   "metadata": {},
   "outputs": [],
   "source": [
    "# Use training and test sets from Q1\n"
   ]
  },
  {
   "cell_type": "code",
   "execution_count": 17,
   "id": "38c2ca96",
   "metadata": {},
   "outputs": [],
   "source": [
    "# Define and fit your model \n"
   ]
  },
  {
   "cell_type": "code",
   "execution_count": 18,
   "id": "a1db3c73",
   "metadata": {},
   "outputs": [],
   "source": [
    "# Define hyperparameters\n"
   ]
  },
  {
   "cell_type": "code",
   "execution_count": 19,
   "id": "29da7d4b",
   "metadata": {},
   "outputs": [
    {
     "data": {
      "text/plain": [
       "LinearSVC()"
      ]
     },
     "execution_count": 19,
     "metadata": {},
     "output_type": "execute_result"
    }
   ],
   "source": [
    "# Fit model\n"
   ]
  },
  {
   "cell_type": "code",
   "execution_count": 20,
   "id": "b2735858",
   "metadata": {},
   "outputs": [
    {
     "name": "stdout",
     "output_type": "stream",
     "text": [
      "Accuracy = 85.0%, precision  = 82.5%, recall = 86.022%, \n"
     ]
    }
   ],
   "source": [
    "# Calculate performance metrics\n"
   ]
  },
  {
   "cell_type": "code",
   "execution_count": 6,
   "id": "4ce34811",
   "metadata": {},
   "outputs": [],
   "source": [
    "# Plot ROC curve\n"
   ]
  },
  {
   "cell_type": "code",
   "execution_count": 7,
   "id": "272628d3",
   "metadata": {},
   "outputs": [],
   "source": [
    "# Value of C makes almost no difference here so stick to default\n",
    "\n"
   ]
  },
  {
   "cell_type": "markdown",
   "id": "f0b222f9",
   "metadata": {},
   "source": [
    "<div style=\"background-color: #FFEEEC\">\n",
    "\n",
    "## Q3.3\n",
    "\n",
    "In the previous part of question 2, you built, trained and tested a classifier for our data using SVC. Based on the results you have shown, what hyperparameter values would you choose to best classify the data? Give your chosen values in the following markdown cell and explain why you made your choice. Refer back to any plots and data you have produced above. Your answer should include    \n",
    "* The performance metrics you used and how you interpeted them. \n",
    "* What values you chose for the hyperparameters and why. \n",
    "\n",
    "[10 marks] "
   ]
  },
  {
   "cell_type": "markdown",
   "id": "61839119",
   "metadata": {},
   "source": [
    "*your answer here*\n",
    "\n"
   ]
  },
  {
   "cell_type": "markdown",
   "id": "ff0f7bfb",
   "metadata": {},
   "source": [
    "<div style=\"background-color: #FFEEEC\">\n",
    "\n",
    "## Q3.4\n",
    "\n",
    "Using your chosen values for hyperparameters to give the best classification, on a single scatter plot plot, show the following\n",
    "\n",
    "* the training data,\n",
    "* the test data that were correctly identified,\n",
    "* the test data that were incorrectly identified.\n",
    "\n",
    "You will need to distinguish all three types of point for both classes so that is six distinct types of point must be present.\n",
    "\n",
    "[5 marks]\n"
   ]
  },
  {
   "cell_type": "code",
   "execution_count": null,
   "id": "1964d4b6",
   "metadata": {},
   "outputs": [],
   "source": []
  },
  {
   "cell_type": "markdown",
   "id": "02b6be3d",
   "metadata": {},
   "source": [
    "<div style=\"background-color: #FFEEEC\">\n",
    "\n",
    "End of question 3.\n",
    "    \n",
    "<!-- \n",
    "<div style=\"background-color: #FFEEEC\">\n",
    "\n",
    "# Question 4  [^](#outline)\n",
    "\n",
    "In this question you will apply a support vector machine with polynomials to classify the data and you will measure how effective this method is.\n",
    "\n",
    "Use the dataset loaded and studied in question 1. Then train a support vector machine to model these data using polynomial kernal of degree 2. Try varying different hyperparameters, including:\n",
    "\n",
    "* C: the regularisation coefficient\n",
    "* epsilon: the scale within which prediction errors are not penalised\n",
    "* degree: the degree of the polynomial kernel\n",
    "* coef0: a bias term in the kernel, see the User Guide for more information.\n",
    "\n",
    "Make sure to follow these steps:\n",
    "\n",
    "* Split data into test and training sets\n",
    "* Define your hyperparameters\n",
    "* Define your model\n",
    "* Calculate your cross validation score\n",
    "* Fit the model to your training data\n",
    "* Predict on the test data and calculate the RMSE between the test data and prediction\n",
    "* Record your hyperparameters, mean cross validation score, and test data RMSE in a pandas DataFrame for each combination of hyperparameter values you try.\n",
    "* Plot your final prediction line like we have done before, along with the training/test data points.\n",
    "\n",
    "Find your ROC curve and ROC-AUC score on the test data.\n",
    "-->"
   ]
  },
  {
   "cell_type": "markdown",
   "id": "51a1ef08",
   "metadata": {},
   "source": [
    "<hr style=\"border:2px solid gray\">\n",
    "<a id='outline'></a>"
   ]
  },
  {
   "cell_type": "markdown",
   "id": "9f174d8c",
   "metadata": {},
   "source": [
    "<div style=\"background-color: #FFEEEC\">\n",
    "\n",
    "End of Mid Term Assessment."
   ]
  }
 ],
 "metadata": {
  "kernelspec": {
   "display_name": "Python 3 (ipykernel)",
   "language": "python",
   "name": "python3"
  },
  "language_info": {
   "codemirror_mode": {
    "name": "ipython",
    "version": 3
   },
   "file_extension": ".py",
   "mimetype": "text/x-python",
   "name": "python",
   "nbconvert_exporter": "python",
   "pygments_lexer": "ipython3",
   "version": "3.10.4"
  }
 },
 "nbformat": 4,
 "nbformat_minor": 5
}
