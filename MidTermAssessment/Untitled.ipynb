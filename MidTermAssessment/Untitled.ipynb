{
 "cells": [
  {
   "cell_type": "markdown",
   "id": "945a4109",
   "metadata": {},
   "source": [
    "# Mid-Term Assessment\n",
    "\n",
    "* Formative assessment, for feedback only, no contribution to final mark for course\n",
    "* Three hours long.\n",
    "    * If the department has agreed formally to make other arrangements for your exams then these arrangements should be followed. Please make the examiners aware if the agreed procesdures are not being followed.\n",
    "* Work must be done on a standard Blackett Lab computer lab computer.\n",
    "* Submit python notebook via Blackboard\n",
    "* The work submitted must be your own.\n",
    "    * Do not discuss you work with *anyone* else during the exam. This includes *any* sort of communication with people not in this room. Do not communicate with anyone else during the exam other than with the examiners present in the room. \n",
    "    * Do not share the notebook with anyone else. That include the original bare notebook you download initially or any version where you have made changes or additions. \n",
    "    * if you use code from elsewhere cite sources next to comments in the code. As a *rough* guide:-\n",
    "        * If you use less than a single line of code from another source, e.g. how to use a command, then this is probably not needed. \n",
    "        * If you use more than one line, then you shoudl consider citing the source. \n",
    "    * If you use text from elsewhere this must be in quotes with the source cited.\n",
    "    * If you use an image from elsewhere, even if you make some alterations, you shoul;d cite the source.\n",
    "   "
   ]
  },
  {
   "cell_type": "code",
   "execution_count": null,
   "id": "a2ec5c27",
   "metadata": {},
   "outputs": [],
   "source": []
  }
 ],
 "metadata": {
  "kernelspec": {
   "display_name": "Python 3 (ipykernel)",
   "language": "python",
   "name": "python3"
  },
  "language_info": {
   "codemirror_mode": {
    "name": "ipython",
    "version": 3
   },
   "file_extension": ".py",
   "mimetype": "text/x-python",
   "name": "python",
   "nbconvert_exporter": "python",
   "pygments_lexer": "ipython3",
   "version": "3.10.4"
  }
 },
 "nbformat": 4,
 "nbformat_minor": 5
}
