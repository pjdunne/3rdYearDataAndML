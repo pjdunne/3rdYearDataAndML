{
 "cells": [
  {
   "cell_type": "markdown",
   "metadata": {},
   "source": [
    "# Week 8 - Decision Trees"
   ]
  },
  {
   "cell_type": "markdown",
   "metadata": {},
   "source": [
    "<hr style=\"border:2px solid gray\">\n",
    "\n",
    "# Outline\n",
    "\n",
    "1. [Section One: Introduction to Decision Trees](#section-one-introduction-to-decision-trees)\n",
    "1. [Section Two: Why not basic Decision Trees?](#section-two-why-not-basic-decision-trees)\n",
    "1. [Section Three: Ensemble Learning and Random Forests](#section-three-ensemble-learning-and-random-forests)\n",
    "1. [Section Four: Boosted Decision Trees (BDTs)](#section-four-boosted-decision-trees-bdts)\n",
    "1. [Section Five: Exercises](#section-five-exercises)"
   ]
  },
  {
   "cell_type": "markdown",
   "metadata": {},
   "source": [
    "<hr style=\"border:2px solid gray\">\n",
    "\n",
    "# Section One: Introduction to Decision Trees[^](#outline)"
   ]
  },
  {
   "cell_type": "markdown",
   "metadata": {},
   "source": [
    "So far, we have discussed a couple algorithms we can use for both classification and regression but only really one algorithm that learns parameters in a meaningful way, which was the support vector machine. This week, we are going to introduce another type of model called **decision trees**.\n",
    "\n",
    "A decision tree is composed of nodes and branches. What this specifically means depends on our application, as we can apply these models to both classification and regression problems. They are very popular as a method of ML, and are most commonly used for classification. "
   ]
  },
  {
   "cell_type": "markdown",
   "metadata": {},
   "source": [
    "<hr style=\"border:2px solid gray\">\n",
    "\n",
    "# Section Two: Why not basic Decision Trees?[^](#outline)"
   ]
  },
  {
   "cell_type": "code",
   "execution_count": null,
   "metadata": {},
   "outputs": [],
   "source": []
  },
  {
   "cell_type": "markdown",
   "metadata": {},
   "source": [
    "<hr style=\"border:2px solid gray\">\n",
    "\n",
    "# Section Three: Ensemble Learning and Random Forests[^](#outline)"
   ]
  },
  {
   "cell_type": "markdown",
   "metadata": {},
   "source": []
  },
  {
   "cell_type": "markdown",
   "metadata": {},
   "source": [
    "<hr style=\"border:2px solid gray\">\n",
    "\n",
    "# Section Four: Boosted Decision Trees (BDTs)[^](#outline)"
   ]
  },
  {
   "cell_type": "markdown",
   "metadata": {},
   "source": []
  },
  {
   "cell_type": "markdown",
   "metadata": {},
   "source": [
    "<hr style=\"border:2px solid gray\">\n",
    "\n",
    "# Section Five: Exercises[^](#outline)"
   ]
  },
  {
   "cell_type": "code",
   "execution_count": null,
   "metadata": {},
   "outputs": [],
   "source": []
  }
 ],
 "metadata": {
  "language_info": {
   "name": "python"
  }
 },
 "nbformat": 4,
 "nbformat_minor": 2
}
