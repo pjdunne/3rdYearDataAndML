{
 "cells": [
  {
   "cell_type": "markdown",
   "metadata": {},
   "source": [
    "# Week 5 - Your 1st ML Model: k-Nearest Neighbours Classification"
   ]
  },
  {
   "cell_type": "markdown",
   "metadata": {},
   "source": [
    "<hr style=\"border:2px solid gray\">\n",
    "<a name=\"preliminaries\"></a>\n",
    "\n",
    "## Preliminaries: Recommended Books\n",
    "\n",
    "There are three books recommended books:\n",
    "\n",
    "1) [The One Hundred-Page Machine Learning Book](http://themlbook.com/) by \n",
    "Andriy Burkov. \n",
    "- This is a great conceptual book on ML, with a reasonable summary of the mathematics. This book is free to try before you buy (a great idea).\n",
    "\n",
    "**then two O'REILLY books:**\n",
    "\n",
    "2) [Hands on Machine Learning with Scikit-Learn, Keras and TensorFlow](https://www.oreilly.com/library/view/hands-on-machine-learning/9781492032632/) by Aurélien Géron. \n",
    "- A great hands-on book for ML to take you from no knowledge to implementing models, and has sufficient detail to take you into the understanding of the algorithms. This book also has a good collection of the original papers cited and links to them on their website. There is also much information on the [github](https://homl.info). An online version can be accessed through the college library, if you search it by name through the library website. **If there was a textbook for this course, this would be it.** \n",
    "\n",
    "3) [Introduction to Machine Learning with Python](https://www.oreilly.com/library/view/introduction-to-machine/9781449369880/). This is a more introductory level than one above, however it is really well written and takes you through things more carefully.\n",
    "\n",
    "There are plenty of other good more theoretical ML books but the above are practical, but still having enough theory for you to understand them. In this course we only have time to teach you the basics and to touch on a few techniques. These books will take you further.\n",
    "\n",
    "**Note:** examples from the last two of these books will be used throughout these workbooks (on publically available data) and will be referenced appropriately. **2.** will be denoted as **{homl}** and **3.** as **{imlp}**. "
   ]
  },
  {
   "cell_type": "markdown",
   "metadata": {},
   "source": [
    "<hr style=\"border:2px solid gray\">\n",
    "\n",
    "# Outline <a id='outline'></a>\n",
    "1. [Section One: Introduction to Machine Learning](#section-1)\n",
    "1. [Section Two: k-Nearest Neighbours](#section-2)\n",
    "1. [Section Three: Challenges in ML](#section-3)\n",
    "1. [Section Four: The IRIS dataset](#section-4)\n",
    "1. [Section Five: Exercises](#section-5)"
   ]
  },
  {
   "cell_type": "markdown",
   "metadata": {},
   "source": [
    "<hr style=\"border:2px solid gray\">\n",
    "<a name=\"section-1\"></a>\n",
    "\n",
    "## Section One: Introduction to Machine Learning [^](#outline)\n",
    "\n",
    "In machine learning you build a model from the data that you have. There are many different sorts of machine learning and there are many different ways of categorising them.\n",
    "\n",
    "<!-- Need some general comments on terminology, train/test sets, etc -->\n",
    "\n",
    "### Supervised, Unsupervised and Reinforcement Learning\n",
    "\n",
    "**Supervised learning** builds a model using data with a **known desired output** (called labels) where we want to predict the outcome for new observations of the input. Most of the machine learning that we carry out in the physical sciences (and the world at large) is supervised. The historical data is called **training data** and is used to train the model. \n",
    "* Examples include: sorting emails to know which ones are spam (classification), autocorrect, predictive analytics, object detection, such as facial recognition, and predicting the price of a car (regression)\n",
    "\n",
    "\n",
    "**Unsupervised learning** is where you don't have a **known** desired output, aka where the training data is unlabeled, so you are trying to build a model based on other properties. We find patterns based on similarities or differences of data points. \n",
    "* Examples include: **clustering** data into categories without any prior information regarding grouping, trying to gain intuition of high-dimensional data, and social network friend suggestions via the frequency of connections between friends\n",
    "\n",
    "An example of supervised vs unsupervised learning for the same dataset can be seen in the figure below.\n",
    "\n",
    "<img src=ML_Week5_Photos/Labelled_vs_unlabelled.png height=400 align=\"center\"/>\n",
    "\n",
    "*Example of labelled and unlabelled data for supervised and unsupervised learning respectively. In the supervised case, each class is already labelled. In the unsupervised case, the algorithm must learn the clusters from the unlabelled data.*\n",
    "\n"
   ]
  },
  {
   "cell_type": "markdown",
   "metadata": {},
   "source": [
    "<div style=\"background-color: #FFF8C6\">\n",
    "\n",
    "**Semisupervised learning** sits somewhere between supervised and unsupervised learning, where you have algorithms that cope with partially labelled data. Often the labelled data points are used to infer labels for the unlabelled data points, and the combined labelled dataset is used to train a complete model for prediction on new data.\n",
    "* Examples include: face identification in a series of photos. A semi-supervised algorithm identifies the same person in multiple photos and can then label that person in every photo once a label is provided for one photo.\n",
    "\n",
    "<img src=ML_Week5_Photos/semi_supervised_example.png align=\"center\"/>\n",
    "\n",
    "*Example of semi-supervised learning. The unlabelled grey points help classify a new point (the cross) into the triangle class, despite the proximity of the labeled squares. The labels for the unlabelled points are inferred first and used to help prediction on unseen data. (Source: **{homl}**, Figure 1-11).*\n",
    "\n",
    "**Reinforcement learning** is somewhat different in that it has **agents** that perform a (sometimes complex) series of tasks, which are rewarded or penalised depending on the application. The agent must learn the best **policy** to maximise reward and minimise penalty. \n",
    "* Examples include: teaching robots to walk, AI for chess \n",
    "\n",
    "<img src=ML_Week5_Photos/reinforcement_example.png align=\"center\"/>\n",
    "\n",
    "*Example of reinforcement learning. Rewards and penalties are associated with each action the agent can take, and the policy is updated depending on the specific reward or penalty received after action (Source: **{homl}**, Figure 1-12).*\n"
   ]
  },
  {
   "cell_type": "markdown",
   "metadata": {},
   "source": [
    "\n",
    "For the rest of this course, we will restrict ourselves to just discussing supervised and unsupervised learning, with the main emphasis on supervised methods. However, an awareness of of semi-supervised and reinforcement techniques is useful for general understanding."
   ]
  },
  {
   "cell_type": "markdown",
   "metadata": {},
   "source": [
    "\n",
    "### Supervised learning\n",
    "\n",
    "For supervised learning, training data comes in pairs ($\\mathbf{X}$, $y$), where $\\mathbf{X} \\in \\mathbb{R}^d$ is the input vector and $y$ is the corresonding label. The total training dataset can therefore be denoted as \n",
    "\n",
    "D = {($\\mathbf{X}_1$, $y_1$),$\\dots$,($\\mathbf{X}_n$, $y_n$)} $\\subseteq \\mathbb{R}^d \\times \\mathcal{C}$,\n",
    "where:\n",
    "\n",
    "* $\\mathbb{R}^d$ is the $d$-dimensional feature space\n",
    "* $\\mathbf{X}_i$ is the input vector of the $i$-th sample\n",
    "* $y_i$ is the label of the $i$-th sample\n",
    "* $\\mathcal{C}$ is the space of possible labels, referred to as the **label space**\n",
    "\n",
    "$\\mathbf{X}_i$ is referred to as a **feature vector**. Each of the $d$ dimensions of these vectors is a **feature** that describes the $i$-th sample. Features can include continuous numerical values, e.g. for a model to predict house prices this could include the floor area of the house, the last sale price, etc. Features can also be categorical, e.g. if it has a garden or not. In general features consist of all things that describe your data.\n",
    "\n",
    "The label space $\\mathcal{C}$ contains all possible labels. Some possible label spaces could include:\n",
    "* Binary classification: $\\mathcal{C}$ = {0, 1} or $\\mathcal{C}$ = {-1, +1}. Two individual classes, that are represented numerically with two different values, e.g. classifying email as spam or not.\n",
    "* Multiclass classification: $\\mathcal{C}$ = {1, 2, $\\dots$, K}. K individual classes, which are each represented with an index, e.g. facial recognition against a database of faces\n",
    "* Regression: $\\mathcal{C} = \\mathbb{R}$. Label space is any real number, e.g. predicting house price.\n",
    "\n",
    "\n",
    "The aim of the machine learning algorithm is to determine some function $f$ that can map $\\mathbf{X}_i$ to $y_i$ for the training data, and make predictions on new unseen data. $f$ belongs to a space of possible functions $F$, referred to as the **hypothesis class**, which are determined by the specific algorithm you are using. Learning the specific function $f$ is the actual learning process of a machine learning algorithm. The perfomance of the choice of function is quantified by a **loss function** $L(\\hat{y}_i ,y_i)$, where $\\hat{y}_i = f(\\mathbf{X}_i)$ is the **prediction** of the algorithm for the input $\\mathbf{X}_i$. The function $f$ is optimised in order to minimise or maximise the loss function, depending on the specific algorithm and choice of loss function. The specific algorithm for optimisation depends on the specific application\n",
    "\n",
    "### Unsupervised learning\n",
    "\n",
    "In unsupervised learning, rather than learning a relationship between an input $\\mathbf{X}_i$ and a target $y_i$, we attempt to learn patterns in the input data. This can be interpreted as attempting to observe a set of inputs {$\\mathbf{X}_1, \\dots, \\mathbf{X}_N$} and inferring the probability distribution $p(\\mathbf{X})$ of the input space $X$, or interesting properties of said distribution. Common applications include clustering for data exploration, and detection of anomalies that differ significantly from a dataset.\n",
    "\n",
    "Many of the algorithms we will see can be extended to unsupervised learning by changing the loss function. "
   ]
  },
  {
   "cell_type": "markdown",
   "metadata": {},
   "source": [
    "### Classification and Regression\n",
    "\n",
    "The two main uses of ML in Physics are classification and regression in supervised ML. \n",
    "\n",
    "In **classification** you are trying to **distinguish between discrete types of entities**. For example pictures of cats from dogs, spam emails,  clothes types, whether energy deposition in a detector is from an electron or a muon, etc. Classification problems are often binary $y\\in \\{0,1\\}$, however there are generalisations to multiple-class cases. \n",
    "\n",
    "<img src=ML_Week5_Photos/homl_classification2.png/>\n",
    "\n",
    "*A classification problem: separating spam emails from non-spam emails. Examples of spam and non-spam emails are shown to the algorithm, which then classifies unseen examples  (Source: **{homl}**, Figure 1-5).*\n",
    "\n",
    "In **regression** you are trying to **predict a value from a continuous space**. For example the return on an investment, energy of a cosmic ray based on observation of scintillation light and the muons that it produced etc. Simply, classification tells you what it is whereas regression tells you what value it has.\n",
    "\n",
    "<img src=ML_Week5_Photos/homl_regression2.png/>\n",
    "\n",
    "*Regression example, with a single input feature. Predictions of values for unseen inputs are made based on the previously seen training data (Source: **{homl}**, Figure 1-6)*.\n",
    "\n",
    "**Note:** While these sound conceptually different the same approaches can often be used for both as you will see."
   ]
  },
  {
   "cell_type": "markdown",
   "metadata": {},
   "source": [
    "### Instance-based and Model-based Learning\n",
    "\n",
    "The purpose of ML is to be able to take the data that you have and generalise it to new data. \n",
    "\n",
    "For **instance-based learning**, predictions are calculated by looking at the test data that you have and in some way say that it is (either in classification or regression) the same as the \"nearest\" (calculated in some way) data that you already have to it. \n",
    "* Common examples of these algorithms are k-Nearest Neighbours (discussed below), kernel machines, etc.\n",
    "\n",
    "<img src=ML_Week5_Photos/instance-based-example.png align=\"center\"/>\n",
    "\n",
    "*Example of instance based learning: the value at a new data point is determined by the existing instances only. (Source: **{homl}**, Figure 1-15).*\n",
    "\n",
    "In **model-based learning** you take a few instances and build a more general **model**. This model is refined through training and validation. Model-based ML models often have internal **parameters** that are not seen in the outside world, which are optimised to solve the problem in question.\n",
    "* Examples of such an approach include decision trees and neural networks, both of which are covered later in this course\n",
    "\n",
    "<img src=ML_Week5_Photos/model-based-example.png align='center' height=500/>\n",
    "\n",
    "\n",
    "*Example of model based learning: the value at a new data point is determined by a model, which has learned its parameters from existing instances.*\n",
    "\n",
    "In model-based learning, the model we train has internal **parameters**, which are learned and determined during the training procedure; for example, the support vectors in a Support Vector Machine or the weights of a neural network (both of which you will see later in this course). In contrast, all algorithms have **hyperparameters**, which are parameters of the algorithm itself that determine the training. Examples include $k$ in k-Nearest Neighbours (shown below), the depth of trees in a decision tree, or the number of hidden layers in a neural network (both of which are seen later in this course). It is important to understand the difference between these two concepts:\n",
    "\n",
    "* **Parameters**: internal values of a model that are learned from training data. These are optimised during training to learn the training data.\n",
    "* **Hyperparameters**: values that are passed to an algorithm and determine how the training is done. These are set by the user at the start of training, and may be optimised after-the-fact to find the best performing model.\n",
    "\n"
   ]
  },
  {
   "cell_type": "markdown",
   "metadata": {},
   "source": [
    "### Summary\n",
    "\n",
    "This section has introduced some of the key fundamentals of machine learning, including:\n",
    " * Supervised vs unsupervised learning\n",
    " * Classification and regression\n",
    " * Instance-based and model-based learning\n",
    "\n",
    "The remainder of this workbook is concerned with classification. The next section will describe one of the algorithms we are going to use."
   ]
  },
  {
   "cell_type": "markdown",
   "metadata": {},
   "source": [
    "<hr style=\"border:2px solid gray\">\n",
    "<a id='section-2'></a>\n",
    "\n",
    "## Section Two: k-Nearest Neighbours [^](#outline)"
   ]
  },
  {
   "cell_type": "markdown",
   "metadata": {},
   "source": [
    "k-Nearest Neighbours (k-NN) is one of the most commonly used ML algorithms, and is an example of an instance-based algorithm. \n",
    "The k-NN algorithm can be used for both classification and regression. It starts with calculating a so-called **distance metric** of a new point $\\mathbf{X}$ to all other points in the dataset. It then finds the $k$ nearest points closest to $\\mathbf{X}$ and for:\n",
    "\n",
    "* **Classification**: labels refer to categories. The new data point $x$ is assigned to the most frequent class of its $k$-nearest neighbours. For example, if our goal is to classify cats or dogs and the three nearest data-points ($k=3$) to $\\mathbf{X}$ are classified as cat, cat, dog, then our new point $\\mathbf{X}$ would be classified as cat. However, if look at the 10 nearest data points ($k=10$) to $\\mathbf{X}$ and we find now that 4 are cat and 6 are dog, $\\mathbf{X}$ would be classified as dog.\n",
    "\n",
    "<img src=ML_Week5_Photos/K-nn_classification_example.png height=600 align=\"center\">\n",
    "\n",
    "*Example of classification using k-NN: in the first circle $k=3$, the most common class in the nearest neighbours to the black object is the square class, so the black object is classified as a square. In the second circle $k=7$, the most common class is the triangle and so the black object is is classified as a triangle.*\n",
    "\n",
    "\n",
    "* **Regression**: labels are continuous variables. The label of the new data point $\\mathbf{X}$ is chosen to be the average of the labels of its $k$-nearest neighbours. An example can be seen in the figure below.\n",
    "\n",
    "\n",
    "<img src=ML_Week5_Photos/k-nn_regression_example.png height=400 align=\"center\">\n",
    "\n",
    "*Example of regression using k-NN: data generated is $y = \\mathbf{X}^2$ plus Gaussian noise. For $k$ = 5, the prediction is close to the trend we would expect. However, for $k$ = 12, the prediction point is overestimated compared to $k$ = 5, as higher values are captured in the $k$-nearest neighbours.*\n",
    "\n",
    "The choice of **distance metric** is one of the most important hyperparameter choices for k-NN, as it defines what which points are the nearest neighbours of a prediction point.\n",
    "\n",
    "A commonly used distance metric is the (classic) Euclidean distance\n",
    "\\begin{equation*}\n",
    "d(\\mathbf{p},\\mathbf{q})=\\sqrt{\\sum_{i=1}^{D}\\left(q_{i}-p_{i}\\right)^{2}},\n",
    "\\end{equation*}\n",
    "where $\\mathbf{p}$ and $\\mathbf{q}$ are two points in our $D$-dimensional Euclidean space. Other distances can be chosen depending on the problem at hand. \n",
    "\n",
    "A helpful resource for the different types of distances and situations where they are used can be found [here](https://www.ibm.com/topics/knn#:~:text=The%20k%2Dnearest%20neighbors%20algorithm%2C%20also%20known%20as%20KNN%20or,of%20an%20individual%20data%20point.).\n",
    "\n",
    "You can also choose how points are weighted; common choices are either uniform, so every point is considered equal, or distance, which weights the contribution of a given training point inversely to the distance from the prediction point i.e. closer training points contribute more. It is also possible to define your own weighting scheme, see the [scikit-learn documentation](https://scikit-learn.org/stable/modules/generated/sklearn.neighbors.KNeighborsClassifier.html)."
   ]
  },
  {
   "cell_type": "markdown",
   "metadata": {},
   "source": [
    "### Toy model\n",
    "\n",
    "Now we have established the mathematics of k-Nearest Neighbours, you will have an opportunity to try it for classification. Sklearn has a nice function to generate data for such a purpose, ```make_blobs```:"
   ]
  },
  {
   "cell_type": "code",
   "execution_count": 30,
   "metadata": {},
   "outputs": [],
   "source": [
    "from sklearn.datasets import make_blobs\n",
    "import pandas as pd\n",
    "import numpy as np\n",
    "\n",
    "X, y = make_blobs(300,2, center_box=[-5,5], centers = 2) # Note: it is convention to label X as capital and y as lowercase"
   ]
  },
  {
   "cell_type": "markdown",
   "metadata": {},
   "source": [
    "X and y contain the samples and the corresponding class labels respectively. \n"
   ]
  },
  {
   "cell_type": "markdown",
   "metadata": {},
   "source": [
    "<!-- <div style=\"background-color:#C2F5DD\"> -->\n",
    " \n",
    "* How many features does this dataset have? \n",
    "* How many classes? \n",
    "\n",
    "(Hint: check the [documentation](https://scikit-learn.org/stable/modules/generated/sklearn.datasets.make_blobs.html))"
   ]
  },
  {
   "cell_type": "markdown",
   "metadata": {},
   "source": [
    "Now that we have a dataset, the first thing to do is visualise it. This can be done in a number of ways, but an easy way to do it is to put your data into a Pandas dataframe and plot the **scatter matrix**."
   ]
  },
  {
   "cell_type": "code",
   "execution_count": 31,
   "metadata": {},
   "outputs": [
    {
     "data": {
      "text/plain": [
       "array([[<AxesSubplot:xlabel='Feature 1', ylabel='Feature 1'>,\n",
       "        <AxesSubplot:xlabel='Feature 2', ylabel='Feature 1'>],\n",
       "       [<AxesSubplot:xlabel='Feature 1', ylabel='Feature 2'>,\n",
       "        <AxesSubplot:xlabel='Feature 2', ylabel='Feature 2'>]],\n",
       "      dtype=object)"
      ]
     },
     "execution_count": 31,
     "metadata": {},
     "output_type": "execute_result"
    },
    {
     "data": {
      "image/png": "[encoded data removed]",
      "text/plain": [
       "<Figure size 600x600 with 4 Axes>"
      ]
     },
     "metadata": {},
     "output_type": "display_data"
    }
   ],
   "source": [
    "import matplotlib.cm as cm\n",
    "\n",
    "df_toy = pd.DataFrame(X,columns=['Feature 1','Feature 2'])\n",
    "pd.plotting.scatter_matrix(df_toy, figsize = (6,6), c = y, hist_kwds={'edgecolor':'black','alpha':0.5}, cmap = cm.cividis)"
   ]
  },
  {
   "cell_type": "markdown",
   "metadata": {},
   "source": [
    "This plot can look a little confusing at first, but it is actually quite simple. The top-right and bottom-left plots show scatter plots of one feature vs another, while the top-left and bottom-right plots are histograms of each feature in turn. For a simple dataset like we have here there is only 1 unique scatter plot, but in general we will work with multi-dimensional datasets that have more complex relationships (as you will see later in this workbook)."
   ]
  },
  {
   "cell_type": "markdown",
   "metadata": {},
   "source": [
    "You might be able to see by eye how you could separate different classes in your data from these plots. In order to do this, we are going to use a k-NN classifier. \n",
    "\n",
    "When we train a model, we need to separate our data into training and testing data. This is to make sure we have an independent metric for our model performance; while performance on training data is important (we make sure the model has learned the training data), we also need to make sure our model performs well on unseen data.\n",
    "\n",
    "* **Training data**: data the algorithm sees during training\n",
    "\n",
    "* **Testing data**: data the algorithm does not see during training\n",
    "\n",
    "Finding a train:test split can be done easily using a sklearn function, ```train_test_split```:"
   ]
  },
  {
   "cell_type": "code",
   "execution_count": 10,
   "metadata": {},
   "outputs": [
    {
     "data": {
      "text/html": [
       "<style>#sk-container-id-2 {color: black;background-color: white;}#sk-container-id-2 pre{padding: 0;}#sk-container-id-2 div.sk-toggleable {background-color: white;}#sk-container-id-2 label.sk-toggleable__label {cursor: pointer;display: block;width: 100%;margin-bottom: 0;padding: 0.3em;box-sizing: border-box;text-align: center;}#sk-container-id-2 label.sk-toggleable__label-arrow:before {content: \"▸\";float: left;margin-right: 0.25em;color: #696969;}#sk-container-id-2 label.sk-toggleable__label-arrow:hover:before {color: black;}#sk-container-id-2 div.sk-estimator:hover label.sk-toggleable__label-arrow:before {color: black;}#sk-container-id-2 div.sk-toggleable__content {max-height: 0;max-width: 0;overflow: hidden;text-align: left;background-color: #f0f8ff;}#sk-container-id-2 div.sk-toggleable__content pre {margin: 0.2em;color: black;border-radius: 0.25em;background-color: #f0f8ff;}#sk-container-id-2 input.sk-toggleable__control:checked~div.sk-toggleable__content {max-height: 200px;max-width: 100%;overflow: auto;}#sk-container-id-2 input.sk-toggleable__control:checked~label.sk-toggleable__label-arrow:before {content: \"▾\";}#sk-container-id-2 div.sk-estimator input.sk-toggleable__control:checked~label.sk-toggleable__label {background-color: #d4ebff;}#sk-container-id-2 div.sk-label input.sk-toggleable__control:checked~label.sk-toggleable__label {background-color: #d4ebff;}#sk-container-id-2 input.sk-hidden--visually {border: 0;clip: rect(1px 1px 1px 1px);clip: rect(1px, 1px, 1px, 1px);height: 1px;margin: -1px;overflow: hidden;padding: 0;position: absolute;width: 1px;}#sk-container-id-2 div.sk-estimator {font-family: monospace;background-color: #f0f8ff;border: 1px dotted black;border-radius: 0.25em;box-sizing: border-box;margin-bottom: 0.5em;}#sk-container-id-2 div.sk-estimator:hover {background-color: #d4ebff;}#sk-container-id-2 div.sk-parallel-item::after {content: \"\";width: 100%;border-bottom: 1px solid gray;flex-grow: 1;}#sk-container-id-2 div.sk-label:hover label.sk-toggleable__label {background-color: #d4ebff;}#sk-container-id-2 div.sk-serial::before {content: \"\";position: absolute;border-left: 1px solid gray;box-sizing: border-box;top: 0;bottom: 0;left: 50%;z-index: 0;}#sk-container-id-2 div.sk-serial {display: flex;flex-direction: column;align-items: center;background-color: white;padding-right: 0.2em;padding-left: 0.2em;position: relative;}#sk-container-id-2 div.sk-item {position: relative;z-index: 1;}#sk-container-id-2 div.sk-parallel {display: flex;align-items: stretch;justify-content: center;background-color: white;position: relative;}#sk-container-id-2 div.sk-item::before, #sk-container-id-2 div.sk-parallel-item::before {content: \"\";position: absolute;border-left: 1px solid gray;box-sizing: border-box;top: 0;bottom: 0;left: 50%;z-index: -1;}#sk-container-id-2 div.sk-parallel-item {display: flex;flex-direction: column;z-index: 1;position: relative;background-color: white;}#sk-container-id-2 div.sk-parallel-item:first-child::after {align-self: flex-end;width: 50%;}#sk-container-id-2 div.sk-parallel-item:last-child::after {align-self: flex-start;width: 50%;}#sk-container-id-2 div.sk-parallel-item:only-child::after {width: 0;}#sk-container-id-2 div.sk-dashed-wrapped {border: 1px dashed gray;margin: 0 0.4em 0.5em 0.4em;box-sizing: border-box;padding-bottom: 0.4em;background-color: white;}#sk-container-id-2 div.sk-label label {font-family: monospace;font-weight: bold;display: inline-block;line-height: 1.2em;}#sk-container-id-2 div.sk-label-container {text-align: center;}#sk-container-id-2 div.sk-container {/* jupyter's `normalize.less` sets `[hidden] { display: none; }` but bootstrap.min.css set `[hidden] { display: none !important; }` so we also need the `!important` here to be able to override the default hidden behavior on the sphinx rendered scikit-learn.org. See: https://github.com/scikit-learn/scikit-learn/issues/21755 */display: inline-block !important;position: relative;}#sk-container-id-2 div.sk-text-repr-fallback {display: none;}</style><div id=\"sk-container-id-2\" class=\"sk-top-container\"><div class=\"sk-text-repr-fallback\"><pre>KNeighborsClassifier()</pre><b>In a Jupyter environment, please rerun this cell to show the HTML representation or trust the notebook. <br />On GitHub, the HTML representation is unable to render, please try loading this page with nbviewer.org.</b></div><div class=\"sk-container\" hidden><div class=\"sk-item\"><div class=\"sk-estimator sk-toggleable\"><input class=\"sk-toggleable__control sk-hidden--visually\" id=\"sk-estimator-id-2\" type=\"checkbox\" checked><label for=\"sk-estimator-id-2\" class=\"sk-toggleable__label sk-toggleable__label-arrow\">KNeighborsClassifier</label><div class=\"sk-toggleable__content\"><pre>KNeighborsClassifier()</pre></div></div></div></div></div>"
      ],
      "text/plain": [
       "KNeighborsClassifier()"
      ]
     },
     "execution_count": 10,
     "metadata": {},
     "output_type": "execute_result"
    }
   ],
   "source": [
    "from sklearn.neighbors import KNeighborsClassifier\n",
    "from sklearn.model_selection import train_test_split\n",
    "\n",
    "X_train, X_test, y_train, y_test = train_test_split(X,y,test_size = 0.2) # Take 20% of the data out for testing\n"
   ]
  },
  {
   "cell_type": "markdown",
   "metadata": {},
   "source": [
    "Now we need to train the model on our training data:"
   ]
  },
  {
   "cell_type": "code",
   "execution_count": null,
   "metadata": {},
   "outputs": [],
   "source": [
    "\n",
    "# These are hyperparameters of the k-NN algorithm\n",
    "neighbours = 5\n",
    "weights = 'uniform'\n",
    "# weights = 'distance'\n",
    "\n",
    "knn_toy = KNeighborsClassifier(neighbours, weights = weights)\n",
    "knn_toy.fit(X_train,y_train)"
   ]
  },
  {
   "cell_type": "markdown",
   "metadata": {},
   "source": [
    "We have now trained the algorithm. For k-NN, this is as simple as saving the training points to the model object, as it is an instance-based learning method, but later on we will encounter algorithms that have a more involved training process.\n",
    "\n",
    "From here, the next step is to try predicting our test data. We know what the true class of each sample should be, so we can identify if the k-NN prediction is right or wrong. We calculate the **classification accuracy**, which is the ratio of correct predictions to the total number of predictions, or the proportion of test points predicted correctly. This is therefore defined as\n",
    "\n",
    "\\begin{equation*}\n",
    "    \\text{Accuracy} = \\frac{N_{\\text{correct}}}{N_{\\text{total}}},\n",
    "\\end{equation*}\n",
    "where $N_{\\text{correct}}$ denotes the number of correctly predicted test points and $N_{\\text{total}}$ denotes the total number of test points.\n",
    "\n",
    "Now we can calculate it for our toy model:"
   ]
  },
  {
   "cell_type": "code",
   "execution_count": 32,
   "metadata": {},
   "outputs": [
    {
     "name": "stdout",
     "output_type": "stream",
     "text": [
      "Classification accuracy = 0.8833333333333333\n"
     ]
    }
   ],
   "source": [
    "y_pred = knn_toy.predict(X_test)\n",
    "\n",
    "correct, total = 0, 0\n",
    "for i in range(len(y_pred)):\n",
    "    if y_pred[i]==y_test[i]:\n",
    "        correct += 1\n",
    "    total+=1\n",
    "\n",
    "print(f\"Classification accuracy = {correct/total}\")\n"
   ]
  },
  {
   "cell_type": "markdown",
   "metadata": {},
   "source": [
    "We've done this by hand here, but sklearn also has a function that will do this for us:"
   ]
  },
  {
   "cell_type": "code",
   "execution_count": 33,
   "metadata": {},
   "outputs": [
    {
     "data": {
      "text/plain": [
       "0.8833333333333333"
      ]
     },
     "execution_count": 33,
     "metadata": {},
     "output_type": "execute_result"
    }
   ],
   "source": [
    "from sklearn.metrics import accuracy_score\n",
    "\n",
    "accuracy_score(y_test, y_pred)"
   ]
  },
  {
   "cell_type": "markdown",
   "metadata": {},
   "source": [
    "<div style=\"background-color:#C2F5DD\">\n",
    "\n",
    "\n",
    "### Example\n",
    "\n",
    "Now you have the steps to build, train and test a k-NN classifier, try varying the hyperparameters and try to find the best results you can. Hyperparameters to try varying include:\n",
    "* The value of $k$\n",
    "* The weight scheme\n",
    "\n",
    "There are others, take a look at the [documentation](https://scikit-learn.org/stable/modules/generated/sklearn.neighbors.KNeighborsClassifier.html) to see what else you can vary. Make sure to record whatever you do vary!\n",
    "\n",
    "Record your results and present the information."
   ]
  },
  {
   "cell_type": "code",
   "execution_count": null,
   "metadata": {},
   "outputs": [],
   "source": [
    "# Your code here"
   ]
  },
  {
   "cell_type": "markdown",
   "metadata": {},
   "source": [
    "### Summary\n",
    "\n",
    "This section has introduced the k-Nearest Neighbours algorithm, including:\n",
    " * Classification & regression examples\n",
    " * A toy model for classification\n",
    " * The general steps for preparing data, training a model, and testing on test data\n",
    "\n",
    "The following section describes some of the difficulties we can encounter with machine learning, and how we can handle some of them."
   ]
  },
  {
   "cell_type": "markdown",
   "metadata": {},
   "source": [
    "<hr style=\"border:2px solid gray\">\n",
    "<a id='section-3'></a>\n",
    "\n",
    "## Section Three: Challenges in ML [^](#outline)\n"
   ]
  },
  {
   "cell_type": "markdown",
   "metadata": {},
   "source": [
    "\n",
    "So far, applying ML has seemed pretty simple. However, there are many possible pitfalls with these approaches that you need to be aware of. In fact, there have been several high-profile incidences of machine learning algorithms going wrong. These include:\n",
    "\n",
    "* Amazon's development of an AI tool to help shortlist job applicants, which was trained on the previous 10 years of resumes submitted to Amazon. Because these resumes were predominantly from male candidates, the algorithm \"learned\" that male candidates were more likely to be successful and therefore penalised resumes that had terms identifying it as a female applicant. Attempts were made to reduce the bias but ultimately were unsuccessful and the [project was scrapped](https://www.bbc.co.uk/news/technology-45809919).\n",
    "* Microsoft's AI chatbot Tay, which was released on Twitter and learned from interacting with people on the platform. [Within 16 hours the project was taken down](https://en.wikipedia.org/wiki/Tay_(chatbot)) as the AI started posting racist and sexist tweets, due to learning from users spamming it with politically incorrect phrases and disciminatory language. \n",
    "\n",
    "Because the model just learns from your data, if you are not careful with what is in your training data you can easily produce results that are a) unexpected, and b) undesirable. This is one of the many reasons why it is important to visualise and understand your training dataset.\n",
    "\n",
    "A few possible challenges include:\n",
    "\n",
    "* **Insufficient training data**: to build an accurate, generalisable model, you typically need **a lot** of training data; insufficient data means your model can't accurately learn the function $f$ and so cannot make accurate predictions\n",
    "\n",
    "* **Biased training data**: perhaps more dangerous than insufficient training data, as biased training data can mean your model does very well in some cases, but very poorly in others. This can be e.g. an imbalanced training dataset, where you show more examples of one class than the others, or systematic issues with measurement e.g. poor thermal contact, zero error, background noise etc.\n",
    "\n",
    "* **Poor quality training data**: if your data is noisy, or has a lot of outliers, your model cannot accurately learn the function mapping inputs to targets. For data with values missing for some features (e.g. if you have issues with measurement equipment) you can mitigate to some extent by either taking a median value or setting it to far outside of a reasonable range so the model learns not to use it.\n",
    "\n",
    "* **Overfitting**: overfitting describes the situation where a model learns how to predict the training data and **only** the training data. The model is sufficiently complex that it can perfectly fit the training data, e.g. fitting a high order polynomial to data that is perhaps better modelled as a linear relationship with some noise. This results in poor prediction for unseen data, but can be mitigated at training time by including **regularisation**.\n",
    "\n",
    "* **Underfitting**: the opposite of overfitting, this occurs when your model is not sufficiently complex to capture the features of the data. As a result, it is not capable of learning the function behind the data. An example would be trying to fit a quadratic dataset with a linear model.\n",
    "\n",
    "<img src=ML_Week5_Photos/under_vs_over_fitting.png height = 600 align='center'>\n",
    "\n",
    "*Example of under and over fitting on quadratic data. The generated data is quadratic with Gaussian noise. The linear model clearly underfits and does not accurately approximate the data, whereas the high-order polynomial (order 300) overfits, resulting in predictions that will not generalise despite good performance on the existing data.*"
   ]
  },
  {
   "cell_type": "markdown",
   "metadata": {},
   "source": [
    "\n",
    "The only way to know if your model has generalised well is to **validate it on data**. As mentioned before, the normal way to do this is to separate your data into **training data** and **testing data**. You use the **training data** to train your model and the **testing data** to test how well it has generalised. If there is a large difference in the performance of the model on the training data compared to the performance on the testing data it shows that your model has been **overtrained** and is learning features that are specific to your training data. \n",
    "\n",
    "**Note:** *What fraction of your data should you use to train and what fraction to test?* There is no single answer to this question, but in most cases the training:testing ratio is around 80:20 or 70:30.\n",
    "\n"
   ]
  },
  {
   "cell_type": "markdown",
   "metadata": {},
   "source": [
    "### Cross-Validation\n",
    "\n",
    "Of course, because we can vary hyperparameters or even the specific algorithm we choose to use for the problem, this isn't all we need to consider. Historically, it was common to iterate on an ML algorithm, varying hyperparameters, until the performance on the **test data** was deemed sufficiently good. Of course, if this is done, you are implicitly learning the test data to some degree, just through your hyperparameter optimisation rather than during the training procedure. "
   ]
  },
  {
   "cell_type": "markdown",
   "metadata": {},
   "source": [
    "To get around this, the idea of cross validation came around. This is where you break down the training set into a number of smaller sets called **folds**. You then train your model with all but one of these folds and evaluate with remaining fold. This way you get an array of evaluations to validate individual attempts at training a model. Your test data can (and should) be kept to one side for final evaluation after you have finished optimising your model training. "
   ]
  },
  {
   "cell_type": "markdown",
   "metadata": {},
   "source": [
    "<div style=\"background-color:#FFCCCB\">\n",
    "\n",
    "#### $T$-fold Cross-Validation\n",
    "\n",
    "This is when we **split our data** into **training-validation** sets $T$-times (sometimes can be called $k$-fold Cross-Validation, but we have used a $T$ to avoid confusion with k-NN) to reduce the risk of **overfitting** to the full training data or to parts of the training data.\n",
    "\n",
    "Mathematically, the procedure is as follows. We split the data $\\mathcal{S}=\\{\\mathbf{X}^{(i)}, y^{(i)}\\}$ for $i=1,...,N$ equally sized subsets $\\mathcal{S_{t}}$ such that\n",
    "\\begin{equation*}\n",
    "\\mathcal{S}=\\bigcup_{t=1}^{T}\\mathcal{S}_{t} \\; \\text{and} \\; |\\mathcal{S}_{t}|=\\frac{|\\mathcal{S}|}{T},\n",
    "\\end{equation*}\n",
    "where $|\\mathcal{S_{m}}|$ is the size of the $mth$ subset. We set aside one of the subsets and train the model on the rest of the samples i.e. $\\overline{\\mathcal{S_{t}}}=\\mathcal{S}-\\mathcal{S_{t}}$. We learn a model $\\hat{f}_{\\overline{\\mathcal{S_{t}}}}$, which we use to predict $\\mathcal{S_{t}}$. We then compute an error measure for the prediction on $\\mathcal{S_{t}}$ (for example the classification accuracy):\n",
    "\\begin{equation*}\n",
    "\\text{Accuracy}_t = \\frac{N_{\\text{correct}}^t}{N_{\\text{total}}^t}, \n",
    "\\end{equation*}\n",
    "where $\\text{Accuracy}_t$ denotes the accuracy of the model trained on subset $\\overline{\\mathcal{S}_{t}}$, and $N_{\\text{correct}}^T$ and $N_{\\text{total}}^t$ denote the total number of correct predictions and total number of predictions made on the subset $\\mathcal{S}_t$ respectively.\n",
    "\n",
    "The same process is done in turn for each of the subsets of our split $\\mathcal{S}_{t}$, $t=1,..,T$ in each case obtaining a different model for their corresponding complement. \n",
    "\n",
    "We then compute the average classification accuracy over all $T$-folds:\n",
    "\\begin{equation*}\n",
    "\\langle\\text{Accuracy}\\rangle=\\frac{1}{T}\\sum_{t=1}^{T}\\text{Accuracy}_t.\n",
    "\\end{equation*}\n",
    "\n",
    "This average classification accuracy is then a measure of how well the model predicts *out-of-sample*. \n",
    "\n",
    "**Choosing number of folds $T$:** It seems clear that the way in which we split the data into training and validation, and the balance between both sets, will effect the results of the cross-validation. The extreme case is $T=N$, which is called **leave-one-out** cross-validation (LOO-CV). This tests how well each sample can be predicted from the rest of the samples. However this is computationally expensive and **not necessary**.\n",
    "\n",
    "In practice, the number of folds $T$ is chosen based on the size of the data and the amount of computing power available (larger $T$ means more models need fitting). Typically $T=5$ is used for a smaller dataset and $T=10$ for larger ones, so that one does out-of-sample prediction on validation sets that contain around $10%$ od the data\n",
    "\n",
    "More information can be found [here](https://machinelearningmastery.com/k-fold-cross-validation/)."
   ]
  },
  {
   "cell_type": "markdown",
   "metadata": {},
   "source": [
    "It is easy to do cross-validation using sklearn, using the ```cross_val_score``` function. Each ML algorithm in sklearn has an default **scorer**, which for the case of classification algorithms is the classification accuracy. You will see more details about ML performance metrics in a couple weeks time, but for now we will use cross validation with our toy k-NN model to see how it works:"
   ]
  },
  {
   "cell_type": "code",
   "execution_count": null,
   "metadata": {},
   "outputs": [
    {
     "data": {
      "text/plain": [
       "array([0.95833333, 0.91666667, 0.97916667, 0.91666667, 0.97916667])"
      ]
     },
     "execution_count": 14,
     "metadata": {},
     "output_type": "execute_result"
    }
   ],
   "source": [
    "from sklearn.model_selection import cross_val_score\n",
    "\n",
    "cross_val_score(knn_toy, X_train, y_train)"
   ]
  },
  {
   "cell_type": "markdown",
   "metadata": {},
   "source": [
    "You will apply this to your toy k-NN again in Exercise Two."
   ]
  },
  {
   "cell_type": "markdown",
   "metadata": {},
   "source": [
    "### A brief introduction to the Support Vector Machine\n",
    "\n",
    "Of course, as mentioned before, the ```cross_val_score``` syntax is the same for each type of ML algorithm implemented in sklearn; to illustrate this, we are going to introduce (very briefly) another algorithm: the Support Vector Machine (SVM). We won't talk about details here but you will see the full detail of this algorithm next week. In fact, the syntax of setting up and training a SVM classifier is actually pretty much identical to what you have seen already with k-NN, albeit with different hyperparameters:"
   ]
  },
  {
   "cell_type": "code",
   "execution_count": 15,
   "metadata": {},
   "outputs": [
    {
     "data": {
      "text/html": [
       "<style>#sk-container-id-3 {color: black;background-color: white;}#sk-container-id-3 pre{padding: 0;}#sk-container-id-3 div.sk-toggleable {background-color: white;}#sk-container-id-3 label.sk-toggleable__label {cursor: pointer;display: block;width: 100%;margin-bottom: 0;padding: 0.3em;box-sizing: border-box;text-align: center;}#sk-container-id-3 label.sk-toggleable__label-arrow:before {content: \"▸\";float: left;margin-right: 0.25em;color: #696969;}#sk-container-id-3 label.sk-toggleable__label-arrow:hover:before {color: black;}#sk-container-id-3 div.sk-estimator:hover label.sk-toggleable__label-arrow:before {color: black;}#sk-container-id-3 div.sk-toggleable__content {max-height: 0;max-width: 0;overflow: hidden;text-align: left;background-color: #f0f8ff;}#sk-container-id-3 div.sk-toggleable__content pre {margin: 0.2em;color: black;border-radius: 0.25em;background-color: #f0f8ff;}#sk-container-id-3 input.sk-toggleable__control:checked~div.sk-toggleable__content {max-height: 200px;max-width: 100%;overflow: auto;}#sk-container-id-3 input.sk-toggleable__control:checked~label.sk-toggleable__label-arrow:before {content: \"▾\";}#sk-container-id-3 div.sk-estimator input.sk-toggleable__control:checked~label.sk-toggleable__label {background-color: #d4ebff;}#sk-container-id-3 div.sk-label input.sk-toggleable__control:checked~label.sk-toggleable__label {background-color: #d4ebff;}#sk-container-id-3 input.sk-hidden--visually {border: 0;clip: rect(1px 1px 1px 1px);clip: rect(1px, 1px, 1px, 1px);height: 1px;margin: -1px;overflow: hidden;padding: 0;position: absolute;width: 1px;}#sk-container-id-3 div.sk-estimator {font-family: monospace;background-color: #f0f8ff;border: 1px dotted black;border-radius: 0.25em;box-sizing: border-box;margin-bottom: 0.5em;}#sk-container-id-3 div.sk-estimator:hover {background-color: #d4ebff;}#sk-container-id-3 div.sk-parallel-item::after {content: \"\";width: 100%;border-bottom: 1px solid gray;flex-grow: 1;}#sk-container-id-3 div.sk-label:hover label.sk-toggleable__label {background-color: #d4ebff;}#sk-container-id-3 div.sk-serial::before {content: \"\";position: absolute;border-left: 1px solid gray;box-sizing: border-box;top: 0;bottom: 0;left: 50%;z-index: 0;}#sk-container-id-3 div.sk-serial {display: flex;flex-direction: column;align-items: center;background-color: white;padding-right: 0.2em;padding-left: 0.2em;position: relative;}#sk-container-id-3 div.sk-item {position: relative;z-index: 1;}#sk-container-id-3 div.sk-parallel {display: flex;align-items: stretch;justify-content: center;background-color: white;position: relative;}#sk-container-id-3 div.sk-item::before, #sk-container-id-3 div.sk-parallel-item::before {content: \"\";position: absolute;border-left: 1px solid gray;box-sizing: border-box;top: 0;bottom: 0;left: 50%;z-index: -1;}#sk-container-id-3 div.sk-parallel-item {display: flex;flex-direction: column;z-index: 1;position: relative;background-color: white;}#sk-container-id-3 div.sk-parallel-item:first-child::after {align-self: flex-end;width: 50%;}#sk-container-id-3 div.sk-parallel-item:last-child::after {align-self: flex-start;width: 50%;}#sk-container-id-3 div.sk-parallel-item:only-child::after {width: 0;}#sk-container-id-3 div.sk-dashed-wrapped {border: 1px dashed gray;margin: 0 0.4em 0.5em 0.4em;box-sizing: border-box;padding-bottom: 0.4em;background-color: white;}#sk-container-id-3 div.sk-label label {font-family: monospace;font-weight: bold;display: inline-block;line-height: 1.2em;}#sk-container-id-3 div.sk-label-container {text-align: center;}#sk-container-id-3 div.sk-container {/* jupyter's `normalize.less` sets `[hidden] { display: none; }` but bootstrap.min.css set `[hidden] { display: none !important; }` so we also need the `!important` here to be able to override the default hidden behavior on the sphinx rendered scikit-learn.org. See: https://github.com/scikit-learn/scikit-learn/issues/21755 */display: inline-block !important;position: relative;}#sk-container-id-3 div.sk-text-repr-fallback {display: none;}</style><div id=\"sk-container-id-3\" class=\"sk-top-container\"><div class=\"sk-text-repr-fallback\"><pre>SVC(C=1, kernel=&#x27;linear&#x27;)</pre><b>In a Jupyter environment, please rerun this cell to show the HTML representation or trust the notebook. <br />On GitHub, the HTML representation is unable to render, please try loading this page with nbviewer.org.</b></div><div class=\"sk-container\" hidden><div class=\"sk-item\"><div class=\"sk-estimator sk-toggleable\"><input class=\"sk-toggleable__control sk-hidden--visually\" id=\"sk-estimator-id-3\" type=\"checkbox\" checked><label for=\"sk-estimator-id-3\" class=\"sk-toggleable__label sk-toggleable__label-arrow\">SVC</label><div class=\"sk-toggleable__content\"><pre>SVC(C=1, kernel=&#x27;linear&#x27;)</pre></div></div></div></div></div>"
      ],
      "text/plain": [
       "SVC(C=1, kernel='linear')"
      ]
     },
     "execution_count": 15,
     "metadata": {},
     "output_type": "execute_result"
    }
   ],
   "source": [
    "from sklearn.svm import SVC\n",
    "\n",
    "C = 1\n",
    "kernel = 'linear'\n",
    "\n",
    "svc_toy = SVC(C = C, kernel = kernel)\n",
    "\n",
    "svc_toy.fit(X_train, y_train)"
   ]
  },
  {
   "cell_type": "markdown",
   "metadata": {},
   "source": [
    "For SVC, the prediction syntax is the same as for k-NN. You will try using this model on your toy data in Exercise Three. "
   ]
  },
  {
   "cell_type": "markdown",
   "metadata": {},
   "source": [
    "### Summary\n",
    "\n",
    "This section has outlined some of the possible issues with machine learning, as well as how they might be tackled, including:\n",
    "\n",
    "* issues with dataset bias, insufficient training data, over and under fitting\n",
    "* T-fold Cross Validation\n",
    "\n",
    "Additionally, the support vector machine has been (briefly) introduced for classification, to compare with the k-NN shown previously. The following section will describe the dataset you will be working with for the remainder of this week."
   ]
  },
  {
   "cell_type": "markdown",
   "metadata": {},
   "source": [
    "<hr style=\"border:2px solid gray\">\n",
    "<a name='section-4'></a>\n",
    "\n",
    "## Section Four: The IRIS dataset [^](#outline)\n"
   ]
  },
  {
   "cell_type": "markdown",
   "metadata": {},
   "source": [
    "\n",
    "For the remainder of this workbook, we will be using one of the most famous datasets in machine learning. First published outside of the context of ML in 1936, this dataset describes three different types of iris flowers (*versicolor*, *setosa* and *virginica*) based on four different metrics: petal length, petal width, sepal length and sepal width. A photograph illustrating these features can be seen in the figure below.\n",
    "\n",
    "<img src=ML_Week5_Photos/iris-machinelearning.png align='center'>\n",
    "\n",
    "*Different kinds of iris used in the IRIS dataset, with the petal and sepal labelled on the iris versicolor ([source](https://www.datacamp.com/tutorial/machine-learning-in-r)).*\n",
    "\n",
    "Further details about this dataset can be found online, e.g. on [Wikipedia](https://en.wikipedia.org/wiki/Iris_flower_data_set) and in the [original paper](https://onlinelibrary.wiley.com/doi/10.1111/j.1469-1809.1936.tb02137.x). This dataset is commonly used for testing new classification algorithms and just generally is widely applied, although the dataset itself is quite small. It is sufficiently popular that it is built into a lot of different machine learning codebases, including Scikit-Learn. It is easy to import:"
   ]
  },
  {
   "cell_type": "code",
   "execution_count": 27,
   "metadata": {},
   "outputs": [],
   "source": [
    "from sklearn.datasets import load_iris\n",
    "iris = load_iris()"
   ]
  },
  {
   "cell_type": "markdown",
   "metadata": {},
   "source": [
    "The loaded IRIS dataset is contained within a dictionary. We can list the keys of the dictionary to see what is contained within the data:"
   ]
  },
  {
   "cell_type": "code",
   "execution_count": 18,
   "metadata": {},
   "outputs": [
    {
     "name": "stdout",
     "output_type": "stream",
     "text": [
      "dict_keys(['data', 'target', 'frame', 'target_names', 'DESCR', 'feature_names', 'filename', 'data_module'])\n"
     ]
    }
   ],
   "source": [
    "print(iris.keys())"
   ]
  },
  {
   "cell_type": "markdown",
   "metadata": {},
   "source": [
    "The ```scatter_matrix``` for this dataset is as follows:\n",
    "\n",
    "<img src=ML_Week5_Photos/Iris-scatter_matrix.png align=\"center\" height = 1000>"
   ]
  },
  {
   "cell_type": "markdown",
   "metadata": {},
   "source": [
    "Exercise Five covers visualising and investigating the IRIS dataset, while you will use it with k-NN and SVC in the exercises following that section."
   ]
  },
  {
   "cell_type": "markdown",
   "metadata": {},
   "source": [
    "### Summary\n",
    "\n",
    "In this section you have been briefly introduced to the IRIS dataset. \n",
    "\n",
    "You will use this dataset, your toy dataset, and the two classification algorithms we have introduced so far for the remainder of this week."
   ]
  },
  {
   "cell_type": "markdown",
   "metadata": {},
   "source": [
    "___\n",
    "\n",
    "<a name=\"section-5\"></a>\n",
    "\n",
    "# Section 5: Exercises [^](#outline)\n",
    "\n",
    "These exercises are here for you to get more experience using the algorithms presented earlier in this notebook. In each section, code cells have been given to help prompt you on each step to work through, but feel free to make your own steps if you want - just make sure you work through each of the tasks."
   ]
  },
  {
   "cell_type": "markdown",
   "metadata": {},
   "source": [
    "<div style=\"background-color:#C2F5DD\">\n",
    "\n",
    "### Exercise Two\n",
    "\n",
    "Calculate the ```cross_val_score``` for different combinations of hyperparameters you investigated for the toy data in Exercise One. \n",
    "\n",
    "Does cross-validation score correlated with test data performance? Why/why not?"
   ]
  },
  {
   "cell_type": "code",
   "execution_count": null,
   "metadata": {},
   "outputs": [],
   "source": [
    "# Your code here\n",
    "\n",
    "# Define your hyperparameters\n",
    "\n",
    "\n",
    "# Define your k-NN\n",
    "\n",
    "\n",
    "# Train your k-NN\n",
    "\n",
    "\n",
    "# Your cross-validation code here\n"
   ]
  },
  {
   "cell_type": "markdown",
   "metadata": {},
   "source": [
    "<div style=\"background-color:#C2F5DD\">\n",
    "\n",
    "### Exercise Three\n",
    "\n",
    "Write some code in the following cell to predict the values for X_test and calculate the classification accuracy for your toy SVC model.\n",
    "\n"
   ]
  },
  {
   "cell_type": "code",
   "execution_count": null,
   "metadata": {},
   "outputs": [],
   "source": [
    "# Your code here"
   ]
  },
  {
   "cell_type": "markdown",
   "metadata": {},
   "source": [
    "<div style=\"background-color:#C2F5DD\">\n",
    "\n",
    "### Exercise Four\n",
    "\n",
    "* Use the help function to look up the hyperparameters for support vector classification\n",
    "* Try varying the hyperparameters and checking your results using both cross validation and test classification accuracy\n",
    "* How do your SVC results compare to your k-NN results?"
   ]
  },
  {
   "cell_type": "code",
   "execution_count": null,
   "metadata": {},
   "outputs": [],
   "source": [
    "# Hyperparameters for SVC\n",
    "\n",
    "\n"
   ]
  },
  {
   "cell_type": "code",
   "execution_count": null,
   "metadata": {},
   "outputs": [],
   "source": [
    "# Vary hyperparameters & record results of cross validation & test accuracy\n",
    "\n",
    "\n"
   ]
  },
  {
   "cell_type": "markdown",
   "metadata": {},
   "source": [
    "## IRIS Dataset"
   ]
  },
  {
   "cell_type": "markdown",
   "metadata": {},
   "source": [
    "<div style=\"background-color:#C2F5DD\">\n",
    "\n",
    "### Exercise Five\n",
    "\n",
    "* Use the ```print``` function to print the description of the IRIS dataset\n",
    "* Visualise the IRIS dataset using pandas ```scatter_matrix```. Remember that the data must be put into a DataFrame to use this function.\n"
   ]
  },
  {
   "cell_type": "code",
   "execution_count": null,
   "metadata": {},
   "outputs": [],
   "source": [
    "# Print the description"
   ]
  },
  {
   "cell_type": "code",
   "execution_count": null,
   "metadata": {},
   "outputs": [],
   "source": [
    "# Construct a DataFrame\n"
   ]
  },
  {
   "cell_type": "code",
   "execution_count": null,
   "metadata": {},
   "outputs": [],
   "source": [
    "# Plot the scatter matrix\n"
   ]
  },
  {
   "cell_type": "markdown",
   "metadata": {},
   "source": [
    "<div style=\"background-color:#C2F5DD\">\n",
    "\n",
    "\n",
    "* From these plots, what can you say about the three classes here? \n",
    "* Are there any immediately obvious ways to separate any class?\n",
    "\n",
    "Write a short answer in the cell below.\n"
   ]
  },
  {
   "cell_type": "markdown",
   "metadata": {},
   "source": [
    "<!-- Your answer here -->"
   ]
  },
  {
   "cell_type": "markdown",
   "metadata": {},
   "source": [
    "\n",
    "Once you are happy with the dataset, we will move on to applying some ML techniques to try to classify these irises."
   ]
  },
  {
   "cell_type": "markdown",
   "metadata": {},
   "source": [
    "## k-NN classification"
   ]
  },
  {
   "cell_type": "markdown",
   "metadata": {},
   "source": [
    "<div style=\"background-color:#C2F5DD\">\n",
    "\n",
    "### Exercise Six\n",
    "\n",
    "Much like we did for the toy model, we are going to try applying k-NN to the IRIS dataset. \n",
    "\n",
    "* First, prepare the dataset for the k-NN - remember to split into train & test datasets\n",
    "* Define the k-NN, including hyperparameters\n",
    "* Train the k-NN\n",
    "* Predict the test data and calculate the classification accuracy\n",
    "* Calculate the cross-validation score"
   ]
  },
  {
   "cell_type": "code",
   "execution_count": null,
   "metadata": {},
   "outputs": [],
   "source": [
    "# Prepare the dataset\n",
    "\n",
    "\n",
    "# Split into train & test data\n",
    "\n"
   ]
  },
  {
   "cell_type": "code",
   "execution_count": null,
   "metadata": {},
   "outputs": [],
   "source": [
    "# Define the k-NN\n",
    "\n",
    "\n",
    "\n",
    "\n"
   ]
  },
  {
   "cell_type": "code",
   "execution_count": null,
   "metadata": {},
   "outputs": [],
   "source": [
    "# Train the k-NN\n",
    "\n"
   ]
  },
  {
   "cell_type": "code",
   "execution_count": null,
   "metadata": {},
   "outputs": [],
   "source": [
    "# Predict test data\n",
    "\n",
    "\n",
    "# Calculate classification accuracy\n",
    "\n"
   ]
  },
  {
   "cell_type": "code",
   "execution_count": null,
   "metadata": {},
   "outputs": [],
   "source": [
    "# Calculate cross-validation score\n",
    "\n"
   ]
  },
  {
   "cell_type": "markdown",
   "metadata": {},
   "source": [
    "<div style=\"background-color:#C2F5DD\">\n",
    "\n",
    "### Exercise Seven\n",
    "\n",
    "Now that you have tried using a k-NN for the IRIS dataset, try varying the hyperparameters to see how good a performance you can get. \n",
    "\n",
    "* Make sure to record your results & the corresponding hyperparameters, and present the results.\n",
    "* Remember you can use the ```help``` function to see what arguments to ```KNeighborsClassifier``` do\n",
    "* Remember to use cross-validation each time\n",
    "* You have calculated overall accuracy so far. Try calculating the accuracy for each class. \n",
    "* Are there any particular classes that your model seems to perform well/poorly on? Where might it get \"confused\" between different classes?\n"
   ]
  },
  {
   "cell_type": "code",
   "execution_count": null,
   "metadata": {},
   "outputs": [],
   "source": [
    "# Define hyperparameters\n",
    "\n",
    "\n"
   ]
  },
  {
   "cell_type": "code",
   "execution_count": null,
   "metadata": {},
   "outputs": [],
   "source": [
    "# Define & train model for a given set of hyperparameters\n",
    "\n"
   ]
  },
  {
   "cell_type": "code",
   "execution_count": null,
   "metadata": {},
   "outputs": [],
   "source": [
    "# Predict test data & calculate classification accuracy\n",
    "\n"
   ]
  },
  {
   "cell_type": "code",
   "execution_count": null,
   "metadata": {},
   "outputs": [],
   "source": [
    "# Calculate cross-validation score\n",
    "\n"
   ]
  },
  {
   "cell_type": "markdown",
   "metadata": {},
   "source": [
    "## Support vector classification (SVC)"
   ]
  },
  {
   "cell_type": "markdown",
   "metadata": {},
   "source": [
    "<div style=\"background-color:#C2F5DD\">\n",
    "\n",
    "### Exercise Eight\n",
    "\n",
    "Now we are going to do the same analysis, using SVC. As mentioned before, you will see this algorithm in more detail next week, but you can still apply the same syntax as for the k-NN. As before:\n",
    "\n",
    "* Prepare the dataset - keep the same train/test split (it is determined randomly, can you do anything about this?) to compare with k-NN\n",
    "* Define the SVC, including hyperparameters\n",
    "* Train the SVC\n",
    "* Predict the test data and calculate the classification accuracy\n",
    "* Calculate the cross-validation score"
   ]
  },
  {
   "cell_type": "code",
   "execution_count": null,
   "metadata": {},
   "outputs": [],
   "source": [
    "# Prepare the dataset\n",
    "\n",
    "\n",
    "# Split into train & test data\n",
    "\n"
   ]
  },
  {
   "cell_type": "code",
   "execution_count": null,
   "metadata": {},
   "outputs": [],
   "source": [
    "# Define the SVC (including hyperparameters)\n",
    "\n",
    "\n",
    "\n",
    "\n"
   ]
  },
  {
   "cell_type": "code",
   "execution_count": null,
   "metadata": {},
   "outputs": [],
   "source": [
    "# Train the SVC\n",
    "\n"
   ]
  },
  {
   "cell_type": "code",
   "execution_count": null,
   "metadata": {},
   "outputs": [],
   "source": [
    "# Predict test data\n",
    "\n",
    "\n",
    "# Calculate classification accuracy\n",
    "\n"
   ]
  },
  {
   "cell_type": "code",
   "execution_count": null,
   "metadata": {},
   "outputs": [],
   "source": [
    "# Calculate cross-validation score\n",
    "\n"
   ]
  },
  {
   "cell_type": "markdown",
   "metadata": {},
   "source": [
    "<div style=\"background-color:#C2F5DD\">\n",
    "\n",
    "### Exercise Nine\n",
    "\n",
    "Once again, now try varying the model hyperparameters to get the best performance you can. Steps are the same as before:\n",
    "\n",
    "* Make sure to record your results & the corresponding hyperparameters, and present them.\n",
    "* Remember you can use the ```help``` function to see what arguments to ```SVC``` do\n",
    "* Remember to use cross-validation each time\n",
    "* Are there any particular classes that your model seems to perform well/poorly on? Where might it get \"confused\" between different classes?\n"
   ]
  },
  {
   "cell_type": "code",
   "execution_count": null,
   "metadata": {},
   "outputs": [],
   "source": [
    "# Define hyperparameters\n",
    "\n",
    "\n"
   ]
  },
  {
   "cell_type": "code",
   "execution_count": null,
   "metadata": {},
   "outputs": [],
   "source": [
    "# Define & train model for a given set of hyperparameters\n",
    "\n"
   ]
  },
  {
   "cell_type": "code",
   "execution_count": null,
   "metadata": {},
   "outputs": [],
   "source": [
    "# Predict test data & calculate classification accuracy\n",
    "\n"
   ]
  },
  {
   "cell_type": "markdown",
   "metadata": {},
   "source": []
  },
  {
   "cell_type": "code",
   "execution_count": null,
   "metadata": {},
   "outputs": [],
   "source": [
    "# Calculate cross-validation score\n",
    "\n"
   ]
  },
  {
   "cell_type": "markdown",
   "metadata": {},
   "source": [
    "<div style=\"background-color:#C2F5DD\">\n",
    "\n",
    "### Exercise Ten\n",
    "\n",
    "Finally, which model performed the best, and for what hyperparameters? Compare k-NN & SVC."
   ]
  },
  {
   "cell_type": "markdown",
   "metadata": {},
   "source": [
    "Fill in this cell with your findings"
   ]
  }
 ],
 "metadata": {
  "kernelspec": {
   "display_name": "Python 3 (ipykernel)",
   "language": "python",
   "name": "python3"
  },
  "language_info": {
   "codemirror_mode": {
    "name": "ipython",
    "version": 3
   },
   "file_extension": ".py",
   "mimetype": "text/x-python",
   "name": "python",
   "nbconvert_exporter": "python",
   "pygments_lexer": "ipython3",
   "version": "3.9.7"
  }
 },
 "nbformat": 4,
 "nbformat_minor": 2
}
