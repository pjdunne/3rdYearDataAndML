{
 "cells": [
  {
   "cell_type": "markdown",
   "id": "d99ec0f7-ef5e-494c-a95e-6e72664c5a9b",
   "metadata": {},
   "source": [
    "# Frequentist Intervals\n",
    "\n",
    "Below is a demonstration of constructing a frequentist interval in the parameter $\\theta$ using the test statistic, \n",
    "\n",
    "$$\n",
    "\\zeta_{\\theta} = -2\\ln \\left(\\frac{L(H(\\theta))}{L(H(\\hat{\\theta}))}\\right)\n",
    "$$\n",
    "\n",
    "This notebook is for use in the Week 4 discussion session of PHYS60022.\n",
    "\n",
    "The horizontal black lines show the critical region (assuming a specific value for $\\alpha$) obtained using Wilks' theorem. \n",
    "\n",
    "Using the sliders, set the true value of $\\theta$ (`T0`). Now change the observed value of the test-statistic at $\\theta=\\theta_{0}$ (`zetaD`). The confidence interval is shown by the shaded band. When the band is blue, the true value is contained in the interval, when its gray it is not. \n",
    "\n",
    "\n",
    "Change the value of $\\alpha$ (`alpha`) to see how much the intervals change. \n",
    "\n",
    "Author: N. Wardle, Imperial College London"
   ]
  },
  {
   "cell_type": "code",
   "execution_count": 10,
   "id": "5abf0e9f-0b0b-47b1-8082-a7d6ff04c16f",
   "metadata": {},
   "outputs": [
    {
     "data": {
      "application/vnd.jupyter.widget-view+json": {
       "model_id": "86d4f405db9e4b729632e8dcd5d2af8f",
       "version_major": 2,
       "version_minor": 0
      },
      "text/plain": [
       "interactive(children=(FloatSlider(value=1.6, description='T0', max=3.2), FloatSlider(value=2.0, description='z…"
      ]
     },
     "metadata": {},
     "output_type": "display_data"
    },
    {
     "data": {
      "text/plain": [
       "<function __main__.plot_NCZ(T0, zetaD, alpha)>"
      ]
     },
     "execution_count": 10,
     "metadata": {},
     "output_type": "execute_result"
    }
   ],
   "source": [
    "import matplotlib.pyplot as plt\n",
    "import ipywidgets\n",
    "import numpy \n",
    "from scipy.stats import chi2\n",
    "\n",
    "plt.rcParams.update({'font.size': 14})\n",
    "\n",
    "TVals = numpy.arange(0,5.2,0.2)\n",
    "phiVals = numpy.arange(0,5.1,0.1)\n",
    "xvals2  = [5. for t in TVals]\n",
    "\n",
    "def plot_NCZ(T0,zetaD,alpha):\n",
    "\n",
    "\n",
    "    # calculate the value for which P(x>cmin) = alpha assuming the chi^2(1) dist\n",
    "    cmin  = chi2.ppf(1-alpha,df=1)\n",
    "    xvals1  = [cmin for t in TVals]\n",
    "\n",
    "    fig, ax1 = plt.subplots(1,1,figsize=(7,6))\n",
    "    ax1.plot(xvals1,TVals,color='black')\n",
    "    ax1.plot(xvals2,TVals,color='black')\n",
    "\n",
    "    for i,t in enumerate(TVals): \n",
    "        plt.plot([xvals1[i],xvals2[i]],[t,t],color='black')\n",
    "\n",
    "    plt.plot([cmin,5],[T0,T0],color='blue',linewidth=3)\n",
    "    sigma = 1.2\n",
    "    plt.plot([((p-zetaD)/sigma)**2 for p in phiVals],phiVals,color='red',linewidth=3,label=\"$\\\\zeta_{\\\\theta}^{obs}$\")\n",
    "    plt.axhline(T0,color='blue',linewidth=1,linestyle='--',label=\"$\\\\theta_{0}$\")\n",
    "    plt.plot( ((T0-zetaD)/sigma)**2,T0,marker='o',color='green',label = \"$\\\\zeta_{\\\\theta_{0}}^{obs}$\",linestyle='None',markersize=10)\n",
    "\n",
    "    Tu = (zetaD+numpy.sqrt(cmin)*(sigma))\n",
    "    Tl = (zetaD-numpy.sqrt(cmin)*(sigma))\n",
    "    \n",
    "    col = 'blue' if (Tu>T0 and Tl<T0) else 'gray' \n",
    "    \n",
    "    ax1.fill_between(x=phiVals, y1=Tu, y2=Tl, color=col, interpolate=True, alpha=.25)\n",
    "    \n",
    "    ax1.set_xlabel(\"$\\zeta_{\\\\theta}$\")\n",
    "    ax1.set_ylabel(\"$\\\\theta$\")\n",
    "    ax1.set_xlim(0,5)\n",
    "    ax1.set_ylim(0,5)\n",
    "    #plt.legend(bbox_to_anchor=(1.02, .95))\n",
    "    \n",
    "    plt.legend(loc='upper right',facecolor='white',framealpha=1)\n",
    "\n",
    "ipywidgets.interact(plot_NCZ,T0=(0,3.2,0.1),zetaD=(0,5,0.05),alpha=(0.01,0.98,0.01))\n"
   ]
  },
  {
   "cell_type": "code",
   "execution_count": null,
   "id": "cf03317b-9317-41ae-92cd-243db5c0c30c",
   "metadata": {},
   "outputs": [],
   "source": []
  }
 ],
 "metadata": {
  "kernelspec": {
   "display_name": "Python 3 (ipykernel)",
   "language": "python",
   "name": "python3"
  },
  "language_info": {
   "codemirror_mode": {
    "name": "ipython",
    "version": 3
   },
   "file_extension": ".py",
   "mimetype": "text/x-python",
   "name": "python",
   "nbconvert_exporter": "python",
   "pygments_lexer": "ipython3",
   "version": "3.11.7"
  }
 },
 "nbformat": 4,
 "nbformat_minor": 5
}
